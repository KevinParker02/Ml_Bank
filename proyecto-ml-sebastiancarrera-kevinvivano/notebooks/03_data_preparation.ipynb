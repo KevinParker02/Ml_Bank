{
 "cells": [
  {
   "cell_type": "code",
   "execution_count": null,
   "id": "6b3aba79",
   "metadata": {
    "vscode": {
     "languageId": "plaintext"
    }
   },
   "outputs": [],
   "source": [
    "Hola 3"
   ]
  }
 ],
 "metadata": {
  "language_info": {
   "name": "python"
  }
 },
 "nbformat": 4,
 "nbformat_minor": 5
}
