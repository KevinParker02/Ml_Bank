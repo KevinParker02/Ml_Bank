{
 "cells": [
  {
   "cell_type": "code",
   "execution_count": 42,
   "metadata": {},
   "outputs": [
    {
     "name": "stdout",
     "output_type": "stream",
     "text": [
      "The kedro.ipython extension is already loaded. To reload it, use:\n",
      "  %reload_ext kedro.ipython\n"
     ]
    }
   ],
   "source": [
    "# 🔌 Cargar la extensión de Kedro en Jupyter\n",
    "%load_ext kedro.ipython\n",
    "\n",
    "# 📌 Importar librerías necesarias\n",
    "import pandas as pd\n",
    "import matplotlib.pyplot as plt\n",
    "import seaborn as sns"
   ]
  },
  {
   "cell_type": "code",
   "execution_count": 3,
   "metadata": {},
   "outputs": [
    {
     "data": {
      "text/html": [
       "<pre style=\"white-space:pre;overflow-x:auto;line-height:normal;font-family:Menlo,'DejaVu Sans Mono',consolas,'Courier New',monospace\"></pre>\n"
      ],
      "text/plain": []
     },
     "metadata": {},
     "output_type": "display_data"
    },
    {
     "data": {
      "text/plain": [
       "\n",
       "\u001b[1m[\u001b[0m\n",
       "    \u001b[32m'bank_customer_transactions'\u001b[0m,\n",
       "    \u001b[32m'cleaned_dataset'\u001b[0m,\n",
       "    \u001b[32m'customer_agg'\u001b[0m,\n",
       "    \u001b[32m'customers'\u001b[0m,\n",
       "    \u001b[32m'foreign_customer_dataset'\u001b[0m,\n",
       "    \u001b[32m'fraud_dataset'\u001b[0m,\n",
       "    \u001b[32m'RFM'\u001b[0m,\n",
       "    \u001b[32m'transactions'\u001b[0m,\n",
       "    \u001b[32m'parameters'\u001b[0m\n",
       "\u001b[1m]\u001b[0m"
      ]
     },
     "execution_count": 3,
     "metadata": {},
     "output_type": "execute_result"
    }
   ],
   "source": [
    "# 📂 Ver todos los datasets disponibles en tu catalog.yml\n",
    "catalog.keys()\n"
   ]
  },
  {
   "cell_type": "code",
   "execution_count": 4,
   "metadata": {},
   "outputs": [
    {
     "data": {
      "text/html": [
       "<pre style=\"white-space:pre;overflow-x:auto;line-height:normal;font-family:Menlo,'DejaVu Sans Mono',consolas,'Courier New',monospace\"><span style=\"color: #7fbfbf; text-decoration-color: #7fbfbf\">[09/12/25 18:49:35] </span><span style=\"color: #000080; text-decoration-color: #000080\">INFO    </span> Loading data from <span style=\"color: #ff8700; text-decoration-color: #ff8700\">bank_customer_transactions</span> <span style=\"font-weight: bold\">(</span>CSVDataset<span style=\"font-weight: bold\">)</span><span style=\"color: #808000; text-decoration-color: #808000\">...</span>      <a href=\"file://C:\\Users\\AlexandreKz\\Documents\\GitHub\\Ml_Bank\\venv\\Lib\\site-packages\\kedro\\io\\data_catalog.py\" target=\"_blank\"><span style=\"color: #7f7f7f; text-decoration-color: #7f7f7f\">data_catalog.py</span></a><span style=\"color: #7f7f7f; text-decoration-color: #7f7f7f\">:</span><a href=\"file://C:\\Users\\AlexandreKz\\Documents\\GitHub\\Ml_Bank\\venv\\Lib\\site-packages\\kedro\\io\\data_catalog.py#1046\" target=\"_blank\"><span style=\"color: #7f7f7f; text-decoration-color: #7f7f7f\">1046</span></a>\n",
       "</pre>\n"
      ],
      "text/plain": [
       "\u001b[2;36m[09/12/25 18:49:35]\u001b[0m\u001b[2;36m \u001b[0m\u001b[34mINFO    \u001b[0m Loading data from \u001b[38;5;208mbank_customer_transactions\u001b[0m \u001b[1m(\u001b[0mCSVDataset\u001b[1m)\u001b[0m\u001b[33m...\u001b[0m      \u001b]8;id=26158;file://C:\\Users\\AlexandreKz\\Documents\\GitHub\\Ml_Bank\\venv\\Lib\\site-packages\\kedro\\io\\data_catalog.py\u001b\\\u001b[2mdata_catalog.py\u001b[0m\u001b]8;;\u001b\\\u001b[2m:\u001b[0m\u001b]8;id=518453;file://C:\\Users\\AlexandreKz\\Documents\\GitHub\\Ml_Bank\\venv\\Lib\\site-packages\\kedro\\io\\data_catalog.py#1046\u001b\\\u001b[2m1046\u001b[0m\u001b]8;;\u001b\\\n"
      ]
     },
     "metadata": {},
     "output_type": "display_data"
    },
    {
     "data": {
      "text/html": [
       "<pre style=\"white-space:pre;overflow-x:auto;line-height:normal;font-family:Menlo,'DejaVu Sans Mono',consolas,'Courier New',monospace\"><span style=\"color: #7fbfbf; text-decoration-color: #7fbfbf\">[09/12/25 18:49:37] </span><span style=\"color: #000080; text-decoration-color: #000080\">INFO    </span> Loading data from <span style=\"color: #ff8700; text-decoration-color: #ff8700\">cleaned_dataset</span> <span style=\"font-weight: bold\">(</span>CSVDataset<span style=\"font-weight: bold\">)</span><span style=\"color: #808000; text-decoration-color: #808000\">...</span>                 <a href=\"file://C:\\Users\\AlexandreKz\\Documents\\GitHub\\Ml_Bank\\venv\\Lib\\site-packages\\kedro\\io\\data_catalog.py\" target=\"_blank\"><span style=\"color: #7f7f7f; text-decoration-color: #7f7f7f\">data_catalog.py</span></a><span style=\"color: #7f7f7f; text-decoration-color: #7f7f7f\">:</span><a href=\"file://C:\\Users\\AlexandreKz\\Documents\\GitHub\\Ml_Bank\\venv\\Lib\\site-packages\\kedro\\io\\data_catalog.py#1046\" target=\"_blank\"><span style=\"color: #7f7f7f; text-decoration-color: #7f7f7f\">1046</span></a>\n",
       "</pre>\n"
      ],
      "text/plain": [
       "\u001b[2;36m[09/12/25 18:49:37]\u001b[0m\u001b[2;36m \u001b[0m\u001b[34mINFO    \u001b[0m Loading data from \u001b[38;5;208mcleaned_dataset\u001b[0m \u001b[1m(\u001b[0mCSVDataset\u001b[1m)\u001b[0m\u001b[33m...\u001b[0m                 \u001b]8;id=865705;file://C:\\Users\\AlexandreKz\\Documents\\GitHub\\Ml_Bank\\venv\\Lib\\site-packages\\kedro\\io\\data_catalog.py\u001b\\\u001b[2mdata_catalog.py\u001b[0m\u001b]8;;\u001b\\\u001b[2m:\u001b[0m\u001b]8;id=828273;file://C:\\Users\\AlexandreKz\\Documents\\GitHub\\Ml_Bank\\venv\\Lib\\site-packages\\kedro\\io\\data_catalog.py#1046\u001b\\\u001b[2m1046\u001b[0m\u001b]8;;\u001b\\\n"
      ]
     },
     "metadata": {},
     "output_type": "display_data"
    },
    {
     "data": {
      "text/html": [
       "<pre style=\"white-space:pre;overflow-x:auto;line-height:normal;font-family:Menlo,'DejaVu Sans Mono',consolas,'Courier New',monospace\"><span style=\"color: #7fbfbf; text-decoration-color: #7fbfbf\">[09/12/25 18:49:39] </span><span style=\"color: #000080; text-decoration-color: #000080\">INFO    </span> Loading data from <span style=\"color: #ff8700; text-decoration-color: #ff8700\">customer_agg</span> <span style=\"font-weight: bold\">(</span>CSVDataset<span style=\"font-weight: bold\">)</span><span style=\"color: #808000; text-decoration-color: #808000\">...</span>                    <a href=\"file://C:\\Users\\AlexandreKz\\Documents\\GitHub\\Ml_Bank\\venv\\Lib\\site-packages\\kedro\\io\\data_catalog.py\" target=\"_blank\"><span style=\"color: #7f7f7f; text-decoration-color: #7f7f7f\">data_catalog.py</span></a><span style=\"color: #7f7f7f; text-decoration-color: #7f7f7f\">:</span><a href=\"file://C:\\Users\\AlexandreKz\\Documents\\GitHub\\Ml_Bank\\venv\\Lib\\site-packages\\kedro\\io\\data_catalog.py#1046\" target=\"_blank\"><span style=\"color: #7f7f7f; text-decoration-color: #7f7f7f\">1046</span></a>\n",
       "</pre>\n"
      ],
      "text/plain": [
       "\u001b[2;36m[09/12/25 18:49:39]\u001b[0m\u001b[2;36m \u001b[0m\u001b[34mINFO    \u001b[0m Loading data from \u001b[38;5;208mcustomer_agg\u001b[0m \u001b[1m(\u001b[0mCSVDataset\u001b[1m)\u001b[0m\u001b[33m...\u001b[0m                    \u001b]8;id=993366;file://C:\\Users\\AlexandreKz\\Documents\\GitHub\\Ml_Bank\\venv\\Lib\\site-packages\\kedro\\io\\data_catalog.py\u001b\\\u001b[2mdata_catalog.py\u001b[0m\u001b]8;;\u001b\\\u001b[2m:\u001b[0m\u001b]8;id=113927;file://C:\\Users\\AlexandreKz\\Documents\\GitHub\\Ml_Bank\\venv\\Lib\\site-packages\\kedro\\io\\data_catalog.py#1046\u001b\\\u001b[2m1046\u001b[0m\u001b]8;;\u001b\\\n"
      ]
     },
     "metadata": {},
     "output_type": "display_data"
    },
    {
     "data": {
      "text/html": [
       "<pre style=\"white-space:pre;overflow-x:auto;line-height:normal;font-family:Menlo,'DejaVu Sans Mono',consolas,'Courier New',monospace\"><span style=\"color: #7fbfbf; text-decoration-color: #7fbfbf\">[09/12/25 18:49:41] </span><span style=\"color: #000080; text-decoration-color: #000080\">INFO    </span> Loading data from <span style=\"color: #ff8700; text-decoration-color: #ff8700\">customers</span> <span style=\"font-weight: bold\">(</span>CSVDataset<span style=\"font-weight: bold\">)</span><span style=\"color: #808000; text-decoration-color: #808000\">...</span>                       <a href=\"file://C:\\Users\\AlexandreKz\\Documents\\GitHub\\Ml_Bank\\venv\\Lib\\site-packages\\kedro\\io\\data_catalog.py\" target=\"_blank\"><span style=\"color: #7f7f7f; text-decoration-color: #7f7f7f\">data_catalog.py</span></a><span style=\"color: #7f7f7f; text-decoration-color: #7f7f7f\">:</span><a href=\"file://C:\\Users\\AlexandreKz\\Documents\\GitHub\\Ml_Bank\\venv\\Lib\\site-packages\\kedro\\io\\data_catalog.py#1046\" target=\"_blank\"><span style=\"color: #7f7f7f; text-decoration-color: #7f7f7f\">1046</span></a>\n",
       "</pre>\n"
      ],
      "text/plain": [
       "\u001b[2;36m[09/12/25 18:49:41]\u001b[0m\u001b[2;36m \u001b[0m\u001b[34mINFO    \u001b[0m Loading data from \u001b[38;5;208mcustomers\u001b[0m \u001b[1m(\u001b[0mCSVDataset\u001b[1m)\u001b[0m\u001b[33m...\u001b[0m                       \u001b]8;id=716566;file://C:\\Users\\AlexandreKz\\Documents\\GitHub\\Ml_Bank\\venv\\Lib\\site-packages\\kedro\\io\\data_catalog.py\u001b\\\u001b[2mdata_catalog.py\u001b[0m\u001b]8;;\u001b\\\u001b[2m:\u001b[0m\u001b]8;id=604017;file://C:\\Users\\AlexandreKz\\Documents\\GitHub\\Ml_Bank\\venv\\Lib\\site-packages\\kedro\\io\\data_catalog.py#1046\u001b\\\u001b[2m1046\u001b[0m\u001b]8;;\u001b\\\n"
      ]
     },
     "metadata": {},
     "output_type": "display_data"
    },
    {
     "data": {
      "text/html": [
       "<pre style=\"white-space:pre;overflow-x:auto;line-height:normal;font-family:Menlo,'DejaVu Sans Mono',consolas,'Courier New',monospace\"><span style=\"color: #7fbfbf; text-decoration-color: #7fbfbf\">                    </span><span style=\"color: #000080; text-decoration-color: #000080\">INFO    </span> Loading data from <span style=\"color: #ff8700; text-decoration-color: #ff8700\">foreign_customer_dataset</span> <span style=\"font-weight: bold\">(</span>CSVDataset<span style=\"font-weight: bold\">)</span><span style=\"color: #808000; text-decoration-color: #808000\">...</span>        <a href=\"file://C:\\Users\\AlexandreKz\\Documents\\GitHub\\Ml_Bank\\venv\\Lib\\site-packages\\kedro\\io\\data_catalog.py\" target=\"_blank\"><span style=\"color: #7f7f7f; text-decoration-color: #7f7f7f\">data_catalog.py</span></a><span style=\"color: #7f7f7f; text-decoration-color: #7f7f7f\">:</span><a href=\"file://C:\\Users\\AlexandreKz\\Documents\\GitHub\\Ml_Bank\\venv\\Lib\\site-packages\\kedro\\io\\data_catalog.py#1046\" target=\"_blank\"><span style=\"color: #7f7f7f; text-decoration-color: #7f7f7f\">1046</span></a>\n",
       "</pre>\n"
      ],
      "text/plain": [
       "\u001b[2;36m                   \u001b[0m\u001b[2;36m \u001b[0m\u001b[34mINFO    \u001b[0m Loading data from \u001b[38;5;208mforeign_customer_dataset\u001b[0m \u001b[1m(\u001b[0mCSVDataset\u001b[1m)\u001b[0m\u001b[33m...\u001b[0m        \u001b]8;id=628927;file://C:\\Users\\AlexandreKz\\Documents\\GitHub\\Ml_Bank\\venv\\Lib\\site-packages\\kedro\\io\\data_catalog.py\u001b\\\u001b[2mdata_catalog.py\u001b[0m\u001b]8;;\u001b\\\u001b[2m:\u001b[0m\u001b]8;id=798142;file://C:\\Users\\AlexandreKz\\Documents\\GitHub\\Ml_Bank\\venv\\Lib\\site-packages\\kedro\\io\\data_catalog.py#1046\u001b\\\u001b[2m1046\u001b[0m\u001b]8;;\u001b\\\n"
      ]
     },
     "metadata": {},
     "output_type": "display_data"
    },
    {
     "data": {
      "text/html": [
       "<pre style=\"white-space:pre;overflow-x:auto;line-height:normal;font-family:Menlo,'DejaVu Sans Mono',consolas,'Courier New',monospace\"><span style=\"color: #7fbfbf; text-decoration-color: #7fbfbf\">                    </span><span style=\"color: #000080; text-decoration-color: #000080\">INFO    </span> Loading data from <span style=\"color: #ff8700; text-decoration-color: #ff8700\">fraud_dataset</span> <span style=\"font-weight: bold\">(</span>CSVDataset<span style=\"font-weight: bold\">)</span><span style=\"color: #808000; text-decoration-color: #808000\">...</span>                   <a href=\"file://C:\\Users\\AlexandreKz\\Documents\\GitHub\\Ml_Bank\\venv\\Lib\\site-packages\\kedro\\io\\data_catalog.py\" target=\"_blank\"><span style=\"color: #7f7f7f; text-decoration-color: #7f7f7f\">data_catalog.py</span></a><span style=\"color: #7f7f7f; text-decoration-color: #7f7f7f\">:</span><a href=\"file://C:\\Users\\AlexandreKz\\Documents\\GitHub\\Ml_Bank\\venv\\Lib\\site-packages\\kedro\\io\\data_catalog.py#1046\" target=\"_blank\"><span style=\"color: #7f7f7f; text-decoration-color: #7f7f7f\">1046</span></a>\n",
       "</pre>\n"
      ],
      "text/plain": [
       "\u001b[2;36m                   \u001b[0m\u001b[2;36m \u001b[0m\u001b[34mINFO    \u001b[0m Loading data from \u001b[38;5;208mfraud_dataset\u001b[0m \u001b[1m(\u001b[0mCSVDataset\u001b[1m)\u001b[0m\u001b[33m...\u001b[0m                   \u001b]8;id=347817;file://C:\\Users\\AlexandreKz\\Documents\\GitHub\\Ml_Bank\\venv\\Lib\\site-packages\\kedro\\io\\data_catalog.py\u001b\\\u001b[2mdata_catalog.py\u001b[0m\u001b]8;;\u001b\\\u001b[2m:\u001b[0m\u001b]8;id=438337;file://C:\\Users\\AlexandreKz\\Documents\\GitHub\\Ml_Bank\\venv\\Lib\\site-packages\\kedro\\io\\data_catalog.py#1046\u001b\\\u001b[2m1046\u001b[0m\u001b]8;;\u001b\\\n"
      ]
     },
     "metadata": {},
     "output_type": "display_data"
    },
    {
     "data": {
      "text/html": [
       "<pre style=\"white-space:pre;overflow-x:auto;line-height:normal;font-family:Menlo,'DejaVu Sans Mono',consolas,'Courier New',monospace\"><span style=\"color: #7fbfbf; text-decoration-color: #7fbfbf\">                    </span><span style=\"color: #000080; text-decoration-color: #000080\">INFO    </span> Loading data from <span style=\"color: #ff8700; text-decoration-color: #ff8700\">RFM</span> <span style=\"font-weight: bold\">(</span>CSVDataset<span style=\"font-weight: bold\">)</span><span style=\"color: #808000; text-decoration-color: #808000\">...</span>                             <a href=\"file://C:\\Users\\AlexandreKz\\Documents\\GitHub\\Ml_Bank\\venv\\Lib\\site-packages\\kedro\\io\\data_catalog.py\" target=\"_blank\"><span style=\"color: #7f7f7f; text-decoration-color: #7f7f7f\">data_catalog.py</span></a><span style=\"color: #7f7f7f; text-decoration-color: #7f7f7f\">:</span><a href=\"file://C:\\Users\\AlexandreKz\\Documents\\GitHub\\Ml_Bank\\venv\\Lib\\site-packages\\kedro\\io\\data_catalog.py#1046\" target=\"_blank\"><span style=\"color: #7f7f7f; text-decoration-color: #7f7f7f\">1046</span></a>\n",
       "</pre>\n"
      ],
      "text/plain": [
       "\u001b[2;36m                   \u001b[0m\u001b[2;36m \u001b[0m\u001b[34mINFO    \u001b[0m Loading data from \u001b[38;5;208mRFM\u001b[0m \u001b[1m(\u001b[0mCSVDataset\u001b[1m)\u001b[0m\u001b[33m...\u001b[0m                             \u001b]8;id=711453;file://C:\\Users\\AlexandreKz\\Documents\\GitHub\\Ml_Bank\\venv\\Lib\\site-packages\\kedro\\io\\data_catalog.py\u001b\\\u001b[2mdata_catalog.py\u001b[0m\u001b]8;;\u001b\\\u001b[2m:\u001b[0m\u001b]8;id=457848;file://C:\\Users\\AlexandreKz\\Documents\\GitHub\\Ml_Bank\\venv\\Lib\\site-packages\\kedro\\io\\data_catalog.py#1046\u001b\\\u001b[2m1046\u001b[0m\u001b]8;;\u001b\\\n"
      ]
     },
     "metadata": {},
     "output_type": "display_data"
    },
    {
     "data": {
      "text/html": [
       "<pre style=\"white-space:pre;overflow-x:auto;line-height:normal;font-family:Menlo,'DejaVu Sans Mono',consolas,'Courier New',monospace\"><span style=\"color: #7fbfbf; text-decoration-color: #7fbfbf\">[09/12/25 18:49:42] </span><span style=\"color: #000080; text-decoration-color: #000080\">INFO    </span> Loading data from <span style=\"color: #ff8700; text-decoration-color: #ff8700\">transactions</span> <span style=\"font-weight: bold\">(</span>CSVDataset<span style=\"font-weight: bold\">)</span><span style=\"color: #808000; text-decoration-color: #808000\">...</span>                    <a href=\"file://C:\\Users\\AlexandreKz\\Documents\\GitHub\\Ml_Bank\\venv\\Lib\\site-packages\\kedro\\io\\data_catalog.py\" target=\"_blank\"><span style=\"color: #7f7f7f; text-decoration-color: #7f7f7f\">data_catalog.py</span></a><span style=\"color: #7f7f7f; text-decoration-color: #7f7f7f\">:</span><a href=\"file://C:\\Users\\AlexandreKz\\Documents\\GitHub\\Ml_Bank\\venv\\Lib\\site-packages\\kedro\\io\\data_catalog.py#1046\" target=\"_blank\"><span style=\"color: #7f7f7f; text-decoration-color: #7f7f7f\">1046</span></a>\n",
       "</pre>\n"
      ],
      "text/plain": [
       "\u001b[2;36m[09/12/25 18:49:42]\u001b[0m\u001b[2;36m \u001b[0m\u001b[34mINFO    \u001b[0m Loading data from \u001b[38;5;208mtransactions\u001b[0m \u001b[1m(\u001b[0mCSVDataset\u001b[1m)\u001b[0m\u001b[33m...\u001b[0m                    \u001b]8;id=436030;file://C:\\Users\\AlexandreKz\\Documents\\GitHub\\Ml_Bank\\venv\\Lib\\site-packages\\kedro\\io\\data_catalog.py\u001b\\\u001b[2mdata_catalog.py\u001b[0m\u001b]8;;\u001b\\\u001b[2m:\u001b[0m\u001b]8;id=893004;file://C:\\Users\\AlexandreKz\\Documents\\GitHub\\Ml_Bank\\venv\\Lib\\site-packages\\kedro\\io\\data_catalog.py#1046\u001b\\\u001b[2m1046\u001b[0m\u001b]8;;\u001b\\\n"
      ]
     },
     "metadata": {},
     "output_type": "display_data"
    },
    {
     "name": "stdout",
     "output_type": "stream",
     "text": [
      "--- Resumen de la cantidad de registros por DataFrame ---\n",
      "bank_customer_transactions: 1048567 filas, 9 columnas\n",
      "cleaned_dataset: 984247 filas, 10 columnas\n",
      "customer_agg: 838370 filas, 15 columnas\n",
      "customers: 1000 filas, 5 columnas\n",
      "foreign_customer_dataset: 3584 filas, 11 columnas\n",
      "fraud_dataset: 9843 filas, 22 columnas\n",
      "RFM: 838370 filas, 11 columnas\n",
      "transactions: 1000 filas, 5 columnas\n",
      "\n",
      "--- Datasets con más de 10,000 registros ---\n",
      "bank_customer_transactions: 1048567 filas\n",
      "cleaned_dataset: 984247 filas\n",
      "customer_agg: 838370 filas\n",
      "RFM: 838370 filas\n"
     ]
    }
   ],
   "source": [
    "# 📌 Lista de datasets que tienes en data/01_raw\n",
    "datasets = [\n",
    "    \"bank_customer_transactions\",\n",
    "    \"cleaned_dataset\",\n",
    "    \"customer_agg\",\n",
    "    \"customers\",\n",
    "    \"foreign_customer_dataset\",\n",
    "    \"fraud_dataset\",\n",
    "    \"RFM\",\n",
    "    \"transactions\",\n",
    "]\n",
    "\n",
    "# 📌 Cargar todos los datasets desde el catálogo, con el objetivo de ver que DataSet serán seleccionados para realizar el EDA\n",
    "loaded_data = {name: catalog.load(name) for name in datasets}\n",
    "\n",
    "# 📌 Mostrar resumen de cada DataSet con el objetivo que seleccionar 3 que contengan +10.000 datos\n",
    "print(\"--- Resumen de la cantidad de registros por DataFrame ---\")\n",
    "for name, df in loaded_data.items():\n",
    "    print(f\"{name}: {df.shape[0]} filas, {df.shape[1]} columnas\")\n",
    "\n",
    "print(\"\\n--- Datasets con más de 10,000 registros ---\")\n",
    "for name, df in loaded_data.items():\n",
    "    if df.shape[0] > 10000:\n",
    "        print(f\"{name}: {df.shape[0]} filas\")\n",
    "\n"
   ]
  },
  {
   "cell_type": "code",
   "execution_count": 4,
   "metadata": {},
   "outputs": [
    {
     "name": "stdout",
     "output_type": "stream",
     "text": [
      "\n",
      "===== bank_customer_transactions =====\n"
     ]
    },
    {
     "data": {
      "text/html": [
       "<pre style=\"white-space:pre;overflow-x:auto;line-height:normal;font-family:Menlo,'DejaVu Sans Mono',consolas,'Courier New',monospace\"><span style=\"color: #7fbfbf; text-decoration-color: #7fbfbf\">[09/11/25 21:50:56] </span><span style=\"color: #000080; text-decoration-color: #000080\">INFO    </span> Loading data from <span style=\"color: #ff8700; text-decoration-color: #ff8700\">bank_customer_transactions</span> <span style=\"font-weight: bold\">(</span>CSVDataset<span style=\"font-weight: bold\">)</span><span style=\"color: #808000; text-decoration-color: #808000\">...</span>      <a href=\"file://C:\\Users\\Kevin\\Documents\\GitHub\\Ml_Bank\\venv\\Lib\\site-packages\\kedro\\io\\data_catalog.py\" target=\"_blank\"><span style=\"color: #7f7f7f; text-decoration-color: #7f7f7f\">data_catalog.py</span></a><span style=\"color: #7f7f7f; text-decoration-color: #7f7f7f\">:</span><a href=\"file://C:\\Users\\Kevin\\Documents\\GitHub\\Ml_Bank\\venv\\Lib\\site-packages\\kedro\\io\\data_catalog.py#1046\" target=\"_blank\"><span style=\"color: #7f7f7f; text-decoration-color: #7f7f7f\">1046</span></a>\n",
       "</pre>\n"
      ],
      "text/plain": [
       "\u001b[2;36m[09/11/25 21:50:56]\u001b[0m\u001b[2;36m \u001b[0m\u001b[34mINFO    \u001b[0m Loading data from \u001b[38;5;208mbank_customer_transactions\u001b[0m \u001b[1m(\u001b[0mCSVDataset\u001b[1m)\u001b[0m\u001b[33m...\u001b[0m      \u001b]8;id=668865;file://C:\\Users\\Kevin\\Documents\\GitHub\\Ml_Bank\\venv\\Lib\\site-packages\\kedro\\io\\data_catalog.py\u001b\\\u001b[2mdata_catalog.py\u001b[0m\u001b]8;;\u001b\\\u001b[2m:\u001b[0m\u001b]8;id=992896;file://C:\\Users\\Kevin\\Documents\\GitHub\\Ml_Bank\\venv\\Lib\\site-packages\\kedro\\io\\data_catalog.py#1046\u001b\\\u001b[2m1046\u001b[0m\u001b]8;;\u001b\\\n"
      ]
     },
     "metadata": {},
     "output_type": "display_data"
    },
    {
     "name": "stdout",
     "output_type": "stream",
     "text": [
      "Shape: (1048567, 9)\n",
      "\n",
      "Columnas:\n",
      "TransactionID               object\n",
      "CustomerID                  object\n",
      "CustomerDOB                 object\n",
      "CustGender                  object\n",
      "CustLocation                object\n",
      "CustAccountBalance         float64\n",
      "TransactionDate             object\n",
      "TransactionTime              int64\n",
      "TransactionAmount (INR)    float64\n",
      "dtype: object\n",
      "\n",
      "Primeras filas:\n"
     ]
    },
    {
     "data": {
      "text/html": [
       "<pre style=\"white-space:pre;overflow-x:auto;line-height:normal;font-family:Menlo,'DejaVu Sans Mono',consolas,'Courier New',monospace\"></pre>\n"
      ],
      "text/plain": []
     },
     "metadata": {},
     "output_type": "display_data"
    },
    {
     "data": {
      "text/html": [
       "<div>\n",
       "<style scoped>\n",
       "    .dataframe tbody tr th:only-of-type {\n",
       "        vertical-align: middle;\n",
       "    }\n",
       "\n",
       "    .dataframe tbody tr th {\n",
       "        vertical-align: top;\n",
       "    }\n",
       "\n",
       "    .dataframe thead th {\n",
       "        text-align: right;\n",
       "    }\n",
       "</style>\n",
       "<table border=\"1\" class=\"dataframe\">\n",
       "  <thead>\n",
       "    <tr style=\"text-align: right;\">\n",
       "      <th></th>\n",
       "      <th>TransactionID</th>\n",
       "      <th>CustomerID</th>\n",
       "      <th>CustomerDOB</th>\n",
       "      <th>CustGender</th>\n",
       "      <th>CustLocation</th>\n",
       "      <th>CustAccountBalance</th>\n",
       "      <th>TransactionDate</th>\n",
       "      <th>TransactionTime</th>\n",
       "      <th>TransactionAmount (INR)</th>\n",
       "    </tr>\n",
       "  </thead>\n",
       "  <tbody>\n",
       "    <tr>\n",
       "      <th>0</th>\n",
       "      <td>T1</td>\n",
       "      <td>C5841053</td>\n",
       "      <td>10/1/94</td>\n",
       "      <td>F</td>\n",
       "      <td>JAMSHEDPUR</td>\n",
       "      <td>17819.05</td>\n",
       "      <td>2/8/16</td>\n",
       "      <td>143207</td>\n",
       "      <td>25.0</td>\n",
       "    </tr>\n",
       "    <tr>\n",
       "      <th>1</th>\n",
       "      <td>T2</td>\n",
       "      <td>C2142763</td>\n",
       "      <td>4/4/57</td>\n",
       "      <td>M</td>\n",
       "      <td>JHAJJAR</td>\n",
       "      <td>2270.69</td>\n",
       "      <td>2/8/16</td>\n",
       "      <td>141858</td>\n",
       "      <td>27999.0</td>\n",
       "    </tr>\n",
       "    <tr>\n",
       "      <th>2</th>\n",
       "      <td>T3</td>\n",
       "      <td>C4417068</td>\n",
       "      <td>26/11/96</td>\n",
       "      <td>F</td>\n",
       "      <td>MUMBAI</td>\n",
       "      <td>17874.44</td>\n",
       "      <td>2/8/16</td>\n",
       "      <td>142712</td>\n",
       "      <td>459.0</td>\n",
       "    </tr>\n",
       "  </tbody>\n",
       "</table>\n",
       "</div>"
      ],
      "text/plain": [
       "\n",
       "  TransactionID CustomerID CustomerDOB CustGender CustLocation  \\\n",
       "\u001b[1;36m0\u001b[0m            T1   C5841053     \u001b[1;36m10\u001b[0m/\u001b[1;36m1\u001b[0m/\u001b[1;36m94\u001b[0m          F   JAMSHEDPUR   \n",
       "\u001b[1;36m1\u001b[0m            T2   C2142763      \u001b[1;36m4\u001b[0m/\u001b[1;36m4\u001b[0m/\u001b[1;36m57\u001b[0m          M      JHAJJAR   \n",
       "\u001b[1;36m2\u001b[0m            T3   C4417068    \u001b[1;36m26\u001b[0m/\u001b[1;36m11\u001b[0m/\u001b[1;36m96\u001b[0m          F       MUMBAI   \n",
       "\n",
       "   CustAccountBalance TransactionDate  TransactionTime  \\\n",
       "\u001b[1;36m0\u001b[0m            \u001b[1;36m17819.05\u001b[0m          \u001b[1;36m2\u001b[0m/\u001b[1;36m8\u001b[0m/\u001b[1;36m16\u001b[0m           \u001b[1;36m143207\u001b[0m   \n",
       "\u001b[1;36m1\u001b[0m             \u001b[1;36m2270.69\u001b[0m          \u001b[1;36m2\u001b[0m/\u001b[1;36m8\u001b[0m/\u001b[1;36m16\u001b[0m           \u001b[1;36m141858\u001b[0m   \n",
       "\u001b[1;36m2\u001b[0m            \u001b[1;36m17874.44\u001b[0m          \u001b[1;36m2\u001b[0m/\u001b[1;36m8\u001b[0m/\u001b[1;36m16\u001b[0m           \u001b[1;36m142712\u001b[0m   \n",
       "\n",
       "   TransactionAmount \u001b[1m(\u001b[0mINR\u001b[1m)\u001b[0m  \n",
       "\u001b[1;36m0\u001b[0m                     \u001b[1;36m25.0\u001b[0m  \n",
       "\u001b[1;36m1\u001b[0m                  \u001b[1;36m27999.0\u001b[0m  \n",
       "\u001b[1;36m2\u001b[0m                    \u001b[1;36m459.0\u001b[0m  "
      ]
     },
     "metadata": {},
     "output_type": "display_data"
    },
    {
     "name": "stdout",
     "output_type": "stream",
     "text": [
      "\n",
      "===== cleaned_dataset =====\n"
     ]
    },
    {
     "data": {
      "text/html": [
       "<pre style=\"white-space:pre;overflow-x:auto;line-height:normal;font-family:Menlo,'DejaVu Sans Mono',consolas,'Courier New',monospace\"><span style=\"color: #7fbfbf; text-decoration-color: #7fbfbf\">[09/11/25 21:50:58] </span><span style=\"color: #000080; text-decoration-color: #000080\">INFO    </span> Loading data from <span style=\"color: #ff8700; text-decoration-color: #ff8700\">cleaned_dataset</span> <span style=\"font-weight: bold\">(</span>CSVDataset<span style=\"font-weight: bold\">)</span><span style=\"color: #808000; text-decoration-color: #808000\">...</span>                 <a href=\"file://C:\\Users\\Kevin\\Documents\\GitHub\\Ml_Bank\\venv\\Lib\\site-packages\\kedro\\io\\data_catalog.py\" target=\"_blank\"><span style=\"color: #7f7f7f; text-decoration-color: #7f7f7f\">data_catalog.py</span></a><span style=\"color: #7f7f7f; text-decoration-color: #7f7f7f\">:</span><a href=\"file://C:\\Users\\Kevin\\Documents\\GitHub\\Ml_Bank\\venv\\Lib\\site-packages\\kedro\\io\\data_catalog.py#1046\" target=\"_blank\"><span style=\"color: #7f7f7f; text-decoration-color: #7f7f7f\">1046</span></a>\n",
       "</pre>\n"
      ],
      "text/plain": [
       "\u001b[2;36m[09/11/25 21:50:58]\u001b[0m\u001b[2;36m \u001b[0m\u001b[34mINFO    \u001b[0m Loading data from \u001b[38;5;208mcleaned_dataset\u001b[0m \u001b[1m(\u001b[0mCSVDataset\u001b[1m)\u001b[0m\u001b[33m...\u001b[0m                 \u001b]8;id=781561;file://C:\\Users\\Kevin\\Documents\\GitHub\\Ml_Bank\\venv\\Lib\\site-packages\\kedro\\io\\data_catalog.py\u001b\\\u001b[2mdata_catalog.py\u001b[0m\u001b]8;;\u001b\\\u001b[2m:\u001b[0m\u001b]8;id=927326;file://C:\\Users\\Kevin\\Documents\\GitHub\\Ml_Bank\\venv\\Lib\\site-packages\\kedro\\io\\data_catalog.py#1046\u001b\\\u001b[2m1046\u001b[0m\u001b]8;;\u001b\\\n"
      ]
     },
     "metadata": {},
     "output_type": "display_data"
    },
    {
     "name": "stdout",
     "output_type": "stream",
     "text": [
      "Shape: (984247, 10)\n",
      "\n",
      "Columnas:\n",
      "TransactionID               object\n",
      "CustomerID                  object\n",
      "CustomerDOB                 object\n",
      "CustGender                  object\n",
      "CustLocation                object\n",
      "CustAccountBalance         float64\n",
      "TransactionDate             object\n",
      "TransactionTime             object\n",
      "TransactionAmount (INR)    float64\n",
      "Age                          int64\n",
      "dtype: object\n",
      "\n",
      "Primeras filas:\n"
     ]
    },
    {
     "data": {
      "text/html": [
       "<pre style=\"white-space:pre;overflow-x:auto;line-height:normal;font-family:Menlo,'DejaVu Sans Mono',consolas,'Courier New',monospace\"></pre>\n"
      ],
      "text/plain": []
     },
     "metadata": {},
     "output_type": "display_data"
    },
    {
     "data": {
      "text/html": [
       "<div>\n",
       "<style scoped>\n",
       "    .dataframe tbody tr th:only-of-type {\n",
       "        vertical-align: middle;\n",
       "    }\n",
       "\n",
       "    .dataframe tbody tr th {\n",
       "        vertical-align: top;\n",
       "    }\n",
       "\n",
       "    .dataframe thead th {\n",
       "        text-align: right;\n",
       "    }\n",
       "</style>\n",
       "<table border=\"1\" class=\"dataframe\">\n",
       "  <thead>\n",
       "    <tr style=\"text-align: right;\">\n",
       "      <th></th>\n",
       "      <th>TransactionID</th>\n",
       "      <th>CustomerID</th>\n",
       "      <th>CustomerDOB</th>\n",
       "      <th>CustGender</th>\n",
       "      <th>CustLocation</th>\n",
       "      <th>CustAccountBalance</th>\n",
       "      <th>TransactionDate</th>\n",
       "      <th>TransactionTime</th>\n",
       "      <th>TransactionAmount (INR)</th>\n",
       "      <th>Age</th>\n",
       "    </tr>\n",
       "  </thead>\n",
       "  <tbody>\n",
       "    <tr>\n",
       "      <th>0</th>\n",
       "      <td>T1</td>\n",
       "      <td>C5841053</td>\n",
       "      <td>1994-01-10</td>\n",
       "      <td>F</td>\n",
       "      <td>JAMSHEDPUR</td>\n",
       "      <td>17819.05</td>\n",
       "      <td>2016-08-02</td>\n",
       "      <td>14:32:07</td>\n",
       "      <td>25.0</td>\n",
       "      <td>22</td>\n",
       "    </tr>\n",
       "    <tr>\n",
       "      <th>1</th>\n",
       "      <td>T2</td>\n",
       "      <td>C2142763</td>\n",
       "      <td>1957-04-04</td>\n",
       "      <td>M</td>\n",
       "      <td>JHAJJAR</td>\n",
       "      <td>2270.69</td>\n",
       "      <td>2016-08-02</td>\n",
       "      <td>14:18:58</td>\n",
       "      <td>27999.0</td>\n",
       "      <td>59</td>\n",
       "    </tr>\n",
       "    <tr>\n",
       "      <th>2</th>\n",
       "      <td>T3</td>\n",
       "      <td>C4417068</td>\n",
       "      <td>1996-11-26</td>\n",
       "      <td>F</td>\n",
       "      <td>MUMBAI</td>\n",
       "      <td>17874.44</td>\n",
       "      <td>2016-08-02</td>\n",
       "      <td>14:27:12</td>\n",
       "      <td>459.0</td>\n",
       "      <td>19</td>\n",
       "    </tr>\n",
       "  </tbody>\n",
       "</table>\n",
       "</div>"
      ],
      "text/plain": [
       "\n",
       "  TransactionID CustomerID CustomerDOB CustGender CustLocation  \\\n",
       "\u001b[1;36m0\u001b[0m            T1   C5841053  \u001b[1;36m1994\u001b[0m-\u001b[1;36m01\u001b[0m-\u001b[1;36m10\u001b[0m          F   JAMSHEDPUR   \n",
       "\u001b[1;36m1\u001b[0m            T2   C2142763  \u001b[1;36m1957\u001b[0m-\u001b[1;36m04\u001b[0m-\u001b[1;36m04\u001b[0m          M      JHAJJAR   \n",
       "\u001b[1;36m2\u001b[0m            T3   C4417068  \u001b[1;36m1996\u001b[0m-\u001b[1;36m11\u001b[0m-\u001b[1;36m26\u001b[0m          F       MUMBAI   \n",
       "\n",
       "   CustAccountBalance TransactionDate TransactionTime  \\\n",
       "\u001b[1;36m0\u001b[0m            \u001b[1;36m17819.05\u001b[0m      \u001b[1;36m2016\u001b[0m-\u001b[1;36m08\u001b[0m-\u001b[1;36m02\u001b[0m        \u001b[1;92m14:32:07\u001b[0m   \n",
       "\u001b[1;36m1\u001b[0m             \u001b[1;36m2270.69\u001b[0m      \u001b[1;36m2016\u001b[0m-\u001b[1;36m08\u001b[0m-\u001b[1;36m02\u001b[0m        \u001b[1;92m14:18:58\u001b[0m   \n",
       "\u001b[1;36m2\u001b[0m            \u001b[1;36m17874.44\u001b[0m      \u001b[1;36m2016\u001b[0m-\u001b[1;36m08\u001b[0m-\u001b[1;36m02\u001b[0m        \u001b[1;92m14:27:12\u001b[0m   \n",
       "\n",
       "   TransactionAmount \u001b[1m(\u001b[0mINR\u001b[1m)\u001b[0m  Age  \n",
       "\u001b[1;36m0\u001b[0m                     \u001b[1;36m25.0\u001b[0m   \u001b[1;36m22\u001b[0m  \n",
       "\u001b[1;36m1\u001b[0m                  \u001b[1;36m27999.0\u001b[0m   \u001b[1;36m59\u001b[0m  \n",
       "\u001b[1;36m2\u001b[0m                    \u001b[1;36m459.0\u001b[0m   \u001b[1;36m19\u001b[0m  "
      ]
     },
     "metadata": {},
     "output_type": "display_data"
    },
    {
     "name": "stdout",
     "output_type": "stream",
     "text": [
      "\n",
      "===== customer_agg =====\n"
     ]
    },
    {
     "data": {
      "text/html": [
       "<pre style=\"white-space:pre;overflow-x:auto;line-height:normal;font-family:Menlo,'DejaVu Sans Mono',consolas,'Courier New',monospace\"><span style=\"color: #7fbfbf; text-decoration-color: #7fbfbf\">[09/11/25 21:50:59] </span><span style=\"color: #000080; text-decoration-color: #000080\">INFO    </span> Loading data from <span style=\"color: #ff8700; text-decoration-color: #ff8700\">customer_agg</span> <span style=\"font-weight: bold\">(</span>CSVDataset<span style=\"font-weight: bold\">)</span><span style=\"color: #808000; text-decoration-color: #808000\">...</span>                    <a href=\"file://C:\\Users\\Kevin\\Documents\\GitHub\\Ml_Bank\\venv\\Lib\\site-packages\\kedro\\io\\data_catalog.py\" target=\"_blank\"><span style=\"color: #7f7f7f; text-decoration-color: #7f7f7f\">data_catalog.py</span></a><span style=\"color: #7f7f7f; text-decoration-color: #7f7f7f\">:</span><a href=\"file://C:\\Users\\Kevin\\Documents\\GitHub\\Ml_Bank\\venv\\Lib\\site-packages\\kedro\\io\\data_catalog.py#1046\" target=\"_blank\"><span style=\"color: #7f7f7f; text-decoration-color: #7f7f7f\">1046</span></a>\n",
       "</pre>\n"
      ],
      "text/plain": [
       "\u001b[2;36m[09/11/25 21:50:59]\u001b[0m\u001b[2;36m \u001b[0m\u001b[34mINFO    \u001b[0m Loading data from \u001b[38;5;208mcustomer_agg\u001b[0m \u001b[1m(\u001b[0mCSVDataset\u001b[1m)\u001b[0m\u001b[33m...\u001b[0m                    \u001b]8;id=478773;file://C:\\Users\\Kevin\\Documents\\GitHub\\Ml_Bank\\venv\\Lib\\site-packages\\kedro\\io\\data_catalog.py\u001b\\\u001b[2mdata_catalog.py\u001b[0m\u001b]8;;\u001b\\\u001b[2m:\u001b[0m\u001b]8;id=232749;file://C:\\Users\\Kevin\\Documents\\GitHub\\Ml_Bank\\venv\\Lib\\site-packages\\kedro\\io\\data_catalog.py#1046\u001b\\\u001b[2m1046\u001b[0m\u001b]8;;\u001b\\\n"
      ]
     },
     "metadata": {},
     "output_type": "display_data"
    },
    {
     "name": "stdout",
     "output_type": "stream",
     "text": [
      "Shape: (838370, 15)\n",
      "\n",
      "Columnas:\n",
      "Unnamed: 0                 int64\n",
      "CustomerID                object\n",
      "txn_count                  int64\n",
      "total_spent              float64\n",
      "avg_spent                float64\n",
      "max_spent                float64\n",
      "avg_balance              float64\n",
      "first_txn_date            object\n",
      "last_txn_date             object\n",
      "location                  object\n",
      "gender                    object\n",
      "recency_days               int64\n",
      "tenure_days                int64\n",
      "txn_per_day              float64\n",
      "avg_spent_pct_balance    float64\n",
      "dtype: object\n",
      "\n",
      "Primeras filas:\n"
     ]
    },
    {
     "data": {
      "text/html": [
       "<pre style=\"white-space:pre;overflow-x:auto;line-height:normal;font-family:Menlo,'DejaVu Sans Mono',consolas,'Courier New',monospace\"></pre>\n"
      ],
      "text/plain": []
     },
     "metadata": {},
     "output_type": "display_data"
    },
    {
     "data": {
      "text/html": [
       "<div>\n",
       "<style scoped>\n",
       "    .dataframe tbody tr th:only-of-type {\n",
       "        vertical-align: middle;\n",
       "    }\n",
       "\n",
       "    .dataframe tbody tr th {\n",
       "        vertical-align: top;\n",
       "    }\n",
       "\n",
       "    .dataframe thead th {\n",
       "        text-align: right;\n",
       "    }\n",
       "</style>\n",
       "<table border=\"1\" class=\"dataframe\">\n",
       "  <thead>\n",
       "    <tr style=\"text-align: right;\">\n",
       "      <th></th>\n",
       "      <th>Unnamed: 0</th>\n",
       "      <th>CustomerID</th>\n",
       "      <th>txn_count</th>\n",
       "      <th>total_spent</th>\n",
       "      <th>avg_spent</th>\n",
       "      <th>max_spent</th>\n",
       "      <th>avg_balance</th>\n",
       "      <th>first_txn_date</th>\n",
       "      <th>last_txn_date</th>\n",
       "      <th>location</th>\n",
       "      <th>gender</th>\n",
       "      <th>recency_days</th>\n",
       "      <th>tenure_days</th>\n",
       "      <th>txn_per_day</th>\n",
       "      <th>avg_spent_pct_balance</th>\n",
       "    </tr>\n",
       "  </thead>\n",
       "  <tbody>\n",
       "    <tr>\n",
       "      <th>0</th>\n",
       "      <td>0</td>\n",
       "      <td>C1010011</td>\n",
       "      <td>2</td>\n",
       "      <td>5106.0</td>\n",
       "      <td>2553.0</td>\n",
       "      <td>4750.0</td>\n",
       "      <td>76340.635</td>\n",
       "      <td>2016-08-09</td>\n",
       "      <td>2016-09-26</td>\n",
       "      <td>NOIDA</td>\n",
       "      <td>F</td>\n",
       "      <td>25</td>\n",
       "      <td>48</td>\n",
       "      <td>0.041667</td>\n",
       "      <td>0.033442</td>\n",
       "    </tr>\n",
       "    <tr>\n",
       "      <th>1</th>\n",
       "      <td>1</td>\n",
       "      <td>C1010012</td>\n",
       "      <td>1</td>\n",
       "      <td>1499.0</td>\n",
       "      <td>1499.0</td>\n",
       "      <td>1499.0</td>\n",
       "      <td>24204.490</td>\n",
       "      <td>2016-08-14</td>\n",
       "      <td>2016-08-14</td>\n",
       "      <td>MUMBAI</td>\n",
       "      <td>M</td>\n",
       "      <td>68</td>\n",
       "      <td>0</td>\n",
       "      <td>1.000000</td>\n",
       "      <td>0.061931</td>\n",
       "    </tr>\n",
       "    <tr>\n",
       "      <th>2</th>\n",
       "      <td>2</td>\n",
       "      <td>C1010014</td>\n",
       "      <td>2</td>\n",
       "      <td>1455.0</td>\n",
       "      <td>727.5</td>\n",
       "      <td>1205.0</td>\n",
       "      <td>100112.950</td>\n",
       "      <td>2016-08-01</td>\n",
       "      <td>2016-08-07</td>\n",
       "      <td>MUMBAI</td>\n",
       "      <td>F</td>\n",
       "      <td>75</td>\n",
       "      <td>6</td>\n",
       "      <td>0.333333</td>\n",
       "      <td>0.007267</td>\n",
       "    </tr>\n",
       "  </tbody>\n",
       "</table>\n",
       "</div>"
      ],
      "text/plain": [
       "\n",
       "   Unnamed: \u001b[1;36m0\u001b[0m CustomerID  txn_count  total_spent  avg_spent  max_spent  \\\n",
       "\u001b[1;36m0\u001b[0m           \u001b[1;36m0\u001b[0m   C1010011          \u001b[1;36m2\u001b[0m       \u001b[1;36m5106.0\u001b[0m     \u001b[1;36m2553.0\u001b[0m     \u001b[1;36m4750.0\u001b[0m   \n",
       "\u001b[1;36m1\u001b[0m           \u001b[1;36m1\u001b[0m   C1010012          \u001b[1;36m1\u001b[0m       \u001b[1;36m1499.0\u001b[0m     \u001b[1;36m1499.0\u001b[0m     \u001b[1;36m1499.0\u001b[0m   \n",
       "\u001b[1;36m2\u001b[0m           \u001b[1;36m2\u001b[0m   C1010014          \u001b[1;36m2\u001b[0m       \u001b[1;36m1455.0\u001b[0m      \u001b[1;36m727.5\u001b[0m     \u001b[1;36m1205.0\u001b[0m   \n",
       "\n",
       "   avg_balance first_txn_date last_txn_date location gender  recency_days  \\\n",
       "\u001b[1;36m0\u001b[0m    \u001b[1;36m76340.635\u001b[0m     \u001b[1;36m2016\u001b[0m-\u001b[1;36m08\u001b[0m-\u001b[1;36m09\u001b[0m    \u001b[1;36m2016\u001b[0m-\u001b[1;36m09\u001b[0m-\u001b[1;36m26\u001b[0m    NOIDA      F            \u001b[1;36m25\u001b[0m   \n",
       "\u001b[1;36m1\u001b[0m    \u001b[1;36m24204.490\u001b[0m     \u001b[1;36m2016\u001b[0m-\u001b[1;36m08\u001b[0m-\u001b[1;36m14\u001b[0m    \u001b[1;36m2016\u001b[0m-\u001b[1;36m08\u001b[0m-\u001b[1;36m14\u001b[0m   MUMBAI      M            \u001b[1;36m68\u001b[0m   \n",
       "\u001b[1;36m2\u001b[0m   \u001b[1;36m100112.950\u001b[0m     \u001b[1;36m2016\u001b[0m-\u001b[1;36m08\u001b[0m-\u001b[1;36m01\u001b[0m    \u001b[1;36m2016\u001b[0m-\u001b[1;36m08\u001b[0m-\u001b[1;36m07\u001b[0m   MUMBAI      F            \u001b[1;36m75\u001b[0m   \n",
       "\n",
       "   tenure_days  txn_per_day  avg_spent_pct_balance  \n",
       "\u001b[1;36m0\u001b[0m           \u001b[1;36m48\u001b[0m     \u001b[1;36m0.041667\u001b[0m               \u001b[1;36m0.033442\u001b[0m  \n",
       "\u001b[1;36m1\u001b[0m            \u001b[1;36m0\u001b[0m     \u001b[1;36m1.000000\u001b[0m               \u001b[1;36m0.061931\u001b[0m  \n",
       "\u001b[1;36m2\u001b[0m            \u001b[1;36m6\u001b[0m     \u001b[1;36m0.333333\u001b[0m               \u001b[1;36m0.007267\u001b[0m  "
      ]
     },
     "metadata": {},
     "output_type": "display_data"
    },
    {
     "name": "stdout",
     "output_type": "stream",
     "text": [
      "\n",
      "===== RFM =====\n"
     ]
    },
    {
     "data": {
      "text/html": [
       "<pre style=\"white-space:pre;overflow-x:auto;line-height:normal;font-family:Menlo,'DejaVu Sans Mono',consolas,'Courier New',monospace\"><span style=\"color: #7fbfbf; text-decoration-color: #7fbfbf\">[09/11/25 21:51:01] </span><span style=\"color: #000080; text-decoration-color: #000080\">INFO    </span> Loading data from <span style=\"color: #ff8700; text-decoration-color: #ff8700\">RFM</span> <span style=\"font-weight: bold\">(</span>CSVDataset<span style=\"font-weight: bold\">)</span><span style=\"color: #808000; text-decoration-color: #808000\">...</span>                             <a href=\"file://C:\\Users\\Kevin\\Documents\\GitHub\\Ml_Bank\\venv\\Lib\\site-packages\\kedro\\io\\data_catalog.py\" target=\"_blank\"><span style=\"color: #7f7f7f; text-decoration-color: #7f7f7f\">data_catalog.py</span></a><span style=\"color: #7f7f7f; text-decoration-color: #7f7f7f\">:</span><a href=\"file://C:\\Users\\Kevin\\Documents\\GitHub\\Ml_Bank\\venv\\Lib\\site-packages\\kedro\\io\\data_catalog.py#1046\" target=\"_blank\"><span style=\"color: #7f7f7f; text-decoration-color: #7f7f7f\">1046</span></a>\n",
       "</pre>\n"
      ],
      "text/plain": [
       "\u001b[2;36m[09/11/25 21:51:01]\u001b[0m\u001b[2;36m \u001b[0m\u001b[34mINFO    \u001b[0m Loading data from \u001b[38;5;208mRFM\u001b[0m \u001b[1m(\u001b[0mCSVDataset\u001b[1m)\u001b[0m\u001b[33m...\u001b[0m                             \u001b]8;id=912887;file://C:\\Users\\Kevin\\Documents\\GitHub\\Ml_Bank\\venv\\Lib\\site-packages\\kedro\\io\\data_catalog.py\u001b\\\u001b[2mdata_catalog.py\u001b[0m\u001b]8;;\u001b\\\u001b[2m:\u001b[0m\u001b]8;id=509877;file://C:\\Users\\Kevin\\Documents\\GitHub\\Ml_Bank\\venv\\Lib\\site-packages\\kedro\\io\\data_catalog.py#1046\u001b\\\u001b[2m1046\u001b[0m\u001b]8;;\u001b\\\n"
      ]
     },
     "metadata": {},
     "output_type": "display_data"
    },
    {
     "name": "stdout",
     "output_type": "stream",
     "text": [
      "Shape: (838370, 11)\n",
      "\n",
      "Columnas:\n",
      "Unnamed: 0         int64\n",
      "CustomerID        object\n",
      "Recency            int64\n",
      "Frequency          int64\n",
      "Monetary         float64\n",
      "R                  int64\n",
      "F                  int64\n",
      "M                  int64\n",
      "RFM Score          int64\n",
      "Segment           object\n",
      "Segment_Final     object\n",
      "dtype: object\n",
      "\n",
      "Primeras filas:\n"
     ]
    },
    {
     "data": {
      "text/html": [
       "<pre style=\"white-space:pre;overflow-x:auto;line-height:normal;font-family:Menlo,'DejaVu Sans Mono',consolas,'Courier New',monospace\"></pre>\n"
      ],
      "text/plain": []
     },
     "metadata": {},
     "output_type": "display_data"
    },
    {
     "data": {
      "text/html": [
       "<div>\n",
       "<style scoped>\n",
       "    .dataframe tbody tr th:only-of-type {\n",
       "        vertical-align: middle;\n",
       "    }\n",
       "\n",
       "    .dataframe tbody tr th {\n",
       "        vertical-align: top;\n",
       "    }\n",
       "\n",
       "    .dataframe thead th {\n",
       "        text-align: right;\n",
       "    }\n",
       "</style>\n",
       "<table border=\"1\" class=\"dataframe\">\n",
       "  <thead>\n",
       "    <tr style=\"text-align: right;\">\n",
       "      <th></th>\n",
       "      <th>Unnamed: 0</th>\n",
       "      <th>CustomerID</th>\n",
       "      <th>Recency</th>\n",
       "      <th>Frequency</th>\n",
       "      <th>Monetary</th>\n",
       "      <th>R</th>\n",
       "      <th>F</th>\n",
       "      <th>M</th>\n",
       "      <th>RFM Score</th>\n",
       "      <th>Segment</th>\n",
       "      <th>Segment_Final</th>\n",
       "    </tr>\n",
       "  </thead>\n",
       "  <tbody>\n",
       "    <tr>\n",
       "      <th>0</th>\n",
       "      <td>0</td>\n",
       "      <td>C1010011</td>\n",
       "      <td>25</td>\n",
       "      <td>2</td>\n",
       "      <td>5106.0</td>\n",
       "      <td>5</td>\n",
       "      <td>5</td>\n",
       "      <td>5</td>\n",
       "      <td>555</td>\n",
       "      <td>Champions</td>\n",
       "      <td>Champions</td>\n",
       "    </tr>\n",
       "    <tr>\n",
       "      <th>1</th>\n",
       "      <td>1</td>\n",
       "      <td>C1010012</td>\n",
       "      <td>68</td>\n",
       "      <td>1</td>\n",
       "      <td>1499.0</td>\n",
       "      <td>2</td>\n",
       "      <td>1</td>\n",
       "      <td>4</td>\n",
       "      <td>214</td>\n",
       "      <td>At Risk (Inactive)</td>\n",
       "      <td>Needs Attention</td>\n",
       "    </tr>\n",
       "    <tr>\n",
       "      <th>2</th>\n",
       "      <td>2</td>\n",
       "      <td>C1010014</td>\n",
       "      <td>75</td>\n",
       "      <td>2</td>\n",
       "      <td>1455.0</td>\n",
       "      <td>1</td>\n",
       "      <td>5</td>\n",
       "      <td>4</td>\n",
       "      <td>154</td>\n",
       "      <td>At Risk (High-value)</td>\n",
       "      <td>Critical</td>\n",
       "    </tr>\n",
       "  </tbody>\n",
       "</table>\n",
       "</div>"
      ],
      "text/plain": [
       "\n",
       "   Unnamed: \u001b[1;36m0\u001b[0m CustomerID  Recency  Frequency  Monetary  R  F  M  RFM Score  \\\n",
       "\u001b[1;36m0\u001b[0m           \u001b[1;36m0\u001b[0m   C1010011       \u001b[1;36m25\u001b[0m          \u001b[1;36m2\u001b[0m    \u001b[1;36m5106.0\u001b[0m  \u001b[1;36m5\u001b[0m  \u001b[1;36m5\u001b[0m  \u001b[1;36m5\u001b[0m        \u001b[1;36m555\u001b[0m   \n",
       "\u001b[1;36m1\u001b[0m           \u001b[1;36m1\u001b[0m   C1010012       \u001b[1;36m68\u001b[0m          \u001b[1;36m1\u001b[0m    \u001b[1;36m1499.0\u001b[0m  \u001b[1;36m2\u001b[0m  \u001b[1;36m1\u001b[0m  \u001b[1;36m4\u001b[0m        \u001b[1;36m214\u001b[0m   \n",
       "\u001b[1;36m2\u001b[0m           \u001b[1;36m2\u001b[0m   C1010014       \u001b[1;36m75\u001b[0m          \u001b[1;36m2\u001b[0m    \u001b[1;36m1455.0\u001b[0m  \u001b[1;36m1\u001b[0m  \u001b[1;36m5\u001b[0m  \u001b[1;36m4\u001b[0m        \u001b[1;36m154\u001b[0m   \n",
       "\n",
       "                Segment    Segment_Final  \n",
       "\u001b[1;36m0\u001b[0m             Champions        Champions  \n",
       "\u001b[1;36m1\u001b[0m    At Risk \u001b[1m(\u001b[0mInactive\u001b[1m)\u001b[0m  Needs Attention  \n",
       "\u001b[1;36m2\u001b[0m  At Risk \u001b[1m(\u001b[0mHigh-value\u001b[1m)\u001b[0m         Critical  "
      ]
     },
     "metadata": {},
     "output_type": "display_data"
    }
   ],
   "source": [
    "# Lista de los datasets grandes\n",
    "datasets = [\n",
    "    \"bank_customer_transactions\",\n",
    "    \"cleaned_dataset\",\n",
    "    \"customer_agg\",\n",
    "    \"RFM\"\n",
    "]\n",
    "\n",
    "# Recorremos cada dataset y mostramos info básica\n",
    "for name in datasets:\n",
    "    print(f\"\\n===== {name} =====\")\n",
    "    df = catalog.load(name)\n",
    "    \n",
    "    print(\"Shape:\", df.shape)\n",
    "    print(\"\\nColumnas:\")\n",
    "    print(df.dtypes)  # tipos de variables\n",
    "    \n",
    "    print(\"\\nPrimeras filas:\")\n",
    "    display(df.head(3))\n"
   ]
  },
  {
   "cell_type": "markdown",
   "metadata": {},
   "source": [
    "# Selección de Datasets para el EDA\n",
    "\n",
    "Luego de revisar los datasets disponibles en el catálogo de Kedro, analizar su tamaño (mayor a 10.000) y contenido d estos, se observó lo siguiente:\n",
    "\n",
    "- **bank_customer_transactions**  \n",
    "  - (+) Dataset más grande, con más de 1M de transacciones.  \n",
    "  - (–) Datos crudos, con formatos de fecha y hora desordenados y sin la variable `Age`.  \n",
    "  - 🔴 **Descartado** porque es redundante frente a `cleaned_dataset` y requiere más preprocesamiento.\n",
    "\n",
    "- **cleaned_dataset**  \n",
    "  - (+) Contiene la misma información que `bank_customer_transactions` pero ya depurada (fechas en formato ISO, hora legible, incluye `Age`).  \n",
    "  - (+) Combina datos transaccionales con información demográfica y financiera.  \n",
    "  - 🟢 **Seleccionado** → base principal para tareas de **clasificación (fraude)** y análisis de comportamiento transaccional.\n",
    "\n",
    "- **customer_agg**  \n",
    "  - (+) Dataset agregado a nivel cliente: número de transacciones, gasto total/promedio, recencia, frecuencia, saldo promedio.  \n",
    "  - (+) Facilita la creación de features y es ideal para modelado de **regresión** (predicción de gasto futuro).  \n",
    "  - 🟢 **Seleccionado** → resume el comportamiento histórico de los clientes.\n",
    "\n",
    "- **RFM**  \n",
    "  - (+) Incluye métricas de Recency, Frequency, Monetary y segmentación ya pre-calculada (Champions, At Risk, Critical).  \n",
    "  - (+) Permite aplicar **clustering y segmentación de clientes** sin necesidad de construir desde cero.  \n",
    "  - 🟢 **Seleccionado** → usado para **segmentación** y validación de perfiles de valor.\n",
    "\n",
    "---\n",
    "\n",
    "Por lo que para continuar con el EDA y las fases posteriores, se seleccionan los siguientes **3 datasets principales**:\n",
    "\n",
    "1. **cleaned_dataset** → Análisis transaccional a nivel detalle.  \n",
    "2. **customer_agg** → Comportamiento agregado por cliente.  \n",
    "3. **RFM** → Segmentación y perfiles de clientes.  \n",
    "\n",
    "> El dataset `bank_customer_transactions` fue descartado al ser redundante y requerir limpieza adicional.\n"
   ]
  },
  {
   "cell_type": "code",
   "execution_count": null,
   "metadata": {},
   "outputs": [],
   "source": [
    "#//////////#//////////#//////////#//////////#//////////#//////////#//////////#//////////#//////////#//////////#//////////#//////////#//////////#//////////#//////////#//////////#//////////\n",
    "#//////////#//////////#//////////#//////////#//////////#//////////#//////////#//////////#//////////#//////////#//////////#//////////#//////////#//////////#//////////#//////////#//////////\n",
    "#//////////#//////////#//////////#//////////#//////////#//////////#//////////#//////////#//////////#//////////#//////////#//////////#//////////#//////////#//////////#//////////#//////////\n",
    "#//////////#//////////#//////////#//////////#//////////#//////////#//////////#//////////#//////////#//////////#//////////#//////////#//////////#//////////#//////////#//////////#//////////\n",
    "#//////////#//////////#//////////#//////////#//////////#//////////#//////////#//////////#//////////#//////////#//////////#//////////#//////////#//////////#//////////#//////////#//////////\n",
    "#//////////#//////////#//////////#//////////#//////////#//////////#//////////#//////////#//////////#//////////#//////////#//////////#//////////#//////////#//////////#//////////#//////////\n",
    "#//////////#//////////#//////////#//////////#//////////#//////////#//////////#//////////#//////////#//////////#//////////#//////////#//////////#//////////#//////////#//////////#//////////\n",
    "#//////////#//////////#//////////#//////////#//////////#//////////#//////////#//////////#//////////#//////////#//////////#//////////#//////////#//////////#//////////#//////////#//////////\n",
    "#//////////#//////////#//////////#//////////#//////////#//////////#//////////#//////////#//////////#//////////#//////////#//////////#//////////#//////////#//////////#//////////#//////////\n",
    "#//////////#//////////#//////////#//////////#//////////#//////////#//////////#//////////#//////////#//////////#//////////#//////////#//////////#//////////#//////////#//////////#//////////"
   ]
  },
  {
   "cell_type": "code",
   "execution_count": 44,
   "metadata": {},
   "outputs": [
    {
     "data": {
      "text/html": [
       "<pre style=\"white-space:pre;overflow-x:auto;line-height:normal;font-family:Menlo,'DejaVu Sans Mono',consolas,'Courier New',monospace\"><span style=\"color: #7fbfbf; text-decoration-color: #7fbfbf\">[09/12/25 20:16:07] </span><span style=\"color: #000080; text-decoration-color: #000080\">INFO    </span> Loading data from <span style=\"color: #ff8700; text-decoration-color: #ff8700\">cleaned_dataset</span> <span style=\"font-weight: bold\">(</span>CSVDataset<span style=\"font-weight: bold\">)</span><span style=\"color: #808000; text-decoration-color: #808000\">...</span>                 <a href=\"file://C:\\Users\\AlexandreKz\\Documents\\GitHub\\Ml_Bank\\venv\\Lib\\site-packages\\kedro\\io\\data_catalog.py\" target=\"_blank\"><span style=\"color: #7f7f7f; text-decoration-color: #7f7f7f\">data_catalog.py</span></a><span style=\"color: #7f7f7f; text-decoration-color: #7f7f7f\">:</span><a href=\"file://C:\\Users\\AlexandreKz\\Documents\\GitHub\\Ml_Bank\\venv\\Lib\\site-packages\\kedro\\io\\data_catalog.py#1046\" target=\"_blank\"><span style=\"color: #7f7f7f; text-decoration-color: #7f7f7f\">1046</span></a>\n",
       "</pre>\n"
      ],
      "text/plain": [
       "\u001b[2;36m[09/12/25 20:16:07]\u001b[0m\u001b[2;36m \u001b[0m\u001b[34mINFO    \u001b[0m Loading data from \u001b[38;5;208mcleaned_dataset\u001b[0m \u001b[1m(\u001b[0mCSVDataset\u001b[1m)\u001b[0m\u001b[33m...\u001b[0m                 \u001b]8;id=14322;file://C:\\Users\\AlexandreKz\\Documents\\GitHub\\Ml_Bank\\venv\\Lib\\site-packages\\kedro\\io\\data_catalog.py\u001b\\\u001b[2mdata_catalog.py\u001b[0m\u001b]8;;\u001b\\\u001b[2m:\u001b[0m\u001b]8;id=48377;file://C:\\Users\\AlexandreKz\\Documents\\GitHub\\Ml_Bank\\venv\\Lib\\site-packages\\kedro\\io\\data_catalog.py#1046\u001b\\\u001b[2m1046\u001b[0m\u001b]8;;\u001b\\\n"
      ]
     },
     "metadata": {},
     "output_type": "display_data"
    },
    {
     "data": {
      "text/html": [
       "<pre style=\"white-space:pre;overflow-x:auto;line-height:normal;font-family:Menlo,'DejaVu Sans Mono',consolas,'Courier New',monospace\"><span style=\"color: #7fbfbf; text-decoration-color: #7fbfbf\">[09/12/25 20:16:09] </span><span style=\"color: #000080; text-decoration-color: #000080\">INFO    </span> Loading data from <span style=\"color: #ff8700; text-decoration-color: #ff8700\">customer_agg</span> <span style=\"font-weight: bold\">(</span>CSVDataset<span style=\"font-weight: bold\">)</span><span style=\"color: #808000; text-decoration-color: #808000\">...</span>                    <a href=\"file://C:\\Users\\AlexandreKz\\Documents\\GitHub\\Ml_Bank\\venv\\Lib\\site-packages\\kedro\\io\\data_catalog.py\" target=\"_blank\"><span style=\"color: #7f7f7f; text-decoration-color: #7f7f7f\">data_catalog.py</span></a><span style=\"color: #7f7f7f; text-decoration-color: #7f7f7f\">:</span><a href=\"file://C:\\Users\\AlexandreKz\\Documents\\GitHub\\Ml_Bank\\venv\\Lib\\site-packages\\kedro\\io\\data_catalog.py#1046\" target=\"_blank\"><span style=\"color: #7f7f7f; text-decoration-color: #7f7f7f\">1046</span></a>\n",
       "</pre>\n"
      ],
      "text/plain": [
       "\u001b[2;36m[09/12/25 20:16:09]\u001b[0m\u001b[2;36m \u001b[0m\u001b[34mINFO    \u001b[0m Loading data from \u001b[38;5;208mcustomer_agg\u001b[0m \u001b[1m(\u001b[0mCSVDataset\u001b[1m)\u001b[0m\u001b[33m...\u001b[0m                    \u001b]8;id=541756;file://C:\\Users\\AlexandreKz\\Documents\\GitHub\\Ml_Bank\\venv\\Lib\\site-packages\\kedro\\io\\data_catalog.py\u001b\\\u001b[2mdata_catalog.py\u001b[0m\u001b]8;;\u001b\\\u001b[2m:\u001b[0m\u001b]8;id=311331;file://C:\\Users\\AlexandreKz\\Documents\\GitHub\\Ml_Bank\\venv\\Lib\\site-packages\\kedro\\io\\data_catalog.py#1046\u001b\\\u001b[2m1046\u001b[0m\u001b]8;;\u001b\\\n"
      ]
     },
     "metadata": {},
     "output_type": "display_data"
    },
    {
     "data": {
      "text/html": [
       "<pre style=\"white-space:pre;overflow-x:auto;line-height:normal;font-family:Menlo,'DejaVu Sans Mono',consolas,'Courier New',monospace\"><span style=\"color: #7fbfbf; text-decoration-color: #7fbfbf\">[09/12/25 20:16:10] </span><span style=\"color: #000080; text-decoration-color: #000080\">INFO    </span> Loading data from <span style=\"color: #ff8700; text-decoration-color: #ff8700\">RFM</span> <span style=\"font-weight: bold\">(</span>CSVDataset<span style=\"font-weight: bold\">)</span><span style=\"color: #808000; text-decoration-color: #808000\">...</span>                             <a href=\"file://C:\\Users\\AlexandreKz\\Documents\\GitHub\\Ml_Bank\\venv\\Lib\\site-packages\\kedro\\io\\data_catalog.py\" target=\"_blank\"><span style=\"color: #7f7f7f; text-decoration-color: #7f7f7f\">data_catalog.py</span></a><span style=\"color: #7f7f7f; text-decoration-color: #7f7f7f\">:</span><a href=\"file://C:\\Users\\AlexandreKz\\Documents\\GitHub\\Ml_Bank\\venv\\Lib\\site-packages\\kedro\\io\\data_catalog.py#1046\" target=\"_blank\"><span style=\"color: #7f7f7f; text-decoration-color: #7f7f7f\">1046</span></a>\n",
       "</pre>\n"
      ],
      "text/plain": [
       "\u001b[2;36m[09/12/25 20:16:10]\u001b[0m\u001b[2;36m \u001b[0m\u001b[34mINFO    \u001b[0m Loading data from \u001b[38;5;208mRFM\u001b[0m \u001b[1m(\u001b[0mCSVDataset\u001b[1m)\u001b[0m\u001b[33m...\u001b[0m                             \u001b]8;id=153068;file://C:\\Users\\AlexandreKz\\Documents\\GitHub\\Ml_Bank\\venv\\Lib\\site-packages\\kedro\\io\\data_catalog.py\u001b\\\u001b[2mdata_catalog.py\u001b[0m\u001b]8;;\u001b\\\u001b[2m:\u001b[0m\u001b]8;id=637076;file://C:\\Users\\AlexandreKz\\Documents\\GitHub\\Ml_Bank\\venv\\Lib\\site-packages\\kedro\\io\\data_catalog.py#1046\u001b\\\u001b[2m1046\u001b[0m\u001b]8;;\u001b\\\n"
      ]
     },
     "metadata": {},
     "output_type": "display_data"
    },
    {
     "name": "stdout",
     "output_type": "stream",
     "text": [
      "cleaned_dataset: (984247, 10)\n",
      "customer_agg: (838370, 15)\n",
      "RFM: (838370, 11)\n"
     ]
    }
   ],
   "source": [
    "#  Cargar datasets del catálogo de Kedro\n",
    "df_cleaned_dataset = catalog.load(\"cleaned_dataset\")\n",
    "df_customer_agg = catalog.load(\"customer_agg\")\n",
    "df_RFM = catalog.load(\"RFM\")\n",
    "# Ver número de filas y columnas de cada dataset\n",
    "print(\"cleaned_dataset:\", df_cleaned_dataset.shape)\n",
    "print(\"customer_agg:\", df_customer_agg.shape)\n",
    "print(\"RFM:\", df_RFM.shape)\n",
    "\n",
    "#PODEMOS VISUALIZAR FILAS Y COLUMNAS PARA LOS 3 DATASETS QUE TENEMOS :D"
   ]
  },
  {
   "cell_type": "code",
   "execution_count": 45,
   "metadata": {},
   "outputs": [
    {
     "name": "stdout",
     "output_type": "stream",
     "text": [
      "\n",
      "--- cleaned_dataset ---\n",
      "<class 'pandas.core.frame.DataFrame'>\n",
      "RangeIndex: 984247 entries, 0 to 984246\n",
      "Data columns (total 10 columns):\n",
      " #   Column                   Non-Null Count   Dtype  \n",
      "---  ------                   --------------   -----  \n",
      " 0   TransactionID            984247 non-null  object \n",
      " 1   CustomerID               984247 non-null  object \n",
      " 2   CustomerDOB              984247 non-null  object \n",
      " 3   CustGender               984247 non-null  object \n",
      " 4   CustLocation             984240 non-null  object \n",
      " 5   CustAccountBalance       984247 non-null  float64\n",
      " 6   TransactionDate          984247 non-null  object \n",
      " 7   TransactionTime          984247 non-null  object \n",
      " 8   TransactionAmount (INR)  984247 non-null  float64\n",
      " 9   Age                      984247 non-null  int64  \n",
      "dtypes: float64(2), int64(1), object(7)\n",
      "memory usage: 75.1+ MB\n",
      "\n",
      "--- customer_agg ---\n",
      "<class 'pandas.core.frame.DataFrame'>\n",
      "RangeIndex: 838370 entries, 0 to 838369\n",
      "Data columns (total 15 columns):\n",
      " #   Column                 Non-Null Count   Dtype  \n",
      "---  ------                 --------------   -----  \n",
      " 0   Unnamed: 0             838370 non-null  int64  \n",
      " 1   CustomerID             838370 non-null  object \n",
      " 2   txn_count              838370 non-null  int64  \n",
      " 3   total_spent            838370 non-null  float64\n",
      " 4   avg_spent              838370 non-null  float64\n",
      " 5   max_spent              838370 non-null  float64\n",
      " 6   avg_balance            838370 non-null  float64\n",
      " 7   first_txn_date         838370 non-null  object \n",
      " 8   last_txn_date          838370 non-null  object \n",
      " 9   location               838366 non-null  object \n",
      " 10  gender                 838370 non-null  object \n",
      " 11  recency_days           838370 non-null  int64  \n",
      " 12  tenure_days            838370 non-null  int64  \n",
      " 13  txn_per_day            838370 non-null  float64\n",
      " 14  avg_spent_pct_balance  838367 non-null  float64\n",
      "dtypes: float64(6), int64(4), object(5)\n",
      "memory usage: 95.9+ MB\n",
      "\n",
      "--- RFM ---\n",
      "<class 'pandas.core.frame.DataFrame'>\n",
      "RangeIndex: 838370 entries, 0 to 838369\n",
      "Data columns (total 11 columns):\n",
      " #   Column         Non-Null Count   Dtype  \n",
      "---  ------         --------------   -----  \n",
      " 0   Unnamed: 0     838370 non-null  int64  \n",
      " 1   CustomerID     838370 non-null  object \n",
      " 2   Recency        838370 non-null  int64  \n",
      " 3   Frequency      838370 non-null  int64  \n",
      " 4   Monetary       838370 non-null  float64\n",
      " 5   R              838370 non-null  int64  \n",
      " 6   F              838370 non-null  int64  \n",
      " 7   M              838370 non-null  int64  \n",
      " 8   RFM Score      838370 non-null  int64  \n",
      " 9   Segment        838370 non-null  object \n",
      " 10  Segment_Final  838370 non-null  object \n",
      "dtypes: float64(1), int64(7), object(3)\n",
      "memory usage: 70.4+ MB\n"
     ]
    }
   ],
   "source": [
    "print(\"\\n--- cleaned_dataset ---\")\n",
    "df_cleaned_dataset.info()\n",
    "\n",
    "print(\"\\n--- customer_agg ---\")\n",
    "df_customer_agg.info()\n",
    "\n",
    "print(\"\\n--- RFM ---\")\n",
    "df_RFM.info()"
   ]
  },
  {
   "cell_type": "code",
   "execution_count": 14,
   "metadata": {},
   "outputs": [],
   "source": [
    "#Anotaciones\n",
    "\n",
    "#cleaned_dataset\n",
    "#TransactionTime cambió a object, antes era int64 → inconsistencia entre datasets (habría que revisar cuál es el formato correcto).\n",
    "#CustomerDOB sigue en formato object, no datetime.\n",
    "#CustLocation: 7 valores nulos.\n",
    "#Agregaron Age (int64) calculada → bien, pero revisa que sea consistente con DOB.\n",
    "\n",
    "#customer_agg\n",
    "#Columna Unnamed: 0 → parece un índice exportado de otro proceso. Podría eliminarse.\n",
    "#Fechas (first_txn_date, last_txn_date) → están en formato object, convendría pasarlas a datetime.\n",
    "#location: 4 valores nulos.\n",
    "#avg_spent_pct_balance: tiene 3 valores nulos.\n",
    "#Variables como avg_spent, avg_balance pueden contener valores atípicos (muy grandes o muy pequeños), hay que revisarlos.\n",
    "\n",
    "#RFM\n",
    "#También con Unnamed: 0 → índice exportado innecesario.\n",
    "#No hay nulos, lo cual es bueno.\n",
    "#Alta redundancia: columnas R, F, M y también RFM Score → hay que verificar si se usan todas o se puede reducir.\n",
    "#Segmentación (Segment, Segment_Final) → revisar si realmente son distintas o si hay duplicación de etiquetas.\n",
    "\n",
    "#LLAVES PRIMARIAS\n",
    "\n",
    "#cleaned_dataset \n",
    "#TransactionID  (cada transacción debería ser única).\n",
    "#customer_agg \n",
    "#CustomerID \n",
    "#RFM\n",
    "#CustomerID"
   ]
  },
  {
   "cell_type": "code",
   "execution_count": 16,
   "metadata": {},
   "outputs": [
    {
     "name": "stdout",
     "output_type": "stream",
     "text": [
      "TransactionID únicos: True\n",
      "CustomerID únicos en customer_agg: True\n",
      "CustomerID únicos en RFM: True\n"
     ]
    }
   ],
   "source": [
    "#Unicidad de PK\n",
    "#SEGUN EL RESULTADO TODAS LAS PK ESTAN BIEN Y NO TIENEN DUPLICADOS\n",
    "# cleaned_dataset -> PK debería ser TransactionID\n",
    "print(\"TransactionID únicos:\", df_cleaned_dataset[\"TransactionID\"].is_unique)\n",
    "# customer_agg -> PK debería ser CustomerID\n",
    "print(\"CustomerID únicos en customer_agg:\", df_customer_agg[\"CustomerID\"].is_unique)\n",
    "# RFM -> PK debería ser CustomerID\n",
    "print(\"CustomerID únicos en RFM:\", df_RFM[\"CustomerID\"].is_unique)"
   ]
  },
  {
   "cell_type": "code",
   "execution_count": 18,
   "metadata": {},
   "outputs": [
    {
     "name": "stdout",
     "output_type": "stream",
     "text": [
      "Clientes transacciones ⊆ customer_agg: True\n",
      "Clientes transacciones ⊆ RFM: True\n",
      "Clientes customer_agg ⊆ RFM: True\n"
     ]
    }
   ],
   "source": [
    "# ¿Todos los clientes de transacciones están en customer_agg?\n",
    "#SEGUN RESULTADOS LOS DATOS SI SE ENCUENTRAN EN TODAS LAS TABLAS\n",
    "print(\"Clientes transacciones ⊆ customer_agg:\",\n",
    "      df_cleaned_dataset[\"CustomerID\"].isin(df_customer_agg[\"CustomerID\"]).all())\n",
    "\n",
    "# ¿Todos los clientes de transacciones están en RFM?\n",
    "print(\"Clientes transacciones ⊆ RFM:\",\n",
    "      df_cleaned_dataset[\"CustomerID\"].isin(df_RFM[\"CustomerID\"]).all())\n",
    "\n",
    "# ¿Todos los clientes de customer_agg están en RFM?\n",
    "print(\"Clientes customer_agg ⊆ RFM:\",\n",
    "      df_customer_agg[\"CustomerID\"].isin(df_RFM[\"CustomerID\"]).all())"
   ]
  },
  {
   "cell_type": "code",
   "execution_count": 19,
   "metadata": {},
   "outputs": [
    {
     "name": "stdout",
     "output_type": "stream",
     "text": [
      "Clientes sin resumen en customer_agg: 0\n",
      "Clientes sin segmento en RFM: 0\n"
     ]
    }
   ],
   "source": [
    "# Clientes que tienen transacciones pero no aparecen en customer_agg\n",
    "# TODOS LOS CLIENTES APARECEN EN LAS OTRAS TABLAS :D\n",
    "missing_in_agg = df_cleaned_dataset.loc[\n",
    "    ~df_cleaned_dataset[\"CustomerID\"].isin(df_customer_agg[\"CustomerID\"]), \"CustomerID\"\n",
    "].unique()\n",
    "\n",
    "# Clientes que están en customer_agg pero no en RFM\n",
    "missing_in_rfm = df_customer_agg.loc[\n",
    "    ~df_customer_agg[\"CustomerID\"].isin(df_\n",
    "        # TODOS LOS CLIENTES APARECEN EN LAS OTRAS TABLAS :DRFM[\"CustomerID\"]), \"CustomerID\"\n",
    "].unique()\n",
    "\n",
    "print(\"Clientes sin resumen en customer_agg:\", len(missing_in_agg))\n",
    "print(\"Clientes sin segmento en RFM:\", len(missing_in_rfm))"
   ]
  },
  {
   "cell_type": "code",
   "execution_count": null,
   "metadata": {},
   "outputs": [],
   "source": [
    "#////////////// #////////////// #////////////// #////////////// #////////////// #////////////// #////////////// \n",
    "#////////////// #////////////// #////////////// #////////////// #////////////// #////////////// #////////////// \n",
    "#////////////// A PARTIR DE AQUI QUIERO VERIFICAR LA CALIDAD DE LOS DATOS NULOS, OUTLIERS, DUPLICADOS, ETC.\n",
    "#////////////// #////////////// #////////////// #////////////// #////////////// #////////////// #////////////// \n",
    "#////////////// #////////////// #////////////// #////////////// #////////////// #////////////// #////////////// "
   ]
  },
  {
   "cell_type": "code",
   "execution_count": 20,
   "metadata": {},
   "outputs": [
    {
     "name": "stdout",
     "output_type": "stream",
     "text": [
      "\n",
      "--- cleaned_dataset ---\n",
      "              Valores Faltantes  Porcentaje (%)\n",
      "CustLocation                  7             0.0\n",
      "\n",
      "--- customer_agg ---\n",
      "                       Valores Faltantes  Porcentaje (%)\n",
      "location                               4             0.0\n",
      "avg_spent_pct_balance                  3             0.0\n",
      "\n",
      "--- RFM ---\n",
      "Empty DataFrame\n",
      "Columns: [Valores Faltantes, Porcentaje (%)]\n",
      "Index: []\n"
     ]
    }
   ],
   "source": [
    "#ESTA FUNCION SIRVE PARA VER LOS NULOS CON EL NOMBRE DEL DATASET XD\n",
    "def missing_values_report(df, name=\"Dataset\"):\n",
    "    print(f\"\\n--- {name} ---\")\n",
    "    missing = df.isnull().sum()\n",
    "    percent = (df.isnull().sum() / len(df)) * 100\n",
    "    missing_table = pd.DataFrame({\n",
    "        \"Valores Faltantes\": missing,\n",
    "        \"Porcentaje (%)\": percent.round(2)\n",
    "    })\n",
    "    print(missing_table[missing_table[\"Valores Faltantes\"] > 0])\n",
    "\n",
    "# Aplicar a cada dataset\n",
    "missing_values_report(df_cleaned_dataset, \"cleaned_dataset\")\n",
    "missing_values_report(df_customer_agg, \"customer_agg\")\n",
    "missing_values_report(df_RFM, \"RFM\")\n",
    "\n",
    "\n",
    "#POCOS VALORES NULOS EN LOS DATASETS\n",
    "#RFM TIENE 0 NULOS POR LO QUE ESTA IMPECABLE"
   ]
  },
  {
   "cell_type": "code",
   "execution_count": 24,
   "metadata": {},
   "outputs": [
    {
     "name": "stdout",
     "output_type": "stream",
     "text": [
      "\n",
      "--- cleaned_dataset ---\n",
      "Duplicados: 0 (0.0000%)\n",
      "\n",
      "--- customer_agg ---\n",
      "Duplicados: 0 (0.0000%)\n",
      "\n",
      "--- RFM ---\n",
      "Duplicados: 0 (0.0000%)\n"
     ]
    }
   ],
   "source": [
    "#ESTA FUNCION ES PARA VER LOS DUPLICADOS\n",
    "#SEGUN LOS RESULTADOS NO HAY DATOS DUPLICADOS\n",
    "def duplicate_report(df, name=\"Dataset\"):\n",
    "    total_dupes = df.duplicated().sum()\n",
    "    percent = (total_dupes / len(df)) * 100\n",
    "    print(f\"\\n--- {name} ---\")\n",
    "    print(f\"Duplicados: {total_dupes} ({percent:.4f}%)\")\n",
    "\n",
    "# Aplicar a cada dataset\n",
    "duplicate_report(df_cleaned_dataset, \"cleaned_dataset\")\n",
    "duplicate_report(df_customer_agg, \"customer_agg\")\n",
    "duplicate_report(df_RFM, \"RFM\")"
   ]
  },
  {
   "cell_type": "code",
   "execution_count": 50,
   "metadata": {},
   "outputs": [],
   "source": [
    "#esto es para arreglar un problema con el nombre de una variable :D\n",
    "cleaned_dataset = cleaned_dataset.rename(\n",
    "    columns={\"TransactionAmount (INR)\": \"TransactionAmount_INR\"}\n",
    ")"
   ]
  },
  {
   "cell_type": "code",
   "execution_count": 47,
   "metadata": {},
   "outputs": [
    {
     "name": "stdout",
     "output_type": "stream",
     "text": [
      "\n",
      "--- cleaned_dataset ---\n",
      "CustAccountBalance: 130148 outliers (13.2231%)\n",
      "TransactionAmount_INR: 105429 outliers (10.7116%)\n",
      "Age: 53291 outliers (5.4144%)\n",
      "\n",
      "--- customer_agg ---\n",
      "txn_count: 128568 outliers (15.3355%)\n",
      "total_spent: 85724 outliers (10.2251%)\n",
      "avg_spent: 86923 outliers (10.3681%)\n",
      "max_spent: 88856 outliers (10.5987%)\n",
      "avg_balance: 109507 outliers (13.0619%)\n",
      "txn_per_day: 124203 outliers (14.8148%)\n",
      "avg_spent_pct_balance: 133993 outliers (15.9826%)\n",
      "\n",
      "--- RFM ---\n",
      "Recency: 3402 outliers (0.4058%)\n",
      "Frequency: 128568 outliers (15.3355%)\n",
      "Monetary: 85724 outliers (10.2251%)\n",
      "RFM Score: 0 outliers (0.0000%)\n"
     ]
    }
   ],
   "source": [
    "#  Función para detectar outliers con IQR\n",
    "def detect_outliers_iqr(df, cols, name=\"Dataset\"):\n",
    "    print(f\"\\n--- {name} ---\")\n",
    "    for col in cols:\n",
    "        if col not in df.columns:\n",
    "            print(f\"{col}: ⚠️ columna no encontrada en {name}\")\n",
    "            continue\n",
    "        Q1 = df[col].quantile(0.25)\n",
    "        Q3 = df[col].quantile(0.75)\n",
    "        IQR = Q3 - Q1\n",
    "        lower = Q1 - 1.5 * IQR\n",
    "        upper = Q3 + 1.5 * IQR\n",
    "        outliers = ((df[col] < lower) | (df[col] > upper)).sum()\n",
    "        percent = (outliers / len(df)) * 100\n",
    "        print(f\"{col}: {outliers} outliers ({percent:.4f}%)\")\n",
    "\n",
    "#Aseguramos que no fallen los nombres de columnas\n",
    "# Renombrar para evitar problemas con espacios/paréntesis\n",
    "cleaned_dataset = cleaned_dataset.rename(columns={\"TransactionAmount (INR)\": \"TransactionAmount_INR\"})\n",
    "\n",
    "#  Llamar función en cada dataset\n",
    "detect_outliers_iqr(\n",
    "    cleaned_dataset,\n",
    "    [\"CustAccountBalance\", \"TransactionAmount_INR\", \"Age\"],\n",
    "    \"cleaned_dataset\"\n",
    ")\n",
    "\n",
    "detect_outliers_iqr(\n",
    "    df_customer_agg,\n",
    "    [\"txn_count\",\"total_spent\",\"avg_spent\",\"max_spent\",\"avg_balance\",\"txn_per_day\",\"avg_spent_pct_balance\"],\n",
    "    \"customer_agg\"\n",
    ")\n",
    "\n",
    "detect_outliers_iqr(\n",
    "    df_RFM,\n",
    "    [\"Recency\",\"Frequency\",\"Monetary\",\"RFM Score\"],\n",
    "    \"RFM\"\n",
    ")"
   ]
  },
  {
   "cell_type": "code",
   "execution_count": 53,
   "metadata": {},
   "outputs": [],
   "source": [
    "#RESULTADOS\n",
    "\n",
    "#Cleaned_dataset\n",
    "\n",
    "#CustAccountBalance Y TransactionAmount_INR Con valores considerables de Outliers, Algunos valores muy altos y otros muy bajos. \n",
    "#Con esto podemos tener varias opciones para tratarlos\n",
    "\n",
    "#Account balance\n",
    "#Si buscas fraude/riesgo → mantenerlos, pueden ser señales relevantes.\n",
    "#Si buscas modelos generales de clientes → aplicar transformación logarítmica (np.log1p) o winsorización (recorte en P1 y P99).\n",
    "#TrAmount\n",
    "#Opción 1: aplicar logaritmo para normalizar distribuciones sesgadas.\n",
    "#Opción 2: recortar a percentiles (ej. P1–P99) para reducir impacto de transacciones extremas.\n",
    "#Opción 3: mantenerlos si el análisis es detectar clientes “VIP”.\n",
    "\n",
    "#Age tiene valer atipicos 0< >100 \n",
    "#Se puede agrupar o trabajar con percentiles\n",
    "#Podría existir algún error de datos (revisar)\n",
    "\n",
    "#///////////////////////////////////////////////\n",
    "#Customer_agg\n",
    "\n",
    "#txn_count, txn_per_day (~15% outliers)\n",
    "#Clientes hiperactivos.\n",
    "\n",
    "#Mantener si el objetivo es analizar clientes más valiosos.\n",
    "#Para ML: usar log-transformation o recorte en percentiles extremos.\n",
    "\n",
    "#total_spent, avg_spent, max_spent, avg_balance (~10–13% outliers)\n",
    "#Clientes con gastos o balances atípicos.\n",
    "\n",
    "#Usar logaritmo para suavizar la escala.\n",
    "#Alternativa: winsorizar para limitar extremos.\n",
    "\n",
    "#avg_spent_pct_balance (~16% outliers)\n",
    "#Casos de clientes que gastan mucho más que su balance promedio.\n",
    "\n",
    "#Revisar si son errores (ej. balance cero → división infinita).\n",
    "#Si es real, pueden ser muy interesantes → mantener para análisis de riesgo.\n",
    "#///////////////////////////////////////////////\n",
    "#RFM\n",
    "#Recency (0.4% outliers)\n",
    "#Clientes con inactividad muy larga.\n",
    "\n",
    "#Mantener (puede marcar clientes perdidos).\n",
    "#Opcional: truncar valores > P99 si distorsionan gráficas.\n",
    "\n",
    "#Frequency (15.3% outliers)\n",
    "#Clientes con compras excesivas.\n",
    "\n",
    "#Log-transformación o winsorización para modelado.\n",
    "\n",
    "#Mantener si el foco es identificar heavy users. Monetary (10.2% outliers)\n",
    "#Clientes con gasto desproporcionado.\n",
    "#Log-transformación es lo más recomendable.\n",
    "\n",
    "M#antener si quieres analizar “clientes estrella”.\n",
    "\n",
    "#RFM Score (0% outliers)\n",
    "#No requiere acción.\n",
    "\n"
   ]
  },
  {
   "cell_type": "code",
   "execution_count": null,
   "metadata": {},
   "outputs": [],
   "source": [
    "#"
   ]
  }
 ],
 "metadata": {
  "kernelspec": {
   "display_name": "Python 3 (ipykernel)",
   "language": "python",
   "name": "python3"
  },
  "language_info": {
   "codemirror_mode": {
    "name": "ipython",
    "version": 3
   },
   "file_extension": ".py",
   "mimetype": "text/x-python",
   "name": "python",
   "nbconvert_exporter": "python",
   "pygments_lexer": "ipython3",
   "version": "3.13.7"
  }
 },
 "nbformat": 4,
 "nbformat_minor": 4
}
