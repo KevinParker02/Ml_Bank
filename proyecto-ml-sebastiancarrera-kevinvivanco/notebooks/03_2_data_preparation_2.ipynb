{
 "cells": [
  {
   "cell_type": "markdown",
   "metadata": {},
   "source": [
    "# Fase 3 (Parte 2) – Correciones y Limpieza de los datos\n",
    "\n",
    "**Importante** si bien se presenta código en este notebook es más bien para documentar algunos procesos que, como equipo, realizamos. Por lo que por medio de pipelines, ejecutando **Kedro Run**, se ejecuta toda la peparación y limpieza que se ve aquí junto a la unión de los Dataset's para posteriormente verlos en el DAG ejecutando, por consola de visual studio code, **Kedro viz**."
   ]
  },
  {
   "cell_type": "code",
   "execution_count": 1,
   "metadata": {},
   "outputs": [
    {
     "name": "stdout",
     "output_type": "stream",
     "text": [
      "The kedro.ipython extension is already loaded. To reload it, use:\n",
      "  %reload_ext kedro.ipython\n"
     ]
    }
   ],
   "source": [
    "# Carga de contexto y librerias para el notebook :D\n",
    "%load_ext kedro.ipython\n",
    "import pandas as pd\n",
    "import numpy as np\n",
    "import seaborn as sns\n",
    "import matplotlib.pyplot as plt"
   ]
  },
  {
   "cell_type": "markdown",
   "metadata": {},
   "source": [
    "////////////////AJUSTES PARA MODELOS DE CLASIFICACIÓN ///////////////////////////////////////////////////"
   ]
  },
  {
   "cell_type": "markdown",
   "metadata": {},
   "source": [
    "Verificación inicial de las variables en 'PRI_FULL'"
   ]
  },
  {
   "cell_type": "code",
   "execution_count": 2,
   "metadata": {},
   "outputs": [
    {
     "data": {
      "text/html": [
       "<pre style=\"white-space:pre;overflow-x:auto;line-height:normal;font-family:Menlo,'DejaVu Sans Mono',consolas,'Courier New',monospace\"><span style=\"color: #7fbfbf; text-decoration-color: #7fbfbf\">[10/22/25 16:23:24] </span><span style=\"color: #000080; text-decoration-color: #000080\">INFO    </span> Loading data from <span style=\"color: #ff8700; text-decoration-color: #ff8700\">PRI_full</span> <span style=\"font-weight: bold\">(</span>ParquetDataset<span style=\"font-weight: bold\">)</span><span style=\"color: #808000; text-decoration-color: #808000\">...</span>                    <a href=\"file://C:\\Users\\AlexandreKz\\Documents\\GitHub\\Ml_Bank\\venv\\Lib\\site-packages\\kedro\\io\\data_catalog.py\" target=\"_blank\"><span style=\"color: #7f7f7f; text-decoration-color: #7f7f7f\">data_catalog.py</span></a><span style=\"color: #7f7f7f; text-decoration-color: #7f7f7f\">:</span><a href=\"file://C:\\Users\\AlexandreKz\\Documents\\GitHub\\Ml_Bank\\venv\\Lib\\site-packages\\kedro\\io\\data_catalog.py#1046\" target=\"_blank\"><span style=\"color: #7f7f7f; text-decoration-color: #7f7f7f\">1046</span></a>\n",
       "</pre>\n"
      ],
      "text/plain": [
       "\u001b[2;36m[10/22/25 16:23:24]\u001b[0m\u001b[2;36m \u001b[0m\u001b[34mINFO    \u001b[0m Loading data from \u001b[38;5;208mPRI_full\u001b[0m \u001b[1m(\u001b[0mParquetDataset\u001b[1m)\u001b[0m\u001b[33m...\u001b[0m                    \u001b]8;id=676340;file://C:\\Users\\AlexandreKz\\Documents\\GitHub\\Ml_Bank\\venv\\Lib\\site-packages\\kedro\\io\\data_catalog.py\u001b\\\u001b[2mdata_catalog.py\u001b[0m\u001b]8;;\u001b\\\u001b[2m:\u001b[0m\u001b]8;id=297037;file://C:\\Users\\AlexandreKz\\Documents\\GitHub\\Ml_Bank\\venv\\Lib\\site-packages\\kedro\\io\\data_catalog.py#1046\u001b\\\u001b[2m1046\u001b[0m\u001b]8;;\u001b\\\n"
      ]
     },
     "metadata": {},
     "output_type": "display_data"
    },
    {
     "data": {
      "text/html": [
       "<pre style=\"white-space:pre;overflow-x:auto;line-height:normal;font-family:Menlo,'DejaVu Sans Mono',consolas,'Courier New',monospace\"></pre>\n"
      ],
      "text/plain": []
     },
     "metadata": {},
     "output_type": "display_data"
    },
    {
     "data": {
      "text/plain": [
       "\n",
       "\u001b[1m[\u001b[0m\n",
       "    \u001b[32m'TransactionID'\u001b[0m,\n",
       "    \u001b[32m'CustomerID'\u001b[0m,\n",
       "    \u001b[32m'CustLocation'\u001b[0m,\n",
       "    \u001b[32m'TransactionDate'\u001b[0m,\n",
       "    \u001b[32m'TransactionTime'\u001b[0m,\n",
       "    \u001b[32m'TransactionAmount \u001b[0m\u001b[32m(\u001b[0m\u001b[32mINR\u001b[0m\u001b[32m)\u001b[0m\u001b[32m'\u001b[0m,\n",
       "    \u001b[32m'txn_count'\u001b[0m,\n",
       "    \u001b[32m'total_spent'\u001b[0m,\n",
       "    \u001b[32m'avg_spent'\u001b[0m,\n",
       "    \u001b[32m'max_spent'\u001b[0m,\n",
       "    \u001b[32m'avg_balance'\u001b[0m,\n",
       "    \u001b[32m'first_txn_date'\u001b[0m,\n",
       "    \u001b[32m'last_txn_date'\u001b[0m,\n",
       "    \u001b[32m'recency_days'\u001b[0m,\n",
       "    \u001b[32m'tenure_days'\u001b[0m,\n",
       "    \u001b[32m'txn_per_day'\u001b[0m,\n",
       "    \u001b[32m'Recency'\u001b[0m,\n",
       "    \u001b[32m'Frequency'\u001b[0m,\n",
       "    \u001b[32m'Monetary'\u001b[0m,\n",
       "    \u001b[32m'RFM Score'\u001b[0m,\n",
       "    \u001b[32m'Segment_Final'\u001b[0m\n",
       "\u001b[1m]\u001b[0m"
      ]
     },
     "execution_count": 2,
     "metadata": {},
     "output_type": "execute_result"
    }
   ],
   "source": [
    "df = catalog.load(\"PRI_full\")   # lee el dataset del catálogo\n",
    "list(df.columns)  "
   ]
  },
  {
   "cell_type": "raw",
   "metadata": {},
   "source": [
    "El siguiente bloque busca revisar si los fraudes efectivamente existen en 'PRI_FULL' "
   ]
  },
  {
   "cell_type": "code",
   "execution_count": 3,
   "metadata": {},
   "outputs": [
    {
     "data": {
      "text/html": [
       "<pre style=\"white-space:pre;overflow-x:auto;line-height:normal;font-family:Menlo,'DejaVu Sans Mono',consolas,'Courier New',monospace\"><span style=\"color: #7fbfbf; text-decoration-color: #7fbfbf\">[10/22/25 16:23:31] </span><span style=\"color: #000080; text-decoration-color: #000080\">INFO    </span> Loading data from <span style=\"color: #ff8700; text-decoration-color: #ff8700\">fraud_dataset</span> <span style=\"font-weight: bold\">(</span>CSVDataset<span style=\"font-weight: bold\">)</span><span style=\"color: #808000; text-decoration-color: #808000\">...</span>                   <a href=\"file://C:\\Users\\AlexandreKz\\Documents\\GitHub\\Ml_Bank\\venv\\Lib\\site-packages\\kedro\\io\\data_catalog.py\" target=\"_blank\"><span style=\"color: #7f7f7f; text-decoration-color: #7f7f7f\">data_catalog.py</span></a><span style=\"color: #7f7f7f; text-decoration-color: #7f7f7f\">:</span><a href=\"file://C:\\Users\\AlexandreKz\\Documents\\GitHub\\Ml_Bank\\venv\\Lib\\site-packages\\kedro\\io\\data_catalog.py#1046\" target=\"_blank\"><span style=\"color: #7f7f7f; text-decoration-color: #7f7f7f\">1046</span></a>\n",
       "</pre>\n"
      ],
      "text/plain": [
       "\u001b[2;36m[10/22/25 16:23:31]\u001b[0m\u001b[2;36m \u001b[0m\u001b[34mINFO    \u001b[0m Loading data from \u001b[38;5;208mfraud_dataset\u001b[0m \u001b[1m(\u001b[0mCSVDataset\u001b[1m)\u001b[0m\u001b[33m...\u001b[0m                   \u001b]8;id=94790;file://C:\\Users\\AlexandreKz\\Documents\\GitHub\\Ml_Bank\\venv\\Lib\\site-packages\\kedro\\io\\data_catalog.py\u001b\\\u001b[2mdata_catalog.py\u001b[0m\u001b]8;;\u001b\\\u001b[2m:\u001b[0m\u001b]8;id=977890;file://C:\\Users\\AlexandreKz\\Documents\\GitHub\\Ml_Bank\\venv\\Lib\\site-packages\\kedro\\io\\data_catalog.py#1046\u001b\\\u001b[2m1046\u001b[0m\u001b]8;;\u001b\\\n"
      ]
     },
     "metadata": {},
     "output_type": "display_data"
    },
    {
     "data": {
      "text/html": [
       "<pre style=\"white-space:pre;overflow-x:auto;line-height:normal;font-family:Menlo,'DejaVu Sans Mono',consolas,'Courier New',monospace\"><span style=\"color: #7fbfbf; text-decoration-color: #7fbfbf\">                    </span><span style=\"color: #000080; text-decoration-color: #000080\">INFO    </span> Loading data from <span style=\"color: #ff8700; text-decoration-color: #ff8700\">PRI_full</span> <span style=\"font-weight: bold\">(</span>ParquetDataset<span style=\"font-weight: bold\">)</span><span style=\"color: #808000; text-decoration-color: #808000\">...</span>                    <a href=\"file://C:\\Users\\AlexandreKz\\Documents\\GitHub\\Ml_Bank\\venv\\Lib\\site-packages\\kedro\\io\\data_catalog.py\" target=\"_blank\"><span style=\"color: #7f7f7f; text-decoration-color: #7f7f7f\">data_catalog.py</span></a><span style=\"color: #7f7f7f; text-decoration-color: #7f7f7f\">:</span><a href=\"file://C:\\Users\\AlexandreKz\\Documents\\GitHub\\Ml_Bank\\venv\\Lib\\site-packages\\kedro\\io\\data_catalog.py#1046\" target=\"_blank\"><span style=\"color: #7f7f7f; text-decoration-color: #7f7f7f\">1046</span></a>\n",
       "</pre>\n"
      ],
      "text/plain": [
       "\u001b[2;36m                   \u001b[0m\u001b[2;36m \u001b[0m\u001b[34mINFO    \u001b[0m Loading data from \u001b[38;5;208mPRI_full\u001b[0m \u001b[1m(\u001b[0mParquetDataset\u001b[1m)\u001b[0m\u001b[33m...\u001b[0m                    \u001b]8;id=59174;file://C:\\Users\\AlexandreKz\\Documents\\GitHub\\Ml_Bank\\venv\\Lib\\site-packages\\kedro\\io\\data_catalog.py\u001b\\\u001b[2mdata_catalog.py\u001b[0m\u001b]8;;\u001b\\\u001b[2m:\u001b[0m\u001b]8;id=157778;file://C:\\Users\\AlexandreKz\\Documents\\GitHub\\Ml_Bank\\venv\\Lib\\site-packages\\kedro\\io\\data_catalog.py#1046\u001b\\\u001b[2m1046\u001b[0m\u001b]8;;\u001b\\\n"
      ]
     },
     "metadata": {},
     "output_type": "display_data"
    },
    {
     "name": "stdout",
     "output_type": "stream",
     "text": [
      "Dataset FRAUD:\n",
      "Shape: (9843, 22)\n",
      "Columnas: ['Unnamed: 0', 'TransactionID', 'CustomerID', 'CustomerDOB', 'CustGender', 'CustLocation', 'CustAccountBalance', 'TransactionDate', 'TransactionTime', 'TransactionAmount (INR)', 'Age', 'AmountZScoreByLocation', 'DayOfWeek', 'IsWeekend', 'IsHoliday', 'TimeOfDay', 'IsLateNight', 'TimeSinceLastTxn', 'TxnCountInLast24Hours', 'IsAnomaly', 'RiskScore', 'Segment'] \n",
      "\n",
      "Dataset PRI_FULL:\n",
      "Shape: (984240, 21)\n",
      "Columnas: ['TransactionID', 'CustomerID', 'CustLocation', 'TransactionDate', 'TransactionTime', 'TransactionAmount (INR)', 'txn_count', 'total_spent', 'avg_spent', 'max_spent', 'avg_balance', 'first_txn_date', 'last_txn_date', 'recency_days', 'tenure_days', 'txn_per_day', 'Recency', 'Frequency', 'Monetary', 'RFM Score', 'Segment_Final'] \n",
      "\n",
      "✅ Columnas comunes encontradas: ['CustomerID', 'TransactionDate', 'TransactionID', 'TransactionAmount (INR)', 'CustLocation', 'TransactionTime'] \n",
      "\n",
      "🔗 Transacciones en común: 9843\n",
      "🔸 Total en FRAUD: 9843\n",
      "🔸 Total en PRI_FULL: 984240\n",
      "\n",
      "✅ El dataset FRAUD está completamente contenido en PRI_FULL (solo fraudes).\n"
     ]
    }
   ],
   "source": [
    "# =============================================\n",
    "# 🔍 COMPARAR TRANSACCIONES ENTRE DOS DATASETS\n",
    "# =============================================\n",
    "import pandas as pd\n",
    "\n",
    "# --- 1. Cargar ambos datasets ---\n",
    "# Ajusta las rutas si están en otra carpeta\n",
    "fraud_df = catalog.load(\"fraud_dataset\")\n",
    "pri_full_df = catalog.load(\"PRI_full\")\n",
    "\n",
    "# --- 2. Mostrar estructura básica ---\n",
    "print(\"Dataset FRAUD:\")\n",
    "print(\"Shape:\", fraud_df.shape)\n",
    "print(\"Columnas:\", fraud_df.columns.tolist(), \"\\n\")\n",
    "\n",
    "print(\"Dataset PRI_FULL:\")\n",
    "print(\"Shape:\", pri_full_df.shape)\n",
    "print(\"Columnas:\", pri_full_df.columns.tolist(), \"\\n\")\n",
    "\n",
    "# --- 3. Identificar columnas comunes ---\n",
    "common_cols = list(set(fraud_df.columns).intersection(set(pri_full_df.columns)))\n",
    "print(\"✅ Columnas comunes encontradas:\", common_cols, \"\\n\")\n",
    "\n",
    "# --- 4. Si existe TransactionID, comparar coincidencias ---\n",
    "if \"TransactionID\" in common_cols:\n",
    "    merged = pri_full_df.merge(fraud_df, on=\"TransactionID\", how=\"inner\")\n",
    "    print(f\"🔗 Transacciones en común: {len(merged)}\")\n",
    "    print(f\"🔸 Total en FRAUD: {len(fraud_df)}\")\n",
    "    print(f\"🔸 Total en PRI_FULL: {len(pri_full_df)}\")\n",
    "\n",
    "    # --- 5. Revisar si las del dataset FRAUD están incluidas en PRI_FULL ---\n",
    "    if len(merged) == len(fraud_df):\n",
    "        print(\"\\n✅ El dataset FRAUD está completamente contenido en PRI_FULL (solo fraudes).\")\n",
    "    elif len(merged) == 0:\n",
    "        print(\"\\n⚠️ No se encontraron coincidencias. Verifica la columna TransactionID o el formato.\")\n",
    "    else:\n",
    "        print(\"\\n🟡 El dataset FRAUD comparte algunas transacciones con PRI_FULL, pero no todas.\")\n",
    "\n",
    "    # --- 6. (Opcional) Revisar proporción de fraudes ---\n",
    "    if \"is_fraud\" in fraud_df.columns:\n",
    "        fraud_ratio = fraud_df[\"is_fraud\"].mean() * 100\n",
    "        print(f\"\\n📊 Porcentaje de transacciones marcadas como fraude: {fraud_ratio:.2f}%\")\n",
    "else:\n",
    "    print(\"⚠️ No hay columna 'TransactionID' común entre los datasets. Usa otra columna clave para comparar.\")\n"
   ]
  },
  {
   "cell_type": "markdown",
   "metadata": {},
   "source": [
    "Como respuesta podemos ver que el dataset 'PRI_FULL' si contiene las transacciones fraudulentas, pero si revisamos el dataset 'fraud_dataset' podemos observar que tiene algunas variables de inter'es para el analisis."
   ]
  },
  {
   "cell_type": "code",
   "execution_count": 4,
   "metadata": {},
   "outputs": [
    {
     "data": {
      "text/html": [
       "<pre style=\"white-space:pre;overflow-x:auto;line-height:normal;font-family:Menlo,'DejaVu Sans Mono',consolas,'Courier New',monospace\"><span style=\"color: #7fbfbf; text-decoration-color: #7fbfbf\">[10/22/25 16:23:38] </span><span style=\"color: #000080; text-decoration-color: #000080\">INFO    </span> Loading data from <span style=\"color: #ff8700; text-decoration-color: #ff8700\">fraud_dataset</span> <span style=\"font-weight: bold\">(</span>CSVDataset<span style=\"font-weight: bold\">)</span><span style=\"color: #808000; text-decoration-color: #808000\">...</span>                   <a href=\"file://C:\\Users\\AlexandreKz\\Documents\\GitHub\\Ml_Bank\\venv\\Lib\\site-packages\\kedro\\io\\data_catalog.py\" target=\"_blank\"><span style=\"color: #7f7f7f; text-decoration-color: #7f7f7f\">data_catalog.py</span></a><span style=\"color: #7f7f7f; text-decoration-color: #7f7f7f\">:</span><a href=\"file://C:\\Users\\AlexandreKz\\Documents\\GitHub\\Ml_Bank\\venv\\Lib\\site-packages\\kedro\\io\\data_catalog.py#1046\" target=\"_blank\"><span style=\"color: #7f7f7f; text-decoration-color: #7f7f7f\">1046</span></a>\n",
       "</pre>\n"
      ],
      "text/plain": [
       "\u001b[2;36m[10/22/25 16:23:38]\u001b[0m\u001b[2;36m \u001b[0m\u001b[34mINFO    \u001b[0m Loading data from \u001b[38;5;208mfraud_dataset\u001b[0m \u001b[1m(\u001b[0mCSVDataset\u001b[1m)\u001b[0m\u001b[33m...\u001b[0m                   \u001b]8;id=513922;file://C:\\Users\\AlexandreKz\\Documents\\GitHub\\Ml_Bank\\venv\\Lib\\site-packages\\kedro\\io\\data_catalog.py\u001b\\\u001b[2mdata_catalog.py\u001b[0m\u001b]8;;\u001b\\\u001b[2m:\u001b[0m\u001b]8;id=118184;file://C:\\Users\\AlexandreKz\\Documents\\GitHub\\Ml_Bank\\venv\\Lib\\site-packages\\kedro\\io\\data_catalog.py#1046\u001b\\\u001b[2m1046\u001b[0m\u001b]8;;\u001b\\\n"
      ]
     },
     "metadata": {},
     "output_type": "display_data"
    },
    {
     "data": {
      "text/html": [
       "<pre style=\"white-space:pre;overflow-x:auto;line-height:normal;font-family:Menlo,'DejaVu Sans Mono',consolas,'Courier New',monospace\"></pre>\n"
      ],
      "text/plain": []
     },
     "metadata": {},
     "output_type": "display_data"
    },
    {
     "data": {
      "text/plain": [
       "\n",
       "\u001b[1m[\u001b[0m\n",
       "    \u001b[32m'Unnamed: 0'\u001b[0m,\n",
       "    \u001b[32m'TransactionID'\u001b[0m,\n",
       "    \u001b[32m'CustomerID'\u001b[0m,\n",
       "    \u001b[32m'CustomerDOB'\u001b[0m,\n",
       "    \u001b[32m'CustGender'\u001b[0m,\n",
       "    \u001b[32m'CustLocation'\u001b[0m,\n",
       "    \u001b[32m'CustAccountBalance'\u001b[0m,\n",
       "    \u001b[32m'TransactionDate'\u001b[0m,\n",
       "    \u001b[32m'TransactionTime'\u001b[0m,\n",
       "    \u001b[32m'TransactionAmount \u001b[0m\u001b[32m(\u001b[0m\u001b[32mINR\u001b[0m\u001b[32m)\u001b[0m\u001b[32m'\u001b[0m,\n",
       "    \u001b[32m'Age'\u001b[0m,\n",
       "    \u001b[32m'AmountZScoreByLocation'\u001b[0m,\n",
       "    \u001b[32m'DayOfWeek'\u001b[0m,\n",
       "    \u001b[32m'IsWeekend'\u001b[0m,\n",
       "    \u001b[32m'IsHoliday'\u001b[0m,\n",
       "    \u001b[32m'TimeOfDay'\u001b[0m,\n",
       "    \u001b[32m'IsLateNight'\u001b[0m,\n",
       "    \u001b[32m'TimeSinceLastTxn'\u001b[0m,\n",
       "    \u001b[32m'TxnCountInLast24Hours'\u001b[0m,\n",
       "    \u001b[32m'IsAnomaly'\u001b[0m,\n",
       "    \u001b[32m'RiskScore'\u001b[0m,\n",
       "    \u001b[32m'Segment'\u001b[0m\n",
       "\u001b[1m]\u001b[0m"
      ]
     },
     "execution_count": 4,
     "metadata": {},
     "output_type": "execute_result"
    }
   ],
   "source": [
    "df = catalog.load(\"fraud_dataset\")   # lee el dataset del catálogo\n",
    "list(df.columns)  "
   ]
  },
  {
   "cell_type": "markdown",
   "metadata": {},
   "source": [
    "Entre ellas podemos observar:\n",
    "'IsAnomaly' - Esta variable nos dice si es fraudulenta o no ........\n",
    "'IsWeekend' - Esta variable dice si es fin de semana\n",
    "'IsHoliday' - Esta variable dice si es feriado, por el momento no podemos determinarla en el dataset porque es un dataset de otro país, descartada\n",
    "'DayOfWeek' - Dia de la semana, también puede ser un punto de interés\n",
    "'TimeOfDay' - A que momento del dia ocurre que también podría ser un aporte\n",
    "'AmountZScoreByLocation' - Según los montos en zonas simkilares podría ser muy relevante, quizás en zonas determinadas el monto es inusual\n",
    "'IsLateNight' - Otra variable de tiempo al igual que TimeOfDay podría ser un punto fuerte\n",
    "\n",
    "\n",
    "A continuación intentamos replicar algunas de estas variables en el dataset principal 'PRI_FULL' para dar más información al momento de entrenar los modelos."
   ]
  },
  {
   "cell_type": "code",
   "execution_count": 5,
   "metadata": {},
   "outputs": [
    {
     "data": {
      "text/html": [
       "<pre style=\"white-space:pre;overflow-x:auto;line-height:normal;font-family:Menlo,'DejaVu Sans Mono',consolas,'Courier New',monospace\"><span style=\"color: #7fbfbf; text-decoration-color: #7fbfbf\">[10/22/25 16:23:41] </span><span style=\"color: #000080; text-decoration-color: #000080\">INFO    </span> Loading data from <span style=\"color: #ff8700; text-decoration-color: #ff8700\">PRI_full</span> <span style=\"font-weight: bold\">(</span>ParquetDataset<span style=\"font-weight: bold\">)</span><span style=\"color: #808000; text-decoration-color: #808000\">...</span>                    <a href=\"file://C:\\Users\\AlexandreKz\\Documents\\GitHub\\Ml_Bank\\venv\\Lib\\site-packages\\kedro\\io\\data_catalog.py\" target=\"_blank\"><span style=\"color: #7f7f7f; text-decoration-color: #7f7f7f\">data_catalog.py</span></a><span style=\"color: #7f7f7f; text-decoration-color: #7f7f7f\">:</span><a href=\"file://C:\\Users\\AlexandreKz\\Documents\\GitHub\\Ml_Bank\\venv\\Lib\\site-packages\\kedro\\io\\data_catalog.py#1046\" target=\"_blank\"><span style=\"color: #7f7f7f; text-decoration-color: #7f7f7f\">1046</span></a>\n",
       "</pre>\n"
      ],
      "text/plain": [
       "\u001b[2;36m[10/22/25 16:23:41]\u001b[0m\u001b[2;36m \u001b[0m\u001b[34mINFO    \u001b[0m Loading data from \u001b[38;5;208mPRI_full\u001b[0m \u001b[1m(\u001b[0mParquetDataset\u001b[1m)\u001b[0m\u001b[33m...\u001b[0m                    \u001b]8;id=489318;file://C:\\Users\\AlexandreKz\\Documents\\GitHub\\Ml_Bank\\venv\\Lib\\site-packages\\kedro\\io\\data_catalog.py\u001b\\\u001b[2mdata_catalog.py\u001b[0m\u001b]8;;\u001b\\\u001b[2m:\u001b[0m\u001b]8;id=479844;file://C:\\Users\\AlexandreKz\\Documents\\GitHub\\Ml_Bank\\venv\\Lib\\site-packages\\kedro\\io\\data_catalog.py#1046\u001b\\\u001b[2m1046\u001b[0m\u001b]8;;\u001b\\\n"
      ]
     },
     "metadata": {},
     "output_type": "display_data"
    },
    {
     "data": {
      "text/html": [
       "<pre style=\"white-space:pre;overflow-x:auto;line-height:normal;font-family:Menlo,'DejaVu Sans Mono',consolas,'Courier New',monospace\"><span style=\"color: #7fbfbf; text-decoration-color: #7fbfbf\">[10/22/25 16:23:45] </span><span style=\"color: #808000; text-decoration-color: #808000\">WARNING </span> C:\\Users\\AlexandreKz\\AppData\\Local\\Temp\\ipykernel_15268\\<span style=\"color: #008080; text-decoration-color: #008080; font-weight: bold\">2741150868.</span>py: <span style=\"color: #7f7f7f; text-decoration-color: #7f7f7f\">warnings.py:110</span>\n",
       "<span style=\"color: #7fbfbf; text-decoration-color: #7fbfbf\">                    </span>         <span style=\"color: #008080; text-decoration-color: #008080; font-weight: bold\">32</span>: FutureWarning: The default of <span style=\"color: #808000; text-decoration-color: #808000\">observed</span>=<span style=\"color: #ff0000; text-decoration-color: #ff0000; font-style: italic\">False</span> is deprecated and     <span style=\"color: #7f7f7f; text-decoration-color: #7f7f7f\">               </span>\n",
       "<span style=\"color: #7fbfbf; text-decoration-color: #7fbfbf\">                    </span>         will be changed to <span style=\"color: #00ff00; text-decoration-color: #00ff00; font-style: italic\">True</span> in a future version of pandas. Pass            <span style=\"color: #7f7f7f; text-decoration-color: #7f7f7f\">               </span>\n",
       "<span style=\"color: #7fbfbf; text-decoration-color: #7fbfbf\">                    </span>         <span style=\"color: #808000; text-decoration-color: #808000\">observed</span>=<span style=\"color: #ff0000; text-decoration-color: #ff0000; font-style: italic\">False</span> to retain current behavior or <span style=\"color: #808000; text-decoration-color: #808000\">observed</span>=<span style=\"color: #00ff00; text-decoration-color: #00ff00; font-style: italic\">True</span> to adopt    <span style=\"color: #7f7f7f; text-decoration-color: #7f7f7f\">               </span>\n",
       "<span style=\"color: #7fbfbf; text-decoration-color: #7fbfbf\">                    </span>         the future default and silence this warning.                           <span style=\"color: #7f7f7f; text-decoration-color: #7f7f7f\">               </span>\n",
       "<span style=\"color: #7fbfbf; text-decoration-color: #7fbfbf\">                    </span>           <span style=\"color: #800080; text-decoration-color: #800080; font-weight: bold\">df.groupby</span><span style=\"font-weight: bold\">(</span><span style=\"color: #008000; text-decoration-color: #008000\">'CustLocation'</span><span style=\"font-weight: bold\">)[</span><span style=\"color: #008000; text-decoration-color: #008000\">'TransactionAmount (INR)'</span><span style=\"font-weight: bold\">]</span>                <span style=\"color: #7f7f7f; text-decoration-color: #7f7f7f\">               </span>\n",
       "<span style=\"color: #7fbfbf; text-decoration-color: #7fbfbf\">                    </span>                                                                                <span style=\"color: #7f7f7f; text-decoration-color: #7f7f7f\">               </span>\n",
       "</pre>\n"
      ],
      "text/plain": [
       "\u001b[2;36m[10/22/25 16:23:45]\u001b[0m\u001b[2;36m \u001b[0m\u001b[33mWARNING \u001b[0m C:\\Users\\AlexandreKz\\AppData\\Local\\Temp\\ipykernel_15268\\\u001b[1;36m2741150868.\u001b[0mpy: \u001b[2mwarnings.py\u001b[0m\u001b[2m:\u001b[0m\u001b[2m110\u001b[0m\n",
       "\u001b[2;36m                    \u001b[0m         \u001b[1;36m32\u001b[0m: FutureWarning: The default of \u001b[33mobserved\u001b[0m=\u001b[3;91mFalse\u001b[0m is deprecated and     \u001b[2m               \u001b[0m\n",
       "\u001b[2;36m                    \u001b[0m         will be changed to \u001b[3;92mTrue\u001b[0m in a future version of pandas. Pass            \u001b[2m               \u001b[0m\n",
       "\u001b[2;36m                    \u001b[0m         \u001b[33mobserved\u001b[0m=\u001b[3;91mFalse\u001b[0m to retain current behavior or \u001b[33mobserved\u001b[0m=\u001b[3;92mTrue\u001b[0m to adopt    \u001b[2m               \u001b[0m\n",
       "\u001b[2;36m                    \u001b[0m         the future default and silence this warning.                           \u001b[2m               \u001b[0m\n",
       "\u001b[2;36m                    \u001b[0m           \u001b[1;35mdf.groupby\u001b[0m\u001b[1m(\u001b[0m\u001b[32m'CustLocation'\u001b[0m\u001b[1m)\u001b[0m\u001b[1m[\u001b[0m\u001b[32m'TransactionAmount \u001b[0m\u001b[32m(\u001b[0m\u001b[32mINR\u001b[0m\u001b[32m)\u001b[0m\u001b[32m'\u001b[0m\u001b[1m]\u001b[0m                \u001b[2m               \u001b[0m\n",
       "\u001b[2;36m                    \u001b[0m                                                                                \u001b[2m               \u001b[0m\n"
      ]
     },
     "metadata": {},
     "output_type": "display_data"
    },
    {
     "name": "stdout",
     "output_type": "stream",
     "text": [
      "✅ Nuevas columnas creadas:\n",
      "['DayOfWeek', 'IsWeekend', 'IsLateNight', 'TimeOfDay', 'AmountZScoreByLocation', 'TimeSinceLastTxn', 'TxnCountInLast24Hours', 'RiskScore', 'IsAnomaly']\n",
      "\n",
      "Shape final: (984240, 31)\n"
     ]
    }
   ],
   "source": [
    "# === 1️⃣ Cargar dataset base ===\n",
    "df = catalog.load(\"PRI_full\").copy()\n",
    "\n",
    "# --- Asegurar formato de fechas y horas ---\n",
    "df['TransactionDate'] = pd.to_datetime(df['TransactionDate'], errors='coerce')\n",
    "df['TransactionTime'] = pd.to_datetime(df['TransactionTime'], format='%H:%M:%S', errors='coerce')\n",
    "\n",
    "# =========================================================\n",
    "# === 2️⃣ Variables temporales y de contexto ===============\n",
    "# =========================================================\n",
    "\n",
    "# Día de la semana\n",
    "df['DayOfWeek'] = df['TransactionDate'].dt.day_name()\n",
    "\n",
    "# Fin de semana\n",
    "df['IsWeekend'] = df['DayOfWeek'].isin(['Saturday', 'Sunday']).astype(int)\n",
    "\n",
    "# Hora del día\n",
    "df['hour'] = df['TransactionTime'].dt.hour\n",
    "df['IsLateNight'] = ((df['hour'] >= 23) | (df['hour'] <= 5)).astype(int)\n",
    "df['TimeOfDay'] = pd.cut(\n",
    "    df['hour'], bins=[0,6,12,18,24],\n",
    "    labels=['Night','Morning','Afternoon','Evening'],\n",
    "    right=False, include_lowest=True\n",
    ")\n",
    "# =========================================================\n",
    "# === 3️⃣ Variables de comportamiento ======================\n",
    "# =========================================================\n",
    "\n",
    "# Monto Z-Score por ubicación\n",
    "df['AmountZScoreByLocation'] = (\n",
    "    df.groupby('CustLocation')['TransactionAmount (INR)']\n",
    "      .transform(lambda x: (x - x.mean()) / (x.std() + 1e-9))\n",
    ")\n",
    "\n",
    "# Días desde última transacción por cliente\n",
    "df = df.sort_values(['CustomerID', 'TransactionDate'])\n",
    "df['TimeSinceLastTxn'] = (\n",
    "    df.groupby('CustomerID')['TransactionDate']\n",
    "      .diff().dt.total_seconds() / (60*60*24)\n",
    ").fillna(0)\n",
    "\n",
    "# --- Simplificación robusta ---\n",
    "# Si la diferencia entre esta y la anterior <= 24h, marcamos como 1\n",
    "df['TxnCountInLast24Hours'] = (\n",
    "    (df.groupby('CustomerID')['TransactionDate']\n",
    "       .diff().dt.total_seconds() / 3600 <= 24)\n",
    "    .astype(int)\n",
    "    .fillna(0)\n",
    ")\n",
    "\n",
    "# =========================================================\n",
    "# === 4️⃣ Variables de riesgo ==============================\n",
    "# =========================================================\n",
    "\n",
    "# Riesgo basado en monto relativo al promedio histórico del cliente\n",
    "df['RiskScore'] = np.where(\n",
    "    df['TransactionAmount (INR)'] > (\n",
    "        df['TransactionAmount (INR)'].mean() +\n",
    "        2 * df['TransactionAmount (INR)'].std()\n",
    "    ),\n",
    "    1, 0\n",
    ")\n",
    "\n",
    "# Anomalía simple (monto alto + transacción nocturna)\n",
    "df['IsAnomaly'] = ((df['RiskScore'] == 1) & (df['IsLateNight'] == 1)).astype(int)\n",
    "\n",
    "# =========================================================\n",
    "# === 5️⃣ Limpieza y validación ============================\n",
    "# =========================================================\n",
    "df = df.replace([np.inf, -np.inf], np.nan)\n",
    "df = df.fillna({\n",
    "    'AmountZScoreByLocation': 0,\n",
    "    'TimeSinceLastTxn': 0,\n",
    "    'TxnCountInLast24Hours': 0,\n",
    "    'RiskScore': 0,\n",
    "    'IsAnomaly': 0\n",
    "})\n",
    "\n",
    "print(\"✅ Nuevas columnas creadas:\")\n",
    "print([col for col in df.columns if col in [\n",
    "    'DayOfWeek','IsWeekend','IsLateNight','TimeOfDay',\n",
    "    'AmountZScoreByLocation','TimeSinceLastTxn','TxnCountInLast24Hours','RiskScore','IsAnomaly'\n",
    "]])\n",
    "print(\"\\nShape final:\", df.shape)"
   ]
  },
  {
   "cell_type": "markdown",
   "metadata": {},
   "source": [
    "Ya con las variables agregadas necesitamos saber si son fraude, por lo que añadimos la etiqueta a partir de las transacciones existentes en el dataset fraud"
   ]
  },
  {
   "cell_type": "code",
   "execution_count": 6,
   "metadata": {},
   "outputs": [
    {
     "data": {
      "text/html": [
       "<pre style=\"white-space:pre;overflow-x:auto;line-height:normal;font-family:Menlo,'DejaVu Sans Mono',consolas,'Courier New',monospace\"><span style=\"color: #7fbfbf; text-decoration-color: #7fbfbf\">[10/22/25 16:23:56] </span><span style=\"color: #000080; text-decoration-color: #000080\">INFO    </span> Loading data from <span style=\"color: #ff8700; text-decoration-color: #ff8700\">PRI_full</span> <span style=\"font-weight: bold\">(</span>ParquetDataset<span style=\"font-weight: bold\">)</span><span style=\"color: #808000; text-decoration-color: #808000\">...</span>                    <a href=\"file://C:\\Users\\AlexandreKz\\Documents\\GitHub\\Ml_Bank\\venv\\Lib\\site-packages\\kedro\\io\\data_catalog.py\" target=\"_blank\"><span style=\"color: #7f7f7f; text-decoration-color: #7f7f7f\">data_catalog.py</span></a><span style=\"color: #7f7f7f; text-decoration-color: #7f7f7f\">:</span><a href=\"file://C:\\Users\\AlexandreKz\\Documents\\GitHub\\Ml_Bank\\venv\\Lib\\site-packages\\kedro\\io\\data_catalog.py#1046\" target=\"_blank\"><span style=\"color: #7f7f7f; text-decoration-color: #7f7f7f\">1046</span></a>\n",
       "</pre>\n"
      ],
      "text/plain": [
       "\u001b[2;36m[10/22/25 16:23:56]\u001b[0m\u001b[2;36m \u001b[0m\u001b[34mINFO    \u001b[0m Loading data from \u001b[38;5;208mPRI_full\u001b[0m \u001b[1m(\u001b[0mParquetDataset\u001b[1m)\u001b[0m\u001b[33m...\u001b[0m                    \u001b]8;id=222815;file://C:\\Users\\AlexandreKz\\Documents\\GitHub\\Ml_Bank\\venv\\Lib\\site-packages\\kedro\\io\\data_catalog.py\u001b\\\u001b[2mdata_catalog.py\u001b[0m\u001b]8;;\u001b\\\u001b[2m:\u001b[0m\u001b]8;id=219163;file://C:\\Users\\AlexandreKz\\Documents\\GitHub\\Ml_Bank\\venv\\Lib\\site-packages\\kedro\\io\\data_catalog.py#1046\u001b\\\u001b[2m1046\u001b[0m\u001b]8;;\u001b\\\n"
      ]
     },
     "metadata": {},
     "output_type": "display_data"
    },
    {
     "data": {
      "text/html": [
       "<pre style=\"white-space:pre;overflow-x:auto;line-height:normal;font-family:Menlo,'DejaVu Sans Mono',consolas,'Courier New',monospace\"><span style=\"color: #7fbfbf; text-decoration-color: #7fbfbf\">[10/22/25 16:23:57] </span><span style=\"color: #000080; text-decoration-color: #000080\">INFO    </span> Loading data from <span style=\"color: #ff8700; text-decoration-color: #ff8700\">fraud_dataset</span> <span style=\"font-weight: bold\">(</span>CSVDataset<span style=\"font-weight: bold\">)</span><span style=\"color: #808000; text-decoration-color: #808000\">...</span>                   <a href=\"file://C:\\Users\\AlexandreKz\\Documents\\GitHub\\Ml_Bank\\venv\\Lib\\site-packages\\kedro\\io\\data_catalog.py\" target=\"_blank\"><span style=\"color: #7f7f7f; text-decoration-color: #7f7f7f\">data_catalog.py</span></a><span style=\"color: #7f7f7f; text-decoration-color: #7f7f7f\">:</span><a href=\"file://C:\\Users\\AlexandreKz\\Documents\\GitHub\\Ml_Bank\\venv\\Lib\\site-packages\\kedro\\io\\data_catalog.py#1046\" target=\"_blank\"><span style=\"color: #7f7f7f; text-decoration-color: #7f7f7f\">1046</span></a>\n",
       "</pre>\n"
      ],
      "text/plain": [
       "\u001b[2;36m[10/22/25 16:23:57]\u001b[0m\u001b[2;36m \u001b[0m\u001b[34mINFO    \u001b[0m Loading data from \u001b[38;5;208mfraud_dataset\u001b[0m \u001b[1m(\u001b[0mCSVDataset\u001b[1m)\u001b[0m\u001b[33m...\u001b[0m                   \u001b]8;id=358467;file://C:\\Users\\AlexandreKz\\Documents\\GitHub\\Ml_Bank\\venv\\Lib\\site-packages\\kedro\\io\\data_catalog.py\u001b\\\u001b[2mdata_catalog.py\u001b[0m\u001b]8;;\u001b\\\u001b[2m:\u001b[0m\u001b]8;id=461647;file://C:\\Users\\AlexandreKz\\Documents\\GitHub\\Ml_Bank\\venv\\Lib\\site-packages\\kedro\\io\\data_catalog.py#1046\u001b\\\u001b[2m1046\u001b[0m\u001b]8;;\u001b\\\n"
      ]
     },
     "metadata": {},
     "output_type": "display_data"
    },
    {
     "name": "stdout",
     "output_type": "stream",
     "text": [
      "is_fraud\n",
      "0    974397\n",
      "1      9843\n",
      "Name: count, dtype: int64\n"
     ]
    }
   ],
   "source": [
    "#Crear etiqueta de fraude 1 Si esta en el fraud_Datset y 0 si no :p\n",
    "\n",
    "df_full = catalog.load(\"PRI_full\")\n",
    "df_fraud = catalog.load(\"fraud_dataset\")\n",
    "\n",
    "# Etiqueta de fraude\n",
    "df_full['is_fraud'] = df_full['TransactionID'].isin(df_fraud['TransactionID']).astype(int)\n",
    "\n",
    "print(df_full['is_fraud'].value_counts())"
   ]
  },
  {
   "cell_type": "markdown",
   "metadata": {},
   "source": [
    "**//////////////////////////////////////////////////////////////////////////////////////////////////////////**\n",
    "**//////////////////////////////////////////////////////////////////////////////////////////////////////////**\n",
    "**//////////////////////////////////////////////////////////////////////////////////////////////////////////**\n",
    "**//////////////////////////////////////////////////////////////////////////////////////////////////////////**\n",
    "**//////////////////////////////////////////////////////////////////////////////////////////////////////////**"
   ]
  }
 ],
 "metadata": {
  "kernelspec": {
   "display_name": "Kedro (proyecto_ml_sebastiancarrera_kevinvivanco)",
   "language": "python",
   "name": "kedro_proyecto_ml_sebastiancarrera_kevinvivanco"
  },
  "language_info": {
   "codemirror_mode": {
    "name": "ipython",
    "version": 3
   },
   "file_extension": ".py",
   "mimetype": "text/x-python",
   "name": "python",
   "nbconvert_exporter": "python",
   "pygments_lexer": "ipython3",
   "version": "3.13.9"
  }
 },
 "nbformat": 4,
 "nbformat_minor": 4
}
