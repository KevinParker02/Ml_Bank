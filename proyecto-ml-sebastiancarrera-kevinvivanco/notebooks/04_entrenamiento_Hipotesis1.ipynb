{
 "cells": [
  {
   "cell_type": "code",
   "execution_count": 1,
   "id": "738c07cb-bc00-4acf-8426-34fc6d3470ab",
   "metadata": {},
   "outputs": [
    {
     "name": "stdout",
     "output_type": "stream",
     "text": [
      "The kedro.ipython extension is already loaded. To reload it, use:\n",
      "  %reload_ext kedro.ipython\n"
     ]
    }
   ],
   "source": [
    "# 🔌 Cargar la extensión de Kedro en Jupyter\n",
    "%load_ext kedro.ipython\n",
    "import pandas as pd\n",
    "import seaborn as sns\n",
    "import matplotlib.pyplot as plt"
   ]
  },
  {
   "cell_type": "code",
   "execution_count": 2,
   "id": "0bcecf35-29c7-4be6-8cdd-e8e4218b614a",
   "metadata": {},
   "outputs": [
    {
     "data": {
      "text/html": [
       "<pre style=\"white-space:pre;overflow-x:auto;line-height:normal;font-family:Menlo,'DejaVu Sans Mono',consolas,'Courier New',monospace\"><span style=\"color: #7fbfbf; text-decoration-color: #7fbfbf\">[10/21/25 23:12:57] </span><span style=\"color: #000080; text-decoration-color: #000080\">INFO    </span> Loading data from <span style=\"color: #ff8700; text-decoration-color: #ff8700\">fraud_dataset</span> <span style=\"font-weight: bold\">(</span>CSVDataset<span style=\"font-weight: bold\">)</span><span style=\"color: #808000; text-decoration-color: #808000\">...</span>                   <a href=\"file://C:\\Users\\AlexandreKz\\Documents\\GitHub\\Ml_Bank\\venv\\Lib\\site-packages\\kedro\\io\\data_catalog.py\" target=\"_blank\"><span style=\"color: #7f7f7f; text-decoration-color: #7f7f7f\">data_catalog.py</span></a><span style=\"color: #7f7f7f; text-decoration-color: #7f7f7f\">:</span><a href=\"file://C:\\Users\\AlexandreKz\\Documents\\GitHub\\Ml_Bank\\venv\\Lib\\site-packages\\kedro\\io\\data_catalog.py#1046\" target=\"_blank\"><span style=\"color: #7f7f7f; text-decoration-color: #7f7f7f\">1046</span></a>\n",
       "</pre>\n"
      ],
      "text/plain": [
       "\u001b[2;36m[10/21/25 23:12:57]\u001b[0m\u001b[2;36m \u001b[0m\u001b[34mINFO    \u001b[0m Loading data from \u001b[38;5;208mfraud_dataset\u001b[0m \u001b[1m(\u001b[0mCSVDataset\u001b[1m)\u001b[0m\u001b[33m...\u001b[0m                   \u001b]8;id=366303;file://C:\\Users\\AlexandreKz\\Documents\\GitHub\\Ml_Bank\\venv\\Lib\\site-packages\\kedro\\io\\data_catalog.py\u001b\\\u001b[2mdata_catalog.py\u001b[0m\u001b]8;;\u001b\\\u001b[2m:\u001b[0m\u001b]8;id=438202;file://C:\\Users\\AlexandreKz\\Documents\\GitHub\\Ml_Bank\\venv\\Lib\\site-packages\\kedro\\io\\data_catalog.py#1046\u001b\\\u001b[2m1046\u001b[0m\u001b]8;;\u001b\\\n"
      ]
     },
     "metadata": {},
     "output_type": "display_data"
    },
    {
     "data": {
      "text/html": [
       "<pre style=\"white-space:pre;overflow-x:auto;line-height:normal;font-family:Menlo,'DejaVu Sans Mono',consolas,'Courier New',monospace\"><span style=\"color: #7fbfbf; text-decoration-color: #7fbfbf\">                    </span><span style=\"color: #000080; text-decoration-color: #000080\">INFO    </span> Loading data from <span style=\"color: #ff8700; text-decoration-color: #ff8700\">PRI_full</span> <span style=\"font-weight: bold\">(</span>ParquetDataset<span style=\"font-weight: bold\">)</span><span style=\"color: #808000; text-decoration-color: #808000\">...</span>                    <a href=\"file://C:\\Users\\AlexandreKz\\Documents\\GitHub\\Ml_Bank\\venv\\Lib\\site-packages\\kedro\\io\\data_catalog.py\" target=\"_blank\"><span style=\"color: #7f7f7f; text-decoration-color: #7f7f7f\">data_catalog.py</span></a><span style=\"color: #7f7f7f; text-decoration-color: #7f7f7f\">:</span><a href=\"file://C:\\Users\\AlexandreKz\\Documents\\GitHub\\Ml_Bank\\venv\\Lib\\site-packages\\kedro\\io\\data_catalog.py#1046\" target=\"_blank\"><span style=\"color: #7f7f7f; text-decoration-color: #7f7f7f\">1046</span></a>\n",
       "</pre>\n"
      ],
      "text/plain": [
       "\u001b[2;36m                   \u001b[0m\u001b[2;36m \u001b[0m\u001b[34mINFO    \u001b[0m Loading data from \u001b[38;5;208mPRI_full\u001b[0m \u001b[1m(\u001b[0mParquetDataset\u001b[1m)\u001b[0m\u001b[33m...\u001b[0m                    \u001b]8;id=665534;file://C:\\Users\\AlexandreKz\\Documents\\GitHub\\Ml_Bank\\venv\\Lib\\site-packages\\kedro\\io\\data_catalog.py\u001b\\\u001b[2mdata_catalog.py\u001b[0m\u001b]8;;\u001b\\\u001b[2m:\u001b[0m\u001b]8;id=702972;file://C:\\Users\\AlexandreKz\\Documents\\GitHub\\Ml_Bank\\venv\\Lib\\site-packages\\kedro\\io\\data_catalog.py#1046\u001b\\\u001b[2m1046\u001b[0m\u001b]8;;\u001b\\\n"
      ]
     },
     "metadata": {},
     "output_type": "display_data"
    },
    {
     "name": "stdout",
     "output_type": "stream",
     "text": [
      "Dataset FRAUD:\n",
      "Shape: (9843, 22)\n",
      "Columnas: ['Unnamed: 0', 'TransactionID', 'CustomerID', 'CustomerDOB', 'CustGender', 'CustLocation', 'CustAccountBalance', 'TransactionDate', 'TransactionTime', 'TransactionAmount (INR)', 'Age', 'AmountZScoreByLocation', 'DayOfWeek', 'IsWeekend', 'IsHoliday', 'TimeOfDay', 'IsLateNight', 'TimeSinceLastTxn', 'TxnCountInLast24Hours', 'IsAnomaly', 'RiskScore', 'Segment'] \n",
      "\n",
      "Dataset PRI_FULL:\n",
      "Shape: (984240, 21)\n",
      "Columnas: ['TransactionID', 'CustomerID', 'CustLocation', 'TransactionDate', 'TransactionTime', 'TransactionAmount (INR)', 'txn_count', 'total_spent', 'avg_spent', 'max_spent', 'avg_balance', 'first_txn_date', 'last_txn_date', 'recency_days', 'tenure_days', 'txn_per_day', 'Recency', 'Frequency', 'Monetary', 'RFM Score', 'Segment_Final'] \n",
      "\n",
      "Columnas comunes encontradas: ['CustLocation', 'TransactionAmount (INR)', 'TransactionID', 'TransactionDate', 'CustomerID', 'TransactionTime'] \n",
      "\n",
      "🔗 Transacciones en común: 9843\n",
      "🔸 Total en FRAUD: 9843\n",
      "🔸 Total en PRI_FULL: 984240\n",
      "\n",
      "El dataset FRAUD está completamente contenido en PRI_FULL (solo fraudes).\n"
     ]
    }
   ],
   "source": [
    "# =============================================\n",
    "# COMPARAR TRANSACCIONES ENTRE DOS DATASETS\n",
    "# =============================================\n",
    "import pandas as pd\n",
    "\n",
    "# --- 1. Cargar ambos datasets ---\n",
    "# Ajusta las rutas si están en otra carpeta\n",
    "fraud_df = catalog.load(\"fraud_dataset\")\n",
    "pri_full_df = catalog.load(\"PRI_full\")\n",
    "\n",
    "# --- 2. Mostrar estructura básica ---\n",
    "print(\"Dataset FRAUD:\")\n",
    "print(\"Shape:\", fraud_df.shape)\n",
    "print(\"Columnas:\", fraud_df.columns.tolist(), \"\\n\")\n",
    "\n",
    "print(\"Dataset PRI_FULL:\")\n",
    "print(\"Shape:\", pri_full_df.shape)\n",
    "print(\"Columnas:\", pri_full_df.columns.tolist(), \"\\n\")\n",
    "\n",
    "# --- 3. Identificar columnas comunes ---\n",
    "common_cols = list(set(fraud_df.columns).intersection(set(pri_full_df.columns)))\n",
    "print(\"Columnas comunes encontradas:\", common_cols, \"\\n\")\n",
    "\n",
    "# --- 4. Si existe TransactionID, comparar coincidencias ---\n",
    "if \"TransactionID\" in common_cols:\n",
    "    merged = pri_full_df.merge(fraud_df, on=\"TransactionID\", how=\"inner\")\n",
    "    print(f\"🔗 Transacciones en común: {len(merged)}\")\n",
    "    print(f\"🔸 Total en FRAUD: {len(fraud_df)}\")\n",
    "    print(f\"🔸 Total en PRI_FULL: {len(pri_full_df)}\")\n",
    "\n",
    "    # --- 5. Revisar si las del dataset FRAUD están incluidas en PRI_FULL ---\n",
    "    if len(merged) == len(fraud_df):\n",
    "        print(\"\\nEl dataset FRAUD está completamente contenido en PRI_FULL (solo fraudes).\")\n",
    "    elif len(merged) == 0:\n",
    "        print(\"\\no se encontraron coincidencias. Verifica la columna TransactionID o el formato.\")\n",
    "    else:\n",
    "        print(\"\\n el dataset FRAUD comparte algunas transacciones con PRI_FULL, pero no todas.\")\n",
    "\n",
    "    # --- 6. (Opcional) Revisar proporción de fraudes ---\n",
    "    if \"is_fraud\" in fraud_df.columns:\n",
    "        fraud_ratio = fraud_df[\"is_fraud\"].mean() * 100\n",
    "        print(f\"\\n📊 Porcentaje de transacciones marcadas como fraude: {fraud_ratio:.2f}%\")\n",
    "else:\n",
    "    print(\"No hay columna 'TransactionID' común entre los datasets. Usa otra columna clave para comparar.\")\n"
   ]
  },
  {
   "cell_type": "raw",
   "id": "f9f6813f-8e14-4a40-abd7-72bac54895a7",
   "metadata": {},
   "source": [
    "/////// Explicación /////////////\n",
    "\n",
    "Este bloque de código sirve para ver si las transacciones detectadas en fraud_dataset se encuentran en PRI_FULL, esto es para que se pueda confirmar que el modelo efectivamente esta detectando transacciones fraudulentas."
   ]
  }
 ],
 "metadata": {
  "kernelspec": {
   "display_name": "Kedro (proyecto_ml_sebastiancarrera_kevinvivanco)",
   "language": "python",
   "name": "kedro_proyecto_ml_sebastiancarrera_kevinvivanco"
  },
  "language_info": {
   "codemirror_mode": {
    "name": "ipython",
    "version": 3
   },
   "file_extension": ".py",
   "mimetype": "text/x-python",
   "name": "python",
   "nbconvert_exporter": "python",
   "pygments_lexer": "ipython3",
   "version": "3.13.9"
  }
 },
 "nbformat": 4,
 "nbformat_minor": 5
}
