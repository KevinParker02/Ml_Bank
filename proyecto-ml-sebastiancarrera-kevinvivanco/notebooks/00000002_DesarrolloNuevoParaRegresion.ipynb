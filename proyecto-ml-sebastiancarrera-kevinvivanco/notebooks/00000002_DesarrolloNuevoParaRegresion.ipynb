{
 "cells": [
  {
   "cell_type": "code",
   "execution_count": null,
   "id": "64c9a41c-d88b-4185-a6b5-58dc17419c04",
   "metadata": {},
   "outputs": [],
   "source": [
    "# Carga de contexto y librerias para el notebook :D\n",
    "%load_ext kedro.ipython\n",
    "import pandas as pd\n",
    "import numpy as np\n",
    "import seaborn as sns\n",
    "import matplotlib.pyplot as plt\n",
    "import os"
   ]
  },
  {
   "cell_type": "code",
   "execution_count": null,
   "id": "27fbbd44-7d0e-4578-a25b-30db2fe1fa9e",
   "metadata": {},
   "outputs": [],
   "source": [
    "df = catalog.load(\"PRI_full_fraud_features\")   # lee el dataset del catálogo\n",
    "list(df.columns)  "
   ]
  }
 ],
 "metadata": {
  "kernelspec": {
   "display_name": "Kedro (proyecto_ml_sebastiancarrera_kevinvivanco)",
   "language": "python",
   "name": "kedro_proyecto_ml_sebastiancarrera_kevinvivanco"
  },
  "language_info": {
   "codemirror_mode": {
    "name": "ipython",
    "version": 3
   },
   "file_extension": ".py",
   "mimetype": "text/x-python",
   "name": "python",
   "nbconvert_exporter": "python",
   "pygments_lexer": "ipython3",
   "version": "3.13.9"
  }
 },
 "nbformat": 4,
 "nbformat_minor": 5
}
