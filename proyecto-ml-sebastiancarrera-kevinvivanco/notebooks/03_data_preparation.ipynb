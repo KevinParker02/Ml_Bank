{
 "cells": [
  {
   "cell_type": "code",
   "execution_count": 1,
   "id": "c5ac2cd4-a029-414b-a73f-09ecce2f327e",
   "metadata": {},
   "outputs": [
    {
     "data": {
      "text/html": [
       "<pre style=\"white-space:pre;overflow-x:auto;line-height:normal;font-family:Menlo,'DejaVu Sans Mono',consolas,'Courier New',monospace\"><span style=\"color: #7fbfbf; text-decoration-color: #7fbfbf\">[09/15/25 19:56:01] </span><span style=\"color: #000080; text-decoration-color: #000080\">INFO    </span> Using                                                                  <a href=\"file://C:\\Users\\Kevin\\Documents\\GitHub\\Ml_Bank\\venv\\Lib\\site-packages\\kedro\\framework\\project\\__init__.py\" target=\"_blank\"><span style=\"color: #7f7f7f; text-decoration-color: #7f7f7f\">__init__.py</span></a><span style=\"color: #7f7f7f; text-decoration-color: #7f7f7f\">:</span><a href=\"file://C:\\Users\\Kevin\\Documents\\GitHub\\Ml_Bank\\venv\\Lib\\site-packages\\kedro\\framework\\project\\__init__.py#270\" target=\"_blank\"><span style=\"color: #7f7f7f; text-decoration-color: #7f7f7f\">270</span></a>\n",
       "<span style=\"color: #7fbfbf; text-decoration-color: #7fbfbf\">                    </span>         <span style=\"color: #008000; text-decoration-color: #008000\">'C:\\Users\\Kevin\\Documents\\GitHub\\Ml_Bank\\venv\\Lib\\site-packages\\kedro\\</span> <span style=\"color: #7f7f7f; text-decoration-color: #7f7f7f\">               </span>\n",
       "<span style=\"color: #7fbfbf; text-decoration-color: #7fbfbf\">                    </span>         <span style=\"color: #008000; text-decoration-color: #008000\">framework\\project\\rich_logging.yml'</span> as logging configuration.          <span style=\"color: #7f7f7f; text-decoration-color: #7f7f7f\">               </span>\n",
       "</pre>\n"
      ],
      "text/plain": [
       "\u001b[2;36m[09/15/25 19:56:01]\u001b[0m\u001b[2;36m \u001b[0m\u001b[34mINFO    \u001b[0m Using                                                                  \u001b]8;id=157903;file://C:\\Users\\Kevin\\Documents\\GitHub\\Ml_Bank\\venv\\Lib\\site-packages\\kedro\\framework\\project\\__init__.py\u001b\\\u001b[2m__init__.py\u001b[0m\u001b]8;;\u001b\\\u001b[2m:\u001b[0m\u001b]8;id=692920;file://C:\\Users\\Kevin\\Documents\\GitHub\\Ml_Bank\\venv\\Lib\\site-packages\\kedro\\framework\\project\\__init__.py#270\u001b\\\u001b[2m270\u001b[0m\u001b]8;;\u001b\\\n",
       "\u001b[2;36m                    \u001b[0m         \u001b[32m'C:\\Users\\Kevin\\Documents\\GitHub\\Ml_Bank\\venv\\Lib\\site-packages\\kedro\\\u001b[0m \u001b[2m               \u001b[0m\n",
       "\u001b[2;36m                    \u001b[0m         \u001b[32mframework\\project\\rich_logging.yml'\u001b[0m as logging configuration.          \u001b[2m               \u001b[0m\n"
      ]
     },
     "metadata": {},
     "output_type": "display_data"
    },
    {
     "data": {
      "text/html": [
       "<pre style=\"white-space:pre;overflow-x:auto;line-height:normal;font-family:Menlo,'DejaVu Sans Mono',consolas,'Courier New',monospace\"><span style=\"color: #7fbfbf; text-decoration-color: #7fbfbf\">[09/15/25 19:56:02] </span><span style=\"color: #000080; text-decoration-color: #000080\">INFO    </span> Registered line magic <span style=\"color: #008000; text-decoration-color: #008000\">'%reload_kedro'</span>                                   <a href=\"file://C:\\Users\\Kevin\\Documents\\GitHub\\Ml_Bank\\venv\\Lib\\site-packages\\kedro\\ipython\\__init__.py\" target=\"_blank\"><span style=\"color: #7f7f7f; text-decoration-color: #7f7f7f\">__init__.py</span></a><span style=\"color: #7f7f7f; text-decoration-color: #7f7f7f\">:</span><a href=\"file://C:\\Users\\Kevin\\Documents\\GitHub\\Ml_Bank\\venv\\Lib\\site-packages\\kedro\\ipython\\__init__.py#63\" target=\"_blank\"><span style=\"color: #7f7f7f; text-decoration-color: #7f7f7f\">63</span></a>\n",
       "</pre>\n"
      ],
      "text/plain": [
       "\u001b[2;36m[09/15/25 19:56:02]\u001b[0m\u001b[2;36m \u001b[0m\u001b[34mINFO    \u001b[0m Registered line magic \u001b[32m'%reload_kedro'\u001b[0m                                   \u001b]8;id=582106;file://C:\\Users\\Kevin\\Documents\\GitHub\\Ml_Bank\\venv\\Lib\\site-packages\\kedro\\ipython\\__init__.py\u001b\\\u001b[2m__init__.py\u001b[0m\u001b]8;;\u001b\\\u001b[2m:\u001b[0m\u001b]8;id=565625;file://C:\\Users\\Kevin\\Documents\\GitHub\\Ml_Bank\\venv\\Lib\\site-packages\\kedro\\ipython\\__init__.py#63\u001b\\\u001b[2m63\u001b[0m\u001b]8;;\u001b\\\n"
      ]
     },
     "metadata": {},
     "output_type": "display_data"
    },
    {
     "data": {
      "text/html": [
       "<pre style=\"white-space:pre;overflow-x:auto;line-height:normal;font-family:Menlo,'DejaVu Sans Mono',consolas,'Courier New',monospace\"><span style=\"color: #7fbfbf; text-decoration-color: #7fbfbf\">                    </span><span style=\"color: #000080; text-decoration-color: #000080\">INFO    </span> Registered line magic <span style=\"color: #008000; text-decoration-color: #008000\">'%load_node'</span>                                      <a href=\"file://C:\\Users\\Kevin\\Documents\\GitHub\\Ml_Bank\\venv\\Lib\\site-packages\\kedro\\ipython\\__init__.py\" target=\"_blank\"><span style=\"color: #7f7f7f; text-decoration-color: #7f7f7f\">__init__.py</span></a><span style=\"color: #7f7f7f; text-decoration-color: #7f7f7f\">:</span><a href=\"file://C:\\Users\\Kevin\\Documents\\GitHub\\Ml_Bank\\venv\\Lib\\site-packages\\kedro\\ipython\\__init__.py#65\" target=\"_blank\"><span style=\"color: #7f7f7f; text-decoration-color: #7f7f7f\">65</span></a>\n",
       "</pre>\n"
      ],
      "text/plain": [
       "\u001b[2;36m                   \u001b[0m\u001b[2;36m \u001b[0m\u001b[34mINFO    \u001b[0m Registered line magic \u001b[32m'%load_node'\u001b[0m                                      \u001b]8;id=222886;file://C:\\Users\\Kevin\\Documents\\GitHub\\Ml_Bank\\venv\\Lib\\site-packages\\kedro\\ipython\\__init__.py\u001b\\\u001b[2m__init__.py\u001b[0m\u001b]8;;\u001b\\\u001b[2m:\u001b[0m\u001b]8;id=489825;file://C:\\Users\\Kevin\\Documents\\GitHub\\Ml_Bank\\venv\\Lib\\site-packages\\kedro\\ipython\\__init__.py#65\u001b\\\u001b[2m65\u001b[0m\u001b]8;;\u001b\\\n"
      ]
     },
     "metadata": {},
     "output_type": "display_data"
    },
    {
     "data": {
      "text/html": [
       "<pre style=\"white-space:pre;overflow-x:auto;line-height:normal;font-family:Menlo,'DejaVu Sans Mono',consolas,'Courier New',monospace\"><span style=\"color: #7fbfbf; text-decoration-color: #7fbfbf\">                    </span><span style=\"color: #000080; text-decoration-color: #000080\">INFO    </span> Resolved project path as:                                              <a href=\"file://C:\\Users\\Kevin\\Documents\\GitHub\\Ml_Bank\\venv\\Lib\\site-packages\\kedro\\ipython\\__init__.py\" target=\"_blank\"><span style=\"color: #7f7f7f; text-decoration-color: #7f7f7f\">__init__.py</span></a><span style=\"color: #7f7f7f; text-decoration-color: #7f7f7f\">:</span><a href=\"file://C:\\Users\\Kevin\\Documents\\GitHub\\Ml_Bank\\venv\\Lib\\site-packages\\kedro\\ipython\\__init__.py#180\" target=\"_blank\"><span style=\"color: #7f7f7f; text-decoration-color: #7f7f7f\">180</span></a>\n",
       "<span style=\"color: #7fbfbf; text-decoration-color: #7fbfbf\">                    </span>         C:\\Users\\Kevin\\Documents\\GitHub\\Ml_Bank\\proyecto-ml-sebastiancarrera-k <span style=\"color: #7f7f7f; text-decoration-color: #7f7f7f\">               </span>\n",
       "<span style=\"color: #7fbfbf; text-decoration-color: #7fbfbf\">                    </span>         evinvivanco.                                                           <span style=\"color: #7f7f7f; text-decoration-color: #7f7f7f\">               </span>\n",
       "<span style=\"color: #7fbfbf; text-decoration-color: #7fbfbf\">                    </span>         To set a different path, run <span style=\"color: #008000; text-decoration-color: #008000\">'%reload_kedro &lt;project_root&gt;'</span>            <span style=\"color: #7f7f7f; text-decoration-color: #7f7f7f\">               </span>\n",
       "</pre>\n"
      ],
      "text/plain": [
       "\u001b[2;36m                   \u001b[0m\u001b[2;36m \u001b[0m\u001b[34mINFO    \u001b[0m Resolved project path as:                                              \u001b]8;id=40700;file://C:\\Users\\Kevin\\Documents\\GitHub\\Ml_Bank\\venv\\Lib\\site-packages\\kedro\\ipython\\__init__.py\u001b\\\u001b[2m__init__.py\u001b[0m\u001b]8;;\u001b\\\u001b[2m:\u001b[0m\u001b]8;id=227848;file://C:\\Users\\Kevin\\Documents\\GitHub\\Ml_Bank\\venv\\Lib\\site-packages\\kedro\\ipython\\__init__.py#180\u001b\\\u001b[2m180\u001b[0m\u001b]8;;\u001b\\\n",
       "\u001b[2;36m                    \u001b[0m         C:\\Users\\Kevin\\Documents\\GitHub\\Ml_Bank\\proyecto-ml-sebastiancarrera-k \u001b[2m               \u001b[0m\n",
       "\u001b[2;36m                    \u001b[0m         evinvivanco.                                                           \u001b[2m               \u001b[0m\n",
       "\u001b[2;36m                    \u001b[0m         To set a different path, run \u001b[32m'%reload_kedro \u001b[0m\u001b[32m<\u001b[0m\u001b[32mproject_root\u001b[0m\u001b[32m>\u001b[0m\u001b[32m'\u001b[0m            \u001b[2m               \u001b[0m\n"
      ]
     },
     "metadata": {},
     "output_type": "display_data"
    },
    {
     "data": {
      "text/html": [
       "<pre style=\"white-space:pre;overflow-x:auto;line-height:normal;font-family:Menlo,'DejaVu Sans Mono',consolas,'Courier New',monospace\"><span style=\"color: #7fbfbf; text-decoration-color: #7fbfbf\">[09/15/25 19:56:04] </span><span style=\"color: #000080; text-decoration-color: #000080\">INFO    </span> Kedro is sending anonymous usage data with the sole purpose of improving <a href=\"file://C:\\Users\\Kevin\\Documents\\GitHub\\Ml_Bank\\venv\\Lib\\site-packages\\kedro_telemetry\\plugin.py\" target=\"_blank\"><span style=\"color: #7f7f7f; text-decoration-color: #7f7f7f\">plugin.py</span></a><span style=\"color: #7f7f7f; text-decoration-color: #7f7f7f\">:</span><a href=\"file://C:\\Users\\Kevin\\Documents\\GitHub\\Ml_Bank\\venv\\Lib\\site-packages\\kedro_telemetry\\plugin.py#243\" target=\"_blank\"><span style=\"color: #7f7f7f; text-decoration-color: #7f7f7f\">243</span></a>\n",
       "<span style=\"color: #7fbfbf; text-decoration-color: #7fbfbf\">                    </span>         the product. No personal data or IP addresses are stored on our side. To <span style=\"color: #7f7f7f; text-decoration-color: #7f7f7f\">             </span>\n",
       "<span style=\"color: #7fbfbf; text-decoration-color: #7fbfbf\">                    </span>         opt out, set the `KEDRO_DISABLE_TELEMETRY` or `DO_NOT_TRACK` environment <span style=\"color: #7f7f7f; text-decoration-color: #7f7f7f\">             </span>\n",
       "<span style=\"color: #7fbfbf; text-decoration-color: #7fbfbf\">                    </span>         variables, or create a `.telemetry` file in the current working          <span style=\"color: #7f7f7f; text-decoration-color: #7f7f7f\">             </span>\n",
       "<span style=\"color: #7fbfbf; text-decoration-color: #7fbfbf\">                    </span>         directory with the contents `consent: false`. To hide this message,      <span style=\"color: #7f7f7f; text-decoration-color: #7f7f7f\">             </span>\n",
       "<span style=\"color: #7fbfbf; text-decoration-color: #7fbfbf\">                    </span>         explicitly grant or deny consent. Read more at                           <span style=\"color: #7f7f7f; text-decoration-color: #7f7f7f\">             </span>\n",
       "<span style=\"color: #7fbfbf; text-decoration-color: #7fbfbf\">                    </span>         <span style=\"color: #0000ff; text-decoration-color: #0000ff; text-decoration: underline\">https://docs.kedro.org/en/stable/configuration/telemetry.html</span>            <span style=\"color: #7f7f7f; text-decoration-color: #7f7f7f\">             </span>\n",
       "</pre>\n"
      ],
      "text/plain": [
       "\u001b[2;36m[09/15/25 19:56:04]\u001b[0m\u001b[2;36m \u001b[0m\u001b[34mINFO    \u001b[0m Kedro is sending anonymous usage data with the sole purpose of improving \u001b]8;id=665164;file://C:\\Users\\Kevin\\Documents\\GitHub\\Ml_Bank\\venv\\Lib\\site-packages\\kedro_telemetry\\plugin.py\u001b\\\u001b[2mplugin.py\u001b[0m\u001b]8;;\u001b\\\u001b[2m:\u001b[0m\u001b]8;id=301263;file://C:\\Users\\Kevin\\Documents\\GitHub\\Ml_Bank\\venv\\Lib\\site-packages\\kedro_telemetry\\plugin.py#243\u001b\\\u001b[2m243\u001b[0m\u001b]8;;\u001b\\\n",
       "\u001b[2;36m                    \u001b[0m         the product. No personal data or IP addresses are stored on our side. To \u001b[2m             \u001b[0m\n",
       "\u001b[2;36m                    \u001b[0m         opt out, set the `KEDRO_DISABLE_TELEMETRY` or `DO_NOT_TRACK` environment \u001b[2m             \u001b[0m\n",
       "\u001b[2;36m                    \u001b[0m         variables, or create a `.telemetry` file in the current working          \u001b[2m             \u001b[0m\n",
       "\u001b[2;36m                    \u001b[0m         directory with the contents `consent: false`. To hide this message,      \u001b[2m             \u001b[0m\n",
       "\u001b[2;36m                    \u001b[0m         explicitly grant or deny consent. Read more at                           \u001b[2m             \u001b[0m\n",
       "\u001b[2;36m                    \u001b[0m         \u001b[4;94mhttps://docs.kedro.org/en/stable/configuration/telemetry.html\u001b[0m            \u001b[2m             \u001b[0m\n"
      ]
     },
     "metadata": {},
     "output_type": "display_data"
    },
    {
     "data": {
      "text/html": [
       "<pre style=\"white-space:pre;overflow-x:auto;line-height:normal;font-family:Menlo,'DejaVu Sans Mono',consolas,'Courier New',monospace\"><span style=\"color: #7fbfbf; text-decoration-color: #7fbfbf\">[09/15/25 19:56:05] </span><span style=\"color: #000080; text-decoration-color: #000080\">INFO    </span> Kedro project Proyecto_ML_SebastianCarrera_KevinVivanco                <a href=\"file://C:\\Users\\Kevin\\Documents\\GitHub\\Ml_Bank\\venv\\Lib\\site-packages\\kedro\\ipython\\__init__.py\" target=\"_blank\"><span style=\"color: #7f7f7f; text-decoration-color: #7f7f7f\">__init__.py</span></a><span style=\"color: #7f7f7f; text-decoration-color: #7f7f7f\">:</span><a href=\"file://C:\\Users\\Kevin\\Documents\\GitHub\\Ml_Bank\\venv\\Lib\\site-packages\\kedro\\ipython\\__init__.py#146\" target=\"_blank\"><span style=\"color: #7f7f7f; text-decoration-color: #7f7f7f\">146</span></a>\n",
       "</pre>\n"
      ],
      "text/plain": [
       "\u001b[2;36m[09/15/25 19:56:05]\u001b[0m\u001b[2;36m \u001b[0m\u001b[34mINFO    \u001b[0m Kedro project Proyecto_ML_SebastianCarrera_KevinVivanco                \u001b]8;id=556138;file://C:\\Users\\Kevin\\Documents\\GitHub\\Ml_Bank\\venv\\Lib\\site-packages\\kedro\\ipython\\__init__.py\u001b\\\u001b[2m__init__.py\u001b[0m\u001b]8;;\u001b\\\u001b[2m:\u001b[0m\u001b]8;id=472424;file://C:\\Users\\Kevin\\Documents\\GitHub\\Ml_Bank\\venv\\Lib\\site-packages\\kedro\\ipython\\__init__.py#146\u001b\\\u001b[2m146\u001b[0m\u001b]8;;\u001b\\\n"
      ]
     },
     "metadata": {},
     "output_type": "display_data"
    },
    {
     "data": {
      "text/html": [
       "<pre style=\"white-space:pre;overflow-x:auto;line-height:normal;font-family:Menlo,'DejaVu Sans Mono',consolas,'Courier New',monospace\"><span style=\"color: #7fbfbf; text-decoration-color: #7fbfbf\">                    </span><span style=\"color: #000080; text-decoration-color: #000080\">INFO    </span> Defined global variable <span style=\"color: #008000; text-decoration-color: #008000\">'context'</span>, <span style=\"color: #008000; text-decoration-color: #008000\">'session'</span>, <span style=\"color: #008000; text-decoration-color: #008000\">'catalog'</span> and            <a href=\"file://C:\\Users\\Kevin\\Documents\\GitHub\\Ml_Bank\\venv\\Lib\\site-packages\\kedro\\ipython\\__init__.py\" target=\"_blank\"><span style=\"color: #7f7f7f; text-decoration-color: #7f7f7f\">__init__.py</span></a><span style=\"color: #7f7f7f; text-decoration-color: #7f7f7f\">:</span><a href=\"file://C:\\Users\\Kevin\\Documents\\GitHub\\Ml_Bank\\venv\\Lib\\site-packages\\kedro\\ipython\\__init__.py#147\" target=\"_blank\"><span style=\"color: #7f7f7f; text-decoration-color: #7f7f7f\">147</span></a>\n",
       "<span style=\"color: #7fbfbf; text-decoration-color: #7fbfbf\">                    </span>         <span style=\"color: #008000; text-decoration-color: #008000\">'pipelines'</span>                                                            <span style=\"color: #7f7f7f; text-decoration-color: #7f7f7f\">               </span>\n",
       "</pre>\n"
      ],
      "text/plain": [
       "\u001b[2;36m                   \u001b[0m\u001b[2;36m \u001b[0m\u001b[34mINFO    \u001b[0m Defined global variable \u001b[32m'context'\u001b[0m, \u001b[32m'session'\u001b[0m, \u001b[32m'catalog'\u001b[0m and            \u001b]8;id=213070;file://C:\\Users\\Kevin\\Documents\\GitHub\\Ml_Bank\\venv\\Lib\\site-packages\\kedro\\ipython\\__init__.py\u001b\\\u001b[2m__init__.py\u001b[0m\u001b]8;;\u001b\\\u001b[2m:\u001b[0m\u001b]8;id=411201;file://C:\\Users\\Kevin\\Documents\\GitHub\\Ml_Bank\\venv\\Lib\\site-packages\\kedro\\ipython\\__init__.py#147\u001b\\\u001b[2m147\u001b[0m\u001b]8;;\u001b\\\n",
       "\u001b[2;36m                    \u001b[0m         \u001b[32m'pipelines'\u001b[0m                                                            \u001b[2m               \u001b[0m\n"
      ]
     },
     "metadata": {},
     "output_type": "display_data"
    },
    {
     "data": {
      "text/html": [
       "<pre style=\"white-space:pre;overflow-x:auto;line-height:normal;font-family:Menlo,'DejaVu Sans Mono',consolas,'Courier New',monospace\"><span style=\"color: #7fbfbf; text-decoration-color: #7fbfbf\">[09/15/25 19:56:06] </span><span style=\"color: #000080; text-decoration-color: #000080\">INFO    </span> Registered line magic <span style=\"color: #008000; text-decoration-color: #008000\">'run_viz'</span>                                        <a href=\"file://C:\\Users\\Kevin\\Documents\\GitHub\\Ml_Bank\\venv\\Lib\\site-packages\\kedro\\ipython\\__init__.py\" target=\"_blank\"><span style=\"color: #7f7f7f; text-decoration-color: #7f7f7f\">__init__.py</span></a><span style=\"color: #7f7f7f; text-decoration-color: #7f7f7f\">:</span><a href=\"file://C:\\Users\\Kevin\\Documents\\GitHub\\Ml_Bank\\venv\\Lib\\site-packages\\kedro\\ipython\\__init__.py#153\" target=\"_blank\"><span style=\"color: #7f7f7f; text-decoration-color: #7f7f7f\">153</span></a>\n",
       "</pre>\n"
      ],
      "text/plain": [
       "\u001b[2;36m[09/15/25 19:56:06]\u001b[0m\u001b[2;36m \u001b[0m\u001b[34mINFO    \u001b[0m Registered line magic \u001b[32m'run_viz'\u001b[0m                                        \u001b]8;id=750925;file://C:\\Users\\Kevin\\Documents\\GitHub\\Ml_Bank\\venv\\Lib\\site-packages\\kedro\\ipython\\__init__.py\u001b\\\u001b[2m__init__.py\u001b[0m\u001b]8;;\u001b\\\u001b[2m:\u001b[0m\u001b]8;id=96001;file://C:\\Users\\Kevin\\Documents\\GitHub\\Ml_Bank\\venv\\Lib\\site-packages\\kedro\\ipython\\__init__.py#153\u001b\\\u001b[2m153\u001b[0m\u001b]8;;\u001b\\\n"
      ]
     },
     "metadata": {},
     "output_type": "display_data"
    }
   ],
   "source": [
    "# 🔌 Cargar la extensión de Kedro en Jupyter\n",
    "%load_ext kedro.ipython\n",
    "import pandas as pd\n",
    "import seaborn as sns\n",
    "import matplotlib.pyplot as plt"
   ]
  },
  {
   "cell_type": "code",
   "execution_count": 2,
   "id": "0642aacd-33f6-43ce-8bc9-716f843fdc9e",
   "metadata": {},
   "outputs": [
    {
     "data": {
      "text/html": [
       "<pre style=\"white-space:pre;overflow-x:auto;line-height:normal;font-family:Menlo,'DejaVu Sans Mono',consolas,'Courier New',monospace\"><span style=\"color: #7fbfbf; text-decoration-color: #7fbfbf\">[09/15/25 19:56:10] </span><span style=\"color: #000080; text-decoration-color: #000080\">INFO    </span> Loading data from <span style=\"color: #ff8700; text-decoration-color: #ff8700\">NIV_cleaned_dataset</span> <span style=\"font-weight: bold\">(</span>CSVDataset<span style=\"font-weight: bold\">)</span><span style=\"color: #808000; text-decoration-color: #808000\">...</span>             <a href=\"file://C:\\Users\\Kevin\\Documents\\GitHub\\Ml_Bank\\venv\\Lib\\site-packages\\kedro\\io\\data_catalog.py\" target=\"_blank\"><span style=\"color: #7f7f7f; text-decoration-color: #7f7f7f\">data_catalog.py</span></a><span style=\"color: #7f7f7f; text-decoration-color: #7f7f7f\">:</span><a href=\"file://C:\\Users\\Kevin\\Documents\\GitHub\\Ml_Bank\\venv\\Lib\\site-packages\\kedro\\io\\data_catalog.py#1046\" target=\"_blank\"><span style=\"color: #7f7f7f; text-decoration-color: #7f7f7f\">1046</span></a>\n",
       "</pre>\n"
      ],
      "text/plain": [
       "\u001b[2;36m[09/15/25 19:56:10]\u001b[0m\u001b[2;36m \u001b[0m\u001b[34mINFO    \u001b[0m Loading data from \u001b[38;5;208mNIV_cleaned_dataset\u001b[0m \u001b[1m(\u001b[0mCSVDataset\u001b[1m)\u001b[0m\u001b[33m...\u001b[0m             \u001b]8;id=95098;file://C:\\Users\\Kevin\\Documents\\GitHub\\Ml_Bank\\venv\\Lib\\site-packages\\kedro\\io\\data_catalog.py\u001b\\\u001b[2mdata_catalog.py\u001b[0m\u001b]8;;\u001b\\\u001b[2m:\u001b[0m\u001b]8;id=484206;file://C:\\Users\\Kevin\\Documents\\GitHub\\Ml_Bank\\venv\\Lib\\site-packages\\kedro\\io\\data_catalog.py#1046\u001b\\\u001b[2m1046\u001b[0m\u001b]8;;\u001b\\\n"
      ]
     },
     "metadata": {},
     "output_type": "display_data"
    },
    {
     "data": {
      "text/html": [
       "<pre style=\"white-space:pre;overflow-x:auto;line-height:normal;font-family:Menlo,'DejaVu Sans Mono',consolas,'Courier New',monospace\"><span style=\"color: #7fbfbf; text-decoration-color: #7fbfbf\">[09/15/25 19:56:13] </span><span style=\"color: #000080; text-decoration-color: #000080\">INFO    </span> Loading data from <span style=\"color: #ff8700; text-decoration-color: #ff8700\">NIV_customer_agg</span> <span style=\"font-weight: bold\">(</span>CSVDataset<span style=\"font-weight: bold\">)</span><span style=\"color: #808000; text-decoration-color: #808000\">...</span>                <a href=\"file://C:\\Users\\Kevin\\Documents\\GitHub\\Ml_Bank\\venv\\Lib\\site-packages\\kedro\\io\\data_catalog.py\" target=\"_blank\"><span style=\"color: #7f7f7f; text-decoration-color: #7f7f7f\">data_catalog.py</span></a><span style=\"color: #7f7f7f; text-decoration-color: #7f7f7f\">:</span><a href=\"file://C:\\Users\\Kevin\\Documents\\GitHub\\Ml_Bank\\venv\\Lib\\site-packages\\kedro\\io\\data_catalog.py#1046\" target=\"_blank\"><span style=\"color: #7f7f7f; text-decoration-color: #7f7f7f\">1046</span></a>\n",
       "</pre>\n"
      ],
      "text/plain": [
       "\u001b[2;36m[09/15/25 19:56:13]\u001b[0m\u001b[2;36m \u001b[0m\u001b[34mINFO    \u001b[0m Loading data from \u001b[38;5;208mNIV_customer_agg\u001b[0m \u001b[1m(\u001b[0mCSVDataset\u001b[1m)\u001b[0m\u001b[33m...\u001b[0m                \u001b]8;id=972589;file://C:\\Users\\Kevin\\Documents\\GitHub\\Ml_Bank\\venv\\Lib\\site-packages\\kedro\\io\\data_catalog.py\u001b\\\u001b[2mdata_catalog.py\u001b[0m\u001b]8;;\u001b\\\u001b[2m:\u001b[0m\u001b]8;id=576041;file://C:\\Users\\Kevin\\Documents\\GitHub\\Ml_Bank\\venv\\Lib\\site-packages\\kedro\\io\\data_catalog.py#1046\u001b\\\u001b[2m1046\u001b[0m\u001b]8;;\u001b\\\n"
      ]
     },
     "metadata": {},
     "output_type": "display_data"
    },
    {
     "data": {
      "text/html": [
       "<pre style=\"white-space:pre;overflow-x:auto;line-height:normal;font-family:Menlo,'DejaVu Sans Mono',consolas,'Courier New',monospace\"><span style=\"color: #7fbfbf; text-decoration-color: #7fbfbf\">[09/15/25 19:56:15] </span><span style=\"color: #000080; text-decoration-color: #000080\">INFO    </span> Loading data from <span style=\"color: #ff8700; text-decoration-color: #ff8700\">NIV_RFM</span> <span style=\"font-weight: bold\">(</span>CSVDataset<span style=\"font-weight: bold\">)</span><span style=\"color: #808000; text-decoration-color: #808000\">...</span>                         <a href=\"file://C:\\Users\\Kevin\\Documents\\GitHub\\Ml_Bank\\venv\\Lib\\site-packages\\kedro\\io\\data_catalog.py\" target=\"_blank\"><span style=\"color: #7f7f7f; text-decoration-color: #7f7f7f\">data_catalog.py</span></a><span style=\"color: #7f7f7f; text-decoration-color: #7f7f7f\">:</span><a href=\"file://C:\\Users\\Kevin\\Documents\\GitHub\\Ml_Bank\\venv\\Lib\\site-packages\\kedro\\io\\data_catalog.py#1046\" target=\"_blank\"><span style=\"color: #7f7f7f; text-decoration-color: #7f7f7f\">1046</span></a>\n",
       "</pre>\n"
      ],
      "text/plain": [
       "\u001b[2;36m[09/15/25 19:56:15]\u001b[0m\u001b[2;36m \u001b[0m\u001b[34mINFO    \u001b[0m Loading data from \u001b[38;5;208mNIV_RFM\u001b[0m \u001b[1m(\u001b[0mCSVDataset\u001b[1m)\u001b[0m\u001b[33m...\u001b[0m                         \u001b]8;id=886347;file://C:\\Users\\Kevin\\Documents\\GitHub\\Ml_Bank\\venv\\Lib\\site-packages\\kedro\\io\\data_catalog.py\u001b\\\u001b[2mdata_catalog.py\u001b[0m\u001b]8;;\u001b\\\u001b[2m:\u001b[0m\u001b]8;id=782373;file://C:\\Users\\Kevin\\Documents\\GitHub\\Ml_Bank\\venv\\Lib\\site-packages\\kedro\\io\\data_catalog.py#1046\u001b\\\u001b[2m1046\u001b[0m\u001b]8;;\u001b\\\n"
      ]
     },
     "metadata": {},
     "output_type": "display_data"
    },
    {
     "name": "stdout",
     "output_type": "stream",
     "text": [
      "Cleaned: (984247, 6)\n",
      "Customer: (838370, 11)\n",
      "RFM: (838370, 6)\n"
     ]
    }
   ],
   "source": [
    "\n",
    "# Cargar datasets intermedios (ESTOS YA TIENEN VARIABLES QUE CONSIDERAMOS IRRELEVANTES \" UNNAMED / VAR REDUNDATE)\n",
    "df_cleaned = catalog.load(\"NIV_cleaned_dataset\")\n",
    "df_customer = catalog.load(\"NIV_customer_agg\")\n",
    "df_rfm = catalog.load(\"NIV_RFM\")\n",
    "\n",
    "\n",
    "print(\"Cleaned:\", df_cleaned.shape)\n",
    "print(\"Customer:\", df_customer.shape)\n",
    "print(\"RFM:\", df_rfm.shape)"
   ]
  },
  {
   "cell_type": "markdown",
   "id": "61b9f542-7cbb-4351-bc76-51d714a24d13",
   "metadata": {},
   "source": [
    "ELIMINAR NULOS DE DATASETS \"CLEANED\" Y \"CUSTOMER\"\n",
    "Motivo: Cantidad menor al 1% (11 filas)"
   ]
  },
  {
   "cell_type": "code",
   "execution_count": 10,
   "id": "9d7b4ea5-dda1-424d-9138-5915f62c818c",
   "metadata": {},
   "outputs": [
    {
     "name": "stdout",
     "output_type": "stream",
     "text": [
      "Shape antes de eliminar nulos: (984247, 6)\n",
      "Nulos restantes por columna:\n",
      " TransactionID              0\n",
      "CustomerID                 0\n",
      "CustLocation               7\n",
      "TransactionDate            0\n",
      "TransactionTime            0\n",
      "TransactionAmount (INR)    0\n",
      "dtype: int64\n",
      "Shape después de eliminar nulos: (984240, 6)\n",
      "Nulos restantes por columna:\n",
      " TransactionID              0\n",
      "CustomerID                 0\n",
      "CustLocation               0\n",
      "TransactionDate            0\n",
      "TransactionTime            0\n",
      "TransactionAmount (INR)    0\n",
      "dtype: int64\n",
      "Shape antes de eliminar nulos: (838370, 11)\n",
      "Nulos restantes por columna:\n",
      " CustomerID        0\n",
      "txn_count         0\n",
      "total_spent       0\n",
      "avg_spent         0\n",
      "max_spent         0\n",
      "avg_balance       0\n",
      "first_txn_date    0\n",
      "last_txn_date     0\n",
      "recency_days      0\n",
      "tenure_days       0\n",
      "txn_per_day       0\n",
      "dtype: int64\n",
      "Shape después de eliminar nulos: (838370, 11)\n",
      "Nulos restantes por columna:\n",
      " CustomerID        0\n",
      "txn_count         0\n",
      "total_spent       0\n",
      "avg_spent         0\n",
      "max_spent         0\n",
      "avg_balance       0\n",
      "first_txn_date    0\n",
      "last_txn_date     0\n",
      "recency_days      0\n",
      "tenure_days       0\n",
      "txn_per_day       0\n",
      "dtype: int64\n"
     ]
    }
   ],
   "source": [
    "#Eliminar nulos porque son despreciales (7 o 10)\n",
    "print(\"Shape antes de eliminar nulos:\", df_cleaned.shape)\n",
    "print(\"Nulos restantes por columna:\\n\", df_cleaned.isnull().sum())\n",
    "df_cleaned = df_cleaned.dropna()\n",
    "print(\"Shape después de eliminar nulos:\", df_cleaned.shape)\n",
    "print(\"Nulos restantes por columna:\\n\", df_cleaned.isnull().sum())\n",
    "\n",
    "\n",
    "print(\"Shape antes de eliminar nulos:\", df_customer.shape)\n",
    "print(\"Nulos restantes por columna:\\n\", df_customer.isnull().sum())\n",
    "df_customer = df_customer.dropna()\n",
    "print(\"Shape después de eliminar nulos:\", df_customer.shape)\n",
    "print(\"Nulos restantes por columna:\\n\", df_customer.isnull().sum())\n",
    "\n"
   ]
  },
  {
   "cell_type": "markdown",
   "id": "0654bac4-25ed-4be0-b60d-c4ae63148da4",
   "metadata": {},
   "source": [
    "## Transformación de variables a u formato correcto"
   ]
  },
  {
   "cell_type": "markdown",
   "id": "abce0dab-03fa-4ad4-be2a-f03f2b1a6437",
   "metadata": {},
   "source": [
    "### 1. df_cleaned"
   ]
  },
  {
   "cell_type": "code",
   "execution_count": 3,
   "id": "cd680720-53f7-4632-ba8b-765e4a25c974",
   "metadata": {},
   "outputs": [
    {
     "name": "stdout",
     "output_type": "stream",
     "text": [
      "Transformaciones aplicadas a df_cleaned\n",
      "<class 'pandas.core.frame.DataFrame'>\n",
      "RangeIndex: 984247 entries, 0 to 984246\n",
      "Data columns (total 6 columns):\n",
      " #   Column                   Non-Null Count   Dtype         \n",
      "---  ------                   --------------   -----         \n",
      " 0   TransactionID            984247 non-null  string        \n",
      " 1   CustomerID               984247 non-null  string        \n",
      " 2   CustLocation             984240 non-null  category      \n",
      " 3   TransactionDate          984247 non-null  datetime64[ns]\n",
      " 4   TransactionTime          984247 non-null  object        \n",
      " 5   TransactionAmount (INR)  984247 non-null  float64       \n",
      "dtypes: category(1), datetime64[ns](1), float64(1), object(1), string(2)\n",
      "memory usage: 39.6+ MB\n",
      "None\n",
      "  TransactionID CustomerID CustLocation TransactionDate TransactionTime  \\\n",
      "0            T1   C5841053   JAMSHEDPUR      2016-08-02        14:32:07   \n",
      "1            T2   C2142763      JHAJJAR      2016-08-02        14:18:58   \n",
      "2            T3   C4417068       MUMBAI      2016-08-02        14:27:12   \n",
      "3            T4   C5342380       MUMBAI      2016-08-02        14:27:14   \n",
      "4            T5   C9031234  NAVI MUMBAI      2016-08-02        18:11:56   \n",
      "\n",
      "   TransactionAmount (INR)  \n",
      "0                     25.0  \n",
      "1                  27999.0  \n",
      "2                    459.0  \n",
      "3                   2060.0  \n",
      "4                   1762.5  \n",
      "Nulos restantes por columna:\n",
      " TransactionID              0\n",
      "CustomerID                 0\n",
      "CustLocation               7\n",
      "TransactionDate            0\n",
      "TransactionTime            0\n",
      "TransactionAmount (INR)    0\n",
      "dtype: int64\n"
     ]
    }
   ],
   "source": [
    "# 1. TransactionDate → datetime\n",
    "df_cleaned[\"TransactionDate\"] = pd.to_datetime(\n",
    "    df_cleaned[\"TransactionDate\"], errors=\"coerce\"\n",
    ")\n",
    "\n",
    "# 2. TransactionTime → datetime (solo hora)\n",
    "df_cleaned[\"TransactionTime\"] = pd.to_datetime(\n",
    "    df_cleaned[\"TransactionTime\"], format=\"%H:%M:%S\", errors=\"coerce\"\n",
    ").dt.time\n",
    "\n",
    "# 3. CustLocation → categoría\n",
    "df_cleaned[\"CustLocation\"] = df_cleaned[\"CustLocation\"].astype(\"category\")\n",
    "\n",
    "# 4. IDs → string explícito\n",
    "df_cleaned[\"TransactionID\"] = df_cleaned[\"TransactionID\"].astype(\"string\")\n",
    "df_cleaned[\"CustomerID\"] = df_cleaned[\"CustomerID\"].astype(\"string\")\n",
    "\n",
    "print(\"Transformaciones aplicadas a df_cleaned\")\n",
    "print(df_cleaned.info())\n",
    "print(df_cleaned.head())\n",
    "print(\"Nulos restantes por columna:\\n\", df_cleaned.isnull().sum())\n"
   ]
  },
  {
   "cell_type": "markdown",
   "id": "65367f4a-332a-48db-9c30-812b75adcb52",
   "metadata": {},
   "source": [
    "### 2. df_customer"
   ]
  },
  {
   "cell_type": "code",
   "execution_count": 5,
   "id": "d76ad00f-5949-4831-b22e-37a51e8a8367",
   "metadata": {},
   "outputs": [
    {
     "name": "stdout",
     "output_type": "stream",
     "text": [
      "Transformaciones aplicadas\n",
      "<class 'pandas.core.frame.DataFrame'>\n",
      "RangeIndex: 838370 entries, 0 to 838369\n",
      "Data columns (total 11 columns):\n",
      " #   Column          Non-Null Count   Dtype         \n",
      "---  ------          --------------   -----         \n",
      " 0   CustomerID      838370 non-null  string        \n",
      " 1   txn_count       838370 non-null  int64         \n",
      " 2   total_spent     838370 non-null  float64       \n",
      " 3   avg_spent       838370 non-null  float64       \n",
      " 4   max_spent       838370 non-null  float64       \n",
      " 5   avg_balance     838370 non-null  float64       \n",
      " 6   first_txn_date  838370 non-null  datetime64[ns]\n",
      " 7   last_txn_date   838370 non-null  datetime64[ns]\n",
      " 8   recency_days    838370 non-null  int64         \n",
      " 9   tenure_days     838370 non-null  int64         \n",
      " 10  txn_per_day     838370 non-null  float64       \n",
      "dtypes: datetime64[ns](2), float64(5), int64(3), string(1)\n",
      "memory usage: 70.4 MB\n",
      "None\n",
      "  CustomerID  txn_count  total_spent  avg_spent  max_spent  avg_balance  \\\n",
      "0   C1010011          2       5106.0     2553.0     4750.0    76340.635   \n",
      "1   C1010012          1       1499.0     1499.0     1499.0    24204.490   \n",
      "2   C1010014          2       1455.0      727.5     1205.0   100112.950   \n",
      "3   C1010018          1         30.0       30.0       30.0      496.180   \n",
      "4   C1010024          1       5000.0     5000.0     5000.0    87058.650   \n",
      "\n",
      "  first_txn_date last_txn_date  recency_days  tenure_days  txn_per_day  \n",
      "0     2016-08-09    2016-09-26            25           48     0.041667  \n",
      "1     2016-08-14    2016-08-14            68            0     1.000000  \n",
      "2     2016-08-01    2016-08-07            75            6     0.333333  \n",
      "3     2016-09-15    2016-09-15            36            0     1.000000  \n",
      "4     2016-08-18    2016-08-18            64            0     1.000000  \n",
      "Nulos restantes por columna:\n",
      " CustomerID        0\n",
      "txn_count         0\n",
      "total_spent       0\n",
      "avg_spent         0\n",
      "max_spent         0\n",
      "avg_balance       0\n",
      "first_txn_date    0\n",
      "last_txn_date     0\n",
      "recency_days      0\n",
      "tenure_days       0\n",
      "txn_per_day       0\n",
      "dtype: int64\n"
     ]
    }
   ],
   "source": [
    "# CustomerID → string\n",
    "df_customer[\"CustomerID\"] = df_customer[\"CustomerID\"].astype(\"string\")\n",
    "\n",
    "# Fechas → datetime\n",
    "df_customer[\"first_txn_date\"] = pd.to_datetime(df_customer[\"first_txn_date\"], errors=\"coerce\")\n",
    "df_customer[\"last_txn_date\"]  = pd.to_datetime(df_customer[\"last_txn_date\"], errors=\"coerce\")\n",
    "\n",
    "print(\"Transformaciones aplicadas\")\n",
    "print(df_customer.info())\n",
    "print(df_customer.head())\n",
    "print(\"Nulos restantes por columna:\\n\", df_customer.isnull().sum())\n"
   ]
  },
  {
   "cell_type": "markdown",
   "id": "b30e958b-1f52-49da-a96c-bed61b7b2311",
   "metadata": {},
   "source": [
    "## 3. df_rfm"
   ]
  },
  {
   "cell_type": "code",
   "execution_count": 4,
   "id": "6d64a7be-e3ea-4514-890b-9fa69a9fb518",
   "metadata": {},
   "outputs": [
    {
     "name": "stdout",
     "output_type": "stream",
     "text": [
      "Transformaciones aplicadas\n",
      "<class 'pandas.core.frame.DataFrame'>\n",
      "RangeIndex: 838370 entries, 0 to 838369\n",
      "Data columns (total 11 columns):\n",
      " #   Column          Non-Null Count   Dtype  \n",
      "---  ------          --------------   -----  \n",
      " 0   CustomerID      838370 non-null  object \n",
      " 1   txn_count       838370 non-null  int64  \n",
      " 2   total_spent     838370 non-null  float64\n",
      " 3   avg_spent       838370 non-null  float64\n",
      " 4   max_spent       838370 non-null  float64\n",
      " 5   avg_balance     838370 non-null  float64\n",
      " 6   first_txn_date  838370 non-null  object \n",
      " 7   last_txn_date   838370 non-null  object \n",
      " 8   recency_days    838370 non-null  int64  \n",
      " 9   tenure_days     838370 non-null  int64  \n",
      " 10  txn_per_day     838370 non-null  float64\n",
      "dtypes: float64(5), int64(3), object(3)\n",
      "memory usage: 70.4+ MB\n",
      "None\n",
      "  CustomerID  txn_count  total_spent  avg_spent  max_spent  avg_balance  \\\n",
      "0   C1010011          2       5106.0     2553.0     4750.0    76340.635   \n",
      "1   C1010012          1       1499.0     1499.0     1499.0    24204.490   \n",
      "2   C1010014          2       1455.0      727.5     1205.0   100112.950   \n",
      "3   C1010018          1         30.0       30.0       30.0      496.180   \n",
      "4   C1010024          1       5000.0     5000.0     5000.0    87058.650   \n",
      "\n",
      "  first_txn_date last_txn_date  recency_days  tenure_days  txn_per_day  \n",
      "0     2016-08-09    2016-09-26            25           48     0.041667  \n",
      "1     2016-08-14    2016-08-14            68            0     1.000000  \n",
      "2     2016-08-01    2016-08-07            75            6     0.333333  \n",
      "3     2016-09-15    2016-09-15            36            0     1.000000  \n",
      "4     2016-08-18    2016-08-18            64            0     1.000000  \n",
      "Nulos restantes por columna:\n",
      " CustomerID       0\n",
      "Recency          0\n",
      "Frequency        0\n",
      "Monetary         0\n",
      "RFM Score        0\n",
      "Segment_Final    0\n",
      "dtype: int64\n"
     ]
    }
   ],
   "source": [
    "# CustomerID → string\n",
    "df_rfm[\"CustomerID\"] = df_rfm[\"CustomerID\"].astype(\"string\")\n",
    "\n",
    "# Segment_Final → category\n",
    "df_rfm[\"Segment_Final\"] = df_rfm[\"Segment_Final\"].astype(\"category\")\n",
    "\n",
    "print(\"Transformaciones aplicadas\")\n",
    "print(df_customer.info())\n",
    "print(df_customer.head())\n",
    "print(\"Nulos restantes por columna:\\n\", df_rfm.isnull().sum())\n"
   ]
  },
  {
   "cell_type": "code",
   "execution_count": 6,
   "id": "22e61d08-59dd-4c8b-89be-dd4a96e8906a",
   "metadata": {},
   "outputs": [
    {
     "data": {
      "text/html": [
       "<pre style=\"white-space:pre;overflow-x:auto;line-height:normal;font-family:Menlo,'DejaVu Sans Mono',consolas,'Courier New',monospace\"><span style=\"color: #7fbfbf; text-decoration-color: #7fbfbf\">[09/15/25 19:57:00] </span><span style=\"color: #000080; text-decoration-color: #000080\">INFO    </span> Saving data to <span style=\"color: #ff8700; text-decoration-color: #ff8700\">PRI_cleaned</span> <span style=\"font-weight: bold\">(</span>CSVDataset<span style=\"font-weight: bold\">)</span><span style=\"color: #808000; text-decoration-color: #808000\">...</span>                        <a href=\"file://C:\\Users\\Kevin\\Documents\\GitHub\\Ml_Bank\\venv\\Lib\\site-packages\\kedro\\io\\data_catalog.py\" target=\"_blank\"><span style=\"color: #7f7f7f; text-decoration-color: #7f7f7f\">data_catalog.py</span></a><span style=\"color: #7f7f7f; text-decoration-color: #7f7f7f\">:</span><a href=\"file://C:\\Users\\Kevin\\Documents\\GitHub\\Ml_Bank\\venv\\Lib\\site-packages\\kedro\\io\\data_catalog.py#1006\" target=\"_blank\"><span style=\"color: #7f7f7f; text-decoration-color: #7f7f7f\">1006</span></a>\n",
       "</pre>\n"
      ],
      "text/plain": [
       "\u001b[2;36m[09/15/25 19:57:00]\u001b[0m\u001b[2;36m \u001b[0m\u001b[34mINFO    \u001b[0m Saving data to \u001b[38;5;208mPRI_cleaned\u001b[0m \u001b[1m(\u001b[0mCSVDataset\u001b[1m)\u001b[0m\u001b[33m...\u001b[0m                        \u001b]8;id=900606;file://C:\\Users\\Kevin\\Documents\\GitHub\\Ml_Bank\\venv\\Lib\\site-packages\\kedro\\io\\data_catalog.py\u001b\\\u001b[2mdata_catalog.py\u001b[0m\u001b]8;;\u001b\\\u001b[2m:\u001b[0m\u001b]8;id=431229;file://C:\\Users\\Kevin\\Documents\\GitHub\\Ml_Bank\\venv\\Lib\\site-packages\\kedro\\io\\data_catalog.py#1006\u001b\\\u001b[2m1006\u001b[0m\u001b]8;;\u001b\\\n"
      ]
     },
     "metadata": {},
     "output_type": "display_data"
    },
    {
     "data": {
      "text/html": [
       "<pre style=\"white-space:pre;overflow-x:auto;line-height:normal;font-family:Menlo,'DejaVu Sans Mono',consolas,'Courier New',monospace\"><span style=\"color: #7fbfbf; text-decoration-color: #7fbfbf\">[09/15/25 19:57:05] </span><span style=\"color: #000080; text-decoration-color: #000080\">INFO    </span> Saving data to <span style=\"color: #ff8700; text-decoration-color: #ff8700\">PRI_customer</span> <span style=\"font-weight: bold\">(</span>CSVDataset<span style=\"font-weight: bold\">)</span><span style=\"color: #808000; text-decoration-color: #808000\">...</span>                       <a href=\"file://C:\\Users\\Kevin\\Documents\\GitHub\\Ml_Bank\\venv\\Lib\\site-packages\\kedro\\io\\data_catalog.py\" target=\"_blank\"><span style=\"color: #7f7f7f; text-decoration-color: #7f7f7f\">data_catalog.py</span></a><span style=\"color: #7f7f7f; text-decoration-color: #7f7f7f\">:</span><a href=\"file://C:\\Users\\Kevin\\Documents\\GitHub\\Ml_Bank\\venv\\Lib\\site-packages\\kedro\\io\\data_catalog.py#1006\" target=\"_blank\"><span style=\"color: #7f7f7f; text-decoration-color: #7f7f7f\">1006</span></a>\n",
       "</pre>\n"
      ],
      "text/plain": [
       "\u001b[2;36m[09/15/25 19:57:05]\u001b[0m\u001b[2;36m \u001b[0m\u001b[34mINFO    \u001b[0m Saving data to \u001b[38;5;208mPRI_customer\u001b[0m \u001b[1m(\u001b[0mCSVDataset\u001b[1m)\u001b[0m\u001b[33m...\u001b[0m                       \u001b]8;id=714971;file://C:\\Users\\Kevin\\Documents\\GitHub\\Ml_Bank\\venv\\Lib\\site-packages\\kedro\\io\\data_catalog.py\u001b\\\u001b[2mdata_catalog.py\u001b[0m\u001b]8;;\u001b\\\u001b[2m:\u001b[0m\u001b]8;id=104926;file://C:\\Users\\Kevin\\Documents\\GitHub\\Ml_Bank\\venv\\Lib\\site-packages\\kedro\\io\\data_catalog.py#1006\u001b\\\u001b[2m1006\u001b[0m\u001b]8;;\u001b\\\n"
      ]
     },
     "metadata": {},
     "output_type": "display_data"
    },
    {
     "data": {
      "text/html": [
       "<pre style=\"white-space:pre;overflow-x:auto;line-height:normal;font-family:Menlo,'DejaVu Sans Mono',consolas,'Courier New',monospace\"><span style=\"color: #7fbfbf; text-decoration-color: #7fbfbf\">[09/15/25 19:57:16] </span><span style=\"color: #000080; text-decoration-color: #000080\">INFO    </span> Saving data to <span style=\"color: #ff8700; text-decoration-color: #ff8700\">PRI_rfm</span> <span style=\"font-weight: bold\">(</span>CSVDataset<span style=\"font-weight: bold\">)</span><span style=\"color: #808000; text-decoration-color: #808000\">...</span>                            <a href=\"file://C:\\Users\\Kevin\\Documents\\GitHub\\Ml_Bank\\venv\\Lib\\site-packages\\kedro\\io\\data_catalog.py\" target=\"_blank\"><span style=\"color: #7f7f7f; text-decoration-color: #7f7f7f\">data_catalog.py</span></a><span style=\"color: #7f7f7f; text-decoration-color: #7f7f7f\">:</span><a href=\"file://C:\\Users\\Kevin\\Documents\\GitHub\\Ml_Bank\\venv\\Lib\\site-packages\\kedro\\io\\data_catalog.py#1006\" target=\"_blank\"><span style=\"color: #7f7f7f; text-decoration-color: #7f7f7f\">1006</span></a>\n",
       "</pre>\n"
      ],
      "text/plain": [
       "\u001b[2;36m[09/15/25 19:57:16]\u001b[0m\u001b[2;36m \u001b[0m\u001b[34mINFO    \u001b[0m Saving data to \u001b[38;5;208mPRI_rfm\u001b[0m \u001b[1m(\u001b[0mCSVDataset\u001b[1m)\u001b[0m\u001b[33m...\u001b[0m                            \u001b]8;id=323376;file://C:\\Users\\Kevin\\Documents\\GitHub\\Ml_Bank\\venv\\Lib\\site-packages\\kedro\\io\\data_catalog.py\u001b\\\u001b[2mdata_catalog.py\u001b[0m\u001b]8;;\u001b\\\u001b[2m:\u001b[0m\u001b]8;id=747801;file://C:\\Users\\Kevin\\Documents\\GitHub\\Ml_Bank\\venv\\Lib\\site-packages\\kedro\\io\\data_catalog.py#1006\u001b\\\u001b[2m1006\u001b[0m\u001b]8;;\u001b\\\n"
      ]
     },
     "metadata": {},
     "output_type": "display_data"
    }
   ],
   "source": [
    "#Guardar los df\n",
    "catalog.save(\"PRI_cleaned\", df_cleaned)\n",
    "catalog.save(\"PRI_customer\", df_customer)\n",
    "catalog.save(\"PRI_rfm\", df_rfm)\n"
   ]
  }
 ],
 "metadata": {
  "kernelspec": {
   "display_name": "Python 3 (ipykernel)",
   "language": "python",
   "name": "python3"
  },
  "language_info": {
   "codemirror_mode": {
    "name": "ipython",
    "version": 3
   },
   "file_extension": ".py",
   "mimetype": "text/x-python",
   "name": "python",
   "nbconvert_exporter": "python",
   "pygments_lexer": "ipython3",
   "version": "3.13.4"
  }
 },
 "nbformat": 4,
 "nbformat_minor": 5
}
