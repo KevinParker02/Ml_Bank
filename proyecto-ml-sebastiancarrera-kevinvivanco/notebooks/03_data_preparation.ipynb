{
 "cells": [
  {
   "cell_type": "code",
   "execution_count": 10,
   "id": "c5ac2cd4-a029-414b-a73f-09ecce2f327e",
   "metadata": {},
   "outputs": [
    {
     "name": "stdout",
     "output_type": "stream",
     "text": [
      "The kedro.ipython extension is already loaded. To reload it, use:\n",
      "  %reload_ext kedro.ipython\n"
     ]
    }
   ],
   "source": [
    "# 🔌 Cargar la extensión de Kedro en Jupyter\n",
    "%load_ext kedro.ipython\n",
    "import pandas as pd\n",
    "import seaborn as sns\n",
    "import matplotlib.pyplot as plt"
   ]
  },
  {
   "cell_type": "code",
   "execution_count": 2,
   "id": "0642aacd-33f6-43ce-8bc9-716f843fdc9e",
   "metadata": {},
   "outputs": [
    {
     "data": {
      "text/html": [
       "<pre style=\"white-space:pre;overflow-x:auto;line-height:normal;font-family:Menlo,'DejaVu Sans Mono',consolas,'Courier New',monospace\"><span style=\"color: #7fbfbf; text-decoration-color: #7fbfbf\">[09/15/25 17:53:38] </span><span style=\"color: #000080; text-decoration-color: #000080\">INFO    </span> Loading data from <span style=\"color: #ff8700; text-decoration-color: #ff8700\">NIV_cleaned_dataset</span> <span style=\"font-weight: bold\">(</span>CSVDataset<span style=\"font-weight: bold\">)</span><span style=\"color: #808000; text-decoration-color: #808000\">...</span>             <a href=\"file://C:\\Users\\AlexandreKz\\Documents\\GitHub\\Ml_Bank\\venv\\Lib\\site-packages\\kedro\\io\\data_catalog.py\" target=\"_blank\"><span style=\"color: #7f7f7f; text-decoration-color: #7f7f7f\">data_catalog.py</span></a><span style=\"color: #7f7f7f; text-decoration-color: #7f7f7f\">:</span><a href=\"file://C:\\Users\\AlexandreKz\\Documents\\GitHub\\Ml_Bank\\venv\\Lib\\site-packages\\kedro\\io\\data_catalog.py#1046\" target=\"_blank\"><span style=\"color: #7f7f7f; text-decoration-color: #7f7f7f\">1046</span></a>\n",
       "</pre>\n"
      ],
      "text/plain": [
       "\u001b[2;36m[09/15/25 17:53:38]\u001b[0m\u001b[2;36m \u001b[0m\u001b[34mINFO    \u001b[0m Loading data from \u001b[38;5;208mNIV_cleaned_dataset\u001b[0m \u001b[1m(\u001b[0mCSVDataset\u001b[1m)\u001b[0m\u001b[33m...\u001b[0m             \u001b]8;id=48123;file://C:\\Users\\AlexandreKz\\Documents\\GitHub\\Ml_Bank\\venv\\Lib\\site-packages\\kedro\\io\\data_catalog.py\u001b\\\u001b[2mdata_catalog.py\u001b[0m\u001b]8;;\u001b\\\u001b[2m:\u001b[0m\u001b]8;id=151323;file://C:\\Users\\AlexandreKz\\Documents\\GitHub\\Ml_Bank\\venv\\Lib\\site-packages\\kedro\\io\\data_catalog.py#1046\u001b\\\u001b[2m1046\u001b[0m\u001b]8;;\u001b\\\n"
      ]
     },
     "metadata": {},
     "output_type": "display_data"
    },
    {
     "data": {
      "text/html": [
       "<pre style=\"white-space:pre;overflow-x:auto;line-height:normal;font-family:Menlo,'DejaVu Sans Mono',consolas,'Courier New',monospace\"><span style=\"color: #7fbfbf; text-decoration-color: #7fbfbf\">[09/15/25 17:53:40] </span><span style=\"color: #000080; text-decoration-color: #000080\">INFO    </span> Loading data from <span style=\"color: #ff8700; text-decoration-color: #ff8700\">NIV_customer_agg</span> <span style=\"font-weight: bold\">(</span>CSVDataset<span style=\"font-weight: bold\">)</span><span style=\"color: #808000; text-decoration-color: #808000\">...</span>                <a href=\"file://C:\\Users\\AlexandreKz\\Documents\\GitHub\\Ml_Bank\\venv\\Lib\\site-packages\\kedro\\io\\data_catalog.py\" target=\"_blank\"><span style=\"color: #7f7f7f; text-decoration-color: #7f7f7f\">data_catalog.py</span></a><span style=\"color: #7f7f7f; text-decoration-color: #7f7f7f\">:</span><a href=\"file://C:\\Users\\AlexandreKz\\Documents\\GitHub\\Ml_Bank\\venv\\Lib\\site-packages\\kedro\\io\\data_catalog.py#1046\" target=\"_blank\"><span style=\"color: #7f7f7f; text-decoration-color: #7f7f7f\">1046</span></a>\n",
       "</pre>\n"
      ],
      "text/plain": [
       "\u001b[2;36m[09/15/25 17:53:40]\u001b[0m\u001b[2;36m \u001b[0m\u001b[34mINFO    \u001b[0m Loading data from \u001b[38;5;208mNIV_customer_agg\u001b[0m \u001b[1m(\u001b[0mCSVDataset\u001b[1m)\u001b[0m\u001b[33m...\u001b[0m                \u001b]8;id=550277;file://C:\\Users\\AlexandreKz\\Documents\\GitHub\\Ml_Bank\\venv\\Lib\\site-packages\\kedro\\io\\data_catalog.py\u001b\\\u001b[2mdata_catalog.py\u001b[0m\u001b]8;;\u001b\\\u001b[2m:\u001b[0m\u001b]8;id=820708;file://C:\\Users\\AlexandreKz\\Documents\\GitHub\\Ml_Bank\\venv\\Lib\\site-packages\\kedro\\io\\data_catalog.py#1046\u001b\\\u001b[2m1046\u001b[0m\u001b]8;;\u001b\\\n"
      ]
     },
     "metadata": {},
     "output_type": "display_data"
    },
    {
     "data": {
      "text/html": [
       "<pre style=\"white-space:pre;overflow-x:auto;line-height:normal;font-family:Menlo,'DejaVu Sans Mono',consolas,'Courier New',monospace\"><span style=\"color: #7fbfbf; text-decoration-color: #7fbfbf\">[09/15/25 17:53:42] </span><span style=\"color: #000080; text-decoration-color: #000080\">INFO    </span> Loading data from <span style=\"color: #ff8700; text-decoration-color: #ff8700\">NIV_RFM</span> <span style=\"font-weight: bold\">(</span>CSVDataset<span style=\"font-weight: bold\">)</span><span style=\"color: #808000; text-decoration-color: #808000\">...</span>                         <a href=\"file://C:\\Users\\AlexandreKz\\Documents\\GitHub\\Ml_Bank\\venv\\Lib\\site-packages\\kedro\\io\\data_catalog.py\" target=\"_blank\"><span style=\"color: #7f7f7f; text-decoration-color: #7f7f7f\">data_catalog.py</span></a><span style=\"color: #7f7f7f; text-decoration-color: #7f7f7f\">:</span><a href=\"file://C:\\Users\\AlexandreKz\\Documents\\GitHub\\Ml_Bank\\venv\\Lib\\site-packages\\kedro\\io\\data_catalog.py#1046\" target=\"_blank\"><span style=\"color: #7f7f7f; text-decoration-color: #7f7f7f\">1046</span></a>\n",
       "</pre>\n"
      ],
      "text/plain": [
       "\u001b[2;36m[09/15/25 17:53:42]\u001b[0m\u001b[2;36m \u001b[0m\u001b[34mINFO    \u001b[0m Loading data from \u001b[38;5;208mNIV_RFM\u001b[0m \u001b[1m(\u001b[0mCSVDataset\u001b[1m)\u001b[0m\u001b[33m...\u001b[0m                         \u001b]8;id=841730;file://C:\\Users\\AlexandreKz\\Documents\\GitHub\\Ml_Bank\\venv\\Lib\\site-packages\\kedro\\io\\data_catalog.py\u001b\\\u001b[2mdata_catalog.py\u001b[0m\u001b]8;;\u001b\\\u001b[2m:\u001b[0m\u001b]8;id=26878;file://C:\\Users\\AlexandreKz\\Documents\\GitHub\\Ml_Bank\\venv\\Lib\\site-packages\\kedro\\io\\data_catalog.py#1046\u001b\\\u001b[2m1046\u001b[0m\u001b]8;;\u001b\\\n"
      ]
     },
     "metadata": {},
     "output_type": "display_data"
    },
    {
     "name": "stdout",
     "output_type": "stream",
     "text": [
      "Cleaned: (984247, 9)\n",
      "Customer: (838370, 14)\n",
      "RFM: (838370, 9)\n"
     ]
    }
   ],
   "source": [
    "\n",
    "# Cargar datasets intermedios (ESTOS YA TIENEN VARIABLES QUE CONSIDERAMOS IRRELEVANTES \" UNNAMED / VAR REDUNDATE)\n",
    "df_cleaned = catalog.load(\"NIV_cleaned_dataset\")\n",
    "df_customer = catalog.load(\"NIV_customer_agg\")\n",
    "df_rfm = catalog.load(\"NIV_RFM\")\n",
    "\n",
    "\n",
    "print(\"Cleaned:\", df_cleaned.shape)\n",
    "print(\"Customer:\", df_customer.shape)\n",
    "print(\"RFM:\", df_rfm.shape)"
   ]
  },
  {
   "cell_type": "markdown",
   "id": "e93b0705-10b8-4e1c-97e2-a603f1ef6f60",
   "metadata": {},
   "source": [
    "ELIMINACIÓN DE NULOS PARA LOS DATASETS \"NIV_CLEANED_DATASET\" Y \"NIV_CUSTOMER_AGG\"   \n",
    "MOTIVO: Entre los 2 suman 11 valores nulos que representan menos del 1% de los datos por lo cual son insignificantes."
   ]
  },
  {
   "cell_type": "code",
   "execution_count": 3,
   "id": "9d7b4ea5-dda1-424d-9138-5915f62c818c",
   "metadata": {},
   "outputs": [
    {
     "name": "stdout",
     "output_type": "stream",
     "text": [
      "Shape antes de eliminar nulos: (984247, 9)\n",
      "Nulos restantes por columna:\n",
      " TransactionID              0\n",
      "CustomerID                 0\n",
      "CustGender                 0\n",
      "CustLocation               7\n",
      "CustAccountBalance         0\n",
      "TransactionDate            0\n",
      "TransactionTime            0\n",
      "TransactionAmount (INR)    0\n",
      "Age                        0\n",
      "dtype: int64\n",
      "Shape después de eliminar nulos: (984240, 9)\n",
      "Nulos restantes por columna:\n",
      " TransactionID              0\n",
      "CustomerID                 0\n",
      "CustGender                 0\n",
      "CustLocation               0\n",
      "CustAccountBalance         0\n",
      "TransactionDate            0\n",
      "TransactionTime            0\n",
      "TransactionAmount (INR)    0\n",
      "Age                        0\n",
      "dtype: int64\n",
      "Shape antes de eliminar nulos: (838370, 14)\n",
      "Nulos restantes por columna:\n",
      " CustomerID               0\n",
      "txn_count                0\n",
      "total_spent              0\n",
      "avg_spent                0\n",
      "max_spent                0\n",
      "avg_balance              0\n",
      "first_txn_date           0\n",
      "last_txn_date            0\n",
      "location                 4\n",
      "gender                   0\n",
      "recency_days             0\n",
      "tenure_days              0\n",
      "txn_per_day              0\n",
      "avg_spent_pct_balance    3\n",
      "dtype: int64\n",
      "Shape después de eliminar nulos: (838363, 14)\n",
      "Nulos restantes por columna:\n",
      " CustomerID               0\n",
      "txn_count                0\n",
      "total_spent              0\n",
      "avg_spent                0\n",
      "max_spent                0\n",
      "avg_balance              0\n",
      "first_txn_date           0\n",
      "last_txn_date            0\n",
      "location                 0\n",
      "gender                   0\n",
      "recency_days             0\n",
      "tenure_days              0\n",
      "txn_per_day              0\n",
      "avg_spent_pct_balance    0\n",
      "dtype: int64\n"
     ]
    }
   ],
   "source": [
    "#Eliminar nulos porque son despreciales (7 o 10)\n",
    "print(\"Shape antes de eliminar nulos:\", df_cleaned.shape)\n",
    "print(\"Nulos restantes por columna:\\n\", df_cleaned.isnull().sum())\n",
    "df_cleaned = df_cleaned.dropna()\n",
    "print(\"Shape después de eliminar nulos:\", df_cleaned.shape)\n",
    "print(\"Nulos restantes por columna:\\n\", df_cleaned.isnull().sum())\n",
    "\n",
    "\n",
    "print(\"Shape antes de eliminar nulos:\", df_customer.shape)\n",
    "print(\"Nulos restantes por columna:\\n\", df_customer.isnull().sum())\n",
    "df_customer = df_customer.dropna()\n",
    "print(\"Shape después de eliminar nulos:\", df_customer.shape)\n",
    "print(\"Nulos restantes por columna:\\n\", df_customer.isnull().sum())\n",
    "\n"
   ]
  }
 ],
 "metadata": {
  "kernelspec": {
   "display_name": "Python 3 (ipykernel)",
   "language": "python",
   "name": "python3"
  },
  "language_info": {
   "codemirror_mode": {
    "name": "ipython",
    "version": 3
   },
   "file_extension": ".py",
   "mimetype": "text/x-python",
   "name": "python",
   "nbconvert_exporter": "python",
   "pygments_lexer": "ipython3",
   "version": "3.13.7"
  }
 },
 "nbformat": 4,
 "nbformat_minor": 5
}
