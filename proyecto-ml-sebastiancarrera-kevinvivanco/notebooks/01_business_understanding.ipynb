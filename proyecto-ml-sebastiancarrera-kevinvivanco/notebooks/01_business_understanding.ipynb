{
 "cells": [
  {
   "cell_type": "markdown",
   "id": "28ea72f3-cb06-42c1-9690-dd0a2e591311",
   "metadata": {},
   "source": [
    "# 📊 Fase 1 – Comprensión del Negocio\n"
   ]
  },
  {
   "cell_type": "markdown",
   "id": "680632c8-6470-44b6-8273-c31b1908a40f",
   "metadata": {},
   "source": [
    "## 🏦 Contexto del Proyecto\n",
    "\n",
    "Una entidad bancaria busca **mejorar la toma de decisiones estratégicas** mediante el uso de sus datos históricos de clientes y transacciones.  \n",
    "\n",
    "Actualmente, el banco cuenta con registros de **clientes, transacciones y perfiles de valor**, pero carece de un sistema predictivo robusto para:\n",
    "\n",
    "- Detectar **transacciones fraudulentas**.  \n",
    "- Identificar **clientes de alto valor** para retención.  \n",
    "- Segmentar clientes según su **recencia, frecuencia y valor monetario (RFM)**.  \n",
    "- Estimar el **valor futuro de las transacciones** para planificación financiera.  \n",
    "\n",
    "Esto genera **riesgos financieros** y pérdida de **oportunidades de negocio**.\n"
   ]
  },
  {
   "cell_type": "markdown",
   "id": "97cd6627-1699-4dfe-ba2b-a0aafb0cdc76",
   "metadata": {},
   "source": [
    "## 🎯 Objetivos del Proyecto\n",
    "\n",
    "- **General**: aprovechar datos históricos para construir un sistema de análisis predictivo y descriptivo con técnicas de Machine Learning.  \n",
    "\n",
    "- **Específicos**:  \n",
    "  - Diseñar un modelo de **clasificación** que anticipe si una transacción será fraudulenta.  \n",
    "  - Construir un modelo de **regresión** para predecir el monto promedio futuro de transacciones por cliente.  \n",
    "  - Aplicar segmentación basada en **RFM (Recency, Frequency, Monetary)** para agrupar clientes en perfiles de valor.  \n"
   ]
  },
  {
   "cell_type": "markdown",
   "id": "6af79783-d10a-438c-8545-dd1e2e615811",
   "metadata": {},
   "source": [
    "## 📂 Datasets Seleccionados\n",
    "> Ubicación: `data/01_raw/` (configurados en `conf/base/catalog.yml`)\n",
    "\n",
    "Se seleccionaron **3 datasets principales** para el desarrollo del proyecto:\n",
    "\n",
    "| Dataset           | Nivel | Uso en ML | Justificación |\n",
    "|-------------------|-------|-----------|---------------|\n",
    "| **cleaned_dataset** | Transacción | Clasificación (fraude), análisis temporal | Datos ya depurados; combina información de cliente + transacciones |\n",
    "| **customer_agg**   | Cliente | Regresión (gasto futuro), features agregadas | Resume comportamiento histórico de cada cliente (totales, promedios, recencia, frecuencia) |\n",
    "| **RFM**            | Cliente | Segmentación (clustering/perfiles) | Incluye puntajes y segmentos predefinidos (Champions, At Risk, etc.) |\n",
    "\n",
    "> Nota: el dataset **bank_customer_transactions** fue descartado al estar en formato crudo y ser redundante frente a `cleaned_dataset`.\n"
   ]
  },
  {
   "cell_type": "markdown",
   "id": "036b64bd-e783-42d7-aebc-f7aeda8febdf",
   "metadata": {},
   "source": [
    "### 1) **cleaned_dataset** (nivel: **transacción**)\n",
    "- **Qué contiene:** `TransactionID`, `CustomerID`, `CustomerDOB`, `CustGender`, `CustLocation`, `CustAccountBalance`, `TransactionDate`, `TransactionTime`, `TransactionAmount (INR)`, `Age`.\n",
    "- **Por qué se usa:** porque contiene datos **depurados** y listos para trabajar a nivel de transacción; base ideal para **clasificación de fraude** y creación de features temporales (recencia/estacionalidad).\n",
    "\n",
    "### 2) **customer_agg** (nivel: **cliente**)\n",
    "- **Qué contiene (agregados):** `txn_count`, `total_spent`, `avg_spent`, `max_spent`, `avg_balance`, `first_txn_date`, `last_txn_date`, `location`, `gender`, `recency_days`, `tenure_days`, `txn_per_day`, `avg_spent_pct_balance`.\n",
    "- **Por qué se usa:** resume el **comportamiento histórico** por cliente; útil para **regresión** (gasto futuro) y para features de modelos supervisados.\n",
    "\n",
    "### 3) **RFM** (nivel: **cliente**)\n",
    "- **Qué contiene:** `Recency`, `Frequency`, `Monetary`, `R`, `F`, `M`, `RFM Score`, `Segment`, `Segment_Final`.\n",
    "- **Por qué se usa:** permite **segmentar** rápidamente la base y validar perfiles (**Champions, At Risk, Needs Attention, Critical**).\n"
   ]
  },
  {
   "cell_type": "markdown",
   "id": "d3cf68e0-24d6-408b-975b-e16467feeeab",
   "metadata": {},
   "source": [
    "## 📌 Situación Actual\n",
    "\n",
    "- El banco posee **grandes volúmenes de datos**, pero no los utiliza en un proceso automatizado.  \n",
    "- El análisis actual es **manual y reactivo**, dificultando la detección temprana de fraude.  \n",
    "- No existen modelos predictivos que permitan **anticipar riesgos** ni proyectar el **valor futuro de clientes**.  \n"
   ]
  },
  {
   "cell_type": "markdown",
   "id": "593aa9a0-cb78-4dbb-954b-661b792d1b24",
   "metadata": {},
   "source": [
    "## 🧠 Objetivos de Machine Learning\n",
    "\n",
    "- **Clasificación** → Determinar si una transacción es **fraudulenta o legítima** (`cleaned_dataset`).  \n",
    "- **Regresión** → Estimar el **monto promedio futuro** de transacciones por cliente (`customer_agg`).  \n",
    "- **Segmentación (RFM)** → Generar perfiles de clientes (`RFM`) para estrategias de retención y marketing.  \n"
   ]
  },
  {
   "cell_type": "markdown",
   "id": "58e36b72-caeb-41fc-873b-48091acbd262",
   "metadata": {},
   "source": [
    "## 🗺️ Plan del Proyecto (CRISP-DM)\n",
    "\n",
    "| Semana | Actividad Principal | Entregable |\n",
    "|--------|---------------------|------------|\n",
    "| **1**  | Comprensión del negocio y selección de datasets | Notebook `01_business_understanding.ipynb` |\n",
    "| **2**  | Análisis exploratorio de datos (EDA) | Notebook `02_data_understanding.ipynb` |\n",
    "| **3**  | Limpieza y feature engineering | Notebook `03_data_preparation.ipynb` |\n",
    "| **4**  | Modelado y entrega final | Repositorio GitHub con README y pipelines Kedro |"
   ]
  },
  {
   "cell_type": "markdown",
   "id": "849cfa4e-14fc-4b55-8e62-1b49a1efbe2f",
   "metadata": {},
   "source": [
    "## 👥 Equipo de Trabajo\n",
    "\n",
    "- 🧑‍💻 **Sebastián Carrera**  \n",
    "- 🧑‍💻 **Kevin Vivanco**"
   ]
  },
  {
   "cell_type": "code",
   "execution_count": null,
   "id": "84180032-4ad7-4d02-ac26-f8e8c51239c4",
   "metadata": {},
   "outputs": [],
   "source": []
  }
 ],
 "metadata": {
  "kernelspec": {
   "display_name": "Python 3 (ipykernel)",
   "language": "python",
   "name": "python3"
  },
  "language_info": {
   "codemirror_mode": {
    "name": "ipython",
    "version": 3
   },
   "file_extension": ".py",
   "mimetype": "text/x-python",
   "name": "python",
   "nbconvert_exporter": "python",
   "pygments_lexer": "ipython3",
   "version": "3.13.7"
  }
 },
 "nbformat": 4,
 "nbformat_minor": 5
}
