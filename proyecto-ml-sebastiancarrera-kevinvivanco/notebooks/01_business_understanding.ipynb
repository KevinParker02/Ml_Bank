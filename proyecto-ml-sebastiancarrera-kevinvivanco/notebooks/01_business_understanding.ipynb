{
 "cells": [
  {
   "cell_type": "markdown",
   "id": "28ea72f3-cb06-42c1-9690-dd0a2e591311",
   "metadata": {},
   "source": [
    "# Fase 1 – Comprensión del Negocio\n"
   ]
  },
  {
   "cell_type": "markdown",
   "id": "680632c8-6470-44b6-8273-c31b1908a40f",
   "metadata": {},
   "source": [
    "## 🏦 Contexto del Proyecto\n",
    "\n",
    "Una entidad bancaria, proveniente de la India, busca ***mejorar la toma de decisiones estratégicas*** mediante el uso de sus datos históricos de clientes y transacciones.\n",
    "\n",
    "Actualmente, el banco cuenta con registros de **clientes, transacciones y perfiles de valor**, pero carece de un sistema predictivo robusto para:\n",
    "\n",
    "- Detectar **transacciones fraudulentas**.  \n",
    "- Identificar **clientes de alto valor** para retención.  \n",
    "- Segmentar clientes según su **recencia, frecuencia y valor monetario (RFM)**.  \n",
    "- Estimar el **valor futuro de las transacciones** para planificación financiera.  \n",
    "\n",
    "Esto genera **riesgos financieros** y pérdida de **oportunidades de negocio**.\n"
   ]
  },
  {
   "cell_type": "markdown",
   "id": "97cd6627-1699-4dfe-ba2b-a0aafb0cdc76",
   "metadata": {},
   "source": [
    "## 🎯 Objetivos del Proyecto\n",
    "\n",
    "- **General**: aprovechar datos históricos para construir un sistema de análisis predictivo y descriptivo con técnicas de Machine Learning.  \n",
    "\n",
    "- **Específicos**:  \n",
    "  - Diseñar un modelo de **clasificación** que anticipe si una transacción será fraudulenta.  \n",
    "  - Construir un modelo de **regresión** para predecir el monto promedio futuro de transacciones por cliente.  \n",
    "  - Aplicar segmentación basada en **RFM (Recency, Frequency, Monetary)** para agrupar clientes en perfiles de valor.  \n"
   ]
  },
  {
   "cell_type": "markdown",
   "id": "6af79783-d10a-438c-8545-dd1e2e615811",
   "metadata": {},
   "source": [
    "## 📂 Datasets Seleccionados\n",
    "> Ubicación: `data/01_raw/` (configurados en `conf/base/catalog.yml`)\n",
    "\n",
    "Se seleccionaron **3 datasets principales** para el desarrollo del proyecto:\n",
    "\n",
    "| Dataset           | Nivel | Uso en ML | Justificación |\n",
    "|-------------------|-------|-----------|---------------|\n",
    "| **cleaned_dataset** | Transacción | Clasificación (fraude), análisis temporal | Datos ya depurados; combina información de cliente + transacciones |\n",
    "| **customer_agg**   | Cliente | Regresión (gasto futuro), features agregadas | Resume comportamiento histórico de cada cliente (totales, promedios, recencia, frecuencia) |\n",
    "| **RFM**            | Cliente | Segmentación (clustering/perfiles) | Incluye puntajes y segmentos predefinidos (Champions, At Risk, etc.) |\n",
    "\n",
    "> Nota: el dataset **bank_customer_transactions** fue descartado al estar en formato crudo y ser redundante frente a `cleaned_dataset`.\n"
   ]
  },
  {
   "cell_type": "markdown",
   "id": "036b64bd-e783-42d7-aebc-f7aeda8febdf",
   "metadata": {},
   "source": [
    "### 1) **cleaned_dataset** (nivel: **transacción**)\n",
    "- **Qué contiene:** `TransactionID`, `CustomerID`, `CustomerDOB`, `CustGender`, `CustLocation`, `CustAccountBalance`, `TransactionDate`, `TransactionTime`, `TransactionAmount (INR)`, `Age`.\n",
    "- **Por qué se usa:** porque contiene datos **depurados** y listos para trabajar a nivel de transacción; base ideal para **clasificación de fraude** y creación de features temporales (recencia/estacionalidad).\n",
    "\n",
    "### 2) **customer_agg** (nivel: **cliente**)\n",
    "- **Qué contiene (agregados):** `txn_count`, `total_spent`, `avg_spent`, `max_spent`, `avg_balance`, `first_txn_date`, `last_txn_date`, `location`, `gender`, `recency_days`, `tenure_days`, `txn_per_day`, `avg_spent_pct_balance`.\n",
    "- **Por qué se usa:** resume el **comportamiento histórico** por cliente; útil para **regresión** (gasto futuro) y para features de modelos supervisados.\n",
    "\n",
    "### 3) **RFM** (nivel: **cliente**)\n",
    "- Este dataset contiene información relevante porque el banco busca segmentar clientes para diseñar estrategias de retención y marketing.\n",
    "- **Qué contiene:** `Recency`, `Frequency`, `Monetary`, (`R`, `F` y `M`) indica sus puntajes individuales, `RFM Score` la puntuación combinada para cada cliente, (`Segment`, `Segment_Final`) corresponden a la categoría de cliente, usada en estrategias del banco.\n",
    "- **Por qué se usa:** Entonces se usará porque permite **segmentar** rápidamente la base y validar perfiles (**Champions**: alta frecuencia, gasto alto, compras recientes. **At Risk**: solían comprar pero llevan mucho tiempo inactivos. **Needs Attention**: nivel intermedio, podrían ser recuperados. **Critical**: clientes con baja frecuencia, poco gasto y alta recencia).\n"
   ]
  },
  {
   "cell_type": "markdown",
   "id": "fb0badfc-2e68-4a42-9c57-f45964798886",
   "metadata": {},
   "source": [
    "### 4) **Significado de las variables**\n",
    "\n",
    "| Dataset         | Variable                  | Definición                                                                 |\n",
    "|-----------------|---------------------------|-----------------------------------------------------------------------------|\n",
    "| cleaned_dataset | TransactionID             | Identificador único de la transacción.                                      |\n",
    "| cleaned_dataset | CustomerID                | Identificador único del cliente.                                            |\n",
    "| cleaned_dataset | CustomerDOB               | Fecha de nacimiento del cliente.                                            |\n",
    "| cleaned_dataset | CustGender                | Género del cliente.                                                         |\n",
    "| cleaned_dataset | CustLocation              | Ubicación del cliente.                                                      |\n",
    "| cleaned_dataset | CustAccountBalance        | Saldo disponible al momento de la transacción.                              |\n",
    "| cleaned_dataset | TransactionDate           | Fecha de la transacción.                                                    |\n",
    "| cleaned_dataset | TransactionTime           | Hora de la transacción.                                                     |\n",
    "| cleaned_dataset | TransactionAmount (INR)   | Monto de la transacción en rupias indias.                                   |\n",
    "| cleaned_dataset | Age                       | Edad del cliente.                                                           |\n",
    "| customer_agg    | txn_count                 | Número de transacciones realizadas.                                         |\n",
    "| customer_agg    | total_spent               | Gasto total histórico.                                                      |\n",
    "| customer_agg    | avg_spent                 | Gasto promedio por transacción.                                             |\n",
    "| customer_agg    | max_spent                 | Monto máximo gastado en una transacción.                                    |\n",
    "| customer_agg    | avg_balance               | Saldo promedio mantenido por el cliente.                                    |\n",
    "| customer_agg    | first_txn_date            | Fecha de la primera transacción.                                            |\n",
    "| customer_agg    | last_txn_date             | Fecha de la última transacción.                                             |\n",
    "| customer_agg    | location                  | Ubicación del cliente.                                                      |\n",
    "| customer_agg    | gender                    | Género del cliente.                                                         |\n",
    "| customer_agg    | recency_days              | Días desde la última transacción.                                           |\n",
    "| customer_agg    | tenure_days               | Tiempo de relación con el banco en días.                                    |\n",
    "| customer_agg    | txn_per_day               | Frecuencia de transacciones por día.                                        |\n",
    "| customer_agg    | avg_spent_pct_balance     | Proporción promedio del gasto respecto al saldo.                            |\n",
    "| RFM             | Recency                   | Días desde la última transacción.                                           |\n",
    "| RFM             | Frequency                 | Número de transacciones en un período.                                      |\n",
    "| RFM             | Monetary                  | Monto total gastado en el período.                                          |\n",
    "| RFM             | R                         | Puntuación de recency.                                                      |\n",
    "| RFM             | F                         | Puntuación de frequency.                                                    |\n",
    "| RFM             | M                         | Puntuación de monetary.                                                     |\n",
    "| RFM             | RFM Score                 | Combinación de R, F y M en una sola métrica.                                |\n",
    "| RFM             | Segment                   | Segmento preliminar del cliente.                                            |\n",
    "| RFM             | Segment_Final             | Segmento final ajustado (*Champions, At Risk, Needs Attention, Critical*).  |\n"
   ]
  },
  {
   "cell_type": "markdown",
   "id": "d3cf68e0-24d6-408b-975b-e16467feeeab",
   "metadata": {},
   "source": [
    "## 📌 Situación Actual\n",
    "\n",
    "- El banco posee **grandes volúmenes de datos**, pero no los utiliza en un proceso automatizado.  \n",
    "- El análisis actual es **manual y reactivo**, dificultando la detección temprana de fraude.  \n",
    "- No existen modelos predictivos que permitan **anticipar riesgos** ni proyectar el **valor futuro de clientes**.  \n"
   ]
  },
  {
   "cell_type": "markdown",
   "id": "593aa9a0-cb78-4dbb-954b-661b792d1b24",
   "metadata": {
    "jp-MarkdownHeadingCollapsed": true
   },
   "source": [
    "## 🧠 Objetivos de Machine Learning\n",
    "\n",
    "- **Clasificación** → Determinar si una transacción es **fraudulenta o legítima** (`cleaned_dataset`).  \n",
    "- **Regresión** → Estimar el **monto promedio futuro** de transacciones por cliente (`customer_agg`).  \n",
    "- **Segmentación (RFM)** → Generar perfiles de clientes (`RFM`) para estrategias de retención y marketing.  \n"
   ]
  },
  {
   "cell_type": "markdown",
   "id": "58e36b72-caeb-41fc-873b-48091acbd262",
   "metadata": {},
   "source": [
    "## 🗺️ Plan del Proyecto (CRISP-DM)\n",
    "\n",
    "| Semana | Actividad Principal | Entregable |\n",
    "|--------|---------------------|------------|\n",
    "| **1**  | Comprensión del negocio | Notebook `01_business_understanding.ipynb` |\n",
    "| **2**  | Análisis exploratorio de datos (EDA) | Notebook `02_data_understanding.ipynb` |\n",
    "| **3**  | Preparación y Limpieza de los datos | Notebook `03_data_preparation.ipynb` |\n",
    "| **4**  | Modelado y entrega final | Repositorio GitHub con README y pipelines Kedro |\n",
    "| **5**  | Documentación y entrega final | Repositorio GitHub con README y pipelines Kedro |"
   ]
  },
  {
   "cell_type": "markdown",
   "id": "849cfa4e-14fc-4b55-8e62-1b49a1efbe2f",
   "metadata": {},
   "source": [
    "## 👥 Equipo de Trabajo\n",
    "\n",
    "- 🧑‍💻 **Sebastián Carrera**  \n",
    "- 🧑‍💻 **Kevin Vivanco**"
   ]
  },
  {
   "cell_type": "code",
   "execution_count": null,
   "id": "84180032-4ad7-4d02-ac26-f8e8c51239c4",
   "metadata": {},
   "outputs": [],
   "source": []
  }
 ],
 "metadata": {
  "kernelspec": {
   "display_name": "Python 3 (ipykernel)",
   "language": "python",
   "name": "python3"
  },
  "language_info": {
   "codemirror_mode": {
    "name": "ipython",
    "version": 3
   },
   "file_extension": ".py",
   "mimetype": "text/x-python",
   "name": "python",
   "nbconvert_exporter": "python",
   "pygments_lexer": "ipython3",
   "version": "3.13.4"
  }
 },
 "nbformat": 4,
 "nbformat_minor": 5
}
