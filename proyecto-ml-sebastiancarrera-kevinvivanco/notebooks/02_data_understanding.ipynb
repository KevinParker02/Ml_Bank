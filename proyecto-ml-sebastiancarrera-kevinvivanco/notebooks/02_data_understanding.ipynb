{
 "cells": [
  {
   "cell_type": "code",
   "execution_count": 1,
   "metadata": {},
   "outputs": [
    {
     "data": {
      "text/html": [
       "<pre style=\"white-space:pre;overflow-x:auto;line-height:normal;font-family:Menlo,'DejaVu Sans Mono',consolas,'Courier New',monospace\"><span style=\"color: #7fbfbf; text-decoration-color: #7fbfbf\">[09/14/25 22:51:36] </span><span style=\"color: #000080; text-decoration-color: #000080\">INFO    </span> Using                                                                  <a href=\"file://C:\\Users\\Kevin\\Documents\\GitHub\\Ml_Bank\\venv\\Lib\\site-packages\\kedro\\framework\\project\\__init__.py\" target=\"_blank\"><span style=\"color: #7f7f7f; text-decoration-color: #7f7f7f\">__init__.py</span></a><span style=\"color: #7f7f7f; text-decoration-color: #7f7f7f\">:</span><a href=\"file://C:\\Users\\Kevin\\Documents\\GitHub\\Ml_Bank\\venv\\Lib\\site-packages\\kedro\\framework\\project\\__init__.py#270\" target=\"_blank\"><span style=\"color: #7f7f7f; text-decoration-color: #7f7f7f\">270</span></a>\n",
       "<span style=\"color: #7fbfbf; text-decoration-color: #7fbfbf\">                    </span>         <span style=\"color: #008000; text-decoration-color: #008000\">'C:\\Users\\Kevin\\Documents\\GitHub\\Ml_Bank\\venv\\Lib\\site-packages\\kedro\\</span> <span style=\"color: #7f7f7f; text-decoration-color: #7f7f7f\">               </span>\n",
       "<span style=\"color: #7fbfbf; text-decoration-color: #7fbfbf\">                    </span>         <span style=\"color: #008000; text-decoration-color: #008000\">framework\\project\\rich_logging.yml'</span> as logging configuration.          <span style=\"color: #7f7f7f; text-decoration-color: #7f7f7f\">               </span>\n",
       "</pre>\n"
      ],
      "text/plain": [
       "\u001b[2;36m[09/14/25 22:51:36]\u001b[0m\u001b[2;36m \u001b[0m\u001b[34mINFO    \u001b[0m Using                                                                  \u001b]8;id=867529;file://C:\\Users\\Kevin\\Documents\\GitHub\\Ml_Bank\\venv\\Lib\\site-packages\\kedro\\framework\\project\\__init__.py\u001b\\\u001b[2m__init__.py\u001b[0m\u001b]8;;\u001b\\\u001b[2m:\u001b[0m\u001b]8;id=77581;file://C:\\Users\\Kevin\\Documents\\GitHub\\Ml_Bank\\venv\\Lib\\site-packages\\kedro\\framework\\project\\__init__.py#270\u001b\\\u001b[2m270\u001b[0m\u001b]8;;\u001b\\\n",
       "\u001b[2;36m                    \u001b[0m         \u001b[32m'C:\\Users\\Kevin\\Documents\\GitHub\\Ml_Bank\\venv\\Lib\\site-packages\\kedro\\\u001b[0m \u001b[2m               \u001b[0m\n",
       "\u001b[2;36m                    \u001b[0m         \u001b[32mframework\\project\\rich_logging.yml'\u001b[0m as logging configuration.          \u001b[2m               \u001b[0m\n"
      ]
     },
     "metadata": {},
     "output_type": "display_data"
    },
    {
     "data": {
      "text/html": [
       "<pre style=\"white-space:pre;overflow-x:auto;line-height:normal;font-family:Menlo,'DejaVu Sans Mono',consolas,'Courier New',monospace\"><span style=\"color: #7fbfbf; text-decoration-color: #7fbfbf\">                    </span><span style=\"color: #000080; text-decoration-color: #000080\">INFO    </span> Registered line magic <span style=\"color: #008000; text-decoration-color: #008000\">'%reload_kedro'</span>                                   <a href=\"file://C:\\Users\\Kevin\\Documents\\GitHub\\Ml_Bank\\venv\\Lib\\site-packages\\kedro\\ipython\\__init__.py\" target=\"_blank\"><span style=\"color: #7f7f7f; text-decoration-color: #7f7f7f\">__init__.py</span></a><span style=\"color: #7f7f7f; text-decoration-color: #7f7f7f\">:</span><a href=\"file://C:\\Users\\Kevin\\Documents\\GitHub\\Ml_Bank\\venv\\Lib\\site-packages\\kedro\\ipython\\__init__.py#63\" target=\"_blank\"><span style=\"color: #7f7f7f; text-decoration-color: #7f7f7f\">63</span></a>\n",
       "</pre>\n"
      ],
      "text/plain": [
       "\u001b[2;36m                   \u001b[0m\u001b[2;36m \u001b[0m\u001b[34mINFO    \u001b[0m Registered line magic \u001b[32m'%reload_kedro'\u001b[0m                                   \u001b]8;id=43417;file://C:\\Users\\Kevin\\Documents\\GitHub\\Ml_Bank\\venv\\Lib\\site-packages\\kedro\\ipython\\__init__.py\u001b\\\u001b[2m__init__.py\u001b[0m\u001b]8;;\u001b\\\u001b[2m:\u001b[0m\u001b]8;id=769900;file://C:\\Users\\Kevin\\Documents\\GitHub\\Ml_Bank\\venv\\Lib\\site-packages\\kedro\\ipython\\__init__.py#63\u001b\\\u001b[2m63\u001b[0m\u001b]8;;\u001b\\\n"
      ]
     },
     "metadata": {},
     "output_type": "display_data"
    },
    {
     "data": {
      "text/html": [
       "<pre style=\"white-space:pre;overflow-x:auto;line-height:normal;font-family:Menlo,'DejaVu Sans Mono',consolas,'Courier New',monospace\"><span style=\"color: #7fbfbf; text-decoration-color: #7fbfbf\">                    </span><span style=\"color: #000080; text-decoration-color: #000080\">INFO    </span> Registered line magic <span style=\"color: #008000; text-decoration-color: #008000\">'%load_node'</span>                                      <a href=\"file://C:\\Users\\Kevin\\Documents\\GitHub\\Ml_Bank\\venv\\Lib\\site-packages\\kedro\\ipython\\__init__.py\" target=\"_blank\"><span style=\"color: #7f7f7f; text-decoration-color: #7f7f7f\">__init__.py</span></a><span style=\"color: #7f7f7f; text-decoration-color: #7f7f7f\">:</span><a href=\"file://C:\\Users\\Kevin\\Documents\\GitHub\\Ml_Bank\\venv\\Lib\\site-packages\\kedro\\ipython\\__init__.py#65\" target=\"_blank\"><span style=\"color: #7f7f7f; text-decoration-color: #7f7f7f\">65</span></a>\n",
       "</pre>\n"
      ],
      "text/plain": [
       "\u001b[2;36m                   \u001b[0m\u001b[2;36m \u001b[0m\u001b[34mINFO    \u001b[0m Registered line magic \u001b[32m'%load_node'\u001b[0m                                      \u001b]8;id=965215;file://C:\\Users\\Kevin\\Documents\\GitHub\\Ml_Bank\\venv\\Lib\\site-packages\\kedro\\ipython\\__init__.py\u001b\\\u001b[2m__init__.py\u001b[0m\u001b]8;;\u001b\\\u001b[2m:\u001b[0m\u001b]8;id=758526;file://C:\\Users\\Kevin\\Documents\\GitHub\\Ml_Bank\\venv\\Lib\\site-packages\\kedro\\ipython\\__init__.py#65\u001b\\\u001b[2m65\u001b[0m\u001b]8;;\u001b\\\n"
      ]
     },
     "metadata": {},
     "output_type": "display_data"
    },
    {
     "data": {
      "text/html": [
       "<pre style=\"white-space:pre;overflow-x:auto;line-height:normal;font-family:Menlo,'DejaVu Sans Mono',consolas,'Courier New',monospace\"><span style=\"color: #7fbfbf; text-decoration-color: #7fbfbf\">                    </span><span style=\"color: #000080; text-decoration-color: #000080\">INFO    </span> Resolved project path as:                                              <a href=\"file://C:\\Users\\Kevin\\Documents\\GitHub\\Ml_Bank\\venv\\Lib\\site-packages\\kedro\\ipython\\__init__.py\" target=\"_blank\"><span style=\"color: #7f7f7f; text-decoration-color: #7f7f7f\">__init__.py</span></a><span style=\"color: #7f7f7f; text-decoration-color: #7f7f7f\">:</span><a href=\"file://C:\\Users\\Kevin\\Documents\\GitHub\\Ml_Bank\\venv\\Lib\\site-packages\\kedro\\ipython\\__init__.py#180\" target=\"_blank\"><span style=\"color: #7f7f7f; text-decoration-color: #7f7f7f\">180</span></a>\n",
       "<span style=\"color: #7fbfbf; text-decoration-color: #7fbfbf\">                    </span>         C:\\Users\\Kevin\\Documents\\GitHub\\Ml_Bank\\proyecto-ml-sebastiancarrera-k <span style=\"color: #7f7f7f; text-decoration-color: #7f7f7f\">               </span>\n",
       "<span style=\"color: #7fbfbf; text-decoration-color: #7fbfbf\">                    </span>         evinvivanco.                                                           <span style=\"color: #7f7f7f; text-decoration-color: #7f7f7f\">               </span>\n",
       "<span style=\"color: #7fbfbf; text-decoration-color: #7fbfbf\">                    </span>         To set a different path, run <span style=\"color: #008000; text-decoration-color: #008000\">'%reload_kedro &lt;project_root&gt;'</span>            <span style=\"color: #7f7f7f; text-decoration-color: #7f7f7f\">               </span>\n",
       "</pre>\n"
      ],
      "text/plain": [
       "\u001b[2;36m                   \u001b[0m\u001b[2;36m \u001b[0m\u001b[34mINFO    \u001b[0m Resolved project path as:                                              \u001b]8;id=824809;file://C:\\Users\\Kevin\\Documents\\GitHub\\Ml_Bank\\venv\\Lib\\site-packages\\kedro\\ipython\\__init__.py\u001b\\\u001b[2m__init__.py\u001b[0m\u001b]8;;\u001b\\\u001b[2m:\u001b[0m\u001b]8;id=780722;file://C:\\Users\\Kevin\\Documents\\GitHub\\Ml_Bank\\venv\\Lib\\site-packages\\kedro\\ipython\\__init__.py#180\u001b\\\u001b[2m180\u001b[0m\u001b]8;;\u001b\\\n",
       "\u001b[2;36m                    \u001b[0m         C:\\Users\\Kevin\\Documents\\GitHub\\Ml_Bank\\proyecto-ml-sebastiancarrera-k \u001b[2m               \u001b[0m\n",
       "\u001b[2;36m                    \u001b[0m         evinvivanco.                                                           \u001b[2m               \u001b[0m\n",
       "\u001b[2;36m                    \u001b[0m         To set a different path, run \u001b[32m'%reload_kedro \u001b[0m\u001b[32m<\u001b[0m\u001b[32mproject_root\u001b[0m\u001b[32m>\u001b[0m\u001b[32m'\u001b[0m            \u001b[2m               \u001b[0m\n"
      ]
     },
     "metadata": {},
     "output_type": "display_data"
    },
    {
     "data": {
      "text/html": [
       "<pre style=\"white-space:pre;overflow-x:auto;line-height:normal;font-family:Menlo,'DejaVu Sans Mono',consolas,'Courier New',monospace\"><span style=\"color: #7fbfbf; text-decoration-color: #7fbfbf\">[09/14/25 22:51:37] </span><span style=\"color: #000080; text-decoration-color: #000080\">INFO    </span> Kedro is sending anonymous usage data with the sole purpose of improving <a href=\"file://C:\\Users\\Kevin\\Documents\\GitHub\\Ml_Bank\\venv\\Lib\\site-packages\\kedro_telemetry\\plugin.py\" target=\"_blank\"><span style=\"color: #7f7f7f; text-decoration-color: #7f7f7f\">plugin.py</span></a><span style=\"color: #7f7f7f; text-decoration-color: #7f7f7f\">:</span><a href=\"file://C:\\Users\\Kevin\\Documents\\GitHub\\Ml_Bank\\venv\\Lib\\site-packages\\kedro_telemetry\\plugin.py#243\" target=\"_blank\"><span style=\"color: #7f7f7f; text-decoration-color: #7f7f7f\">243</span></a>\n",
       "<span style=\"color: #7fbfbf; text-decoration-color: #7fbfbf\">                    </span>         the product. No personal data or IP addresses are stored on our side. To <span style=\"color: #7f7f7f; text-decoration-color: #7f7f7f\">             </span>\n",
       "<span style=\"color: #7fbfbf; text-decoration-color: #7fbfbf\">                    </span>         opt out, set the `KEDRO_DISABLE_TELEMETRY` or `DO_NOT_TRACK` environment <span style=\"color: #7f7f7f; text-decoration-color: #7f7f7f\">             </span>\n",
       "<span style=\"color: #7fbfbf; text-decoration-color: #7fbfbf\">                    </span>         variables, or create a `.telemetry` file in the current working          <span style=\"color: #7f7f7f; text-decoration-color: #7f7f7f\">             </span>\n",
       "<span style=\"color: #7fbfbf; text-decoration-color: #7fbfbf\">                    </span>         directory with the contents `consent: false`. To hide this message,      <span style=\"color: #7f7f7f; text-decoration-color: #7f7f7f\">             </span>\n",
       "<span style=\"color: #7fbfbf; text-decoration-color: #7fbfbf\">                    </span>         explicitly grant or deny consent. Read more at                           <span style=\"color: #7f7f7f; text-decoration-color: #7f7f7f\">             </span>\n",
       "<span style=\"color: #7fbfbf; text-decoration-color: #7fbfbf\">                    </span>         <span style=\"color: #0000ff; text-decoration-color: #0000ff; text-decoration: underline\">https://docs.kedro.org/en/stable/configuration/telemetry.html</span>            <span style=\"color: #7f7f7f; text-decoration-color: #7f7f7f\">             </span>\n",
       "</pre>\n"
      ],
      "text/plain": [
       "\u001b[2;36m[09/14/25 22:51:37]\u001b[0m\u001b[2;36m \u001b[0m\u001b[34mINFO    \u001b[0m Kedro is sending anonymous usage data with the sole purpose of improving \u001b]8;id=681111;file://C:\\Users\\Kevin\\Documents\\GitHub\\Ml_Bank\\venv\\Lib\\site-packages\\kedro_telemetry\\plugin.py\u001b\\\u001b[2mplugin.py\u001b[0m\u001b]8;;\u001b\\\u001b[2m:\u001b[0m\u001b]8;id=742388;file://C:\\Users\\Kevin\\Documents\\GitHub\\Ml_Bank\\venv\\Lib\\site-packages\\kedro_telemetry\\plugin.py#243\u001b\\\u001b[2m243\u001b[0m\u001b]8;;\u001b\\\n",
       "\u001b[2;36m                    \u001b[0m         the product. No personal data or IP addresses are stored on our side. To \u001b[2m             \u001b[0m\n",
       "\u001b[2;36m                    \u001b[0m         opt out, set the `KEDRO_DISABLE_TELEMETRY` or `DO_NOT_TRACK` environment \u001b[2m             \u001b[0m\n",
       "\u001b[2;36m                    \u001b[0m         variables, or create a `.telemetry` file in the current working          \u001b[2m             \u001b[0m\n",
       "\u001b[2;36m                    \u001b[0m         directory with the contents `consent: false`. To hide this message,      \u001b[2m             \u001b[0m\n",
       "\u001b[2;36m                    \u001b[0m         explicitly grant or deny consent. Read more at                           \u001b[2m             \u001b[0m\n",
       "\u001b[2;36m                    \u001b[0m         \u001b[4;94mhttps://docs.kedro.org/en/stable/configuration/telemetry.html\u001b[0m            \u001b[2m             \u001b[0m\n"
      ]
     },
     "metadata": {},
     "output_type": "display_data"
    },
    {
     "data": {
      "text/html": [
       "<pre style=\"white-space:pre;overflow-x:auto;line-height:normal;font-family:Menlo,'DejaVu Sans Mono',consolas,'Courier New',monospace\"><span style=\"color: #7fbfbf; text-decoration-color: #7fbfbf\">[09/14/25 22:51:38] </span><span style=\"color: #000080; text-decoration-color: #000080\">INFO    </span> Kedro project Proyecto_ML_SebastianCarrera_KevinVivanco                <a href=\"file://C:\\Users\\Kevin\\Documents\\GitHub\\Ml_Bank\\venv\\Lib\\site-packages\\kedro\\ipython\\__init__.py\" target=\"_blank\"><span style=\"color: #7f7f7f; text-decoration-color: #7f7f7f\">__init__.py</span></a><span style=\"color: #7f7f7f; text-decoration-color: #7f7f7f\">:</span><a href=\"file://C:\\Users\\Kevin\\Documents\\GitHub\\Ml_Bank\\venv\\Lib\\site-packages\\kedro\\ipython\\__init__.py#146\" target=\"_blank\"><span style=\"color: #7f7f7f; text-decoration-color: #7f7f7f\">146</span></a>\n",
       "</pre>\n"
      ],
      "text/plain": [
       "\u001b[2;36m[09/14/25 22:51:38]\u001b[0m\u001b[2;36m \u001b[0m\u001b[34mINFO    \u001b[0m Kedro project Proyecto_ML_SebastianCarrera_KevinVivanco                \u001b]8;id=424428;file://C:\\Users\\Kevin\\Documents\\GitHub\\Ml_Bank\\venv\\Lib\\site-packages\\kedro\\ipython\\__init__.py\u001b\\\u001b[2m__init__.py\u001b[0m\u001b]8;;\u001b\\\u001b[2m:\u001b[0m\u001b]8;id=442602;file://C:\\Users\\Kevin\\Documents\\GitHub\\Ml_Bank\\venv\\Lib\\site-packages\\kedro\\ipython\\__init__.py#146\u001b\\\u001b[2m146\u001b[0m\u001b]8;;\u001b\\\n"
      ]
     },
     "metadata": {},
     "output_type": "display_data"
    },
    {
     "data": {
      "text/html": [
       "<pre style=\"white-space:pre;overflow-x:auto;line-height:normal;font-family:Menlo,'DejaVu Sans Mono',consolas,'Courier New',monospace\"><span style=\"color: #7fbfbf; text-decoration-color: #7fbfbf\">                    </span><span style=\"color: #000080; text-decoration-color: #000080\">INFO    </span> Defined global variable <span style=\"color: #008000; text-decoration-color: #008000\">'context'</span>, <span style=\"color: #008000; text-decoration-color: #008000\">'session'</span>, <span style=\"color: #008000; text-decoration-color: #008000\">'catalog'</span> and            <a href=\"file://C:\\Users\\Kevin\\Documents\\GitHub\\Ml_Bank\\venv\\Lib\\site-packages\\kedro\\ipython\\__init__.py\" target=\"_blank\"><span style=\"color: #7f7f7f; text-decoration-color: #7f7f7f\">__init__.py</span></a><span style=\"color: #7f7f7f; text-decoration-color: #7f7f7f\">:</span><a href=\"file://C:\\Users\\Kevin\\Documents\\GitHub\\Ml_Bank\\venv\\Lib\\site-packages\\kedro\\ipython\\__init__.py#147\" target=\"_blank\"><span style=\"color: #7f7f7f; text-decoration-color: #7f7f7f\">147</span></a>\n",
       "<span style=\"color: #7fbfbf; text-decoration-color: #7fbfbf\">                    </span>         <span style=\"color: #008000; text-decoration-color: #008000\">'pipelines'</span>                                                            <span style=\"color: #7f7f7f; text-decoration-color: #7f7f7f\">               </span>\n",
       "</pre>\n"
      ],
      "text/plain": [
       "\u001b[2;36m                   \u001b[0m\u001b[2;36m \u001b[0m\u001b[34mINFO    \u001b[0m Defined global variable \u001b[32m'context'\u001b[0m, \u001b[32m'session'\u001b[0m, \u001b[32m'catalog'\u001b[0m and            \u001b]8;id=925045;file://C:\\Users\\Kevin\\Documents\\GitHub\\Ml_Bank\\venv\\Lib\\site-packages\\kedro\\ipython\\__init__.py\u001b\\\u001b[2m__init__.py\u001b[0m\u001b]8;;\u001b\\\u001b[2m:\u001b[0m\u001b]8;id=80376;file://C:\\Users\\Kevin\\Documents\\GitHub\\Ml_Bank\\venv\\Lib\\site-packages\\kedro\\ipython\\__init__.py#147\u001b\\\u001b[2m147\u001b[0m\u001b]8;;\u001b\\\n",
       "\u001b[2;36m                    \u001b[0m         \u001b[32m'pipelines'\u001b[0m                                                            \u001b[2m               \u001b[0m\n"
      ]
     },
     "metadata": {},
     "output_type": "display_data"
    },
    {
     "data": {
      "text/html": [
       "<pre style=\"white-space:pre;overflow-x:auto;line-height:normal;font-family:Menlo,'DejaVu Sans Mono',consolas,'Courier New',monospace\"><span style=\"color: #7fbfbf; text-decoration-color: #7fbfbf\">[09/14/25 22:51:39] </span><span style=\"color: #000080; text-decoration-color: #000080\">INFO    </span> Registered line magic <span style=\"color: #008000; text-decoration-color: #008000\">'run_viz'</span>                                        <a href=\"file://C:\\Users\\Kevin\\Documents\\GitHub\\Ml_Bank\\venv\\Lib\\site-packages\\kedro\\ipython\\__init__.py\" target=\"_blank\"><span style=\"color: #7f7f7f; text-decoration-color: #7f7f7f\">__init__.py</span></a><span style=\"color: #7f7f7f; text-decoration-color: #7f7f7f\">:</span><a href=\"file://C:\\Users\\Kevin\\Documents\\GitHub\\Ml_Bank\\venv\\Lib\\site-packages\\kedro\\ipython\\__init__.py#153\" target=\"_blank\"><span style=\"color: #7f7f7f; text-decoration-color: #7f7f7f\">153</span></a>\n",
       "</pre>\n"
      ],
      "text/plain": [
       "\u001b[2;36m[09/14/25 22:51:39]\u001b[0m\u001b[2;36m \u001b[0m\u001b[34mINFO    \u001b[0m Registered line magic \u001b[32m'run_viz'\u001b[0m                                        \u001b]8;id=307086;file://C:\\Users\\Kevin\\Documents\\GitHub\\Ml_Bank\\venv\\Lib\\site-packages\\kedro\\ipython\\__init__.py\u001b\\\u001b[2m__init__.py\u001b[0m\u001b]8;;\u001b\\\u001b[2m:\u001b[0m\u001b]8;id=53051;file://C:\\Users\\Kevin\\Documents\\GitHub\\Ml_Bank\\venv\\Lib\\site-packages\\kedro\\ipython\\__init__.py#153\u001b\\\u001b[2m153\u001b[0m\u001b]8;;\u001b\\\n"
      ]
     },
     "metadata": {},
     "output_type": "display_data"
    }
   ],
   "source": [
    "# 🔌 Cargar la extensión de Kedro en Jupyter\n",
    "%load_ext kedro.ipython"
   ]
  },
  {
   "cell_type": "code",
   "execution_count": 2,
   "metadata": {},
   "outputs": [],
   "source": [
    "# 📌 Importar librerías necesarias\n",
    "import pandas as pd\n",
    "import matplotlib.pyplot as plt\n",
    "import seaborn as sns\n",
    "\n",
    "import pandas as pd\n",
    "import numpy as np\n",
    "from IPython.display import display"
   ]
  },
  {
   "cell_type": "code",
   "execution_count": 3,
   "metadata": {},
   "outputs": [
    {
     "data": {
      "text/html": [
       "<pre style=\"white-space:pre;overflow-x:auto;line-height:normal;font-family:Menlo,'DejaVu Sans Mono',consolas,'Courier New',monospace\"></pre>\n"
      ],
      "text/plain": []
     },
     "metadata": {},
     "output_type": "display_data"
    },
    {
     "data": {
      "text/plain": [
       "\n",
       "\u001b[1m[\u001b[0m\n",
       "    \u001b[32m'bank_customer_transactions'\u001b[0m,\n",
       "    \u001b[32m'cleaned_dataset'\u001b[0m,\n",
       "    \u001b[32m'customer_agg'\u001b[0m,\n",
       "    \u001b[32m'customers'\u001b[0m,\n",
       "    \u001b[32m'foreign_customer_dataset'\u001b[0m,\n",
       "    \u001b[32m'fraud_dataset'\u001b[0m,\n",
       "    \u001b[32m'RFM'\u001b[0m,\n",
       "    \u001b[32m'transactions'\u001b[0m,\n",
       "    \u001b[32m'NIV_cleaned_dataset'\u001b[0m,\n",
       "    \u001b[32m'NIV_customer_agg'\u001b[0m,\n",
       "    \u001b[32m'NIV_RFM'\u001b[0m,\n",
       "    \u001b[32m'report_cleaned_inicial'\u001b[0m,\n",
       "    \u001b[32m'report_customer_inicial'\u001b[0m,\n",
       "    \u001b[32m'report_rfm_inicial'\u001b[0m,\n",
       "    \u001b[32m'report_cleaned_final'\u001b[0m,\n",
       "    \u001b[32m'report_customer_final'\u001b[0m,\n",
       "    \u001b[32m'report_rfm_final'\u001b[0m,\n",
       "    \u001b[32m'parameters'\u001b[0m,\n",
       "    \u001b[32m'params:dataset_name_cleaned'\u001b[0m,\n",
       "    \u001b[32m'params:dataset_name_customer'\u001b[0m,\n",
       "    \u001b[32m'params:dataset_name_rfm'\u001b[0m,\n",
       "    \u001b[32m'params:stage_inicial'\u001b[0m,\n",
       "    \u001b[32m'params:stage_final'\u001b[0m\n",
       "\u001b[1m]\u001b[0m"
      ]
     },
     "execution_count": 3,
     "metadata": {},
     "output_type": "execute_result"
    }
   ],
   "source": [
    "# 📂 Ver todos los datasets disponibles en tu catalog.yml\n",
    "catalog.keys()\n"
   ]
  },
  {
   "cell_type": "code",
   "execution_count": 4,
   "metadata": {},
   "outputs": [
    {
     "data": {
      "text/html": [
       "<pre style=\"white-space:pre;overflow-x:auto;line-height:normal;font-family:Menlo,'DejaVu Sans Mono',consolas,'Courier New',monospace\"><span style=\"color: #7fbfbf; text-decoration-color: #7fbfbf\">[09/14/25 22:51:51] </span><span style=\"color: #000080; text-decoration-color: #000080\">INFO    </span> Loading data from <span style=\"color: #ff8700; text-decoration-color: #ff8700\">bank_customer_transactions</span> <span style=\"font-weight: bold\">(</span>CSVDataset<span style=\"font-weight: bold\">)</span><span style=\"color: #808000; text-decoration-color: #808000\">...</span>      <a href=\"file://C:\\Users\\Kevin\\Documents\\GitHub\\Ml_Bank\\venv\\Lib\\site-packages\\kedro\\io\\data_catalog.py\" target=\"_blank\"><span style=\"color: #7f7f7f; text-decoration-color: #7f7f7f\">data_catalog.py</span></a><span style=\"color: #7f7f7f; text-decoration-color: #7f7f7f\">:</span><a href=\"file://C:\\Users\\Kevin\\Documents\\GitHub\\Ml_Bank\\venv\\Lib\\site-packages\\kedro\\io\\data_catalog.py#1046\" target=\"_blank\"><span style=\"color: #7f7f7f; text-decoration-color: #7f7f7f\">1046</span></a>\n",
       "</pre>\n"
      ],
      "text/plain": [
       "\u001b[2;36m[09/14/25 22:51:51]\u001b[0m\u001b[2;36m \u001b[0m\u001b[34mINFO    \u001b[0m Loading data from \u001b[38;5;208mbank_customer_transactions\u001b[0m \u001b[1m(\u001b[0mCSVDataset\u001b[1m)\u001b[0m\u001b[33m...\u001b[0m      \u001b]8;id=283358;file://C:\\Users\\Kevin\\Documents\\GitHub\\Ml_Bank\\venv\\Lib\\site-packages\\kedro\\io\\data_catalog.py\u001b\\\u001b[2mdata_catalog.py\u001b[0m\u001b]8;;\u001b\\\u001b[2m:\u001b[0m\u001b]8;id=619260;file://C:\\Users\\Kevin\\Documents\\GitHub\\Ml_Bank\\venv\\Lib\\site-packages\\kedro\\io\\data_catalog.py#1046\u001b\\\u001b[2m1046\u001b[0m\u001b]8;;\u001b\\\n"
      ]
     },
     "metadata": {},
     "output_type": "display_data"
    },
    {
     "data": {
      "text/html": [
       "<pre style=\"white-space:pre;overflow-x:auto;line-height:normal;font-family:Menlo,'DejaVu Sans Mono',consolas,'Courier New',monospace\"><span style=\"color: #7fbfbf; text-decoration-color: #7fbfbf\">[09/14/25 22:51:53] </span><span style=\"color: #000080; text-decoration-color: #000080\">INFO    </span> Loading data from <span style=\"color: #ff8700; text-decoration-color: #ff8700\">cleaned_dataset</span> <span style=\"font-weight: bold\">(</span>CSVDataset<span style=\"font-weight: bold\">)</span><span style=\"color: #808000; text-decoration-color: #808000\">...</span>                 <a href=\"file://C:\\Users\\Kevin\\Documents\\GitHub\\Ml_Bank\\venv\\Lib\\site-packages\\kedro\\io\\data_catalog.py\" target=\"_blank\"><span style=\"color: #7f7f7f; text-decoration-color: #7f7f7f\">data_catalog.py</span></a><span style=\"color: #7f7f7f; text-decoration-color: #7f7f7f\">:</span><a href=\"file://C:\\Users\\Kevin\\Documents\\GitHub\\Ml_Bank\\venv\\Lib\\site-packages\\kedro\\io\\data_catalog.py#1046\" target=\"_blank\"><span style=\"color: #7f7f7f; text-decoration-color: #7f7f7f\">1046</span></a>\n",
       "</pre>\n"
      ],
      "text/plain": [
       "\u001b[2;36m[09/14/25 22:51:53]\u001b[0m\u001b[2;36m \u001b[0m\u001b[34mINFO    \u001b[0m Loading data from \u001b[38;5;208mcleaned_dataset\u001b[0m \u001b[1m(\u001b[0mCSVDataset\u001b[1m)\u001b[0m\u001b[33m...\u001b[0m                 \u001b]8;id=267762;file://C:\\Users\\Kevin\\Documents\\GitHub\\Ml_Bank\\venv\\Lib\\site-packages\\kedro\\io\\data_catalog.py\u001b\\\u001b[2mdata_catalog.py\u001b[0m\u001b]8;;\u001b\\\u001b[2m:\u001b[0m\u001b]8;id=750057;file://C:\\Users\\Kevin\\Documents\\GitHub\\Ml_Bank\\venv\\Lib\\site-packages\\kedro\\io\\data_catalog.py#1046\u001b\\\u001b[2m1046\u001b[0m\u001b]8;;\u001b\\\n"
      ]
     },
     "metadata": {},
     "output_type": "display_data"
    },
    {
     "data": {
      "text/html": [
       "<pre style=\"white-space:pre;overflow-x:auto;line-height:normal;font-family:Menlo,'DejaVu Sans Mono',consolas,'Courier New',monospace\"><span style=\"color: #7fbfbf; text-decoration-color: #7fbfbf\">[09/14/25 22:51:56] </span><span style=\"color: #000080; text-decoration-color: #000080\">INFO    </span> Loading data from <span style=\"color: #ff8700; text-decoration-color: #ff8700\">customer_agg</span> <span style=\"font-weight: bold\">(</span>CSVDataset<span style=\"font-weight: bold\">)</span><span style=\"color: #808000; text-decoration-color: #808000\">...</span>                    <a href=\"file://C:\\Users\\Kevin\\Documents\\GitHub\\Ml_Bank\\venv\\Lib\\site-packages\\kedro\\io\\data_catalog.py\" target=\"_blank\"><span style=\"color: #7f7f7f; text-decoration-color: #7f7f7f\">data_catalog.py</span></a><span style=\"color: #7f7f7f; text-decoration-color: #7f7f7f\">:</span><a href=\"file://C:\\Users\\Kevin\\Documents\\GitHub\\Ml_Bank\\venv\\Lib\\site-packages\\kedro\\io\\data_catalog.py#1046\" target=\"_blank\"><span style=\"color: #7f7f7f; text-decoration-color: #7f7f7f\">1046</span></a>\n",
       "</pre>\n"
      ],
      "text/plain": [
       "\u001b[2;36m[09/14/25 22:51:56]\u001b[0m\u001b[2;36m \u001b[0m\u001b[34mINFO    \u001b[0m Loading data from \u001b[38;5;208mcustomer_agg\u001b[0m \u001b[1m(\u001b[0mCSVDataset\u001b[1m)\u001b[0m\u001b[33m...\u001b[0m                    \u001b]8;id=710795;file://C:\\Users\\Kevin\\Documents\\GitHub\\Ml_Bank\\venv\\Lib\\site-packages\\kedro\\io\\data_catalog.py\u001b\\\u001b[2mdata_catalog.py\u001b[0m\u001b]8;;\u001b\\\u001b[2m:\u001b[0m\u001b]8;id=336533;file://C:\\Users\\Kevin\\Documents\\GitHub\\Ml_Bank\\venv\\Lib\\site-packages\\kedro\\io\\data_catalog.py#1046\u001b\\\u001b[2m1046\u001b[0m\u001b]8;;\u001b\\\n"
      ]
     },
     "metadata": {},
     "output_type": "display_data"
    },
    {
     "data": {
      "text/html": [
       "<pre style=\"white-space:pre;overflow-x:auto;line-height:normal;font-family:Menlo,'DejaVu Sans Mono',consolas,'Courier New',monospace\"><span style=\"color: #7fbfbf; text-decoration-color: #7fbfbf\">[09/14/25 22:51:57] </span><span style=\"color: #000080; text-decoration-color: #000080\">INFO    </span> Loading data from <span style=\"color: #ff8700; text-decoration-color: #ff8700\">customers</span> <span style=\"font-weight: bold\">(</span>CSVDataset<span style=\"font-weight: bold\">)</span><span style=\"color: #808000; text-decoration-color: #808000\">...</span>                       <a href=\"file://C:\\Users\\Kevin\\Documents\\GitHub\\Ml_Bank\\venv\\Lib\\site-packages\\kedro\\io\\data_catalog.py\" target=\"_blank\"><span style=\"color: #7f7f7f; text-decoration-color: #7f7f7f\">data_catalog.py</span></a><span style=\"color: #7f7f7f; text-decoration-color: #7f7f7f\">:</span><a href=\"file://C:\\Users\\Kevin\\Documents\\GitHub\\Ml_Bank\\venv\\Lib\\site-packages\\kedro\\io\\data_catalog.py#1046\" target=\"_blank\"><span style=\"color: #7f7f7f; text-decoration-color: #7f7f7f\">1046</span></a>\n",
       "</pre>\n"
      ],
      "text/plain": [
       "\u001b[2;36m[09/14/25 22:51:57]\u001b[0m\u001b[2;36m \u001b[0m\u001b[34mINFO    \u001b[0m Loading data from \u001b[38;5;208mcustomers\u001b[0m \u001b[1m(\u001b[0mCSVDataset\u001b[1m)\u001b[0m\u001b[33m...\u001b[0m                       \u001b]8;id=574903;file://C:\\Users\\Kevin\\Documents\\GitHub\\Ml_Bank\\venv\\Lib\\site-packages\\kedro\\io\\data_catalog.py\u001b\\\u001b[2mdata_catalog.py\u001b[0m\u001b]8;;\u001b\\\u001b[2m:\u001b[0m\u001b]8;id=582666;file://C:\\Users\\Kevin\\Documents\\GitHub\\Ml_Bank\\venv\\Lib\\site-packages\\kedro\\io\\data_catalog.py#1046\u001b\\\u001b[2m1046\u001b[0m\u001b]8;;\u001b\\\n"
      ]
     },
     "metadata": {},
     "output_type": "display_data"
    },
    {
     "data": {
      "text/html": [
       "<pre style=\"white-space:pre;overflow-x:auto;line-height:normal;font-family:Menlo,'DejaVu Sans Mono',consolas,'Courier New',monospace\"><span style=\"color: #7fbfbf; text-decoration-color: #7fbfbf\">                    </span><span style=\"color: #000080; text-decoration-color: #000080\">INFO    </span> Loading data from <span style=\"color: #ff8700; text-decoration-color: #ff8700\">foreign_customer_dataset</span> <span style=\"font-weight: bold\">(</span>CSVDataset<span style=\"font-weight: bold\">)</span><span style=\"color: #808000; text-decoration-color: #808000\">...</span>        <a href=\"file://C:\\Users\\Kevin\\Documents\\GitHub\\Ml_Bank\\venv\\Lib\\site-packages\\kedro\\io\\data_catalog.py\" target=\"_blank\"><span style=\"color: #7f7f7f; text-decoration-color: #7f7f7f\">data_catalog.py</span></a><span style=\"color: #7f7f7f; text-decoration-color: #7f7f7f\">:</span><a href=\"file://C:\\Users\\Kevin\\Documents\\GitHub\\Ml_Bank\\venv\\Lib\\site-packages\\kedro\\io\\data_catalog.py#1046\" target=\"_blank\"><span style=\"color: #7f7f7f; text-decoration-color: #7f7f7f\">1046</span></a>\n",
       "</pre>\n"
      ],
      "text/plain": [
       "\u001b[2;36m                   \u001b[0m\u001b[2;36m \u001b[0m\u001b[34mINFO    \u001b[0m Loading data from \u001b[38;5;208mforeign_customer_dataset\u001b[0m \u001b[1m(\u001b[0mCSVDataset\u001b[1m)\u001b[0m\u001b[33m...\u001b[0m        \u001b]8;id=737812;file://C:\\Users\\Kevin\\Documents\\GitHub\\Ml_Bank\\venv\\Lib\\site-packages\\kedro\\io\\data_catalog.py\u001b\\\u001b[2mdata_catalog.py\u001b[0m\u001b]8;;\u001b\\\u001b[2m:\u001b[0m\u001b]8;id=252340;file://C:\\Users\\Kevin\\Documents\\GitHub\\Ml_Bank\\venv\\Lib\\site-packages\\kedro\\io\\data_catalog.py#1046\u001b\\\u001b[2m1046\u001b[0m\u001b]8;;\u001b\\\n"
      ]
     },
     "metadata": {},
     "output_type": "display_data"
    },
    {
     "data": {
      "text/html": [
       "<pre style=\"white-space:pre;overflow-x:auto;line-height:normal;font-family:Menlo,'DejaVu Sans Mono',consolas,'Courier New',monospace\"><span style=\"color: #7fbfbf; text-decoration-color: #7fbfbf\">                    </span><span style=\"color: #000080; text-decoration-color: #000080\">INFO    </span> Loading data from <span style=\"color: #ff8700; text-decoration-color: #ff8700\">fraud_dataset</span> <span style=\"font-weight: bold\">(</span>CSVDataset<span style=\"font-weight: bold\">)</span><span style=\"color: #808000; text-decoration-color: #808000\">...</span>                   <a href=\"file://C:\\Users\\Kevin\\Documents\\GitHub\\Ml_Bank\\venv\\Lib\\site-packages\\kedro\\io\\data_catalog.py\" target=\"_blank\"><span style=\"color: #7f7f7f; text-decoration-color: #7f7f7f\">data_catalog.py</span></a><span style=\"color: #7f7f7f; text-decoration-color: #7f7f7f\">:</span><a href=\"file://C:\\Users\\Kevin\\Documents\\GitHub\\Ml_Bank\\venv\\Lib\\site-packages\\kedro\\io\\data_catalog.py#1046\" target=\"_blank\"><span style=\"color: #7f7f7f; text-decoration-color: #7f7f7f\">1046</span></a>\n",
       "</pre>\n"
      ],
      "text/plain": [
       "\u001b[2;36m                   \u001b[0m\u001b[2;36m \u001b[0m\u001b[34mINFO    \u001b[0m Loading data from \u001b[38;5;208mfraud_dataset\u001b[0m \u001b[1m(\u001b[0mCSVDataset\u001b[1m)\u001b[0m\u001b[33m...\u001b[0m                   \u001b]8;id=83051;file://C:\\Users\\Kevin\\Documents\\GitHub\\Ml_Bank\\venv\\Lib\\site-packages\\kedro\\io\\data_catalog.py\u001b\\\u001b[2mdata_catalog.py\u001b[0m\u001b]8;;\u001b\\\u001b[2m:\u001b[0m\u001b]8;id=587025;file://C:\\Users\\Kevin\\Documents\\GitHub\\Ml_Bank\\venv\\Lib\\site-packages\\kedro\\io\\data_catalog.py#1046\u001b\\\u001b[2m1046\u001b[0m\u001b]8;;\u001b\\\n"
      ]
     },
     "metadata": {},
     "output_type": "display_data"
    },
    {
     "data": {
      "text/html": [
       "<pre style=\"white-space:pre;overflow-x:auto;line-height:normal;font-family:Menlo,'DejaVu Sans Mono',consolas,'Courier New',monospace\"><span style=\"color: #7fbfbf; text-decoration-color: #7fbfbf\">                    </span><span style=\"color: #000080; text-decoration-color: #000080\">INFO    </span> Loading data from <span style=\"color: #ff8700; text-decoration-color: #ff8700\">RFM</span> <span style=\"font-weight: bold\">(</span>CSVDataset<span style=\"font-weight: bold\">)</span><span style=\"color: #808000; text-decoration-color: #808000\">...</span>                             <a href=\"file://C:\\Users\\Kevin\\Documents\\GitHub\\Ml_Bank\\venv\\Lib\\site-packages\\kedro\\io\\data_catalog.py\" target=\"_blank\"><span style=\"color: #7f7f7f; text-decoration-color: #7f7f7f\">data_catalog.py</span></a><span style=\"color: #7f7f7f; text-decoration-color: #7f7f7f\">:</span><a href=\"file://C:\\Users\\Kevin\\Documents\\GitHub\\Ml_Bank\\venv\\Lib\\site-packages\\kedro\\io\\data_catalog.py#1046\" target=\"_blank\"><span style=\"color: #7f7f7f; text-decoration-color: #7f7f7f\">1046</span></a>\n",
       "</pre>\n"
      ],
      "text/plain": [
       "\u001b[2;36m                   \u001b[0m\u001b[2;36m \u001b[0m\u001b[34mINFO    \u001b[0m Loading data from \u001b[38;5;208mRFM\u001b[0m \u001b[1m(\u001b[0mCSVDataset\u001b[1m)\u001b[0m\u001b[33m...\u001b[0m                             \u001b]8;id=257500;file://C:\\Users\\Kevin\\Documents\\GitHub\\Ml_Bank\\venv\\Lib\\site-packages\\kedro\\io\\data_catalog.py\u001b\\\u001b[2mdata_catalog.py\u001b[0m\u001b]8;;\u001b\\\u001b[2m:\u001b[0m\u001b]8;id=949581;file://C:\\Users\\Kevin\\Documents\\GitHub\\Ml_Bank\\venv\\Lib\\site-packages\\kedro\\io\\data_catalog.py#1046\u001b\\\u001b[2m1046\u001b[0m\u001b]8;;\u001b\\\n"
      ]
     },
     "metadata": {},
     "output_type": "display_data"
    },
    {
     "data": {
      "text/html": [
       "<pre style=\"white-space:pre;overflow-x:auto;line-height:normal;font-family:Menlo,'DejaVu Sans Mono',consolas,'Courier New',monospace\"><span style=\"color: #7fbfbf; text-decoration-color: #7fbfbf\">[09/14/25 22:51:59] </span><span style=\"color: #000080; text-decoration-color: #000080\">INFO    </span> Loading data from <span style=\"color: #ff8700; text-decoration-color: #ff8700\">transactions</span> <span style=\"font-weight: bold\">(</span>CSVDataset<span style=\"font-weight: bold\">)</span><span style=\"color: #808000; text-decoration-color: #808000\">...</span>                    <a href=\"file://C:\\Users\\Kevin\\Documents\\GitHub\\Ml_Bank\\venv\\Lib\\site-packages\\kedro\\io\\data_catalog.py\" target=\"_blank\"><span style=\"color: #7f7f7f; text-decoration-color: #7f7f7f\">data_catalog.py</span></a><span style=\"color: #7f7f7f; text-decoration-color: #7f7f7f\">:</span><a href=\"file://C:\\Users\\Kevin\\Documents\\GitHub\\Ml_Bank\\venv\\Lib\\site-packages\\kedro\\io\\data_catalog.py#1046\" target=\"_blank\"><span style=\"color: #7f7f7f; text-decoration-color: #7f7f7f\">1046</span></a>\n",
       "</pre>\n"
      ],
      "text/plain": [
       "\u001b[2;36m[09/14/25 22:51:59]\u001b[0m\u001b[2;36m \u001b[0m\u001b[34mINFO    \u001b[0m Loading data from \u001b[38;5;208mtransactions\u001b[0m \u001b[1m(\u001b[0mCSVDataset\u001b[1m)\u001b[0m\u001b[33m...\u001b[0m                    \u001b]8;id=366967;file://C:\\Users\\Kevin\\Documents\\GitHub\\Ml_Bank\\venv\\Lib\\site-packages\\kedro\\io\\data_catalog.py\u001b\\\u001b[2mdata_catalog.py\u001b[0m\u001b]8;;\u001b\\\u001b[2m:\u001b[0m\u001b]8;id=928797;file://C:\\Users\\Kevin\\Documents\\GitHub\\Ml_Bank\\venv\\Lib\\site-packages\\kedro\\io\\data_catalog.py#1046\u001b\\\u001b[2m1046\u001b[0m\u001b]8;;\u001b\\\n"
      ]
     },
     "metadata": {},
     "output_type": "display_data"
    },
    {
     "name": "stdout",
     "output_type": "stream",
     "text": [
      "--- Resumen de la cantidad de registros por DataFrame ---\n",
      "bank_customer_transactions: 1048567 filas, 9 columnas\n",
      "cleaned_dataset: 984247 filas, 10 columnas\n",
      "customer_agg: 838370 filas, 15 columnas\n",
      "customers: 1000 filas, 5 columnas\n",
      "foreign_customer_dataset: 3584 filas, 11 columnas\n",
      "fraud_dataset: 9843 filas, 22 columnas\n",
      "RFM: 838370 filas, 11 columnas\n",
      "transactions: 1000 filas, 5 columnas\n",
      "\n",
      "--- Datasets con más de 10,000 registros ---\n",
      "bank_customer_transactions: 1048567 filas\n",
      "cleaned_dataset: 984247 filas\n",
      "customer_agg: 838370 filas\n",
      "RFM: 838370 filas\n"
     ]
    }
   ],
   "source": [
    "# 📌 Lista de datasets que tienes en data/01_raw\n",
    "datasets = [\n",
    "    \"bank_customer_transactions\",\n",
    "    \"cleaned_dataset\",\n",
    "    \"customer_agg\",\n",
    "    \"customers\",\n",
    "    \"foreign_customer_dataset\",\n",
    "    \"fraud_dataset\",\n",
    "    \"RFM\",\n",
    "    \"transactions\",\n",
    "]\n",
    "\n",
    "# 📌 Cargar todos los datasets desde el catálogo, con el objetivo de ver que DataSet serán seleccionados para realizar el EDA\n",
    "loaded_data = {name: catalog.load(name) for name in datasets}\n",
    "\n",
    "# 📌 Mostrar resumen de cada DataSet con el objetivo que seleccionar 3 que contengan +10.000 datos\n",
    "print(\"--- Resumen de la cantidad de registros por DataFrame ---\")\n",
    "for name, df in loaded_data.items():\n",
    "    print(f\"{name}: {df.shape[0]} filas, {df.shape[1]} columnas\")\n",
    "\n",
    "print(\"\\n--- Datasets con más de 10,000 registros ---\")\n",
    "for name, df in loaded_data.items():\n",
    "    if df.shape[0] > 10000:\n",
    "        print(f\"{name}: {df.shape[0]} filas\")\n",
    "\n"
   ]
  },
  {
   "cell_type": "code",
   "execution_count": 5,
   "metadata": {},
   "outputs": [
    {
     "name": "stdout",
     "output_type": "stream",
     "text": [
      "\n",
      "===== bank_customer_transactions =====\n"
     ]
    },
    {
     "data": {
      "text/html": [
       "<pre style=\"white-space:pre;overflow-x:auto;line-height:normal;font-family:Menlo,'DejaVu Sans Mono',consolas,'Courier New',monospace\"><span style=\"color: #7fbfbf; text-decoration-color: #7fbfbf\">[09/14/25 22:52:35] </span><span style=\"color: #000080; text-decoration-color: #000080\">INFO    </span> Loading data from <span style=\"color: #ff8700; text-decoration-color: #ff8700\">bank_customer_transactions</span> <span style=\"font-weight: bold\">(</span>CSVDataset<span style=\"font-weight: bold\">)</span><span style=\"color: #808000; text-decoration-color: #808000\">...</span>      <a href=\"file://C:\\Users\\Kevin\\Documents\\GitHub\\Ml_Bank\\venv\\Lib\\site-packages\\kedro\\io\\data_catalog.py\" target=\"_blank\"><span style=\"color: #7f7f7f; text-decoration-color: #7f7f7f\">data_catalog.py</span></a><span style=\"color: #7f7f7f; text-decoration-color: #7f7f7f\">:</span><a href=\"file://C:\\Users\\Kevin\\Documents\\GitHub\\Ml_Bank\\venv\\Lib\\site-packages\\kedro\\io\\data_catalog.py#1046\" target=\"_blank\"><span style=\"color: #7f7f7f; text-decoration-color: #7f7f7f\">1046</span></a>\n",
       "</pre>\n"
      ],
      "text/plain": [
       "\u001b[2;36m[09/14/25 22:52:35]\u001b[0m\u001b[2;36m \u001b[0m\u001b[34mINFO    \u001b[0m Loading data from \u001b[38;5;208mbank_customer_transactions\u001b[0m \u001b[1m(\u001b[0mCSVDataset\u001b[1m)\u001b[0m\u001b[33m...\u001b[0m      \u001b]8;id=847922;file://C:\\Users\\Kevin\\Documents\\GitHub\\Ml_Bank\\venv\\Lib\\site-packages\\kedro\\io\\data_catalog.py\u001b\\\u001b[2mdata_catalog.py\u001b[0m\u001b]8;;\u001b\\\u001b[2m:\u001b[0m\u001b]8;id=630825;file://C:\\Users\\Kevin\\Documents\\GitHub\\Ml_Bank\\venv\\Lib\\site-packages\\kedro\\io\\data_catalog.py#1046\u001b\\\u001b[2m1046\u001b[0m\u001b]8;;\u001b\\\n"
      ]
     },
     "metadata": {},
     "output_type": "display_data"
    },
    {
     "name": "stdout",
     "output_type": "stream",
     "text": [
      "Shape: (1048567, 9)\n",
      "\n",
      "Columnas:\n",
      "TransactionID               object\n",
      "CustomerID                  object\n",
      "CustomerDOB                 object\n",
      "CustGender                  object\n",
      "CustLocation                object\n",
      "CustAccountBalance         float64\n",
      "TransactionDate             object\n",
      "TransactionTime              int64\n",
      "TransactionAmount (INR)    float64\n",
      "dtype: object\n",
      "\n",
      "Primeras filas:\n"
     ]
    },
    {
     "data": {
      "text/html": [
       "<pre style=\"white-space:pre;overflow-x:auto;line-height:normal;font-family:Menlo,'DejaVu Sans Mono',consolas,'Courier New',monospace\"></pre>\n"
      ],
      "text/plain": []
     },
     "metadata": {},
     "output_type": "display_data"
    },
    {
     "data": {
      "text/html": [
       "<div>\n",
       "<style scoped>\n",
       "    .dataframe tbody tr th:only-of-type {\n",
       "        vertical-align: middle;\n",
       "    }\n",
       "\n",
       "    .dataframe tbody tr th {\n",
       "        vertical-align: top;\n",
       "    }\n",
       "\n",
       "    .dataframe thead th {\n",
       "        text-align: right;\n",
       "    }\n",
       "</style>\n",
       "<table border=\"1\" class=\"dataframe\">\n",
       "  <thead>\n",
       "    <tr style=\"text-align: right;\">\n",
       "      <th></th>\n",
       "      <th>TransactionID</th>\n",
       "      <th>CustomerID</th>\n",
       "      <th>CustomerDOB</th>\n",
       "      <th>CustGender</th>\n",
       "      <th>CustLocation</th>\n",
       "      <th>CustAccountBalance</th>\n",
       "      <th>TransactionDate</th>\n",
       "      <th>TransactionTime</th>\n",
       "      <th>TransactionAmount (INR)</th>\n",
       "    </tr>\n",
       "  </thead>\n",
       "  <tbody>\n",
       "    <tr>\n",
       "      <th>0</th>\n",
       "      <td>T1</td>\n",
       "      <td>C5841053</td>\n",
       "      <td>10/1/94</td>\n",
       "      <td>F</td>\n",
       "      <td>JAMSHEDPUR</td>\n",
       "      <td>17819.05</td>\n",
       "      <td>2/8/16</td>\n",
       "      <td>143207</td>\n",
       "      <td>25.0</td>\n",
       "    </tr>\n",
       "    <tr>\n",
       "      <th>1</th>\n",
       "      <td>T2</td>\n",
       "      <td>C2142763</td>\n",
       "      <td>4/4/57</td>\n",
       "      <td>M</td>\n",
       "      <td>JHAJJAR</td>\n",
       "      <td>2270.69</td>\n",
       "      <td>2/8/16</td>\n",
       "      <td>141858</td>\n",
       "      <td>27999.0</td>\n",
       "    </tr>\n",
       "    <tr>\n",
       "      <th>2</th>\n",
       "      <td>T3</td>\n",
       "      <td>C4417068</td>\n",
       "      <td>26/11/96</td>\n",
       "      <td>F</td>\n",
       "      <td>MUMBAI</td>\n",
       "      <td>17874.44</td>\n",
       "      <td>2/8/16</td>\n",
       "      <td>142712</td>\n",
       "      <td>459.0</td>\n",
       "    </tr>\n",
       "  </tbody>\n",
       "</table>\n",
       "</div>"
      ],
      "text/plain": [
       "\n",
       "  TransactionID CustomerID CustomerDOB CustGender CustLocation  \\\n",
       "\u001b[1;36m0\u001b[0m            T1   C5841053     \u001b[1;36m10\u001b[0m/\u001b[1;36m1\u001b[0m/\u001b[1;36m94\u001b[0m          F   JAMSHEDPUR   \n",
       "\u001b[1;36m1\u001b[0m            T2   C2142763      \u001b[1;36m4\u001b[0m/\u001b[1;36m4\u001b[0m/\u001b[1;36m57\u001b[0m          M      JHAJJAR   \n",
       "\u001b[1;36m2\u001b[0m            T3   C4417068    \u001b[1;36m26\u001b[0m/\u001b[1;36m11\u001b[0m/\u001b[1;36m96\u001b[0m          F       MUMBAI   \n",
       "\n",
       "   CustAccountBalance TransactionDate  TransactionTime  \\\n",
       "\u001b[1;36m0\u001b[0m            \u001b[1;36m17819.05\u001b[0m          \u001b[1;36m2\u001b[0m/\u001b[1;36m8\u001b[0m/\u001b[1;36m16\u001b[0m           \u001b[1;36m143207\u001b[0m   \n",
       "\u001b[1;36m1\u001b[0m             \u001b[1;36m2270.69\u001b[0m          \u001b[1;36m2\u001b[0m/\u001b[1;36m8\u001b[0m/\u001b[1;36m16\u001b[0m           \u001b[1;36m141858\u001b[0m   \n",
       "\u001b[1;36m2\u001b[0m            \u001b[1;36m17874.44\u001b[0m          \u001b[1;36m2\u001b[0m/\u001b[1;36m8\u001b[0m/\u001b[1;36m16\u001b[0m           \u001b[1;36m142712\u001b[0m   \n",
       "\n",
       "   TransactionAmount \u001b[1m(\u001b[0mINR\u001b[1m)\u001b[0m  \n",
       "\u001b[1;36m0\u001b[0m                     \u001b[1;36m25.0\u001b[0m  \n",
       "\u001b[1;36m1\u001b[0m                  \u001b[1;36m27999.0\u001b[0m  \n",
       "\u001b[1;36m2\u001b[0m                    \u001b[1;36m459.0\u001b[0m  "
      ]
     },
     "metadata": {},
     "output_type": "display_data"
    },
    {
     "name": "stdout",
     "output_type": "stream",
     "text": [
      "\n",
      "===== cleaned_dataset =====\n"
     ]
    },
    {
     "data": {
      "text/html": [
       "<pre style=\"white-space:pre;overflow-x:auto;line-height:normal;font-family:Menlo,'DejaVu Sans Mono',consolas,'Courier New',monospace\"><span style=\"color: #7fbfbf; text-decoration-color: #7fbfbf\">[09/14/25 22:52:37] </span><span style=\"color: #000080; text-decoration-color: #000080\">INFO    </span> Loading data from <span style=\"color: #ff8700; text-decoration-color: #ff8700\">cleaned_dataset</span> <span style=\"font-weight: bold\">(</span>CSVDataset<span style=\"font-weight: bold\">)</span><span style=\"color: #808000; text-decoration-color: #808000\">...</span>                 <a href=\"file://C:\\Users\\Kevin\\Documents\\GitHub\\Ml_Bank\\venv\\Lib\\site-packages\\kedro\\io\\data_catalog.py\" target=\"_blank\"><span style=\"color: #7f7f7f; text-decoration-color: #7f7f7f\">data_catalog.py</span></a><span style=\"color: #7f7f7f; text-decoration-color: #7f7f7f\">:</span><a href=\"file://C:\\Users\\Kevin\\Documents\\GitHub\\Ml_Bank\\venv\\Lib\\site-packages\\kedro\\io\\data_catalog.py#1046\" target=\"_blank\"><span style=\"color: #7f7f7f; text-decoration-color: #7f7f7f\">1046</span></a>\n",
       "</pre>\n"
      ],
      "text/plain": [
       "\u001b[2;36m[09/14/25 22:52:37]\u001b[0m\u001b[2;36m \u001b[0m\u001b[34mINFO    \u001b[0m Loading data from \u001b[38;5;208mcleaned_dataset\u001b[0m \u001b[1m(\u001b[0mCSVDataset\u001b[1m)\u001b[0m\u001b[33m...\u001b[0m                 \u001b]8;id=721409;file://C:\\Users\\Kevin\\Documents\\GitHub\\Ml_Bank\\venv\\Lib\\site-packages\\kedro\\io\\data_catalog.py\u001b\\\u001b[2mdata_catalog.py\u001b[0m\u001b]8;;\u001b\\\u001b[2m:\u001b[0m\u001b]8;id=479221;file://C:\\Users\\Kevin\\Documents\\GitHub\\Ml_Bank\\venv\\Lib\\site-packages\\kedro\\io\\data_catalog.py#1046\u001b\\\u001b[2m1046\u001b[0m\u001b]8;;\u001b\\\n"
      ]
     },
     "metadata": {},
     "output_type": "display_data"
    },
    {
     "name": "stdout",
     "output_type": "stream",
     "text": [
      "Shape: (984247, 10)\n",
      "\n",
      "Columnas:\n",
      "TransactionID               object\n",
      "CustomerID                  object\n",
      "CustomerDOB                 object\n",
      "CustGender                  object\n",
      "CustLocation                object\n",
      "CustAccountBalance         float64\n",
      "TransactionDate             object\n",
      "TransactionTime             object\n",
      "TransactionAmount (INR)    float64\n",
      "Age                          int64\n",
      "dtype: object\n",
      "\n",
      "Primeras filas:\n"
     ]
    },
    {
     "data": {
      "text/html": [
       "<pre style=\"white-space:pre;overflow-x:auto;line-height:normal;font-family:Menlo,'DejaVu Sans Mono',consolas,'Courier New',monospace\"></pre>\n"
      ],
      "text/plain": []
     },
     "metadata": {},
     "output_type": "display_data"
    },
    {
     "data": {
      "text/html": [
       "<div>\n",
       "<style scoped>\n",
       "    .dataframe tbody tr th:only-of-type {\n",
       "        vertical-align: middle;\n",
       "    }\n",
       "\n",
       "    .dataframe tbody tr th {\n",
       "        vertical-align: top;\n",
       "    }\n",
       "\n",
       "    .dataframe thead th {\n",
       "        text-align: right;\n",
       "    }\n",
       "</style>\n",
       "<table border=\"1\" class=\"dataframe\">\n",
       "  <thead>\n",
       "    <tr style=\"text-align: right;\">\n",
       "      <th></th>\n",
       "      <th>TransactionID</th>\n",
       "      <th>CustomerID</th>\n",
       "      <th>CustomerDOB</th>\n",
       "      <th>CustGender</th>\n",
       "      <th>CustLocation</th>\n",
       "      <th>CustAccountBalance</th>\n",
       "      <th>TransactionDate</th>\n",
       "      <th>TransactionTime</th>\n",
       "      <th>TransactionAmount (INR)</th>\n",
       "      <th>Age</th>\n",
       "    </tr>\n",
       "  </thead>\n",
       "  <tbody>\n",
       "    <tr>\n",
       "      <th>0</th>\n",
       "      <td>T1</td>\n",
       "      <td>C5841053</td>\n",
       "      <td>1994-01-10</td>\n",
       "      <td>F</td>\n",
       "      <td>JAMSHEDPUR</td>\n",
       "      <td>17819.05</td>\n",
       "      <td>2016-08-02</td>\n",
       "      <td>14:32:07</td>\n",
       "      <td>25.0</td>\n",
       "      <td>22</td>\n",
       "    </tr>\n",
       "    <tr>\n",
       "      <th>1</th>\n",
       "      <td>T2</td>\n",
       "      <td>C2142763</td>\n",
       "      <td>1957-04-04</td>\n",
       "      <td>M</td>\n",
       "      <td>JHAJJAR</td>\n",
       "      <td>2270.69</td>\n",
       "      <td>2016-08-02</td>\n",
       "      <td>14:18:58</td>\n",
       "      <td>27999.0</td>\n",
       "      <td>59</td>\n",
       "    </tr>\n",
       "    <tr>\n",
       "      <th>2</th>\n",
       "      <td>T3</td>\n",
       "      <td>C4417068</td>\n",
       "      <td>1996-11-26</td>\n",
       "      <td>F</td>\n",
       "      <td>MUMBAI</td>\n",
       "      <td>17874.44</td>\n",
       "      <td>2016-08-02</td>\n",
       "      <td>14:27:12</td>\n",
       "      <td>459.0</td>\n",
       "      <td>19</td>\n",
       "    </tr>\n",
       "  </tbody>\n",
       "</table>\n",
       "</div>"
      ],
      "text/plain": [
       "\n",
       "  TransactionID CustomerID CustomerDOB CustGender CustLocation  \\\n",
       "\u001b[1;36m0\u001b[0m            T1   C5841053  \u001b[1;36m1994\u001b[0m-\u001b[1;36m01\u001b[0m-\u001b[1;36m10\u001b[0m          F   JAMSHEDPUR   \n",
       "\u001b[1;36m1\u001b[0m            T2   C2142763  \u001b[1;36m1957\u001b[0m-\u001b[1;36m04\u001b[0m-\u001b[1;36m04\u001b[0m          M      JHAJJAR   \n",
       "\u001b[1;36m2\u001b[0m            T3   C4417068  \u001b[1;36m1996\u001b[0m-\u001b[1;36m11\u001b[0m-\u001b[1;36m26\u001b[0m          F       MUMBAI   \n",
       "\n",
       "   CustAccountBalance TransactionDate TransactionTime  \\\n",
       "\u001b[1;36m0\u001b[0m            \u001b[1;36m17819.05\u001b[0m      \u001b[1;36m2016\u001b[0m-\u001b[1;36m08\u001b[0m-\u001b[1;36m02\u001b[0m        \u001b[1;92m14:32:07\u001b[0m   \n",
       "\u001b[1;36m1\u001b[0m             \u001b[1;36m2270.69\u001b[0m      \u001b[1;36m2016\u001b[0m-\u001b[1;36m08\u001b[0m-\u001b[1;36m02\u001b[0m        \u001b[1;92m14:18:58\u001b[0m   \n",
       "\u001b[1;36m2\u001b[0m            \u001b[1;36m17874.44\u001b[0m      \u001b[1;36m2016\u001b[0m-\u001b[1;36m08\u001b[0m-\u001b[1;36m02\u001b[0m        \u001b[1;92m14:27:12\u001b[0m   \n",
       "\n",
       "   TransactionAmount \u001b[1m(\u001b[0mINR\u001b[1m)\u001b[0m  Age  \n",
       "\u001b[1;36m0\u001b[0m                     \u001b[1;36m25.0\u001b[0m   \u001b[1;36m22\u001b[0m  \n",
       "\u001b[1;36m1\u001b[0m                  \u001b[1;36m27999.0\u001b[0m   \u001b[1;36m59\u001b[0m  \n",
       "\u001b[1;36m2\u001b[0m                    \u001b[1;36m459.0\u001b[0m   \u001b[1;36m19\u001b[0m  "
      ]
     },
     "metadata": {},
     "output_type": "display_data"
    },
    {
     "name": "stdout",
     "output_type": "stream",
     "text": [
      "\n",
      "===== customer_agg =====\n"
     ]
    },
    {
     "data": {
      "text/html": [
       "<pre style=\"white-space:pre;overflow-x:auto;line-height:normal;font-family:Menlo,'DejaVu Sans Mono',consolas,'Courier New',monospace\"><span style=\"color: #7fbfbf; text-decoration-color: #7fbfbf\">[09/14/25 22:52:39] </span><span style=\"color: #000080; text-decoration-color: #000080\">INFO    </span> Loading data from <span style=\"color: #ff8700; text-decoration-color: #ff8700\">customer_agg</span> <span style=\"font-weight: bold\">(</span>CSVDataset<span style=\"font-weight: bold\">)</span><span style=\"color: #808000; text-decoration-color: #808000\">...</span>                    <a href=\"file://C:\\Users\\Kevin\\Documents\\GitHub\\Ml_Bank\\venv\\Lib\\site-packages\\kedro\\io\\data_catalog.py\" target=\"_blank\"><span style=\"color: #7f7f7f; text-decoration-color: #7f7f7f\">data_catalog.py</span></a><span style=\"color: #7f7f7f; text-decoration-color: #7f7f7f\">:</span><a href=\"file://C:\\Users\\Kevin\\Documents\\GitHub\\Ml_Bank\\venv\\Lib\\site-packages\\kedro\\io\\data_catalog.py#1046\" target=\"_blank\"><span style=\"color: #7f7f7f; text-decoration-color: #7f7f7f\">1046</span></a>\n",
       "</pre>\n"
      ],
      "text/plain": [
       "\u001b[2;36m[09/14/25 22:52:39]\u001b[0m\u001b[2;36m \u001b[0m\u001b[34mINFO    \u001b[0m Loading data from \u001b[38;5;208mcustomer_agg\u001b[0m \u001b[1m(\u001b[0mCSVDataset\u001b[1m)\u001b[0m\u001b[33m...\u001b[0m                    \u001b]8;id=395606;file://C:\\Users\\Kevin\\Documents\\GitHub\\Ml_Bank\\venv\\Lib\\site-packages\\kedro\\io\\data_catalog.py\u001b\\\u001b[2mdata_catalog.py\u001b[0m\u001b]8;;\u001b\\\u001b[2m:\u001b[0m\u001b]8;id=873886;file://C:\\Users\\Kevin\\Documents\\GitHub\\Ml_Bank\\venv\\Lib\\site-packages\\kedro\\io\\data_catalog.py#1046\u001b\\\u001b[2m1046\u001b[0m\u001b]8;;\u001b\\\n"
      ]
     },
     "metadata": {},
     "output_type": "display_data"
    },
    {
     "name": "stdout",
     "output_type": "stream",
     "text": [
      "Shape: (838370, 15)\n",
      "\n",
      "Columnas:\n",
      "Unnamed: 0                 int64\n",
      "CustomerID                object\n",
      "txn_count                  int64\n",
      "total_spent              float64\n",
      "avg_spent                float64\n",
      "max_spent                float64\n",
      "avg_balance              float64\n",
      "first_txn_date            object\n",
      "last_txn_date             object\n",
      "location                  object\n",
      "gender                    object\n",
      "recency_days               int64\n",
      "tenure_days                int64\n",
      "txn_per_day              float64\n",
      "avg_spent_pct_balance    float64\n",
      "dtype: object\n",
      "\n",
      "Primeras filas:\n"
     ]
    },
    {
     "data": {
      "text/html": [
       "<pre style=\"white-space:pre;overflow-x:auto;line-height:normal;font-family:Menlo,'DejaVu Sans Mono',consolas,'Courier New',monospace\"></pre>\n"
      ],
      "text/plain": []
     },
     "metadata": {},
     "output_type": "display_data"
    },
    {
     "data": {
      "text/html": [
       "<div>\n",
       "<style scoped>\n",
       "    .dataframe tbody tr th:only-of-type {\n",
       "        vertical-align: middle;\n",
       "    }\n",
       "\n",
       "    .dataframe tbody tr th {\n",
       "        vertical-align: top;\n",
       "    }\n",
       "\n",
       "    .dataframe thead th {\n",
       "        text-align: right;\n",
       "    }\n",
       "</style>\n",
       "<table border=\"1\" class=\"dataframe\">\n",
       "  <thead>\n",
       "    <tr style=\"text-align: right;\">\n",
       "      <th></th>\n",
       "      <th>Unnamed: 0</th>\n",
       "      <th>CustomerID</th>\n",
       "      <th>txn_count</th>\n",
       "      <th>total_spent</th>\n",
       "      <th>avg_spent</th>\n",
       "      <th>max_spent</th>\n",
       "      <th>avg_balance</th>\n",
       "      <th>first_txn_date</th>\n",
       "      <th>last_txn_date</th>\n",
       "      <th>location</th>\n",
       "      <th>gender</th>\n",
       "      <th>recency_days</th>\n",
       "      <th>tenure_days</th>\n",
       "      <th>txn_per_day</th>\n",
       "      <th>avg_spent_pct_balance</th>\n",
       "    </tr>\n",
       "  </thead>\n",
       "  <tbody>\n",
       "    <tr>\n",
       "      <th>0</th>\n",
       "      <td>0</td>\n",
       "      <td>C1010011</td>\n",
       "      <td>2</td>\n",
       "      <td>5106.0</td>\n",
       "      <td>2553.0</td>\n",
       "      <td>4750.0</td>\n",
       "      <td>76340.635</td>\n",
       "      <td>2016-08-09</td>\n",
       "      <td>2016-09-26</td>\n",
       "      <td>NOIDA</td>\n",
       "      <td>F</td>\n",
       "      <td>25</td>\n",
       "      <td>48</td>\n",
       "      <td>0.041667</td>\n",
       "      <td>0.033442</td>\n",
       "    </tr>\n",
       "    <tr>\n",
       "      <th>1</th>\n",
       "      <td>1</td>\n",
       "      <td>C1010012</td>\n",
       "      <td>1</td>\n",
       "      <td>1499.0</td>\n",
       "      <td>1499.0</td>\n",
       "      <td>1499.0</td>\n",
       "      <td>24204.490</td>\n",
       "      <td>2016-08-14</td>\n",
       "      <td>2016-08-14</td>\n",
       "      <td>MUMBAI</td>\n",
       "      <td>M</td>\n",
       "      <td>68</td>\n",
       "      <td>0</td>\n",
       "      <td>1.000000</td>\n",
       "      <td>0.061931</td>\n",
       "    </tr>\n",
       "    <tr>\n",
       "      <th>2</th>\n",
       "      <td>2</td>\n",
       "      <td>C1010014</td>\n",
       "      <td>2</td>\n",
       "      <td>1455.0</td>\n",
       "      <td>727.5</td>\n",
       "      <td>1205.0</td>\n",
       "      <td>100112.950</td>\n",
       "      <td>2016-08-01</td>\n",
       "      <td>2016-08-07</td>\n",
       "      <td>MUMBAI</td>\n",
       "      <td>F</td>\n",
       "      <td>75</td>\n",
       "      <td>6</td>\n",
       "      <td>0.333333</td>\n",
       "      <td>0.007267</td>\n",
       "    </tr>\n",
       "  </tbody>\n",
       "</table>\n",
       "</div>"
      ],
      "text/plain": [
       "\n",
       "   Unnamed: \u001b[1;36m0\u001b[0m CustomerID  txn_count  total_spent  avg_spent  max_spent  \\\n",
       "\u001b[1;36m0\u001b[0m           \u001b[1;36m0\u001b[0m   C1010011          \u001b[1;36m2\u001b[0m       \u001b[1;36m5106.0\u001b[0m     \u001b[1;36m2553.0\u001b[0m     \u001b[1;36m4750.0\u001b[0m   \n",
       "\u001b[1;36m1\u001b[0m           \u001b[1;36m1\u001b[0m   C1010012          \u001b[1;36m1\u001b[0m       \u001b[1;36m1499.0\u001b[0m     \u001b[1;36m1499.0\u001b[0m     \u001b[1;36m1499.0\u001b[0m   \n",
       "\u001b[1;36m2\u001b[0m           \u001b[1;36m2\u001b[0m   C1010014          \u001b[1;36m2\u001b[0m       \u001b[1;36m1455.0\u001b[0m      \u001b[1;36m727.5\u001b[0m     \u001b[1;36m1205.0\u001b[0m   \n",
       "\n",
       "   avg_balance first_txn_date last_txn_date location gender  recency_days  \\\n",
       "\u001b[1;36m0\u001b[0m    \u001b[1;36m76340.635\u001b[0m     \u001b[1;36m2016\u001b[0m-\u001b[1;36m08\u001b[0m-\u001b[1;36m09\u001b[0m    \u001b[1;36m2016\u001b[0m-\u001b[1;36m09\u001b[0m-\u001b[1;36m26\u001b[0m    NOIDA      F            \u001b[1;36m25\u001b[0m   \n",
       "\u001b[1;36m1\u001b[0m    \u001b[1;36m24204.490\u001b[0m     \u001b[1;36m2016\u001b[0m-\u001b[1;36m08\u001b[0m-\u001b[1;36m14\u001b[0m    \u001b[1;36m2016\u001b[0m-\u001b[1;36m08\u001b[0m-\u001b[1;36m14\u001b[0m   MUMBAI      M            \u001b[1;36m68\u001b[0m   \n",
       "\u001b[1;36m2\u001b[0m   \u001b[1;36m100112.950\u001b[0m     \u001b[1;36m2016\u001b[0m-\u001b[1;36m08\u001b[0m-\u001b[1;36m01\u001b[0m    \u001b[1;36m2016\u001b[0m-\u001b[1;36m08\u001b[0m-\u001b[1;36m07\u001b[0m   MUMBAI      F            \u001b[1;36m75\u001b[0m   \n",
       "\n",
       "   tenure_days  txn_per_day  avg_spent_pct_balance  \n",
       "\u001b[1;36m0\u001b[0m           \u001b[1;36m48\u001b[0m     \u001b[1;36m0.041667\u001b[0m               \u001b[1;36m0.033442\u001b[0m  \n",
       "\u001b[1;36m1\u001b[0m            \u001b[1;36m0\u001b[0m     \u001b[1;36m1.000000\u001b[0m               \u001b[1;36m0.061931\u001b[0m  \n",
       "\u001b[1;36m2\u001b[0m            \u001b[1;36m6\u001b[0m     \u001b[1;36m0.333333\u001b[0m               \u001b[1;36m0.007267\u001b[0m  "
      ]
     },
     "metadata": {},
     "output_type": "display_data"
    },
    {
     "name": "stdout",
     "output_type": "stream",
     "text": [
      "\n",
      "===== RFM =====\n"
     ]
    },
    {
     "data": {
      "text/html": [
       "<pre style=\"white-space:pre;overflow-x:auto;line-height:normal;font-family:Menlo,'DejaVu Sans Mono',consolas,'Courier New',monospace\"><span style=\"color: #7fbfbf; text-decoration-color: #7fbfbf\">[09/14/25 22:52:41] </span><span style=\"color: #000080; text-decoration-color: #000080\">INFO    </span> Loading data from <span style=\"color: #ff8700; text-decoration-color: #ff8700\">RFM</span> <span style=\"font-weight: bold\">(</span>CSVDataset<span style=\"font-weight: bold\">)</span><span style=\"color: #808000; text-decoration-color: #808000\">...</span>                             <a href=\"file://C:\\Users\\Kevin\\Documents\\GitHub\\Ml_Bank\\venv\\Lib\\site-packages\\kedro\\io\\data_catalog.py\" target=\"_blank\"><span style=\"color: #7f7f7f; text-decoration-color: #7f7f7f\">data_catalog.py</span></a><span style=\"color: #7f7f7f; text-decoration-color: #7f7f7f\">:</span><a href=\"file://C:\\Users\\Kevin\\Documents\\GitHub\\Ml_Bank\\venv\\Lib\\site-packages\\kedro\\io\\data_catalog.py#1046\" target=\"_blank\"><span style=\"color: #7f7f7f; text-decoration-color: #7f7f7f\">1046</span></a>\n",
       "</pre>\n"
      ],
      "text/plain": [
       "\u001b[2;36m[09/14/25 22:52:41]\u001b[0m\u001b[2;36m \u001b[0m\u001b[34mINFO    \u001b[0m Loading data from \u001b[38;5;208mRFM\u001b[0m \u001b[1m(\u001b[0mCSVDataset\u001b[1m)\u001b[0m\u001b[33m...\u001b[0m                             \u001b]8;id=624446;file://C:\\Users\\Kevin\\Documents\\GitHub\\Ml_Bank\\venv\\Lib\\site-packages\\kedro\\io\\data_catalog.py\u001b\\\u001b[2mdata_catalog.py\u001b[0m\u001b]8;;\u001b\\\u001b[2m:\u001b[0m\u001b]8;id=714430;file://C:\\Users\\Kevin\\Documents\\GitHub\\Ml_Bank\\venv\\Lib\\site-packages\\kedro\\io\\data_catalog.py#1046\u001b\\\u001b[2m1046\u001b[0m\u001b]8;;\u001b\\\n"
      ]
     },
     "metadata": {},
     "output_type": "display_data"
    },
    {
     "name": "stdout",
     "output_type": "stream",
     "text": [
      "Shape: (838370, 11)\n",
      "\n",
      "Columnas:\n",
      "Unnamed: 0         int64\n",
      "CustomerID        object\n",
      "Recency            int64\n",
      "Frequency          int64\n",
      "Monetary         float64\n",
      "R                  int64\n",
      "F                  int64\n",
      "M                  int64\n",
      "RFM Score          int64\n",
      "Segment           object\n",
      "Segment_Final     object\n",
      "dtype: object\n",
      "\n",
      "Primeras filas:\n"
     ]
    },
    {
     "data": {
      "text/html": [
       "<pre style=\"white-space:pre;overflow-x:auto;line-height:normal;font-family:Menlo,'DejaVu Sans Mono',consolas,'Courier New',monospace\"></pre>\n"
      ],
      "text/plain": []
     },
     "metadata": {},
     "output_type": "display_data"
    },
    {
     "data": {
      "text/html": [
       "<div>\n",
       "<style scoped>\n",
       "    .dataframe tbody tr th:only-of-type {\n",
       "        vertical-align: middle;\n",
       "    }\n",
       "\n",
       "    .dataframe tbody tr th {\n",
       "        vertical-align: top;\n",
       "    }\n",
       "\n",
       "    .dataframe thead th {\n",
       "        text-align: right;\n",
       "    }\n",
       "</style>\n",
       "<table border=\"1\" class=\"dataframe\">\n",
       "  <thead>\n",
       "    <tr style=\"text-align: right;\">\n",
       "      <th></th>\n",
       "      <th>Unnamed: 0</th>\n",
       "      <th>CustomerID</th>\n",
       "      <th>Recency</th>\n",
       "      <th>Frequency</th>\n",
       "      <th>Monetary</th>\n",
       "      <th>R</th>\n",
       "      <th>F</th>\n",
       "      <th>M</th>\n",
       "      <th>RFM Score</th>\n",
       "      <th>Segment</th>\n",
       "      <th>Segment_Final</th>\n",
       "    </tr>\n",
       "  </thead>\n",
       "  <tbody>\n",
       "    <tr>\n",
       "      <th>0</th>\n",
       "      <td>0</td>\n",
       "      <td>C1010011</td>\n",
       "      <td>25</td>\n",
       "      <td>2</td>\n",
       "      <td>5106.0</td>\n",
       "      <td>5</td>\n",
       "      <td>5</td>\n",
       "      <td>5</td>\n",
       "      <td>555</td>\n",
       "      <td>Champions</td>\n",
       "      <td>Champions</td>\n",
       "    </tr>\n",
       "    <tr>\n",
       "      <th>1</th>\n",
       "      <td>1</td>\n",
       "      <td>C1010012</td>\n",
       "      <td>68</td>\n",
       "      <td>1</td>\n",
       "      <td>1499.0</td>\n",
       "      <td>2</td>\n",
       "      <td>1</td>\n",
       "      <td>4</td>\n",
       "      <td>214</td>\n",
       "      <td>At Risk (Inactive)</td>\n",
       "      <td>Needs Attention</td>\n",
       "    </tr>\n",
       "    <tr>\n",
       "      <th>2</th>\n",
       "      <td>2</td>\n",
       "      <td>C1010014</td>\n",
       "      <td>75</td>\n",
       "      <td>2</td>\n",
       "      <td>1455.0</td>\n",
       "      <td>1</td>\n",
       "      <td>5</td>\n",
       "      <td>4</td>\n",
       "      <td>154</td>\n",
       "      <td>At Risk (High-value)</td>\n",
       "      <td>Critical</td>\n",
       "    </tr>\n",
       "  </tbody>\n",
       "</table>\n",
       "</div>"
      ],
      "text/plain": [
       "\n",
       "   Unnamed: \u001b[1;36m0\u001b[0m CustomerID  Recency  Frequency  Monetary  R  F  M  RFM Score  \\\n",
       "\u001b[1;36m0\u001b[0m           \u001b[1;36m0\u001b[0m   C1010011       \u001b[1;36m25\u001b[0m          \u001b[1;36m2\u001b[0m    \u001b[1;36m5106.0\u001b[0m  \u001b[1;36m5\u001b[0m  \u001b[1;36m5\u001b[0m  \u001b[1;36m5\u001b[0m        \u001b[1;36m555\u001b[0m   \n",
       "\u001b[1;36m1\u001b[0m           \u001b[1;36m1\u001b[0m   C1010012       \u001b[1;36m68\u001b[0m          \u001b[1;36m1\u001b[0m    \u001b[1;36m1499.0\u001b[0m  \u001b[1;36m2\u001b[0m  \u001b[1;36m1\u001b[0m  \u001b[1;36m4\u001b[0m        \u001b[1;36m214\u001b[0m   \n",
       "\u001b[1;36m2\u001b[0m           \u001b[1;36m2\u001b[0m   C1010014       \u001b[1;36m75\u001b[0m          \u001b[1;36m2\u001b[0m    \u001b[1;36m1455.0\u001b[0m  \u001b[1;36m1\u001b[0m  \u001b[1;36m5\u001b[0m  \u001b[1;36m4\u001b[0m        \u001b[1;36m154\u001b[0m   \n",
       "\n",
       "                Segment    Segment_Final  \n",
       "\u001b[1;36m0\u001b[0m             Champions        Champions  \n",
       "\u001b[1;36m1\u001b[0m    At Risk \u001b[1m(\u001b[0mInactive\u001b[1m)\u001b[0m  Needs Attention  \n",
       "\u001b[1;36m2\u001b[0m  At Risk \u001b[1m(\u001b[0mHigh-value\u001b[1m)\u001b[0m         Critical  "
      ]
     },
     "metadata": {},
     "output_type": "display_data"
    }
   ],
   "source": [
    "# Lista de los datasets grandes\n",
    "datasets = [\n",
    "    \"bank_customer_transactions\",\n",
    "    \"cleaned_dataset\",\n",
    "    \"customer_agg\",\n",
    "    \"RFM\"\n",
    "]\n",
    "\n",
    "# Recorremos cada dataset y mostramos info básica\n",
    "for name in datasets:\n",
    "    print(f\"\\n===== {name} =====\")\n",
    "    df = catalog.load(name)\n",
    "    \n",
    "    print(\"Shape:\", df.shape)\n",
    "    print(\"\\nColumnas:\")\n",
    "    print(df.dtypes)  # tipos de variables\n",
    "    \n",
    "    print(\"\\nPrimeras filas:\")\n",
    "    display(df.head(3))\n"
   ]
  },
  {
   "cell_type": "markdown",
   "metadata": {},
   "source": [
    "# Selección de Datasets para el EDA\n",
    "\n",
    "Luego de revisar los datasets disponibles en el catálogo de Kedro, analizar su tamaño (mayor a 10.000) y contenido d estos, se observó lo siguiente:\n",
    "\n",
    "- **bank_customer_transactions (1048567, 9)**  \n",
    "  - (+) Dataset más grande, con más de 1M de transacciones.  \n",
    "  - (–) Datos crudos, con formatos de fecha y hora desordenados y sin la variable `Age`.  \n",
    "  - 🔴 **Descartado** porque es redundante frente a `cleaned_dataset` y requiere más preprocesamiento.\n",
    "\n",
    "- **cleaned_dataset (984247, 10)**  \n",
    "  - (+) Contiene la misma información que `bank_customer_transactions` pero ya depurada (fechas en formato ISO, hora legible, incluye `Age`).  \n",
    "  - (+) Combina datos transaccionales con información demográfica y financiera.  \n",
    "  - 🟢 **Seleccionado** → base principal para tareas de **clasificación (fraude)** y análisis de comportamiento transaccional.\n",
    "\n",
    "- **customer_agg (838370, 15)**  \n",
    "  - (+) Dataset agregado a nivel cliente: número de transacciones, gasto total/promedio, recencia, frecuencia, saldo promedio.  \n",
    "  - (+) Facilita la creación de features y es ideal para modelado de **regresión** (predicción de gasto futuro).  \n",
    "  - 🟢 **Seleccionado** → resume el comportamiento histórico de los clientes.\n",
    "\n",
    "- **RFM (838370, 11)**  \n",
    "  - (+) Incluye métricas de Recency, Frequency, Monetary y segmentación ya pre-calculada (Champions, At Risk, Critical).  \n",
    "  - (+) Permite aplicar **clustering y segmentación de clientes** sin necesidad de construir desde cero.  \n",
    "  - 🟢 **Seleccionado** → usado para **segmentación** y validación de perfiles de valor.\n",
    "\n",
    "---\n",
    "\n",
    "Por lo que para continuar con el EDA y las fases posteriores, se seleccionan los siguientes **3 datasets principales**:\n",
    "\n",
    "1. **cleaned_dataset** → Análisis transaccional a nivel detalle.  \n",
    "2. **customer_agg** → Comportamiento agregado por cliente.  \n",
    "3. **RFM** → Segmentación y perfiles de clientes.  \n",
    "\n",
    "> El dataset `bank_customer_transactions` fue descartado al ser redundante y requerir limpieza adicional.\n"
   ]
  },
  {
   "cell_type": "markdown",
   "metadata": {},
   "source": [
    "# 📊 Comprensión de los Datos en base a los **3 datasets seleccionados**: \n",
    "\n",
    "- `cleaned_dataset`  \n",
    "- `customer_agg`  \n",
    "- `RFM`  \n",
    "\n",
    "Los pasos incluyen:  \n",
    "1. Información general (shape, columnas, primeras filas).  \n",
    "2. Valores nulos.  \n",
    "3. Duplicados.  \n",
    "4. Llaves primarias y relaciones entre datasets.  \n",
    "5. Detección de outliers con IQR.\n",
    "6. gráficos.\n",
    "7. conclusiones.  \n"
   ]
  },
  {
   "cell_type": "code",
   "execution_count": 6,
   "metadata": {},
   "outputs": [
    {
     "data": {
      "text/html": [
       "<pre style=\"white-space:pre;overflow-x:auto;line-height:normal;font-family:Menlo,'DejaVu Sans Mono',consolas,'Courier New',monospace\"><span style=\"color: #7fbfbf; text-decoration-color: #7fbfbf\">[09/14/25 22:52:58] </span><span style=\"color: #000080; text-decoration-color: #000080\">INFO    </span> Loading data from <span style=\"color: #ff8700; text-decoration-color: #ff8700\">cleaned_dataset</span> <span style=\"font-weight: bold\">(</span>CSVDataset<span style=\"font-weight: bold\">)</span><span style=\"color: #808000; text-decoration-color: #808000\">...</span>                 <a href=\"file://C:\\Users\\Kevin\\Documents\\GitHub\\Ml_Bank\\venv\\Lib\\site-packages\\kedro\\io\\data_catalog.py\" target=\"_blank\"><span style=\"color: #7f7f7f; text-decoration-color: #7f7f7f\">data_catalog.py</span></a><span style=\"color: #7f7f7f; text-decoration-color: #7f7f7f\">:</span><a href=\"file://C:\\Users\\Kevin\\Documents\\GitHub\\Ml_Bank\\venv\\Lib\\site-packages\\kedro\\io\\data_catalog.py#1046\" target=\"_blank\"><span style=\"color: #7f7f7f; text-decoration-color: #7f7f7f\">1046</span></a>\n",
       "</pre>\n"
      ],
      "text/plain": [
       "\u001b[2;36m[09/14/25 22:52:58]\u001b[0m\u001b[2;36m \u001b[0m\u001b[34mINFO    \u001b[0m Loading data from \u001b[38;5;208mcleaned_dataset\u001b[0m \u001b[1m(\u001b[0mCSVDataset\u001b[1m)\u001b[0m\u001b[33m...\u001b[0m                 \u001b]8;id=200998;file://C:\\Users\\Kevin\\Documents\\GitHub\\Ml_Bank\\venv\\Lib\\site-packages\\kedro\\io\\data_catalog.py\u001b\\\u001b[2mdata_catalog.py\u001b[0m\u001b]8;;\u001b\\\u001b[2m:\u001b[0m\u001b]8;id=324739;file://C:\\Users\\Kevin\\Documents\\GitHub\\Ml_Bank\\venv\\Lib\\site-packages\\kedro\\io\\data_catalog.py#1046\u001b\\\u001b[2m1046\u001b[0m\u001b]8;;\u001b\\\n"
      ]
     },
     "metadata": {},
     "output_type": "display_data"
    },
    {
     "data": {
      "text/html": [
       "<pre style=\"white-space:pre;overflow-x:auto;line-height:normal;font-family:Menlo,'DejaVu Sans Mono',consolas,'Courier New',monospace\"><span style=\"color: #7fbfbf; text-decoration-color: #7fbfbf\">[09/14/25 22:53:01] </span><span style=\"color: #000080; text-decoration-color: #000080\">INFO    </span> Loading data from <span style=\"color: #ff8700; text-decoration-color: #ff8700\">customer_agg</span> <span style=\"font-weight: bold\">(</span>CSVDataset<span style=\"font-weight: bold\">)</span><span style=\"color: #808000; text-decoration-color: #808000\">...</span>                    <a href=\"file://C:\\Users\\Kevin\\Documents\\GitHub\\Ml_Bank\\venv\\Lib\\site-packages\\kedro\\io\\data_catalog.py\" target=\"_blank\"><span style=\"color: #7f7f7f; text-decoration-color: #7f7f7f\">data_catalog.py</span></a><span style=\"color: #7f7f7f; text-decoration-color: #7f7f7f\">:</span><a href=\"file://C:\\Users\\Kevin\\Documents\\GitHub\\Ml_Bank\\venv\\Lib\\site-packages\\kedro\\io\\data_catalog.py#1046\" target=\"_blank\"><span style=\"color: #7f7f7f; text-decoration-color: #7f7f7f\">1046</span></a>\n",
       "</pre>\n"
      ],
      "text/plain": [
       "\u001b[2;36m[09/14/25 22:53:01]\u001b[0m\u001b[2;36m \u001b[0m\u001b[34mINFO    \u001b[0m Loading data from \u001b[38;5;208mcustomer_agg\u001b[0m \u001b[1m(\u001b[0mCSVDataset\u001b[1m)\u001b[0m\u001b[33m...\u001b[0m                    \u001b]8;id=258257;file://C:\\Users\\Kevin\\Documents\\GitHub\\Ml_Bank\\venv\\Lib\\site-packages\\kedro\\io\\data_catalog.py\u001b\\\u001b[2mdata_catalog.py\u001b[0m\u001b]8;;\u001b\\\u001b[2m:\u001b[0m\u001b]8;id=822342;file://C:\\Users\\Kevin\\Documents\\GitHub\\Ml_Bank\\venv\\Lib\\site-packages\\kedro\\io\\data_catalog.py#1046\u001b\\\u001b[2m1046\u001b[0m\u001b]8;;\u001b\\\n"
      ]
     },
     "metadata": {},
     "output_type": "display_data"
    },
    {
     "data": {
      "text/html": [
       "<pre style=\"white-space:pre;overflow-x:auto;line-height:normal;font-family:Menlo,'DejaVu Sans Mono',consolas,'Courier New',monospace\"><span style=\"color: #7fbfbf; text-decoration-color: #7fbfbf\">[09/14/25 22:53:03] </span><span style=\"color: #000080; text-decoration-color: #000080\">INFO    </span> Loading data from <span style=\"color: #ff8700; text-decoration-color: #ff8700\">RFM</span> <span style=\"font-weight: bold\">(</span>CSVDataset<span style=\"font-weight: bold\">)</span><span style=\"color: #808000; text-decoration-color: #808000\">...</span>                             <a href=\"file://C:\\Users\\Kevin\\Documents\\GitHub\\Ml_Bank\\venv\\Lib\\site-packages\\kedro\\io\\data_catalog.py\" target=\"_blank\"><span style=\"color: #7f7f7f; text-decoration-color: #7f7f7f\">data_catalog.py</span></a><span style=\"color: #7f7f7f; text-decoration-color: #7f7f7f\">:</span><a href=\"file://C:\\Users\\Kevin\\Documents\\GitHub\\Ml_Bank\\venv\\Lib\\site-packages\\kedro\\io\\data_catalog.py#1046\" target=\"_blank\"><span style=\"color: #7f7f7f; text-decoration-color: #7f7f7f\">1046</span></a>\n",
       "</pre>\n"
      ],
      "text/plain": [
       "\u001b[2;36m[09/14/25 22:53:03]\u001b[0m\u001b[2;36m \u001b[0m\u001b[34mINFO    \u001b[0m Loading data from \u001b[38;5;208mRFM\u001b[0m \u001b[1m(\u001b[0mCSVDataset\u001b[1m)\u001b[0m\u001b[33m...\u001b[0m                             \u001b]8;id=658775;file://C:\\Users\\Kevin\\Documents\\GitHub\\Ml_Bank\\venv\\Lib\\site-packages\\kedro\\io\\data_catalog.py\u001b\\\u001b[2mdata_catalog.py\u001b[0m\u001b]8;;\u001b\\\u001b[2m:\u001b[0m\u001b]8;id=669116;file://C:\\Users\\Kevin\\Documents\\GitHub\\Ml_Bank\\venv\\Lib\\site-packages\\kedro\\io\\data_catalog.py#1046\u001b\\\u001b[2m1046\u001b[0m\u001b]8;;\u001b\\\n"
      ]
     },
     "metadata": {},
     "output_type": "display_data"
    }
   ],
   "source": [
    "# ============================================\n",
    "# 🔍 Cargar datasets seleccionados desde Kedro\n",
    "# ============================================\n",
    "datasets_selected = {\n",
    "    \"cleaned_dataset\": catalog.load(\"cleaned_dataset\").rename(\n",
    "        columns={\"TransactionAmount (INR)\": \"TransactionAmount_INR\"}  # corregir nombre\n",
    "    ),\n",
    "    \"customer_agg\": catalog.load(\"customer_agg\"),\n",
    "    \"RFM\": catalog.load(\"RFM\"),\n",
    "}"
   ]
  },
  {
   "cell_type": "markdown",
   "metadata": {},
   "source": [
    "**Notas de carga / estandarización**\n",
    "- En `cleaned_dataset` se renombra `TransactionAmount (INR)` → `TransactionAmount_INR` para evitar espacios/paréntesis.\n",
    "- Si aparece alguna columna tipo `Unnamed: 0` (índice exportado), se evaluará eliminar más adelante.\n"
   ]
  },
  {
   "cell_type": "markdown",
   "metadata": {},
   "source": [
    "## 1. Información general de cada dataset\n",
    "Incluye cantidad de filas/columnas, tipos de variables y ejemplos de registros."
   ]
  },
  {
   "cell_type": "code",
   "execution_count": 17,
   "metadata": {},
   "outputs": [
    {
     "name": "stdout",
     "output_type": "stream",
     "text": [
      "\n",
      "===== cleaned_dataset =====\n",
      "Shape: (984247, 10)\n",
      "Columnas y tipos:\n",
      "TransactionID             object\n",
      "CustomerID                object\n",
      "CustomerDOB               object\n",
      "CustGender                object\n",
      "CustLocation              object\n",
      "CustAccountBalance       float64\n",
      "TransactionDate           object\n",
      "TransactionTime           object\n",
      "TransactionAmount_INR    float64\n",
      "Age                        int64\n",
      "dtype: object\n",
      "\n",
      "Primeras filas:\n"
     ]
    },
    {
     "data": {
      "text/html": [
       "<pre style=\"white-space:pre;overflow-x:auto;line-height:normal;font-family:Menlo,'DejaVu Sans Mono',consolas,'Courier New',monospace\"></pre>\n"
      ],
      "text/plain": []
     },
     "metadata": {},
     "output_type": "display_data"
    },
    {
     "data": {
      "text/html": [
       "<div>\n",
       "<style scoped>\n",
       "    .dataframe tbody tr th:only-of-type {\n",
       "        vertical-align: middle;\n",
       "    }\n",
       "\n",
       "    .dataframe tbody tr th {\n",
       "        vertical-align: top;\n",
       "    }\n",
       "\n",
       "    .dataframe thead th {\n",
       "        text-align: right;\n",
       "    }\n",
       "</style>\n",
       "<table border=\"1\" class=\"dataframe\">\n",
       "  <thead>\n",
       "    <tr style=\"text-align: right;\">\n",
       "      <th></th>\n",
       "      <th>TransactionID</th>\n",
       "      <th>CustomerID</th>\n",
       "      <th>CustomerDOB</th>\n",
       "      <th>CustGender</th>\n",
       "      <th>CustLocation</th>\n",
       "      <th>CustAccountBalance</th>\n",
       "      <th>TransactionDate</th>\n",
       "      <th>TransactionTime</th>\n",
       "      <th>TransactionAmount_INR</th>\n",
       "      <th>Age</th>\n",
       "    </tr>\n",
       "  </thead>\n",
       "  <tbody>\n",
       "    <tr>\n",
       "      <th>0</th>\n",
       "      <td>T1</td>\n",
       "      <td>C5841053</td>\n",
       "      <td>1994-01-10</td>\n",
       "      <td>F</td>\n",
       "      <td>JAMSHEDPUR</td>\n",
       "      <td>17819.05</td>\n",
       "      <td>2016-08-02</td>\n",
       "      <td>14:32:07</td>\n",
       "      <td>25.0</td>\n",
       "      <td>22</td>\n",
       "    </tr>\n",
       "    <tr>\n",
       "      <th>1</th>\n",
       "      <td>T2</td>\n",
       "      <td>C2142763</td>\n",
       "      <td>1957-04-04</td>\n",
       "      <td>M</td>\n",
       "      <td>JHAJJAR</td>\n",
       "      <td>2270.69</td>\n",
       "      <td>2016-08-02</td>\n",
       "      <td>14:18:58</td>\n",
       "      <td>27999.0</td>\n",
       "      <td>59</td>\n",
       "    </tr>\n",
       "    <tr>\n",
       "      <th>2</th>\n",
       "      <td>T3</td>\n",
       "      <td>C4417068</td>\n",
       "      <td>1996-11-26</td>\n",
       "      <td>F</td>\n",
       "      <td>MUMBAI</td>\n",
       "      <td>17874.44</td>\n",
       "      <td>2016-08-02</td>\n",
       "      <td>14:27:12</td>\n",
       "      <td>459.0</td>\n",
       "      <td>19</td>\n",
       "    </tr>\n",
       "  </tbody>\n",
       "</table>\n",
       "</div>"
      ],
      "text/plain": [
       "\n",
       "  TransactionID CustomerID CustomerDOB CustGender CustLocation  \\\n",
       "\u001b[1;36m0\u001b[0m            T1   C5841053  \u001b[1;36m1994\u001b[0m-\u001b[1;36m01\u001b[0m-\u001b[1;36m10\u001b[0m          F   JAMSHEDPUR   \n",
       "\u001b[1;36m1\u001b[0m            T2   C2142763  \u001b[1;36m1957\u001b[0m-\u001b[1;36m04\u001b[0m-\u001b[1;36m04\u001b[0m          M      JHAJJAR   \n",
       "\u001b[1;36m2\u001b[0m            T3   C4417068  \u001b[1;36m1996\u001b[0m-\u001b[1;36m11\u001b[0m-\u001b[1;36m26\u001b[0m          F       MUMBAI   \n",
       "\n",
       "   CustAccountBalance TransactionDate TransactionTime  TransactionAmount_INR  \\\n",
       "\u001b[1;36m0\u001b[0m            \u001b[1;36m17819.05\u001b[0m      \u001b[1;36m2016\u001b[0m-\u001b[1;36m08\u001b[0m-\u001b[1;36m02\u001b[0m        \u001b[1;92m14:32:07\u001b[0m                   \u001b[1;36m25.0\u001b[0m   \n",
       "\u001b[1;36m1\u001b[0m             \u001b[1;36m2270.69\u001b[0m      \u001b[1;36m2016\u001b[0m-\u001b[1;36m08\u001b[0m-\u001b[1;36m02\u001b[0m        \u001b[1;92m14:18:58\u001b[0m                \u001b[1;36m27999.0\u001b[0m   \n",
       "\u001b[1;36m2\u001b[0m            \u001b[1;36m17874.44\u001b[0m      \u001b[1;36m2016\u001b[0m-\u001b[1;36m08\u001b[0m-\u001b[1;36m02\u001b[0m        \u001b[1;92m14:27:12\u001b[0m                  \u001b[1;36m459.0\u001b[0m   \n",
       "\n",
       "   Age  \n",
       "\u001b[1;36m0\u001b[0m   \u001b[1;36m22\u001b[0m  \n",
       "\u001b[1;36m1\u001b[0m   \u001b[1;36m59\u001b[0m  \n",
       "\u001b[1;36m2\u001b[0m   \u001b[1;36m19\u001b[0m  "
      ]
     },
     "metadata": {},
     "output_type": "display_data"
    },
    {
     "name": "stdout",
     "output_type": "stream",
     "text": [
      "\n",
      "Estadística descriptiva (numéricas):\n"
     ]
    },
    {
     "data": {
      "text/html": [
       "<pre style=\"white-space:pre;overflow-x:auto;line-height:normal;font-family:Menlo,'DejaVu Sans Mono',consolas,'Courier New',monospace\"></pre>\n"
      ],
      "text/plain": []
     },
     "metadata": {},
     "output_type": "display_data"
    },
    {
     "data": {
      "text/html": [
       "<div>\n",
       "<style scoped>\n",
       "    .dataframe tbody tr th:only-of-type {\n",
       "        vertical-align: middle;\n",
       "    }\n",
       "\n",
       "    .dataframe tbody tr th {\n",
       "        vertical-align: top;\n",
       "    }\n",
       "\n",
       "    .dataframe thead th {\n",
       "        text-align: right;\n",
       "    }\n",
       "</style>\n",
       "<table border=\"1\" class=\"dataframe\">\n",
       "  <thead>\n",
       "    <tr style=\"text-align: right;\">\n",
       "      <th></th>\n",
       "      <th>count</th>\n",
       "      <th>mean</th>\n",
       "      <th>std</th>\n",
       "      <th>min</th>\n",
       "      <th>25%</th>\n",
       "      <th>50%</th>\n",
       "      <th>75%</th>\n",
       "      <th>max</th>\n",
       "    </tr>\n",
       "  </thead>\n",
       "  <tbody>\n",
       "    <tr>\n",
       "      <th>CustAccountBalance</th>\n",
       "      <td>984247.0</td>\n",
       "      <td>103760.407586</td>\n",
       "      <td>808904.394938</td>\n",
       "      <td>0.0</td>\n",
       "      <td>4586.68</td>\n",
       "      <td>16022.64</td>\n",
       "      <td>53216.340</td>\n",
       "      <td>1.150355e+08</td>\n",
       "    </tr>\n",
       "    <tr>\n",
       "      <th>TransactionAmount_INR</th>\n",
       "      <td>984247.0</td>\n",
       "      <td>1440.536985</td>\n",
       "      <td>6083.277834</td>\n",
       "      <td>0.0</td>\n",
       "      <td>150.00</td>\n",
       "      <td>430.00</td>\n",
       "      <td>1119.045</td>\n",
       "      <td>1.560035e+06</td>\n",
       "    </tr>\n",
       "    <tr>\n",
       "      <th>Age</th>\n",
       "      <td>984247.0</td>\n",
       "      <td>30.852597</td>\n",
       "      <td>8.791230</td>\n",
       "      <td>7.0</td>\n",
       "      <td>25.00</td>\n",
       "      <td>29.00</td>\n",
       "      <td>34.000</td>\n",
       "      <td>1.060000e+02</td>\n",
       "    </tr>\n",
       "  </tbody>\n",
       "</table>\n",
       "</div>"
      ],
      "text/plain": [
       "\n",
       "                          count           mean            std  min      \u001b[1;36m25\u001b[0m%  \\\n",
       "CustAccountBalance     \u001b[1;36m984247.0\u001b[0m  \u001b[1;36m103760.407586\u001b[0m  \u001b[1;36m808904.394938\u001b[0m  \u001b[1;36m0.0\u001b[0m  \u001b[1;36m4586.68\u001b[0m   \n",
       "TransactionAmount_INR  \u001b[1;36m984247.0\u001b[0m    \u001b[1;36m1440.536985\u001b[0m    \u001b[1;36m6083.277834\u001b[0m  \u001b[1;36m0.0\u001b[0m   \u001b[1;36m150.00\u001b[0m   \n",
       "Age                    \u001b[1;36m984247.0\u001b[0m      \u001b[1;36m30.852597\u001b[0m       \u001b[1;36m8.791230\u001b[0m  \u001b[1;36m7.0\u001b[0m    \u001b[1;36m25.00\u001b[0m   \n",
       "\n",
       "                            \u001b[1;36m50\u001b[0m%        \u001b[1;36m75\u001b[0m%           max  \n",
       "CustAccountBalance     \u001b[1;36m16022.64\u001b[0m  \u001b[1;36m53216.340\u001b[0m  \u001b[1;36m1.150355e+08\u001b[0m  \n",
       "TransactionAmount_INR    \u001b[1;36m430.00\u001b[0m   \u001b[1;36m1119.045\u001b[0m  \u001b[1;36m1.560035e+06\u001b[0m  \n",
       "Age                       \u001b[1;36m29.00\u001b[0m     \u001b[1;36m34.000\u001b[0m  \u001b[1;36m1.060000e+02\u001b[0m  "
      ]
     },
     "metadata": {},
     "output_type": "display_data"
    },
    {
     "name": "stdout",
     "output_type": "stream",
     "text": [
      "\n",
      "Estadística descriptiva (categóricas):\n"
     ]
    },
    {
     "data": {
      "text/html": [
       "<pre style=\"white-space:pre;overflow-x:auto;line-height:normal;font-family:Menlo,'DejaVu Sans Mono',consolas,'Courier New',monospace\"></pre>\n"
      ],
      "text/plain": []
     },
     "metadata": {},
     "output_type": "display_data"
    },
    {
     "data": {
      "text/html": [
       "<div>\n",
       "<style scoped>\n",
       "    .dataframe tbody tr th:only-of-type {\n",
       "        vertical-align: middle;\n",
       "    }\n",
       "\n",
       "    .dataframe tbody tr th {\n",
       "        vertical-align: top;\n",
       "    }\n",
       "\n",
       "    .dataframe thead th {\n",
       "        text-align: right;\n",
       "    }\n",
       "</style>\n",
       "<table border=\"1\" class=\"dataframe\">\n",
       "  <thead>\n",
       "    <tr style=\"text-align: right;\">\n",
       "      <th></th>\n",
       "      <th>count</th>\n",
       "      <th>unique</th>\n",
       "      <th>top</th>\n",
       "      <th>freq</th>\n",
       "    </tr>\n",
       "  </thead>\n",
       "  <tbody>\n",
       "    <tr>\n",
       "      <th>TransactionID</th>\n",
       "      <td>984247</td>\n",
       "      <td>984247</td>\n",
       "      <td>T1</td>\n",
       "      <td>1</td>\n",
       "    </tr>\n",
       "    <tr>\n",
       "      <th>CustomerID</th>\n",
       "      <td>984247</td>\n",
       "      <td>838370</td>\n",
       "      <td>C1026833</td>\n",
       "      <td>6</td>\n",
       "    </tr>\n",
       "    <tr>\n",
       "      <th>CustomerDOB</th>\n",
       "      <td>984247</td>\n",
       "      <td>17221</td>\n",
       "      <td>1989-01-01</td>\n",
       "      <td>809</td>\n",
       "    </tr>\n",
       "    <tr>\n",
       "      <th>CustGender</th>\n",
       "      <td>984247</td>\n",
       "      <td>3</td>\n",
       "      <td>M</td>\n",
       "      <td>710981</td>\n",
       "    </tr>\n",
       "    <tr>\n",
       "      <th>CustLocation</th>\n",
       "      <td>984240</td>\n",
       "      <td>4153</td>\n",
       "      <td>MUMBAI</td>\n",
       "      <td>113209</td>\n",
       "    </tr>\n",
       "    <tr>\n",
       "      <th>TransactionDate</th>\n",
       "      <td>984247</td>\n",
       "      <td>55</td>\n",
       "      <td>2016-08-07</td>\n",
       "      <td>26039</td>\n",
       "    </tr>\n",
       "    <tr>\n",
       "      <th>TransactionTime</th>\n",
       "      <td>984247</td>\n",
       "      <td>81382</td>\n",
       "      <td>19:33:03</td>\n",
       "      <td>46</td>\n",
       "    </tr>\n",
       "  </tbody>\n",
       "</table>\n",
       "</div>"
      ],
      "text/plain": [
       "\n",
       "                  count  unique         top    freq\n",
       "TransactionID    \u001b[1;36m984247\u001b[0m  \u001b[1;36m984247\u001b[0m          T1       \u001b[1;36m1\u001b[0m\n",
       "CustomerID       \u001b[1;36m984247\u001b[0m  \u001b[1;36m838370\u001b[0m    C1026833       \u001b[1;36m6\u001b[0m\n",
       "CustomerDOB      \u001b[1;36m984247\u001b[0m   \u001b[1;36m17221\u001b[0m  \u001b[1;36m1989\u001b[0m-\u001b[1;36m01\u001b[0m-\u001b[1;36m01\u001b[0m     \u001b[1;36m809\u001b[0m\n",
       "CustGender       \u001b[1;36m984247\u001b[0m       \u001b[1;36m3\u001b[0m           M  \u001b[1;36m710981\u001b[0m\n",
       "CustLocation     \u001b[1;36m984240\u001b[0m    \u001b[1;36m4153\u001b[0m      MUMBAI  \u001b[1;36m113209\u001b[0m\n",
       "TransactionDate  \u001b[1;36m984247\u001b[0m      \u001b[1;36m55\u001b[0m  \u001b[1;36m2016\u001b[0m-\u001b[1;36m08\u001b[0m-\u001b[1;36m07\u001b[0m   \u001b[1;36m26039\u001b[0m\n",
       "TransactionTime  \u001b[1;36m984247\u001b[0m   \u001b[1;36m81382\u001b[0m    \u001b[1;92m19:33:03\u001b[0m      \u001b[1;36m46\u001b[0m"
      ]
     },
     "metadata": {},
     "output_type": "display_data"
    },
    {
     "name": "stdout",
     "output_type": "stream",
     "text": [
      "\n",
      "===== customer_agg =====\n",
      "Shape: (838370, 15)\n",
      "Columnas y tipos:\n",
      "Unnamed: 0                 int64\n",
      "CustomerID                object\n",
      "txn_count                  int64\n",
      "total_spent              float64\n",
      "avg_spent                float64\n",
      "max_spent                float64\n",
      "avg_balance              float64\n",
      "first_txn_date            object\n",
      "last_txn_date             object\n",
      "location                  object\n",
      "gender                    object\n",
      "recency_days               int64\n",
      "tenure_days                int64\n",
      "txn_per_day              float64\n",
      "avg_spent_pct_balance    float64\n",
      "dtype: object\n",
      "\n",
      "Primeras filas:\n"
     ]
    },
    {
     "data": {
      "text/html": [
       "<pre style=\"white-space:pre;overflow-x:auto;line-height:normal;font-family:Menlo,'DejaVu Sans Mono',consolas,'Courier New',monospace\"></pre>\n"
      ],
      "text/plain": []
     },
     "metadata": {},
     "output_type": "display_data"
    },
    {
     "data": {
      "text/html": [
       "<div>\n",
       "<style scoped>\n",
       "    .dataframe tbody tr th:only-of-type {\n",
       "        vertical-align: middle;\n",
       "    }\n",
       "\n",
       "    .dataframe tbody tr th {\n",
       "        vertical-align: top;\n",
       "    }\n",
       "\n",
       "    .dataframe thead th {\n",
       "        text-align: right;\n",
       "    }\n",
       "</style>\n",
       "<table border=\"1\" class=\"dataframe\">\n",
       "  <thead>\n",
       "    <tr style=\"text-align: right;\">\n",
       "      <th></th>\n",
       "      <th>Unnamed: 0</th>\n",
       "      <th>CustomerID</th>\n",
       "      <th>txn_count</th>\n",
       "      <th>total_spent</th>\n",
       "      <th>avg_spent</th>\n",
       "      <th>max_spent</th>\n",
       "      <th>avg_balance</th>\n",
       "      <th>first_txn_date</th>\n",
       "      <th>last_txn_date</th>\n",
       "      <th>location</th>\n",
       "      <th>gender</th>\n",
       "      <th>recency_days</th>\n",
       "      <th>tenure_days</th>\n",
       "      <th>txn_per_day</th>\n",
       "      <th>avg_spent_pct_balance</th>\n",
       "    </tr>\n",
       "  </thead>\n",
       "  <tbody>\n",
       "    <tr>\n",
       "      <th>0</th>\n",
       "      <td>0</td>\n",
       "      <td>C1010011</td>\n",
       "      <td>2</td>\n",
       "      <td>5106.0</td>\n",
       "      <td>2553.0</td>\n",
       "      <td>4750.0</td>\n",
       "      <td>76340.635</td>\n",
       "      <td>2016-08-09</td>\n",
       "      <td>2016-09-26</td>\n",
       "      <td>NOIDA</td>\n",
       "      <td>F</td>\n",
       "      <td>25</td>\n",
       "      <td>48</td>\n",
       "      <td>0.041667</td>\n",
       "      <td>0.033442</td>\n",
       "    </tr>\n",
       "    <tr>\n",
       "      <th>1</th>\n",
       "      <td>1</td>\n",
       "      <td>C1010012</td>\n",
       "      <td>1</td>\n",
       "      <td>1499.0</td>\n",
       "      <td>1499.0</td>\n",
       "      <td>1499.0</td>\n",
       "      <td>24204.490</td>\n",
       "      <td>2016-08-14</td>\n",
       "      <td>2016-08-14</td>\n",
       "      <td>MUMBAI</td>\n",
       "      <td>M</td>\n",
       "      <td>68</td>\n",
       "      <td>0</td>\n",
       "      <td>1.000000</td>\n",
       "      <td>0.061931</td>\n",
       "    </tr>\n",
       "    <tr>\n",
       "      <th>2</th>\n",
       "      <td>2</td>\n",
       "      <td>C1010014</td>\n",
       "      <td>2</td>\n",
       "      <td>1455.0</td>\n",
       "      <td>727.5</td>\n",
       "      <td>1205.0</td>\n",
       "      <td>100112.950</td>\n",
       "      <td>2016-08-01</td>\n",
       "      <td>2016-08-07</td>\n",
       "      <td>MUMBAI</td>\n",
       "      <td>F</td>\n",
       "      <td>75</td>\n",
       "      <td>6</td>\n",
       "      <td>0.333333</td>\n",
       "      <td>0.007267</td>\n",
       "    </tr>\n",
       "  </tbody>\n",
       "</table>\n",
       "</div>"
      ],
      "text/plain": [
       "\n",
       "   Unnamed: \u001b[1;36m0\u001b[0m CustomerID  txn_count  total_spent  avg_spent  max_spent  \\\n",
       "\u001b[1;36m0\u001b[0m           \u001b[1;36m0\u001b[0m   C1010011          \u001b[1;36m2\u001b[0m       \u001b[1;36m5106.0\u001b[0m     \u001b[1;36m2553.0\u001b[0m     \u001b[1;36m4750.0\u001b[0m   \n",
       "\u001b[1;36m1\u001b[0m           \u001b[1;36m1\u001b[0m   C1010012          \u001b[1;36m1\u001b[0m       \u001b[1;36m1499.0\u001b[0m     \u001b[1;36m1499.0\u001b[0m     \u001b[1;36m1499.0\u001b[0m   \n",
       "\u001b[1;36m2\u001b[0m           \u001b[1;36m2\u001b[0m   C1010014          \u001b[1;36m2\u001b[0m       \u001b[1;36m1455.0\u001b[0m      \u001b[1;36m727.5\u001b[0m     \u001b[1;36m1205.0\u001b[0m   \n",
       "\n",
       "   avg_balance first_txn_date last_txn_date location gender  recency_days  \\\n",
       "\u001b[1;36m0\u001b[0m    \u001b[1;36m76340.635\u001b[0m     \u001b[1;36m2016\u001b[0m-\u001b[1;36m08\u001b[0m-\u001b[1;36m09\u001b[0m    \u001b[1;36m2016\u001b[0m-\u001b[1;36m09\u001b[0m-\u001b[1;36m26\u001b[0m    NOIDA      F            \u001b[1;36m25\u001b[0m   \n",
       "\u001b[1;36m1\u001b[0m    \u001b[1;36m24204.490\u001b[0m     \u001b[1;36m2016\u001b[0m-\u001b[1;36m08\u001b[0m-\u001b[1;36m14\u001b[0m    \u001b[1;36m2016\u001b[0m-\u001b[1;36m08\u001b[0m-\u001b[1;36m14\u001b[0m   MUMBAI      M            \u001b[1;36m68\u001b[0m   \n",
       "\u001b[1;36m2\u001b[0m   \u001b[1;36m100112.950\u001b[0m     \u001b[1;36m2016\u001b[0m-\u001b[1;36m08\u001b[0m-\u001b[1;36m01\u001b[0m    \u001b[1;36m2016\u001b[0m-\u001b[1;36m08\u001b[0m-\u001b[1;36m07\u001b[0m   MUMBAI      F            \u001b[1;36m75\u001b[0m   \n",
       "\n",
       "   tenure_days  txn_per_day  avg_spent_pct_balance  \n",
       "\u001b[1;36m0\u001b[0m           \u001b[1;36m48\u001b[0m     \u001b[1;36m0.041667\u001b[0m               \u001b[1;36m0.033442\u001b[0m  \n",
       "\u001b[1;36m1\u001b[0m            \u001b[1;36m0\u001b[0m     \u001b[1;36m1.000000\u001b[0m               \u001b[1;36m0.061931\u001b[0m  \n",
       "\u001b[1;36m2\u001b[0m            \u001b[1;36m6\u001b[0m     \u001b[1;36m0.333333\u001b[0m               \u001b[1;36m0.007267\u001b[0m  "
      ]
     },
     "metadata": {},
     "output_type": "display_data"
    },
    {
     "name": "stdout",
     "output_type": "stream",
     "text": [
      "\n",
      "Estadística descriptiva (numéricas):\n"
     ]
    },
    {
     "data": {
      "text/html": [
       "<pre style=\"white-space:pre;overflow-x:auto;line-height:normal;font-family:Menlo,'DejaVu Sans Mono',consolas,'Courier New',monospace\"><span style=\"color: #7fbfbf; text-decoration-color: #7fbfbf\">[09/14/25 23:14:22] </span><span style=\"color: #808000; text-decoration-color: #808000\">WARNING </span> C:\\Users\\Kevin\\Documents\\GitHub\\Ml_Bank\\venv\\Lib\\site-packages\\pandas\\ <a href=\"file://C:\\Python313\\Lib\\warnings.py\" target=\"_blank\"><span style=\"color: #7f7f7f; text-decoration-color: #7f7f7f\">warnings.py</span></a><span style=\"color: #7f7f7f; text-decoration-color: #7f7f7f\">:</span><a href=\"file://C:\\Python313\\Lib\\warnings.py#110\" target=\"_blank\"><span style=\"color: #7f7f7f; text-decoration-color: #7f7f7f\">110</span></a>\n",
       "<span style=\"color: #7fbfbf; text-decoration-color: #7fbfbf\">                    </span>         core\\nanops.py:<span style=\"color: #008080; text-decoration-color: #008080; font-weight: bold\">1016</span>: RuntimeWarning: invalid value encountered in      <span style=\"color: #7f7f7f; text-decoration-color: #7f7f7f\">               </span>\n",
       "<span style=\"color: #7fbfbf; text-decoration-color: #7fbfbf\">                    </span>         subtract                                                               <span style=\"color: #7f7f7f; text-decoration-color: #7f7f7f\">               </span>\n",
       "<span style=\"color: #7fbfbf; text-decoration-color: #7fbfbf\">                    </span>           sqr = <span style=\"color: #800080; text-decoration-color: #800080; font-weight: bold\">_ensure_numeric</span><span style=\"font-weight: bold\">((</span>avg - values<span style=\"font-weight: bold\">)</span> ** <span style=\"color: #008080; text-decoration-color: #008080; font-weight: bold\">2</span><span style=\"font-weight: bold\">)</span>                           <span style=\"color: #7f7f7f; text-decoration-color: #7f7f7f\">               </span>\n",
       "<span style=\"color: #7fbfbf; text-decoration-color: #7fbfbf\">                    </span>                                                                                <span style=\"color: #7f7f7f; text-decoration-color: #7f7f7f\">               </span>\n",
       "</pre>\n"
      ],
      "text/plain": [
       "\u001b[2;36m[09/14/25 23:14:22]\u001b[0m\u001b[2;36m \u001b[0m\u001b[33mWARNING \u001b[0m C:\\Users\\Kevin\\Documents\\GitHub\\Ml_Bank\\venv\\Lib\\site-packages\\pandas\\ \u001b]8;id=968058;file://C:\\Python313\\Lib\\warnings.py\u001b\\\u001b[2mwarnings.py\u001b[0m\u001b]8;;\u001b\\\u001b[2m:\u001b[0m\u001b]8;id=223512;file://C:\\Python313\\Lib\\warnings.py#110\u001b\\\u001b[2m110\u001b[0m\u001b]8;;\u001b\\\n",
       "\u001b[2;36m                    \u001b[0m         core\\nanops.py:\u001b[1;36m1016\u001b[0m: RuntimeWarning: invalid value encountered in      \u001b[2m               \u001b[0m\n",
       "\u001b[2;36m                    \u001b[0m         subtract                                                               \u001b[2m               \u001b[0m\n",
       "\u001b[2;36m                    \u001b[0m           sqr = \u001b[1;35m_ensure_numeric\u001b[0m\u001b[1m(\u001b[0m\u001b[1m(\u001b[0mavg - values\u001b[1m)\u001b[0m ** \u001b[1;36m2\u001b[0m\u001b[1m)\u001b[0m                           \u001b[2m               \u001b[0m\n",
       "\u001b[2;36m                    \u001b[0m                                                                                \u001b[2m               \u001b[0m\n"
      ]
     },
     "metadata": {},
     "output_type": "display_data"
    },
    {
     "data": {
      "text/html": [
       "<pre style=\"white-space:pre;overflow-x:auto;line-height:normal;font-family:Menlo,'DejaVu Sans Mono',consolas,'Courier New',monospace\"></pre>\n"
      ],
      "text/plain": []
     },
     "metadata": {},
     "output_type": "display_data"
    },
    {
     "data": {
      "text/html": [
       "<div>\n",
       "<style scoped>\n",
       "    .dataframe tbody tr th:only-of-type {\n",
       "        vertical-align: middle;\n",
       "    }\n",
       "\n",
       "    .dataframe tbody tr th {\n",
       "        vertical-align: top;\n",
       "    }\n",
       "\n",
       "    .dataframe thead th {\n",
       "        text-align: right;\n",
       "    }\n",
       "</style>\n",
       "<table border=\"1\" class=\"dataframe\">\n",
       "  <thead>\n",
       "    <tr style=\"text-align: right;\">\n",
       "      <th></th>\n",
       "      <th>count</th>\n",
       "      <th>mean</th>\n",
       "      <th>std</th>\n",
       "      <th>min</th>\n",
       "      <th>25%</th>\n",
       "      <th>50%</th>\n",
       "      <th>75%</th>\n",
       "      <th>max</th>\n",
       "    </tr>\n",
       "  </thead>\n",
       "  <tbody>\n",
       "    <tr>\n",
       "      <th>Unnamed: 0</th>\n",
       "      <td>838370.0</td>\n",
       "      <td>4.191845e+05</td>\n",
       "      <td>242016.716928</td>\n",
       "      <td>0.000000</td>\n",
       "      <td>209592.250000</td>\n",
       "      <td>419184.500000</td>\n",
       "      <td>628776.750000</td>\n",
       "      <td>8.383690e+05</td>\n",
       "    </tr>\n",
       "    <tr>\n",
       "      <th>txn_count</th>\n",
       "      <td>838370.0</td>\n",
       "      <td>1.174001e+00</td>\n",
       "      <td>0.434824</td>\n",
       "      <td>1.000000</td>\n",
       "      <td>1.000000</td>\n",
       "      <td>1.000000</td>\n",
       "      <td>1.000000</td>\n",
       "      <td>6.000000e+00</td>\n",
       "    </tr>\n",
       "    <tr>\n",
       "      <th>total_spent</th>\n",
       "      <td>838370.0</td>\n",
       "      <td>1.691191e+03</td>\n",
       "      <td>6625.500295</td>\n",
       "      <td>0.000000</td>\n",
       "      <td>198.000000</td>\n",
       "      <td>500.000000</td>\n",
       "      <td>1408.000000</td>\n",
       "      <td>1.560035e+06</td>\n",
       "    </tr>\n",
       "    <tr>\n",
       "      <th>avg_spent</th>\n",
       "      <td>838370.0</td>\n",
       "      <td>1.441358e+03</td>\n",
       "      <td>5983.405449</td>\n",
       "      <td>0.000000</td>\n",
       "      <td>179.400000</td>\n",
       "      <td>472.000000</td>\n",
       "      <td>1169.450000</td>\n",
       "      <td>1.560035e+06</td>\n",
       "    </tr>\n",
       "    <tr>\n",
       "      <th>max_spent</th>\n",
       "      <td>838370.0</td>\n",
       "      <td>1.623042e+03</td>\n",
       "      <td>6565.950882</td>\n",
       "      <td>0.000000</td>\n",
       "      <td>194.000000</td>\n",
       "      <td>500.000000</td>\n",
       "      <td>1305.487500</td>\n",
       "      <td>1.560035e+06</td>\n",
       "    </tr>\n",
       "    <tr>\n",
       "      <th>avg_balance</th>\n",
       "      <td>838370.0</td>\n",
       "      <td>1.036515e+05</td>\n",
       "      <td>778216.552966</td>\n",
       "      <td>0.000000</td>\n",
       "      <td>5372.480000</td>\n",
       "      <td>17532.420000</td>\n",
       "      <td>56655.780000</td>\n",
       "      <td>1.150355e+08</td>\n",
       "    </tr>\n",
       "    <tr>\n",
       "      <th>recency_days</th>\n",
       "      <td>838370.0</td>\n",
       "      <td>5.541942e+01</td>\n",
       "      <td>15.221597</td>\n",
       "      <td>0.000000</td>\n",
       "      <td>43.000000</td>\n",
       "      <td>55.000000</td>\n",
       "      <td>68.000000</td>\n",
       "      <td>8.100000e+01</td>\n",
       "    </tr>\n",
       "    <tr>\n",
       "      <th>tenure_days</th>\n",
       "      <td>838370.0</td>\n",
       "      <td>2.811600e+00</td>\n",
       "      <td>8.336134</td>\n",
       "      <td>0.000000</td>\n",
       "      <td>0.000000</td>\n",
       "      <td>0.000000</td>\n",
       "      <td>0.000000</td>\n",
       "      <td>8.100000e+01</td>\n",
       "    </tr>\n",
       "    <tr>\n",
       "      <th>txn_per_day</th>\n",
       "      <td>838370.0</td>\n",
       "      <td>8.927024e-01</td>\n",
       "      <td>0.308001</td>\n",
       "      <td>0.024691</td>\n",
       "      <td>1.000000</td>\n",
       "      <td>1.000000</td>\n",
       "      <td>1.000000</td>\n",
       "      <td>3.000000e+00</td>\n",
       "    </tr>\n",
       "    <tr>\n",
       "      <th>avg_spent_pct_balance</th>\n",
       "      <td>838367.0</td>\n",
       "      <td>inf</td>\n",
       "      <td>NaN</td>\n",
       "      <td>0.000000</td>\n",
       "      <td>0.006764</td>\n",
       "      <td>0.025001</td>\n",
       "      <td>0.106448</td>\n",
       "      <td>inf</td>\n",
       "    </tr>\n",
       "  </tbody>\n",
       "</table>\n",
       "</div>"
      ],
      "text/plain": [
       "\n",
       "                          count          mean            std       min  \\\n",
       "Unnamed: \u001b[1;36m0\u001b[0m             \u001b[1;36m838370.0\u001b[0m  \u001b[1;36m4.191845e+05\u001b[0m  \u001b[1;36m242016.716928\u001b[0m  \u001b[1;36m0.000000\u001b[0m   \n",
       "txn_count              \u001b[1;36m838370.0\u001b[0m  \u001b[1;36m1.174001e+00\u001b[0m       \u001b[1;36m0.434824\u001b[0m  \u001b[1;36m1.000000\u001b[0m   \n",
       "total_spent            \u001b[1;36m838370.0\u001b[0m  \u001b[1;36m1.691191e+03\u001b[0m    \u001b[1;36m6625.500295\u001b[0m  \u001b[1;36m0.000000\u001b[0m   \n",
       "avg_spent              \u001b[1;36m838370.0\u001b[0m  \u001b[1;36m1.441358e+03\u001b[0m    \u001b[1;36m5983.405449\u001b[0m  \u001b[1;36m0.000000\u001b[0m   \n",
       "max_spent              \u001b[1;36m838370.0\u001b[0m  \u001b[1;36m1.623042e+03\u001b[0m    \u001b[1;36m6565.950882\u001b[0m  \u001b[1;36m0.000000\u001b[0m   \n",
       "avg_balance            \u001b[1;36m838370.0\u001b[0m  \u001b[1;36m1.036515e+05\u001b[0m  \u001b[1;36m778216.552966\u001b[0m  \u001b[1;36m0.000000\u001b[0m   \n",
       "recency_days           \u001b[1;36m838370.0\u001b[0m  \u001b[1;36m5.541942e+01\u001b[0m      \u001b[1;36m15.221597\u001b[0m  \u001b[1;36m0.000000\u001b[0m   \n",
       "tenure_days            \u001b[1;36m838370.0\u001b[0m  \u001b[1;36m2.811600e+00\u001b[0m       \u001b[1;36m8.336134\u001b[0m  \u001b[1;36m0.000000\u001b[0m   \n",
       "txn_per_day            \u001b[1;36m838370.0\u001b[0m  \u001b[1;36m8.927024e-01\u001b[0m       \u001b[1;36m0.308001\u001b[0m  \u001b[1;36m0.024691\u001b[0m   \n",
       "avg_spent_pct_balance  \u001b[1;36m838367.0\u001b[0m           inf            NaN  \u001b[1;36m0.000000\u001b[0m   \n",
       "\n",
       "                                 \u001b[1;36m25\u001b[0m%            \u001b[1;36m50\u001b[0m%            \u001b[1;36m75\u001b[0m%  \\\n",
       "Unnamed: \u001b[1;36m0\u001b[0m             \u001b[1;36m209592.250000\u001b[0m  \u001b[1;36m419184.500000\u001b[0m  \u001b[1;36m628776.750000\u001b[0m   \n",
       "txn_count                   \u001b[1;36m1.000000\u001b[0m       \u001b[1;36m1.000000\u001b[0m       \u001b[1;36m1.000000\u001b[0m   \n",
       "total_spent               \u001b[1;36m198.000000\u001b[0m     \u001b[1;36m500.000000\u001b[0m    \u001b[1;36m1408.000000\u001b[0m   \n",
       "avg_spent                 \u001b[1;36m179.400000\u001b[0m     \u001b[1;36m472.000000\u001b[0m    \u001b[1;36m1169.450000\u001b[0m   \n",
       "max_spent                 \u001b[1;36m194.000000\u001b[0m     \u001b[1;36m500.000000\u001b[0m    \u001b[1;36m1305.487500\u001b[0m   \n",
       "avg_balance              \u001b[1;36m5372.480000\u001b[0m   \u001b[1;36m17532.420000\u001b[0m   \u001b[1;36m56655.780000\u001b[0m   \n",
       "recency_days               \u001b[1;36m43.000000\u001b[0m      \u001b[1;36m55.000000\u001b[0m      \u001b[1;36m68.000000\u001b[0m   \n",
       "tenure_days                 \u001b[1;36m0.000000\u001b[0m       \u001b[1;36m0.000000\u001b[0m       \u001b[1;36m0.000000\u001b[0m   \n",
       "txn_per_day                 \u001b[1;36m1.000000\u001b[0m       \u001b[1;36m1.000000\u001b[0m       \u001b[1;36m1.000000\u001b[0m   \n",
       "avg_spent_pct_balance       \u001b[1;36m0.006764\u001b[0m       \u001b[1;36m0.025001\u001b[0m       \u001b[1;36m0.106448\u001b[0m   \n",
       "\n",
       "                                max  \n",
       "Unnamed: \u001b[1;36m0\u001b[0m             \u001b[1;36m8.383690e+05\u001b[0m  \n",
       "txn_count              \u001b[1;36m6.000000e+00\u001b[0m  \n",
       "total_spent            \u001b[1;36m1.560035e+06\u001b[0m  \n",
       "avg_spent              \u001b[1;36m1.560035e+06\u001b[0m  \n",
       "max_spent              \u001b[1;36m1.560035e+06\u001b[0m  \n",
       "avg_balance            \u001b[1;36m1.150355e+08\u001b[0m  \n",
       "recency_days           \u001b[1;36m8.100000e+01\u001b[0m  \n",
       "tenure_days            \u001b[1;36m8.100000e+01\u001b[0m  \n",
       "txn_per_day            \u001b[1;36m3.000000e+00\u001b[0m  \n",
       "avg_spent_pct_balance           inf  "
      ]
     },
     "metadata": {},
     "output_type": "display_data"
    },
    {
     "name": "stdout",
     "output_type": "stream",
     "text": [
      "\n",
      "Estadística descriptiva (categóricas):\n"
     ]
    },
    {
     "data": {
      "text/html": [
       "<pre style=\"white-space:pre;overflow-x:auto;line-height:normal;font-family:Menlo,'DejaVu Sans Mono',consolas,'Courier New',monospace\"></pre>\n"
      ],
      "text/plain": []
     },
     "metadata": {},
     "output_type": "display_data"
    },
    {
     "data": {
      "text/html": [
       "<div>\n",
       "<style scoped>\n",
       "    .dataframe tbody tr th:only-of-type {\n",
       "        vertical-align: middle;\n",
       "    }\n",
       "\n",
       "    .dataframe tbody tr th {\n",
       "        vertical-align: top;\n",
       "    }\n",
       "\n",
       "    .dataframe thead th {\n",
       "        text-align: right;\n",
       "    }\n",
       "</style>\n",
       "<table border=\"1\" class=\"dataframe\">\n",
       "  <thead>\n",
       "    <tr style=\"text-align: right;\">\n",
       "      <th></th>\n",
       "      <th>count</th>\n",
       "      <th>unique</th>\n",
       "      <th>top</th>\n",
       "      <th>freq</th>\n",
       "    </tr>\n",
       "  </thead>\n",
       "  <tbody>\n",
       "    <tr>\n",
       "      <th>CustomerID</th>\n",
       "      <td>838370</td>\n",
       "      <td>838370</td>\n",
       "      <td>C1010011</td>\n",
       "      <td>1</td>\n",
       "    </tr>\n",
       "    <tr>\n",
       "      <th>first_txn_date</th>\n",
       "      <td>838370</td>\n",
       "      <td>55</td>\n",
       "      <td>2016-08-07</td>\n",
       "      <td>24854</td>\n",
       "    </tr>\n",
       "    <tr>\n",
       "      <th>last_txn_date</th>\n",
       "      <td>838370</td>\n",
       "      <td>55</td>\n",
       "      <td>2016-09-11</td>\n",
       "      <td>23094</td>\n",
       "    </tr>\n",
       "    <tr>\n",
       "      <th>location</th>\n",
       "      <td>838366</td>\n",
       "      <td>4023</td>\n",
       "      <td>MUMBAI</td>\n",
       "      <td>96584</td>\n",
       "    </tr>\n",
       "    <tr>\n",
       "      <th>gender</th>\n",
       "      <td>838370</td>\n",
       "      <td>3</td>\n",
       "      <td>M</td>\n",
       "      <td>605457</td>\n",
       "    </tr>\n",
       "  </tbody>\n",
       "</table>\n",
       "</div>"
      ],
      "text/plain": [
       "\n",
       "                 count  unique         top    freq\n",
       "CustomerID      \u001b[1;36m838370\u001b[0m  \u001b[1;36m838370\u001b[0m    C1010011       \u001b[1;36m1\u001b[0m\n",
       "first_txn_date  \u001b[1;36m838370\u001b[0m      \u001b[1;36m55\u001b[0m  \u001b[1;36m2016\u001b[0m-\u001b[1;36m08\u001b[0m-\u001b[1;36m07\u001b[0m   \u001b[1;36m24854\u001b[0m\n",
       "last_txn_date   \u001b[1;36m838370\u001b[0m      \u001b[1;36m55\u001b[0m  \u001b[1;36m2016\u001b[0m-\u001b[1;36m09\u001b[0m-\u001b[1;36m11\u001b[0m   \u001b[1;36m23094\u001b[0m\n",
       "location        \u001b[1;36m838366\u001b[0m    \u001b[1;36m4023\u001b[0m      MUMBAI   \u001b[1;36m96584\u001b[0m\n",
       "gender          \u001b[1;36m838370\u001b[0m       \u001b[1;36m3\u001b[0m           M  \u001b[1;36m605457\u001b[0m"
      ]
     },
     "metadata": {},
     "output_type": "display_data"
    },
    {
     "name": "stdout",
     "output_type": "stream",
     "text": [
      "\n",
      "===== RFM =====\n",
      "Shape: (838370, 11)\n",
      "Columnas y tipos:\n",
      "Unnamed: 0         int64\n",
      "CustomerID        object\n",
      "Recency            int64\n",
      "Frequency          int64\n",
      "Monetary         float64\n",
      "R                  int64\n",
      "F                  int64\n",
      "M                  int64\n",
      "RFM Score          int64\n",
      "Segment           object\n",
      "Segment_Final     object\n",
      "dtype: object\n",
      "\n",
      "Primeras filas:\n"
     ]
    },
    {
     "data": {
      "text/html": [
       "<pre style=\"white-space:pre;overflow-x:auto;line-height:normal;font-family:Menlo,'DejaVu Sans Mono',consolas,'Courier New',monospace\"></pre>\n"
      ],
      "text/plain": []
     },
     "metadata": {},
     "output_type": "display_data"
    },
    {
     "data": {
      "text/html": [
       "<div>\n",
       "<style scoped>\n",
       "    .dataframe tbody tr th:only-of-type {\n",
       "        vertical-align: middle;\n",
       "    }\n",
       "\n",
       "    .dataframe tbody tr th {\n",
       "        vertical-align: top;\n",
       "    }\n",
       "\n",
       "    .dataframe thead th {\n",
       "        text-align: right;\n",
       "    }\n",
       "</style>\n",
       "<table border=\"1\" class=\"dataframe\">\n",
       "  <thead>\n",
       "    <tr style=\"text-align: right;\">\n",
       "      <th></th>\n",
       "      <th>Unnamed: 0</th>\n",
       "      <th>CustomerID</th>\n",
       "      <th>Recency</th>\n",
       "      <th>Frequency</th>\n",
       "      <th>Monetary</th>\n",
       "      <th>R</th>\n",
       "      <th>F</th>\n",
       "      <th>M</th>\n",
       "      <th>RFM Score</th>\n",
       "      <th>Segment</th>\n",
       "      <th>Segment_Final</th>\n",
       "    </tr>\n",
       "  </thead>\n",
       "  <tbody>\n",
       "    <tr>\n",
       "      <th>0</th>\n",
       "      <td>0</td>\n",
       "      <td>C1010011</td>\n",
       "      <td>25</td>\n",
       "      <td>2</td>\n",
       "      <td>5106.0</td>\n",
       "      <td>5</td>\n",
       "      <td>5</td>\n",
       "      <td>5</td>\n",
       "      <td>555</td>\n",
       "      <td>Champions</td>\n",
       "      <td>Champions</td>\n",
       "    </tr>\n",
       "    <tr>\n",
       "      <th>1</th>\n",
       "      <td>1</td>\n",
       "      <td>C1010012</td>\n",
       "      <td>68</td>\n",
       "      <td>1</td>\n",
       "      <td>1499.0</td>\n",
       "      <td>2</td>\n",
       "      <td>1</td>\n",
       "      <td>4</td>\n",
       "      <td>214</td>\n",
       "      <td>At Risk (Inactive)</td>\n",
       "      <td>Needs Attention</td>\n",
       "    </tr>\n",
       "    <tr>\n",
       "      <th>2</th>\n",
       "      <td>2</td>\n",
       "      <td>C1010014</td>\n",
       "      <td>75</td>\n",
       "      <td>2</td>\n",
       "      <td>1455.0</td>\n",
       "      <td>1</td>\n",
       "      <td>5</td>\n",
       "      <td>4</td>\n",
       "      <td>154</td>\n",
       "      <td>At Risk (High-value)</td>\n",
       "      <td>Critical</td>\n",
       "    </tr>\n",
       "  </tbody>\n",
       "</table>\n",
       "</div>"
      ],
      "text/plain": [
       "\n",
       "   Unnamed: \u001b[1;36m0\u001b[0m CustomerID  Recency  Frequency  Monetary  R  F  M  RFM Score  \\\n",
       "\u001b[1;36m0\u001b[0m           \u001b[1;36m0\u001b[0m   C1010011       \u001b[1;36m25\u001b[0m          \u001b[1;36m2\u001b[0m    \u001b[1;36m5106.0\u001b[0m  \u001b[1;36m5\u001b[0m  \u001b[1;36m5\u001b[0m  \u001b[1;36m5\u001b[0m        \u001b[1;36m555\u001b[0m   \n",
       "\u001b[1;36m1\u001b[0m           \u001b[1;36m1\u001b[0m   C1010012       \u001b[1;36m68\u001b[0m          \u001b[1;36m1\u001b[0m    \u001b[1;36m1499.0\u001b[0m  \u001b[1;36m2\u001b[0m  \u001b[1;36m1\u001b[0m  \u001b[1;36m4\u001b[0m        \u001b[1;36m214\u001b[0m   \n",
       "\u001b[1;36m2\u001b[0m           \u001b[1;36m2\u001b[0m   C1010014       \u001b[1;36m75\u001b[0m          \u001b[1;36m2\u001b[0m    \u001b[1;36m1455.0\u001b[0m  \u001b[1;36m1\u001b[0m  \u001b[1;36m5\u001b[0m  \u001b[1;36m4\u001b[0m        \u001b[1;36m154\u001b[0m   \n",
       "\n",
       "                Segment    Segment_Final  \n",
       "\u001b[1;36m0\u001b[0m             Champions        Champions  \n",
       "\u001b[1;36m1\u001b[0m    At Risk \u001b[1m(\u001b[0mInactive\u001b[1m)\u001b[0m  Needs Attention  \n",
       "\u001b[1;36m2\u001b[0m  At Risk \u001b[1m(\u001b[0mHigh-value\u001b[1m)\u001b[0m         Critical  "
      ]
     },
     "metadata": {},
     "output_type": "display_data"
    },
    {
     "name": "stdout",
     "output_type": "stream",
     "text": [
      "\n",
      "Estadística descriptiva (numéricas):\n"
     ]
    },
    {
     "data": {
      "text/html": [
       "<pre style=\"white-space:pre;overflow-x:auto;line-height:normal;font-family:Menlo,'DejaVu Sans Mono',consolas,'Courier New',monospace\"></pre>\n"
      ],
      "text/plain": []
     },
     "metadata": {},
     "output_type": "display_data"
    },
    {
     "data": {
      "text/html": [
       "<div>\n",
       "<style scoped>\n",
       "    .dataframe tbody tr th:only-of-type {\n",
       "        vertical-align: middle;\n",
       "    }\n",
       "\n",
       "    .dataframe tbody tr th {\n",
       "        vertical-align: top;\n",
       "    }\n",
       "\n",
       "    .dataframe thead th {\n",
       "        text-align: right;\n",
       "    }\n",
       "</style>\n",
       "<table border=\"1\" class=\"dataframe\">\n",
       "  <thead>\n",
       "    <tr style=\"text-align: right;\">\n",
       "      <th></th>\n",
       "      <th>count</th>\n",
       "      <th>mean</th>\n",
       "      <th>std</th>\n",
       "      <th>min</th>\n",
       "      <th>25%</th>\n",
       "      <th>50%</th>\n",
       "      <th>75%</th>\n",
       "      <th>max</th>\n",
       "    </tr>\n",
       "  </thead>\n",
       "  <tbody>\n",
       "    <tr>\n",
       "      <th>Unnamed: 0</th>\n",
       "      <td>838370.0</td>\n",
       "      <td>419184.500000</td>\n",
       "      <td>242016.716928</td>\n",
       "      <td>0.0</td>\n",
       "      <td>209592.25</td>\n",
       "      <td>419184.5</td>\n",
       "      <td>628776.75</td>\n",
       "      <td>838369.00</td>\n",
       "    </tr>\n",
       "    <tr>\n",
       "      <th>Recency</th>\n",
       "      <td>838370.0</td>\n",
       "      <td>55.419423</td>\n",
       "      <td>15.221597</td>\n",
       "      <td>0.0</td>\n",
       "      <td>43.00</td>\n",
       "      <td>55.0</td>\n",
       "      <td>68.00</td>\n",
       "      <td>81.00</td>\n",
       "    </tr>\n",
       "    <tr>\n",
       "      <th>Frequency</th>\n",
       "      <td>838370.0</td>\n",
       "      <td>1.174001</td>\n",
       "      <td>0.434824</td>\n",
       "      <td>1.0</td>\n",
       "      <td>1.00</td>\n",
       "      <td>1.0</td>\n",
       "      <td>1.00</td>\n",
       "      <td>6.00</td>\n",
       "    </tr>\n",
       "    <tr>\n",
       "      <th>Monetary</th>\n",
       "      <td>838370.0</td>\n",
       "      <td>1691.191486</td>\n",
       "      <td>6625.500295</td>\n",
       "      <td>0.0</td>\n",
       "      <td>198.00</td>\n",
       "      <td>500.0</td>\n",
       "      <td>1408.00</td>\n",
       "      <td>1560034.99</td>\n",
       "    </tr>\n",
       "    <tr>\n",
       "      <th>R</th>\n",
       "      <td>838370.0</td>\n",
       "      <td>3.051915</td>\n",
       "      <td>1.406747</td>\n",
       "      <td>1.0</td>\n",
       "      <td>2.00</td>\n",
       "      <td>3.0</td>\n",
       "      <td>4.00</td>\n",
       "      <td>5.00</td>\n",
       "    </tr>\n",
       "    <tr>\n",
       "      <th>F</th>\n",
       "      <td>838370.0</td>\n",
       "      <td>3.000000</td>\n",
       "      <td>1.414214</td>\n",
       "      <td>1.0</td>\n",
       "      <td>2.00</td>\n",
       "      <td>3.0</td>\n",
       "      <td>4.00</td>\n",
       "      <td>5.00</td>\n",
       "    </tr>\n",
       "    <tr>\n",
       "      <th>M</th>\n",
       "      <td>838370.0</td>\n",
       "      <td>2.999821</td>\n",
       "      <td>1.414268</td>\n",
       "      <td>1.0</td>\n",
       "      <td>2.00</td>\n",
       "      <td>3.0</td>\n",
       "      <td>4.00</td>\n",
       "      <td>5.00</td>\n",
       "    </tr>\n",
       "    <tr>\n",
       "      <th>RFM Score</th>\n",
       "      <td>838370.0</td>\n",
       "      <td>338.191324</td>\n",
       "      <td>143.291038</td>\n",
       "      <td>111.0</td>\n",
       "      <td>223.00</td>\n",
       "      <td>335.0</td>\n",
       "      <td>453.00</td>\n",
       "      <td>555.00</td>\n",
       "    </tr>\n",
       "  </tbody>\n",
       "</table>\n",
       "</div>"
      ],
      "text/plain": [
       "\n",
       "               count           mean            std    min        \u001b[1;36m25\u001b[0m%  \\\n",
       "Unnamed: \u001b[1;36m0\u001b[0m  \u001b[1;36m838370.0\u001b[0m  \u001b[1;36m419184.500000\u001b[0m  \u001b[1;36m242016.716928\u001b[0m    \u001b[1;36m0.0\u001b[0m  \u001b[1;36m209592.25\u001b[0m   \n",
       "Recency     \u001b[1;36m838370.0\u001b[0m      \u001b[1;36m55.419423\u001b[0m      \u001b[1;36m15.221597\u001b[0m    \u001b[1;36m0.0\u001b[0m      \u001b[1;36m43.00\u001b[0m   \n",
       "Frequency   \u001b[1;36m838370.0\u001b[0m       \u001b[1;36m1.174001\u001b[0m       \u001b[1;36m0.434824\u001b[0m    \u001b[1;36m1.0\u001b[0m       \u001b[1;36m1.00\u001b[0m   \n",
       "Monetary    \u001b[1;36m838370.0\u001b[0m    \u001b[1;36m1691.191486\u001b[0m    \u001b[1;36m6625.500295\u001b[0m    \u001b[1;36m0.0\u001b[0m     \u001b[1;36m198.00\u001b[0m   \n",
       "R           \u001b[1;36m838370.0\u001b[0m       \u001b[1;36m3.051915\u001b[0m       \u001b[1;36m1.406747\u001b[0m    \u001b[1;36m1.0\u001b[0m       \u001b[1;36m2.00\u001b[0m   \n",
       "F           \u001b[1;36m838370.0\u001b[0m       \u001b[1;36m3.000000\u001b[0m       \u001b[1;36m1.414214\u001b[0m    \u001b[1;36m1.0\u001b[0m       \u001b[1;36m2.00\u001b[0m   \n",
       "M           \u001b[1;36m838370.0\u001b[0m       \u001b[1;36m2.999821\u001b[0m       \u001b[1;36m1.414268\u001b[0m    \u001b[1;36m1.0\u001b[0m       \u001b[1;36m2.00\u001b[0m   \n",
       "RFM Score   \u001b[1;36m838370.0\u001b[0m     \u001b[1;36m338.191324\u001b[0m     \u001b[1;36m143.291038\u001b[0m  \u001b[1;36m111.0\u001b[0m     \u001b[1;36m223.00\u001b[0m   \n",
       "\n",
       "                 \u001b[1;36m50\u001b[0m%        \u001b[1;36m75\u001b[0m%         max  \n",
       "Unnamed: \u001b[1;36m0\u001b[0m  \u001b[1;36m419184.5\u001b[0m  \u001b[1;36m628776.75\u001b[0m   \u001b[1;36m838369.00\u001b[0m  \n",
       "Recency         \u001b[1;36m55.0\u001b[0m      \u001b[1;36m68.00\u001b[0m       \u001b[1;36m81.00\u001b[0m  \n",
       "Frequency        \u001b[1;36m1.0\u001b[0m       \u001b[1;36m1.00\u001b[0m        \u001b[1;36m6.00\u001b[0m  \n",
       "Monetary       \u001b[1;36m500.0\u001b[0m    \u001b[1;36m1408.00\u001b[0m  \u001b[1;36m1560034.99\u001b[0m  \n",
       "R                \u001b[1;36m3.0\u001b[0m       \u001b[1;36m4.00\u001b[0m        \u001b[1;36m5.00\u001b[0m  \n",
       "F                \u001b[1;36m3.0\u001b[0m       \u001b[1;36m4.00\u001b[0m        \u001b[1;36m5.00\u001b[0m  \n",
       "M                \u001b[1;36m3.0\u001b[0m       \u001b[1;36m4.00\u001b[0m        \u001b[1;36m5.00\u001b[0m  \n",
       "RFM Score      \u001b[1;36m335.0\u001b[0m     \u001b[1;36m453.00\u001b[0m      \u001b[1;36m555.00\u001b[0m  "
      ]
     },
     "metadata": {},
     "output_type": "display_data"
    },
    {
     "name": "stdout",
     "output_type": "stream",
     "text": [
      "\n",
      "Estadística descriptiva (categóricas):\n"
     ]
    },
    {
     "data": {
      "text/html": [
       "<pre style=\"white-space:pre;overflow-x:auto;line-height:normal;font-family:Menlo,'DejaVu Sans Mono',consolas,'Courier New',monospace\"></pre>\n"
      ],
      "text/plain": []
     },
     "metadata": {},
     "output_type": "display_data"
    },
    {
     "data": {
      "text/html": [
       "<div>\n",
       "<style scoped>\n",
       "    .dataframe tbody tr th:only-of-type {\n",
       "        vertical-align: middle;\n",
       "    }\n",
       "\n",
       "    .dataframe tbody tr th {\n",
       "        vertical-align: top;\n",
       "    }\n",
       "\n",
       "    .dataframe thead th {\n",
       "        text-align: right;\n",
       "    }\n",
       "</style>\n",
       "<table border=\"1\" class=\"dataframe\">\n",
       "  <thead>\n",
       "    <tr style=\"text-align: right;\">\n",
       "      <th></th>\n",
       "      <th>count</th>\n",
       "      <th>unique</th>\n",
       "      <th>top</th>\n",
       "      <th>freq</th>\n",
       "    </tr>\n",
       "  </thead>\n",
       "  <tbody>\n",
       "    <tr>\n",
       "      <th>CustomerID</th>\n",
       "      <td>838370</td>\n",
       "      <td>838370</td>\n",
       "      <td>C1010011</td>\n",
       "      <td>1</td>\n",
       "    </tr>\n",
       "    <tr>\n",
       "      <th>Segment</th>\n",
       "      <td>838370</td>\n",
       "      <td>9</td>\n",
       "      <td>Uncategorized</td>\n",
       "      <td>154838</td>\n",
       "    </tr>\n",
       "    <tr>\n",
       "      <th>Segment_Final</th>\n",
       "      <td>838370</td>\n",
       "      <td>9</td>\n",
       "      <td>Active, Low-Spenders</td>\n",
       "      <td>162336</td>\n",
       "    </tr>\n",
       "  </tbody>\n",
       "</table>\n",
       "</div>"
      ],
      "text/plain": [
       "\n",
       "                count  unique                   top    freq\n",
       "CustomerID     \u001b[1;36m838370\u001b[0m  \u001b[1;36m838370\u001b[0m              C1010011       \u001b[1;36m1\u001b[0m\n",
       "Segment        \u001b[1;36m838370\u001b[0m       \u001b[1;36m9\u001b[0m         Uncategorized  \u001b[1;36m154838\u001b[0m\n",
       "Segment_Final  \u001b[1;36m838370\u001b[0m       \u001b[1;36m9\u001b[0m  Active, Low-Spenders  \u001b[1;36m162336\u001b[0m"
      ]
     },
     "metadata": {},
     "output_type": "display_data"
    }
   ],
   "source": [
    "def dataset_info(df, name):\n",
    "    print(f\"\\n===== {name} =====\")\n",
    "    print(\"Shape:\", df.shape)\n",
    "    print(\"Columnas y tipos:\")\n",
    "    print(df.dtypes)\n",
    "    print(\"\\nPrimeras filas:\")\n",
    "    display(df.head(3))\n",
    "\n",
    "    print(\"\\nEstadística descriptiva (numéricas):\")\n",
    "    display(df.describe(include=[np.number]).T)  # Transpuesta para mejor lectura\n",
    "\n",
    "    print(\"\\nEstadística descriptiva (categóricas):\")\n",
    "    display(df.describe(include=['object']).T)\n",
    "\n",
    "for name, df in datasets_selected.items():\n",
    "    dataset_info(df, name)\n"
   ]
  },
  {
   "cell_type": "markdown",
   "metadata": {},
   "source": [
    "**Hallazgos reportados (equipo):**\n",
    "\n",
    "- **cleaned_dataset**\n",
    "  - `TransactionTime` cambió a **object** (antes era int64) → inconsistencia entre datasets (definir formato correcto).\n",
    "  - `CustomerDOB` está como **object** (convertir a datetime).\n",
    "  - `CustLocation`: **7 nulos**.\n",
    "  - Se agregó `Age` (**int64**) calculada → OK, validar consistencia con DOB.\n",
    "\n",
    "- **customer_agg**\n",
    "  - Aparece **`Unnamed: 0`** (índice exportado) → candidato a eliminar.\n",
    "  - `first_txn_date` / `last_txn_date` están como **object** → convertir a datetime.\n",
    "  - `location`: **4 nulos**; `avg_spent_pct_balance`: **3 nulos**.\n",
    "  - Métricas como `avg_spent`, `avg_balance` podrían tener valores muy altos/bajos (revisar outliers).\n",
    "\n",
    "- **RFM**\n",
    "  - También tiene **`Unnamed: 0`** → candidato a eliminar.\n",
    "  - **0 nulos** (buena calidad).\n",
    "  - Redundancia potencial: columnas `R`, `F`, `M` vs `RFM Score`.\n",
    "  - `Segment` y `Segment_Final`: verificar si aportan etiquetas distintas.\n"
   ]
  },
  {
   "cell_type": "markdown",
   "metadata": {},
   "source": [
    "## 2. Valores nulos por dataset\n",
    "Reporte del número y porcentaje de valores faltantes.\n"
   ]
  },
  {
   "cell_type": "code",
   "execution_count": 8,
   "metadata": {},
   "outputs": [
    {
     "name": "stdout",
     "output_type": "stream",
     "text": [
      "\n",
      "--- cleaned_dataset: Valores Nulos ---\n"
     ]
    },
    {
     "data": {
      "text/html": [
       "<pre style=\"white-space:pre;overflow-x:auto;line-height:normal;font-family:Menlo,'DejaVu Sans Mono',consolas,'Courier New',monospace\"></pre>\n"
      ],
      "text/plain": []
     },
     "metadata": {},
     "output_type": "display_data"
    },
    {
     "data": {
      "text/html": [
       "<div>\n",
       "<style scoped>\n",
       "    .dataframe tbody tr th:only-of-type {\n",
       "        vertical-align: middle;\n",
       "    }\n",
       "\n",
       "    .dataframe tbody tr th {\n",
       "        vertical-align: top;\n",
       "    }\n",
       "\n",
       "    .dataframe thead th {\n",
       "        text-align: right;\n",
       "    }\n",
       "</style>\n",
       "<table border=\"1\" class=\"dataframe\">\n",
       "  <thead>\n",
       "    <tr style=\"text-align: right;\">\n",
       "      <th></th>\n",
       "      <th>Valores Faltantes</th>\n",
       "      <th>Porcentaje (%)</th>\n",
       "    </tr>\n",
       "  </thead>\n",
       "  <tbody>\n",
       "    <tr>\n",
       "      <th>CustLocation</th>\n",
       "      <td>7</td>\n",
       "      <td>0.0</td>\n",
       "    </tr>\n",
       "  </tbody>\n",
       "</table>\n",
       "</div>"
      ],
      "text/plain": [
       "\n",
       "              Valores Faltantes  Porcentaje \u001b[1m(\u001b[0m%\u001b[1m)\u001b[0m\n",
       "CustLocation                  \u001b[1;36m7\u001b[0m             \u001b[1;36m0.0\u001b[0m"
      ]
     },
     "metadata": {},
     "output_type": "display_data"
    },
    {
     "name": "stdout",
     "output_type": "stream",
     "text": [
      "\n",
      "--- customer_agg: Valores Nulos ---\n"
     ]
    },
    {
     "data": {
      "text/html": [
       "<pre style=\"white-space:pre;overflow-x:auto;line-height:normal;font-family:Menlo,'DejaVu Sans Mono',consolas,'Courier New',monospace\"></pre>\n"
      ],
      "text/plain": []
     },
     "metadata": {},
     "output_type": "display_data"
    },
    {
     "data": {
      "text/html": [
       "<div>\n",
       "<style scoped>\n",
       "    .dataframe tbody tr th:only-of-type {\n",
       "        vertical-align: middle;\n",
       "    }\n",
       "\n",
       "    .dataframe tbody tr th {\n",
       "        vertical-align: top;\n",
       "    }\n",
       "\n",
       "    .dataframe thead th {\n",
       "        text-align: right;\n",
       "    }\n",
       "</style>\n",
       "<table border=\"1\" class=\"dataframe\">\n",
       "  <thead>\n",
       "    <tr style=\"text-align: right;\">\n",
       "      <th></th>\n",
       "      <th>Valores Faltantes</th>\n",
       "      <th>Porcentaje (%)</th>\n",
       "    </tr>\n",
       "  </thead>\n",
       "  <tbody>\n",
       "    <tr>\n",
       "      <th>location</th>\n",
       "      <td>4</td>\n",
       "      <td>0.0</td>\n",
       "    </tr>\n",
       "    <tr>\n",
       "      <th>avg_spent_pct_balance</th>\n",
       "      <td>3</td>\n",
       "      <td>0.0</td>\n",
       "    </tr>\n",
       "  </tbody>\n",
       "</table>\n",
       "</div>"
      ],
      "text/plain": [
       "\n",
       "                       Valores Faltantes  Porcentaje \u001b[1m(\u001b[0m%\u001b[1m)\u001b[0m\n",
       "location                               \u001b[1;36m4\u001b[0m             \u001b[1;36m0.0\u001b[0m\n",
       "avg_spent_pct_balance                  \u001b[1;36m3\u001b[0m             \u001b[1;36m0.0\u001b[0m"
      ]
     },
     "metadata": {},
     "output_type": "display_data"
    },
    {
     "name": "stdout",
     "output_type": "stream",
     "text": [
      "\n",
      "--- RFM: Valores Nulos ---\n"
     ]
    },
    {
     "data": {
      "text/html": [
       "<pre style=\"white-space:pre;overflow-x:auto;line-height:normal;font-family:Menlo,'DejaVu Sans Mono',consolas,'Courier New',monospace\"></pre>\n"
      ],
      "text/plain": []
     },
     "metadata": {},
     "output_type": "display_data"
    },
    {
     "data": {
      "text/html": [
       "<div>\n",
       "<style scoped>\n",
       "    .dataframe tbody tr th:only-of-type {\n",
       "        vertical-align: middle;\n",
       "    }\n",
       "\n",
       "    .dataframe tbody tr th {\n",
       "        vertical-align: top;\n",
       "    }\n",
       "\n",
       "    .dataframe thead th {\n",
       "        text-align: right;\n",
       "    }\n",
       "</style>\n",
       "<table border=\"1\" class=\"dataframe\">\n",
       "  <thead>\n",
       "    <tr style=\"text-align: right;\">\n",
       "      <th></th>\n",
       "      <th>Valores Faltantes</th>\n",
       "      <th>Porcentaje (%)</th>\n",
       "    </tr>\n",
       "  </thead>\n",
       "  <tbody>\n",
       "  </tbody>\n",
       "</table>\n",
       "</div>"
      ],
      "text/plain": [
       "\n",
       "Empty DataFrame\n",
       "Columns: \u001b[1m[\u001b[0mValores Faltantes, Porcentaje \u001b[1m(\u001b[0m%\u001b[1m)\u001b[0m\u001b[1m]\u001b[0m\n",
       "Index: \u001b[1m[\u001b[0m\u001b[1m]\u001b[0m"
      ]
     },
     "metadata": {},
     "output_type": "display_data"
    }
   ],
   "source": [
    "def missing_report(df, name):\n",
    "    missing = df.isnull().sum()\n",
    "    percent = (missing / len(df)) * 100\n",
    "    missing_table = pd.DataFrame({\n",
    "        \"Valores Faltantes\": missing,\n",
    "        \"Porcentaje (%)\": percent.round(2)\n",
    "    })\n",
    "    print(f\"\\n--- {name}: Valores Nulos ---\")\n",
    "    display(missing_table[missing_table[\"Valores Faltantes\"] > 0])\n",
    "\n",
    "for name, df in datasets_selected.items():\n",
    "    missing_report(df, name)"
   ]
  },
  {
   "cell_type": "markdown",
   "metadata": {},
   "source": [
    "**Conclusiones (nulos):**\n",
    "- `RFM` con **0 nulos** → impecable.\n",
    "- `cleaned_dataset` con nulos en `CustLocation` (~7).\n",
    "- `customer_agg` con nulos puntuales (`location`: ~4; `avg_spent_pct_balance`: ~3).\n"
   ]
  },
  {
   "cell_type": "markdown",
   "metadata": {},
   "source": [
    "## 3. Registros duplicados\n",
    "Chequeo de filas repetidas en cada dataset."
   ]
  },
  {
   "cell_type": "code",
   "execution_count": 9,
   "metadata": {},
   "outputs": [
    {
     "name": "stdout",
     "output_type": "stream",
     "text": [
      "\n",
      "--- cleaned_dataset: Duplicados ---\n",
      "0 duplicados (0.0000%)\n",
      "\n",
      "--- customer_agg: Duplicados ---\n",
      "0 duplicados (0.0000%)\n",
      "\n",
      "--- RFM: Duplicados ---\n",
      "0 duplicados (0.0000%)\n"
     ]
    }
   ],
   "source": [
    "def duplicate_report(df, name):\n",
    "    total_dupes = df.duplicated().sum()\n",
    "    percent = (total_dupes / len(df)) * 100\n",
    "    print(f\"\\n--- {name}: Duplicados ---\")\n",
    "    print(f\"{total_dupes} duplicados ({percent:.4f}%)\")\n",
    "\n",
    "for name, df in datasets_selected.items():\n",
    "    duplicate_report(df, name)\n"
   ]
  },
  {
   "cell_type": "markdown",
   "metadata": {},
   "source": [
    "**Conclusiones (duplicados):**\n",
    "- Según resultados previos, **no hay duplicados** relevantes en los 3 datasets.\n"
   ]
  },
  {
   "cell_type": "markdown",
   "metadata": {},
   "source": [
    "## 4. Llaves primarias y relaciones entre datasets\n",
    "Validación de unicidad y consistencia de claves (`TransactionID`, `CustomerID`) y relaciones entre las 3 tablas."
   ]
  },
  {
   "cell_type": "code",
   "execution_count": 10,
   "metadata": {},
   "outputs": [
    {
     "name": "stdout",
     "output_type": "stream",
     "text": [
      "\n",
      "=== Chequeo de Llaves Primarias ===\n",
      "TransactionID únicos (cleaned_dataset): True\n",
      "CustomerID únicos (customer_agg): True\n",
      "CustomerID únicos (RFM): True\n",
      "\n",
      "=== Relación entre datasets ===\n",
      "Clientes transacciones ⊆ customer_agg: True\n",
      "Clientes transacciones ⊆ RFM: True\n",
      "Clientes customer_agg ⊆ RFM: True\n"
     ]
    }
   ],
   "source": [
    "print(\"\\n=== Chequeo de Llaves Primarias ===\")\n",
    "print(\"TransactionID únicos (cleaned_dataset):\", datasets_selected[\"cleaned_dataset\"][\"TransactionID\"].is_unique)\n",
    "print(\"CustomerID únicos (customer_agg):\", datasets_selected[\"customer_agg\"][\"CustomerID\"].is_unique)\n",
    "print(\"CustomerID únicos (RFM):\", datasets_selected[\"RFM\"][\"CustomerID\"].is_unique)\n",
    "\n",
    "print(\"\\n=== Relación entre datasets ===\")\n",
    "print(\"Clientes transacciones ⊆ customer_agg:\",\n",
    "      datasets_selected[\"cleaned_dataset\"][\"CustomerID\"].isin(datasets_selected[\"customer_agg\"][\"CustomerID\"]).all())\n",
    "print(\"Clientes transacciones ⊆ RFM:\",\n",
    "      datasets_selected[\"cleaned_dataset\"][\"CustomerID\"].isin(datasets_selected[\"RFM\"][\"CustomerID\"]).all())\n",
    "print(\"Clientes customer_agg ⊆ RFM:\",\n",
    "      datasets_selected[\"customer_agg\"][\"CustomerID\"].isin(datasets_selected[\"RFM\"][\"CustomerID\"]).all())\n"
   ]
  },
  {
   "cell_type": "markdown",
   "metadata": {},
   "source": [
    "**Conclusiones (PKs/relaciones):**\n",
    "- PKs esperadas:\n",
    "  - `cleaned_dataset` → `TransactionID` (único por transacción).\n",
    "  - `customer_agg` → `CustomerID`.\n",
    "  - `RFM` → `CustomerID`.\n",
    "- Según la verificación anterior, **todas las PK están OK** (sin duplicados).\n",
    "- Relaciones esperadas confirmadas:\n",
    "  - `clientes transacciones ⊆ customer_agg` → ✅\n",
    "  - `clientes transacciones ⊆ RFM` → ✅\n",
    "  - `clientes customer_agg ⊆ RFM` → ✅\n"
   ]
  },
  {
   "cell_type": "markdown",
   "metadata": {},
   "source": [
    "## 5. Outliers con método IQR\n",
    "Detección de valores extremos en variables numéricas seleccionadas de cada dataset.\n"
   ]
  },
  {
   "cell_type": "code",
   "execution_count": 11,
   "metadata": {},
   "outputs": [
    {
     "name": "stdout",
     "output_type": "stream",
     "text": [
      "\n",
      "--- cleaned_dataset: Outliers (IQR) ---\n",
      "CustAccountBalance: 130148 outliers (13.22%)\n",
      "TransactionAmount_INR: 105429 outliers (10.71%)\n",
      "Age: 53291 outliers (5.41%)\n",
      "\n",
      "--- customer_agg: Outliers (IQR) ---\n",
      "txn_count: 128568 outliers (15.34%)\n",
      "total_spent: 85724 outliers (10.23%)\n",
      "avg_spent: 86923 outliers (10.37%)\n",
      "max_spent: 88856 outliers (10.60%)\n",
      "avg_balance: 109507 outliers (13.06%)\n",
      "txn_per_day: 124203 outliers (14.81%)\n",
      "avg_spent_pct_balance: 133993 outliers (15.98%)\n",
      "\n",
      "--- RFM: Outliers (IQR) ---\n",
      "Recency: 3402 outliers (0.41%)\n",
      "Frequency: 128568 outliers (15.34%)\n",
      "Monetary: 85724 outliers (10.23%)\n",
      "RFM Score: 0 outliers (0.00%)\n"
     ]
    }
   ],
   "source": [
    "def detect_outliers_iqr(df, cols, name):\n",
    "    print(f\"\\n--- {name}: Outliers (IQR) ---\")\n",
    "    for col in cols:\n",
    "        if col not in df.columns:\n",
    "            print(f\"{col}: ⚠️ columna no encontrada\")\n",
    "            continue\n",
    "        Q1, Q3 = df[col].quantile([0.25, 0.75])\n",
    "        IQR = Q3 - Q1\n",
    "        lower, upper = Q1 - 1.5 * IQR, Q3 + 1.5 * IQR\n",
    "        outliers = ((df[col] < lower) | (df[col] > upper)).sum()\n",
    "        percent = (outliers / len(df)) * 100\n",
    "        print(f\"{col}: {outliers} outliers ({percent:.2f}%)\")\n",
    "\n",
    "detect_outliers_iqr(\n",
    "    datasets_selected[\"cleaned_dataset\"],\n",
    "    [\"CustAccountBalance\", \"TransactionAmount_INR\", \"Age\"],\n",
    "    \"cleaned_dataset\"\n",
    ")\n",
    "\n",
    "detect_outliers_iqr(\n",
    "    datasets_selected[\"customer_agg\"],\n",
    "    [\"txn_count\",\"total_spent\",\"avg_spent\",\"max_spent\",\"avg_balance\",\"txn_per_day\",\"avg_spent_pct_balance\"],\n",
    "    \"customer_agg\"\n",
    ")\n",
    "\n",
    "detect_outliers_iqr(\n",
    "    datasets_selected[\"RFM\"],\n",
    "    [\"Recency\",\"Frequency\",\"Monetary\",\"RFM Score\"],\n",
    "    \"RFM\"\n",
    ")"
   ]
  },
  {
   "cell_type": "markdown",
   "metadata": {},
   "source": [
    "## 6. Visualizaciones gráficas (enfocadas en objetivos)\n",
    "\n",
    "A continuación, se muestran las visualizaciones más relevantes para cada objetivo de ML definido en la Fase 1:\n"
   ]
  },
  {
   "cell_type": "markdown",
   "metadata": {},
   "source": [
    "### 6.1 Fraude (cleaned_dataset)"
   ]
  },
  {
   "cell_type": "code",
   "execution_count": 12,
   "metadata": {},
   "outputs": [
    {
     "data": {
      "text/html": [
       "<pre style=\"white-space:pre;overflow-x:auto;line-height:normal;font-family:Menlo,'DejaVu Sans Mono',consolas,'Courier New',monospace\"></pre>\n"
      ],
      "text/plain": []
     },
     "metadata": {},
     "output_type": "display_data"
    },
    {
     "data": {
      "image/png": "[encoded data removed]",
      "text/plain": [
       "\u001b[1m<\u001b[0m\u001b[1;95mFigure\u001b[0m\u001b[39m size 60\u001b[0m\u001b[1;36m0x400\u001b[0m\u001b[39m with \u001b[0m\u001b[1;36m1\u001b[0m\u001b[39m Axes\u001b[0m\u001b[1m>\u001b[0m"
      ]
     },
     "metadata": {},
     "output_type": "display_data"
    },
    {
     "data": {
      "text/html": [
       "<pre style=\"white-space:pre;overflow-x:auto;line-height:normal;font-family:Menlo,'DejaVu Sans Mono',consolas,'Courier New',monospace\"></pre>\n"
      ],
      "text/plain": []
     },
     "metadata": {},
     "output_type": "display_data"
    },
    {
     "data": {
      "image/png": "[encoded data removed]",
      "text/plain": [
       "\u001b[1m<\u001b[0m\u001b[1;95mFigure\u001b[0m\u001b[39m size 60\u001b[0m\u001b[1;36m0x400\u001b[0m\u001b[39m with \u001b[0m\u001b[1;36m1\u001b[0m\u001b[39m Axes\u001b[0m\u001b[1m>\u001b[0m"
      ]
     },
     "metadata": {},
     "output_type": "display_data"
    },
    {
     "data": {
      "text/html": [
       "<pre style=\"white-space:pre;overflow-x:auto;line-height:normal;font-family:Menlo,'DejaVu Sans Mono',consolas,'Courier New',monospace\"></pre>\n"
      ],
      "text/plain": []
     },
     "metadata": {},
     "output_type": "display_data"
    },
    {
     "data": {
      "image/png": "[encoded data removed]",
      "text/plain": [
       "\u001b[1m<\u001b[0m\u001b[1;95mFigure\u001b[0m\u001b[39m size 60\u001b[0m\u001b[1;36m0x400\u001b[0m\u001b[39m with \u001b[0m\u001b[1;36m1\u001b[0m\u001b[39m Axes\u001b[0m\u001b[1m>\u001b[0m"
      ]
     },
     "metadata": {},
     "output_type": "display_data"
    }
   ],
   "source": [
    "cd = datasets_selected[\"cleaned_dataset\"]\n",
    "\n",
    "plt.figure(figsize=(6,4))\n",
    "sns.histplot(cd[\"TransactionAmount_INR\"], bins=50, kde=True)\n",
    "plt.title(\"Fraude • Distribución de montos de transacción\")\n",
    "plt.show()\n",
    "\n",
    "plt.figure(figsize=(6,4))\n",
    "sns.boxplot(x=cd[\"CustAccountBalance\"])\n",
    "plt.title(\"Fraude • Boxplot de saldos de cuenta\")\n",
    "plt.show()\n",
    "\n",
    "plt.figure(figsize=(6,4))\n",
    "sns.countplot(x=cd[\"CustGender\"])\n",
    "plt.title(\"Fraude • Frecuencia por género\")\n",
    "plt.show()"
   ]
  },
  {
   "cell_type": "markdown",
   "metadata": {},
   "source": [
    "- Montos y saldos presentan asimetría fuerte y outliers extremos (posibles fraudes).\n",
    "\n",
    "- La mayoría de clientes tiene saldos bajos, pero existen algunos con saldos inusualmente altos.\n",
    "\n",
    "- Distribución de género: predominan hombres, hay valores “Unknown” que deben limpiarse.\n",
    "\n",
    "- La variable Age requiere revisión por posibles valores erróneos (0 o >100)."
   ]
  },
  {
   "cell_type": "markdown",
   "metadata": {},
   "source": [
    "### 6.2 Regresión (customer_agg)"
   ]
  },
  {
   "cell_type": "code",
   "execution_count": 14,
   "metadata": {},
   "outputs": [
    {
     "data": {
      "text/html": [
       "<pre style=\"white-space:pre;overflow-x:auto;line-height:normal;font-family:Menlo,'DejaVu Sans Mono',consolas,'Courier New',monospace\"></pre>\n"
      ],
      "text/plain": []
     },
     "metadata": {},
     "output_type": "display_data"
    },
    {
     "data": {
      "image/png": "[encoded data removed]",
      "text/plain": [
       "\u001b[1m<\u001b[0m\u001b[1;95mFigure\u001b[0m\u001b[39m size 60\u001b[0m\u001b[1;36m0x400\u001b[0m\u001b[39m with \u001b[0m\u001b[1;36m1\u001b[0m\u001b[39m Axes\u001b[0m\u001b[1m>\u001b[0m"
      ]
     },
     "metadata": {},
     "output_type": "display_data"
    },
    {
     "data": {
      "text/html": [
       "<pre style=\"white-space:pre;overflow-x:auto;line-height:normal;font-family:Menlo,'DejaVu Sans Mono',consolas,'Courier New',monospace\"></pre>\n"
      ],
      "text/plain": []
     },
     "metadata": {},
     "output_type": "display_data"
    },
    {
     "data": {
      "image/png": "[encoded data removed]",
      "text/plain": [
       "\u001b[1m<\u001b[0m\u001b[1;95mFigure\u001b[0m\u001b[39m size 60\u001b[0m\u001b[1;36m0x400\u001b[0m\u001b[39m with \u001b[0m\u001b[1;36m1\u001b[0m\u001b[39m Axes\u001b[0m\u001b[1m>\u001b[0m"
      ]
     },
     "metadata": {},
     "output_type": "display_data"
    },
    {
     "data": {
      "text/html": [
       "<pre style=\"white-space:pre;overflow-x:auto;line-height:normal;font-family:Menlo,'DejaVu Sans Mono',consolas,'Courier New',monospace\"></pre>\n"
      ],
      "text/plain": []
     },
     "metadata": {},
     "output_type": "display_data"
    },
    {
     "data": {
      "image/png": "[encoded data removed]",
      "text/plain": [
       "\u001b[1m<\u001b[0m\u001b[1;95mFigure\u001b[0m\u001b[39m size 60\u001b[0m\u001b[1;36m0x400\u001b[0m\u001b[39m with \u001b[0m\u001b[1;36m1\u001b[0m\u001b[39m Axes\u001b[0m\u001b[1m>\u001b[0m"
      ]
     },
     "metadata": {},
     "output_type": "display_data"
    }
   ],
   "source": [
    "ca = datasets_selected[\"customer_agg\"]\n",
    "\n",
    "plt.figure(figsize=(6,4))\n",
    "sns.histplot(ca[\"total_spent\"], bins=50, kde=True)\n",
    "plt.title(\"Regresión • Distribución del gasto total\")\n",
    "plt.show()\n",
    "\n",
    "plt.figure(figsize=(6,4))\n",
    "sns.scatterplot(x=ca[\"avg_balance\"], y=ca[\"avg_spent_pct_balance\"])\n",
    "plt.title(\"Regresión • Relación saldo promedio vs % gasto\")\n",
    "plt.show()\n",
    "\n",
    "plt.figure(figsize=(6,4))\n",
    "sns.boxplot(x=ca[\"txn_per_day\"])\n",
    "plt.title(\"Regresión • Boxplot de transacciones por día\")\n",
    "plt.show()\n"
   ]
  },
  {
   "cell_type": "markdown",
   "metadata": {},
   "source": [
    "- El gasto total está fuertemente sesgado: pocos clientes concentran la mayor parte.\n",
    "\n",
    "- Relación entre saldo promedio y % gasto: mayoría en bajo-bajo, pero algunos gastan mucho más que su saldo disponible (posibles clientes de riesgo).\n",
    "\n",
    "- Transacciones por día: la mayoría <1, pero existen heavy users (outliers positivos)."
   ]
  },
  {
   "cell_type": "markdown",
   "metadata": {},
   "source": [
    "### 6.3 Segmentación (RFM)"
   ]
  },
  {
   "cell_type": "code",
   "execution_count": 15,
   "metadata": {},
   "outputs": [
    {
     "data": {
      "text/html": [
       "<pre style=\"white-space:pre;overflow-x:auto;line-height:normal;font-family:Menlo,'DejaVu Sans Mono',consolas,'Courier New',monospace\"></pre>\n"
      ],
      "text/plain": []
     },
     "metadata": {},
     "output_type": "display_data"
    },
    {
     "data": {
      "image/png": "[encoded data removed]",
      "text/plain": [
       "\u001b[1m<\u001b[0m\u001b[1;95mFigure\u001b[0m\u001b[39m size 60\u001b[0m\u001b[1;36m0x400\u001b[0m\u001b[39m with \u001b[0m\u001b[1;36m1\u001b[0m\u001b[39m Axes\u001b[0m\u001b[1m>\u001b[0m"
      ]
     },
     "metadata": {},
     "output_type": "display_data"
    },
    {
     "data": {
      "text/html": [
       "<pre style=\"white-space:pre;overflow-x:auto;line-height:normal;font-family:Menlo,'DejaVu Sans Mono',consolas,'Courier New',monospace\"></pre>\n"
      ],
      "text/plain": []
     },
     "metadata": {},
     "output_type": "display_data"
    },
    {
     "data": {
      "image/png": "[encoded data removed]",
      "text/plain": [
       "\u001b[1m<\u001b[0m\u001b[1;95mFigure\u001b[0m\u001b[39m size 80\u001b[0m\u001b[1;36m0x400\u001b[0m\u001b[39m with \u001b[0m\u001b[1;36m1\u001b[0m\u001b[39m Axes\u001b[0m\u001b[1m>\u001b[0m"
      ]
     },
     "metadata": {},
     "output_type": "display_data"
    },
    {
     "data": {
      "text/html": [
       "<pre style=\"white-space:pre;overflow-x:auto;line-height:normal;font-family:Menlo,'DejaVu Sans Mono',consolas,'Courier New',monospace\"></pre>\n"
      ],
      "text/plain": []
     },
     "metadata": {},
     "output_type": "display_data"
    },
    {
     "data": {
      "image/png": "[encoded data removed]",
      "text/plain": [
       "\u001b[1m<\u001b[0m\u001b[1;95mFigure\u001b[0m\u001b[39m size 60\u001b[0m\u001b[1;36m0x400\u001b[0m\u001b[39m with \u001b[0m\u001b[1;36m1\u001b[0m\u001b[39m Axes\u001b[0m\u001b[1m>\u001b[0m"
      ]
     },
     "metadata": {},
     "output_type": "display_data"
    }
   ],
   "source": [
    "rf = datasets_selected[\"RFM\"]\n",
    "\n",
    "plt.figure(figsize=(6,4))\n",
    "sns.histplot(rf[\"Recency\"], bins=50, kde=True)\n",
    "plt.title(\"Segmentación • Distribución de Recency\")\n",
    "plt.show()\n",
    "\n",
    "plt.figure(figsize=(8,4))\n",
    "sns.boxplot(data=rf, x=\"Segment_Final\", y=\"Monetary\")\n",
    "plt.title(\"Segmentación • Boxplot de Monetary por Segmento\")\n",
    "plt.xticks(rotation=45)\n",
    "plt.show()\n",
    "\n",
    "plt.figure(figsize=(6,4))\n",
    "sns.countplot(x=rf[\"Segment_Final\"])\n",
    "plt.title(\"Segmentación • Conteo de clientes por segmento\")\n",
    "plt.xticks(rotation=45)\n",
    "plt.show()"
   ]
  },
  {
   "cell_type": "markdown",
   "metadata": {},
   "source": [
    "- Recency: mayoría de clientes con última compra entre 30–70 días.\n",
    "\n",
    "- Monetary: segmentos de Champions, Elite y High-Value concentran gastos altos; segmentos de bajo valor tienen montos reducidos.\n",
    "\n",
    "- Conteo de clientes: mayoría en Active Low-Spenders y Promising; pocos clientes en segmentos de alto valor."
   ]
  },
  {
   "cell_type": "markdown",
   "metadata": {},
   "source": [
    "## 7. Conclusiones de la Fase 2 – Comprensión de los Datos\n",
    "\n",
    "### 7.1 Fraude – `cleaned_dataset`\n",
    "- **Montos y saldos** presentan fuerte asimetría y muchos outliers: posibles indicadores de fraude.\n",
    "- Los outliers **no deben eliminarse** todavía, porque pueden representar transacciones sospechosas.\n",
    "- La variable `Age` muestra valores atípicos (0 o >100) → requiere limpieza.\n",
    "- En `CustGender` aparecen registros como **Unknown**, que se deberán imputar o reclasificar.\n",
    "- Se detectaron transacciones con montos muy superiores al rango normal (hasta 1.56M INR). Estos valores deben ser tratados en la Fase 3 para evitar que distorsionen el modelo.\n",
    "---\n",
    "\n",
    "### 7.2 Regresión – `customer_agg`\n",
    "- **Gasto total y promedio** muy sesgados: pocos clientes concentran la mayor parte del gasto.\n",
    "- Relación entre `avg_balance` y `% gasto` muestra clientes con gasto desproporcionado → posibles clientes de riesgo.\n",
    "- **Transacciones por día**: mayoría <1, pero existen *heavy users* (outliers positivos) que son valiosos.\n",
    "- Pocos nulos en `location` y `avg_spent_pct_balance`, fáciles de tratar.\n",
    "- Próximo paso en Fase 3: escalar variables, log-transformar gasto, y analizar colinealidad (`total_spent` vs `avg_spent`).\n",
    "\n",
    "---\n",
    "\n",
    "### 7.3 Segmentación – `RFM`\n",
    "- **Recency** muestra que la mayoría de clientes son medianamente activos (30–70 días desde última compra).\n",
    "- **Monetary por segmento** diferencia claramente a clientes de alto valor (`Champions`, `Elite`, `High-Value`) de los de bajo valor (`Critical`, `At Risk`).\n",
    "- **Distribución de segmentos**: la mayoría son **Active Low-Spenders** y **Promising** → base amplia de clientes de bajo gasto.\n",
    "- Segmentos reducidos de alto valor deben ser prioridad en retención.\n",
    "- Próximo paso en Fase 3: usar R, F, M normalizados como features, mantener `Segment_Final` como etiqueta de validación.\n",
    "\n",
    "---\n",
    "\n",
    "### Resumen Global\n",
    "- **Calidad de datos**:  \n",
    "  - PKs y relaciones correctas.  \n",
    "  - Pocos nulos y sin duplicados relevantes.  \n",
    "- **Variables candidatas a descartar**: `TransactionID`, `CustomerDOB`, `Unnamed: 0`, `Segment` (si ya se usa `Segment_Final`).  \n",
    "- **Outliers**: se deben tratar con estrategias diferenciadas según objetivo (mantener en fraude, log/winsorización en regresión y segmentación).  \n",
    "- **Próximos pasos (Fase 3 – Preparación de Datos)**:\n",
    "  - Unir los dataset\n",
    "  - Estandarizar fechas y categorías.  \n",
    "  - Imputar nulos en `CustLocation`, `location`, `avg_spent_pct_balance`.  \n",
    "  - Normalizar o escalar variables numéricas.  \n",
    "  - Construir dataset final integrado por cliente y transacción según cada objetivo de ML.\n"
   ]
  },
  {
   "cell_type": "code",
   "execution_count": null,
   "metadata": {},
   "outputs": [],
   "source": []
  }
 ],
 "metadata": {
  "kernelspec": {
   "display_name": "Python 3 (ipykernel)",
   "language": "python",
   "name": "python3"
  },
  "language_info": {
   "codemirror_mode": {
    "name": "ipython",
    "version": 3
   },
   "file_extension": ".py",
   "mimetype": "text/x-python",
   "name": "python",
   "nbconvert_exporter": "python",
   "pygments_lexer": "ipython3",
   "version": "3.13.4"
  }
 },
 "nbformat": 4,
 "nbformat_minor": 4
}
